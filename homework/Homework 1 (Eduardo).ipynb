{
 "cells": [
  {
   "cell_type": "markdown",
   "id": "e3906490",
   "metadata": {},
   "source": [
    "# Homework 1\n",
    "\n",
    "## FINM 37400 - 2025\n",
    "\n",
    "### UChicago Financial Mathematics\n",
    "\n",
    "* Mark Hendricks\n",
    "* hendricks@uchicago.edu"
   ]
  },
  {
   "cell_type": "markdown",
   "id": "4ceab0cb",
   "metadata": {},
   "source": [
    "***"
   ]
  },
  {
   "cell_type": "markdown",
   "id": "fef5c182",
   "metadata": {},
   "source": [
    "### Data\n",
    "\n",
    "This homework uses the data file, `treasury_quotes_2024-10-31`.\n",
    "\n",
    "The problems below analyze the nominal, (rather than the TIPS,) Treasury issues. Accordingly, you should filter out all rows with `type` `TIPS Note` or `TIPS bond`."
   ]
  },
  {
   "cell_type": "markdown",
   "id": "449b5d7c",
   "metadata": {},
   "source": [
    "***"
   ]
  },
  {
   "cell_type": "markdown",
   "id": "159651ed",
   "metadata": {},
   "source": [
    "# 1. Discount Rates"
   ]
  },
  {
   "cell_type": "markdown",
   "id": "16e5254a",
   "metadata": {},
   "source": [
    "Use the data in the `selected quotes` tab.\n",
    "\n",
    "Note:\n",
    "* The selected treasuries are at nearly six-month intervals. \n",
    "* If you prefer, approximate that they mature at perfect 6-month intervals. "
   ]
  },
  {
   "cell_type": "markdown",
   "id": "e44248dd",
   "metadata": {},
   "source": [
    "### 1.1.\n",
    "\n",
    "Create the cashflow matrix, $\\textbf{C}$, where each rows is a Treasury issue, each column is a date, and each entry is the cash paid on a (normalized) face value of \\$100."
   ]
  },
  {
   "cell_type": "code",
   "execution_count": 1,
   "id": "af3d1a7e",
   "metadata": {},
   "outputs": [],
   "source": [
    "# Import standard modules\n",
    "import logging\n",
    "import pandas as pd\n",
    "import numpy as np\n",
    "import matplotlib.pyplot as plt\n",
    "import plotly.express as px\n",
    "import plotly.graph_objects as go\n",
    "from sklearn.decomposition import PCA\n",
    "\n",
    "import warnings\n",
    "warnings.filterwarnings(\"ignore\", category=FutureWarning)\n",
    "\n",
    "import os\n",
    "import sys\n",
    "from pathlib import Path\n",
    "\n",
    "\n",
    "# BASE_DIR = Path(__file__).absolute().parent.parent # Uncomment for python files\n",
    "BASE_DIR = os.path.dirname(os.getcwd()) # Comment for python files\n",
    "sys.path.insert(0, str(Path(BASE_DIR) / 'utils'))\n",
    "\n",
    "import config\n",
    "from scheffer_quant.treasuries import *\n",
    "from scheffer_quant.utils import read_excel_default\n",
    "from scheffer_quant.statistics import calc_correlations"
   ]
  },
  {
   "cell_type": "code",
   "execution_count": 2,
   "id": "020d7007",
   "metadata": {},
   "outputs": [],
   "source": [
    "# Global variables\n",
    "DATA_DIR = Path(config.DATA_DIR)\n",
    "DATA_DIR.mkdir(parents=True, exist_ok=True)\n",
    "QUOTE_DATE = '2024-10-31'\n",
    "COMPOUNDING_FREQ = 2\n",
    "\n",
    "FILE_PATH = Path(config.DATA_DIR) / f\"treasury_quotes_{QUOTE_DATE}.xlsx\"\n",
    "\n",
    "pd.options.display.max_columns = 30\n",
    "pd.options.display.max_colwidth = 100\n",
    "pd.set_option('display.float_format', lambda x: '%.4f' % x)\n"
   ]
  },
  {
   "cell_type": "code",
   "execution_count": 3,
   "id": "a2083cb4",
   "metadata": {},
   "outputs": [
    {
     "data": {
      "text/html": [
       "<div>\n",
       "<style scoped>\n",
       "    .dataframe tbody tr th:only-of-type {\n",
       "        vertical-align: middle;\n",
       "    }\n",
       "\n",
       "    .dataframe tbody tr th {\n",
       "        vertical-align: top;\n",
       "    }\n",
       "\n",
       "    .dataframe thead th {\n",
       "        text-align: right;\n",
       "    }\n",
       "</style>\n",
       "<table border=\"1\" class=\"dataframe\">\n",
       "  <thead>\n",
       "    <tr style=\"text-align: right;\">\n",
       "      <th></th>\n",
       "      <th>type</th>\n",
       "      <th>quote date</th>\n",
       "      <th>issue date</th>\n",
       "      <th>maturity date</th>\n",
       "      <th>ttm</th>\n",
       "      <th>accrual fraction</th>\n",
       "      <th>cpn rate</th>\n",
       "      <th>bid</th>\n",
       "      <th>ask</th>\n",
       "      <th>price</th>\n",
       "      <th>accrued int</th>\n",
       "      <th>dirty price</th>\n",
       "      <th>ytm</th>\n",
       "    </tr>\n",
       "    <tr>\n",
       "      <th>KYTREASNO</th>\n",
       "      <th></th>\n",
       "      <th></th>\n",
       "      <th></th>\n",
       "      <th></th>\n",
       "      <th></th>\n",
       "      <th></th>\n",
       "      <th></th>\n",
       "      <th></th>\n",
       "      <th></th>\n",
       "      <th></th>\n",
       "      <th></th>\n",
       "      <th></th>\n",
       "      <th></th>\n",
       "    </tr>\n",
       "  </thead>\n",
       "  <tbody>\n",
       "    <tr>\n",
       "      <th>208042</th>\n",
       "      <td>note</td>\n",
       "      <td>2024-10-31</td>\n",
       "      <td>2023-04-30</td>\n",
       "      <td>2025-04-30</td>\n",
       "      <td>0.4956</td>\n",
       "      <td>0</td>\n",
       "      <td>3.8750</td>\n",
       "      <td>99.7125</td>\n",
       "      <td>99.7222</td>\n",
       "      <td>99.7174</td>\n",
       "      <td>0</td>\n",
       "      <td>99.7174</td>\n",
       "      <td>0.0449</td>\n",
       "    </tr>\n",
       "    <tr>\n",
       "      <th>208129</th>\n",
       "      <td>note</td>\n",
       "      <td>2024-10-31</td>\n",
       "      <td>2023-10-31</td>\n",
       "      <td>2025-10-31</td>\n",
       "      <td>0.9993</td>\n",
       "      <td>0</td>\n",
       "      <td>5.0000</td>\n",
       "      <td>100.6414</td>\n",
       "      <td>100.6608</td>\n",
       "      <td>100.6511</td>\n",
       "      <td>0</td>\n",
       "      <td>100.6511</td>\n",
       "      <td>0.0433</td>\n",
       "    </tr>\n",
       "    <tr>\n",
       "      <th>208213</th>\n",
       "      <td>note</td>\n",
       "      <td>2024-10-31</td>\n",
       "      <td>2024-04-30</td>\n",
       "      <td>2026-04-30</td>\n",
       "      <td>1.4949</td>\n",
       "      <td>0</td>\n",
       "      <td>4.8750</td>\n",
       "      <td>100.9297</td>\n",
       "      <td>100.9609</td>\n",
       "      <td>100.9453</td>\n",
       "      <td>0</td>\n",
       "      <td>100.9453</td>\n",
       "      <td>0.0423</td>\n",
       "    </tr>\n",
       "    <tr>\n",
       "      <th>208302</th>\n",
       "      <td>note</td>\n",
       "      <td>2024-10-31</td>\n",
       "      <td>2024-10-31</td>\n",
       "      <td>2026-10-31</td>\n",
       "      <td>1.9986</td>\n",
       "      <td>0</td>\n",
       "      <td>4.1250</td>\n",
       "      <td>99.9336</td>\n",
       "      <td>99.9414</td>\n",
       "      <td>99.9375</td>\n",
       "      <td>0</td>\n",
       "      <td>99.9375</td>\n",
       "      <td>0.0416</td>\n",
       "    </tr>\n",
       "    <tr>\n",
       "      <th>207875</th>\n",
       "      <td>note</td>\n",
       "      <td>2024-10-31</td>\n",
       "      <td>2022-04-30</td>\n",
       "      <td>2027-04-30</td>\n",
       "      <td>2.4942</td>\n",
       "      <td>0</td>\n",
       "      <td>2.7500</td>\n",
       "      <td>96.7500</td>\n",
       "      <td>96.7812</td>\n",
       "      <td>96.7656</td>\n",
       "      <td>0</td>\n",
       "      <td>96.7656</td>\n",
       "      <td>0.0413</td>\n",
       "    </tr>\n",
       "  </tbody>\n",
       "</table>\n",
       "</div>"
      ],
      "text/plain": [
       "           type quote date issue date maturity date    ttm  accrual fraction  \\\n",
       "KYTREASNO                                                                      \n",
       "208042     note 2024-10-31 2023-04-30    2025-04-30 0.4956                 0   \n",
       "208129     note 2024-10-31 2023-10-31    2025-10-31 0.9993                 0   \n",
       "208213     note 2024-10-31 2024-04-30    2026-04-30 1.4949                 0   \n",
       "208302     note 2024-10-31 2024-10-31    2026-10-31 1.9986                 0   \n",
       "207875     note 2024-10-31 2022-04-30    2027-04-30 2.4942                 0   \n",
       "\n",
       "           cpn rate      bid      ask    price  accrued int  dirty price  \\\n",
       "KYTREASNO                                                                  \n",
       "208042       3.8750  99.7125  99.7222  99.7174            0      99.7174   \n",
       "208129       5.0000 100.6414 100.6608 100.6511            0     100.6511   \n",
       "208213       4.8750 100.9297 100.9609 100.9453            0     100.9453   \n",
       "208302       4.1250  99.9336  99.9414  99.9375            0      99.9375   \n",
       "207875       2.7500  96.7500  96.7812  96.7656            0      96.7656   \n",
       "\n",
       "             ytm  \n",
       "KYTREASNO         \n",
       "208042    0.0449  \n",
       "208129    0.0433  \n",
       "208213    0.0423  \n",
       "208302    0.0416  \n",
       "207875    0.0413  "
      ]
     },
     "execution_count": 3,
     "metadata": {},
     "output_type": "execute_result"
    }
   ],
   "source": [
    "# Extract data:\n",
    "treasuries_df = pd.read_excel(FILE_PATH, sheet_name='selected quotes', index_col=0)\n",
    "treasuries_df.head()"
   ]
  },
  {
   "cell_type": "code",
   "execution_count": 4,
   "id": "de3580f4",
   "metadata": {},
   "outputs": [
    {
     "name": "stdout",
     "output_type": "stream",
     "text": [
      "Analysis based on quotes from: 2024-10-31\n"
     ]
    }
   ],
   "source": [
    "t_check = treasuries_df['quote date'].values[0]\n",
    "if treasuries_df['quote date'].eq(t_check).all():\n",
    "    t_curr_date = t_check\n",
    "else:\n",
    "    warnings.warn('Quotes are from multiple dates.')\n",
    "    t_curr_date = None\n",
    "\n",
    "print(f'Analysis based on quotes from: {pd.to_datetime(t_curr_date):%Y-%m-%d}')"
   ]
  },
  {
   "cell_type": "code",
   "execution_count": 5,
   "id": "07db38da",
   "metadata": {},
   "outputs": [
    {
     "data": {
      "text/html": [
       "<div>\n",
       "<style scoped>\n",
       "    .dataframe tbody tr th:only-of-type {\n",
       "        vertical-align: middle;\n",
       "    }\n",
       "\n",
       "    .dataframe tbody tr th {\n",
       "        vertical-align: top;\n",
       "    }\n",
       "\n",
       "    .dataframe thead th {\n",
       "        text-align: right;\n",
       "    }\n",
       "</style>\n",
       "<table border=\"1\" class=\"dataframe\">\n",
       "  <thead>\n",
       "    <tr style=\"text-align: right;\">\n",
       "      <th></th>\n",
       "      <th>2025-04-30</th>\n",
       "      <th>2025-10-30</th>\n",
       "      <th>2025-10-31</th>\n",
       "      <th>2026-04-30</th>\n",
       "      <th>2026-10-30</th>\n",
       "      <th>2026-10-31</th>\n",
       "      <th>2027-04-30</th>\n",
       "      <th>2027-10-30</th>\n",
       "      <th>2027-10-31</th>\n",
       "      <th>2028-04-30</th>\n",
       "      <th>2028-10-30</th>\n",
       "      <th>2028-10-31</th>\n",
       "      <th>2029-04-30</th>\n",
       "      <th>2029-10-30</th>\n",
       "      <th>2029-10-31</th>\n",
       "      <th>2030-04-30</th>\n",
       "      <th>2030-10-30</th>\n",
       "      <th>2030-10-31</th>\n",
       "      <th>2031-04-30</th>\n",
       "      <th>2031-10-31</th>\n",
       "    </tr>\n",
       "    <tr>\n",
       "      <th>KYTREASNO</th>\n",
       "      <th></th>\n",
       "      <th></th>\n",
       "      <th></th>\n",
       "      <th></th>\n",
       "      <th></th>\n",
       "      <th></th>\n",
       "      <th></th>\n",
       "      <th></th>\n",
       "      <th></th>\n",
       "      <th></th>\n",
       "      <th></th>\n",
       "      <th></th>\n",
       "      <th></th>\n",
       "      <th></th>\n",
       "      <th></th>\n",
       "      <th></th>\n",
       "      <th></th>\n",
       "      <th></th>\n",
       "      <th></th>\n",
       "      <th></th>\n",
       "    </tr>\n",
       "  </thead>\n",
       "  <tbody>\n",
       "    <tr>\n",
       "      <th>208042</th>\n",
       "      <td>101.9375</td>\n",
       "      <td>0.0000</td>\n",
       "      <td>0.0000</td>\n",
       "      <td>0.0000</td>\n",
       "      <td>0.0000</td>\n",
       "      <td>0.0000</td>\n",
       "      <td>0.0000</td>\n",
       "      <td>0.0000</td>\n",
       "      <td>0.0000</td>\n",
       "      <td>0.0000</td>\n",
       "      <td>0.0000</td>\n",
       "      <td>0.0000</td>\n",
       "      <td>0.0000</td>\n",
       "      <td>0.0000</td>\n",
       "      <td>0.0000</td>\n",
       "      <td>0.0000</td>\n",
       "      <td>0.0000</td>\n",
       "      <td>0.0000</td>\n",
       "      <td>0.0000</td>\n",
       "      <td>0.0000</td>\n",
       "    </tr>\n",
       "    <tr>\n",
       "      <th>208129</th>\n",
       "      <td>2.5000</td>\n",
       "      <td>0.0000</td>\n",
       "      <td>102.5000</td>\n",
       "      <td>0.0000</td>\n",
       "      <td>0.0000</td>\n",
       "      <td>0.0000</td>\n",
       "      <td>0.0000</td>\n",
       "      <td>0.0000</td>\n",
       "      <td>0.0000</td>\n",
       "      <td>0.0000</td>\n",
       "      <td>0.0000</td>\n",
       "      <td>0.0000</td>\n",
       "      <td>0.0000</td>\n",
       "      <td>0.0000</td>\n",
       "      <td>0.0000</td>\n",
       "      <td>0.0000</td>\n",
       "      <td>0.0000</td>\n",
       "      <td>0.0000</td>\n",
       "      <td>0.0000</td>\n",
       "      <td>0.0000</td>\n",
       "    </tr>\n",
       "    <tr>\n",
       "      <th>208213</th>\n",
       "      <td>2.4375</td>\n",
       "      <td>2.4375</td>\n",
       "      <td>0.0000</td>\n",
       "      <td>102.4375</td>\n",
       "      <td>0.0000</td>\n",
       "      <td>0.0000</td>\n",
       "      <td>0.0000</td>\n",
       "      <td>0.0000</td>\n",
       "      <td>0.0000</td>\n",
       "      <td>0.0000</td>\n",
       "      <td>0.0000</td>\n",
       "      <td>0.0000</td>\n",
       "      <td>0.0000</td>\n",
       "      <td>0.0000</td>\n",
       "      <td>0.0000</td>\n",
       "      <td>0.0000</td>\n",
       "      <td>0.0000</td>\n",
       "      <td>0.0000</td>\n",
       "      <td>0.0000</td>\n",
       "      <td>0.0000</td>\n",
       "    </tr>\n",
       "    <tr>\n",
       "      <th>208302</th>\n",
       "      <td>2.0625</td>\n",
       "      <td>2.0625</td>\n",
       "      <td>0.0000</td>\n",
       "      <td>2.0625</td>\n",
       "      <td>0.0000</td>\n",
       "      <td>102.0625</td>\n",
       "      <td>0.0000</td>\n",
       "      <td>0.0000</td>\n",
       "      <td>0.0000</td>\n",
       "      <td>0.0000</td>\n",
       "      <td>0.0000</td>\n",
       "      <td>0.0000</td>\n",
       "      <td>0.0000</td>\n",
       "      <td>0.0000</td>\n",
       "      <td>0.0000</td>\n",
       "      <td>0.0000</td>\n",
       "      <td>0.0000</td>\n",
       "      <td>0.0000</td>\n",
       "      <td>0.0000</td>\n",
       "      <td>0.0000</td>\n",
       "    </tr>\n",
       "    <tr>\n",
       "      <th>207875</th>\n",
       "      <td>1.3750</td>\n",
       "      <td>1.3750</td>\n",
       "      <td>0.0000</td>\n",
       "      <td>1.3750</td>\n",
       "      <td>1.3750</td>\n",
       "      <td>0.0000</td>\n",
       "      <td>101.3750</td>\n",
       "      <td>0.0000</td>\n",
       "      <td>0.0000</td>\n",
       "      <td>0.0000</td>\n",
       "      <td>0.0000</td>\n",
       "      <td>0.0000</td>\n",
       "      <td>0.0000</td>\n",
       "      <td>0.0000</td>\n",
       "      <td>0.0000</td>\n",
       "      <td>0.0000</td>\n",
       "      <td>0.0000</td>\n",
       "      <td>0.0000</td>\n",
       "      <td>0.0000</td>\n",
       "      <td>0.0000</td>\n",
       "    </tr>\n",
       "  </tbody>\n",
       "</table>\n",
       "</div>"
      ],
      "text/plain": [
       "           2025-04-30  2025-10-30  2025-10-31  2026-04-30  2026-10-30  \\\n",
       "KYTREASNO                                                               \n",
       "208042       101.9375      0.0000      0.0000      0.0000      0.0000   \n",
       "208129         2.5000      0.0000    102.5000      0.0000      0.0000   \n",
       "208213         2.4375      2.4375      0.0000    102.4375      0.0000   \n",
       "208302         2.0625      2.0625      0.0000      2.0625      0.0000   \n",
       "207875         1.3750      1.3750      0.0000      1.3750      1.3750   \n",
       "\n",
       "           2026-10-31  2027-04-30  2027-10-30  2027-10-31  2028-04-30  \\\n",
       "KYTREASNO                                                               \n",
       "208042         0.0000      0.0000      0.0000      0.0000      0.0000   \n",
       "208129         0.0000      0.0000      0.0000      0.0000      0.0000   \n",
       "208213         0.0000      0.0000      0.0000      0.0000      0.0000   \n",
       "208302       102.0625      0.0000      0.0000      0.0000      0.0000   \n",
       "207875         0.0000    101.3750      0.0000      0.0000      0.0000   \n",
       "\n",
       "           2028-10-30  2028-10-31  2029-04-30  2029-10-30  2029-10-31  \\\n",
       "KYTREASNO                                                               \n",
       "208042         0.0000      0.0000      0.0000      0.0000      0.0000   \n",
       "208129         0.0000      0.0000      0.0000      0.0000      0.0000   \n",
       "208213         0.0000      0.0000      0.0000      0.0000      0.0000   \n",
       "208302         0.0000      0.0000      0.0000      0.0000      0.0000   \n",
       "207875         0.0000      0.0000      0.0000      0.0000      0.0000   \n",
       "\n",
       "           2030-04-30  2030-10-30  2030-10-31  2031-04-30  2031-10-31  \n",
       "KYTREASNO                                                              \n",
       "208042         0.0000      0.0000      0.0000      0.0000      0.0000  \n",
       "208129         0.0000      0.0000      0.0000      0.0000      0.0000  \n",
       "208213         0.0000      0.0000      0.0000      0.0000      0.0000  \n",
       "208302         0.0000      0.0000      0.0000      0.0000      0.0000  \n",
       "207875         0.0000      0.0000      0.0000      0.0000      0.0000  "
      ]
     },
     "metadata": {},
     "output_type": "display_data"
    },
    {
     "name": "stdout",
     "output_type": "stream",
     "text": [
      "\n",
      "Dates-adjusted cashflow map:\n"
     ]
    },
    {
     "data": {
      "text/html": [
       "<div>\n",
       "<style scoped>\n",
       "    .dataframe tbody tr th:only-of-type {\n",
       "        vertical-align: middle;\n",
       "    }\n",
       "\n",
       "    .dataframe tbody tr th {\n",
       "        vertical-align: top;\n",
       "    }\n",
       "\n",
       "    .dataframe thead th {\n",
       "        text-align: right;\n",
       "    }\n",
       "</style>\n",
       "<table border=\"1\" class=\"dataframe\">\n",
       "  <thead>\n",
       "    <tr style=\"text-align: right;\">\n",
       "      <th></th>\n",
       "      <th>2025-04-30</th>\n",
       "      <th>2025-10-31</th>\n",
       "      <th>2026-04-30</th>\n",
       "      <th>2026-10-31</th>\n",
       "      <th>2027-04-30</th>\n",
       "      <th>2027-10-31</th>\n",
       "      <th>2028-04-30</th>\n",
       "      <th>2028-10-31</th>\n",
       "      <th>2029-04-30</th>\n",
       "      <th>2029-10-31</th>\n",
       "      <th>2030-04-30</th>\n",
       "      <th>2030-10-31</th>\n",
       "      <th>2031-04-30</th>\n",
       "      <th>2031-10-31</th>\n",
       "    </tr>\n",
       "    <tr>\n",
       "      <th>KYTREASNO</th>\n",
       "      <th></th>\n",
       "      <th></th>\n",
       "      <th></th>\n",
       "      <th></th>\n",
       "      <th></th>\n",
       "      <th></th>\n",
       "      <th></th>\n",
       "      <th></th>\n",
       "      <th></th>\n",
       "      <th></th>\n",
       "      <th></th>\n",
       "      <th></th>\n",
       "      <th></th>\n",
       "      <th></th>\n",
       "    </tr>\n",
       "  </thead>\n",
       "  <tbody>\n",
       "    <tr>\n",
       "      <th>208042</th>\n",
       "      <td>101.9375</td>\n",
       "      <td>0.0000</td>\n",
       "      <td>0.0000</td>\n",
       "      <td>0.0000</td>\n",
       "      <td>0.0000</td>\n",
       "      <td>0.0000</td>\n",
       "      <td>0.0000</td>\n",
       "      <td>0.0000</td>\n",
       "      <td>0.0000</td>\n",
       "      <td>0.0000</td>\n",
       "      <td>0.0000</td>\n",
       "      <td>0.0000</td>\n",
       "      <td>0.0000</td>\n",
       "      <td>0.0000</td>\n",
       "    </tr>\n",
       "    <tr>\n",
       "      <th>208129</th>\n",
       "      <td>2.5000</td>\n",
       "      <td>102.5000</td>\n",
       "      <td>0.0000</td>\n",
       "      <td>0.0000</td>\n",
       "      <td>0.0000</td>\n",
       "      <td>0.0000</td>\n",
       "      <td>0.0000</td>\n",
       "      <td>0.0000</td>\n",
       "      <td>0.0000</td>\n",
       "      <td>0.0000</td>\n",
       "      <td>0.0000</td>\n",
       "      <td>0.0000</td>\n",
       "      <td>0.0000</td>\n",
       "      <td>0.0000</td>\n",
       "    </tr>\n",
       "    <tr>\n",
       "      <th>208213</th>\n",
       "      <td>2.4375</td>\n",
       "      <td>2.4375</td>\n",
       "      <td>102.4375</td>\n",
       "      <td>0.0000</td>\n",
       "      <td>0.0000</td>\n",
       "      <td>0.0000</td>\n",
       "      <td>0.0000</td>\n",
       "      <td>0.0000</td>\n",
       "      <td>0.0000</td>\n",
       "      <td>0.0000</td>\n",
       "      <td>0.0000</td>\n",
       "      <td>0.0000</td>\n",
       "      <td>0.0000</td>\n",
       "      <td>0.0000</td>\n",
       "    </tr>\n",
       "    <tr>\n",
       "      <th>208302</th>\n",
       "      <td>2.0625</td>\n",
       "      <td>2.0625</td>\n",
       "      <td>2.0625</td>\n",
       "      <td>102.0625</td>\n",
       "      <td>0.0000</td>\n",
       "      <td>0.0000</td>\n",
       "      <td>0.0000</td>\n",
       "      <td>0.0000</td>\n",
       "      <td>0.0000</td>\n",
       "      <td>0.0000</td>\n",
       "      <td>0.0000</td>\n",
       "      <td>0.0000</td>\n",
       "      <td>0.0000</td>\n",
       "      <td>0.0000</td>\n",
       "    </tr>\n",
       "    <tr>\n",
       "      <th>207875</th>\n",
       "      <td>1.3750</td>\n",
       "      <td>1.3750</td>\n",
       "      <td>1.3750</td>\n",
       "      <td>1.3750</td>\n",
       "      <td>101.3750</td>\n",
       "      <td>0.0000</td>\n",
       "      <td>0.0000</td>\n",
       "      <td>0.0000</td>\n",
       "      <td>0.0000</td>\n",
       "      <td>0.0000</td>\n",
       "      <td>0.0000</td>\n",
       "      <td>0.0000</td>\n",
       "      <td>0.0000</td>\n",
       "      <td>0.0000</td>\n",
       "    </tr>\n",
       "    <tr>\n",
       "      <th>207960</th>\n",
       "      <td>2.0625</td>\n",
       "      <td>2.0625</td>\n",
       "      <td>2.0625</td>\n",
       "      <td>2.0625</td>\n",
       "      <td>2.0625</td>\n",
       "      <td>102.0625</td>\n",
       "      <td>0.0000</td>\n",
       "      <td>0.0000</td>\n",
       "      <td>0.0000</td>\n",
       "      <td>0.0000</td>\n",
       "      <td>0.0000</td>\n",
       "      <td>0.0000</td>\n",
       "      <td>0.0000</td>\n",
       "      <td>0.0000</td>\n",
       "    </tr>\n",
       "    <tr>\n",
       "      <th>208044</th>\n",
       "      <td>1.7500</td>\n",
       "      <td>1.7500</td>\n",
       "      <td>1.7500</td>\n",
       "      <td>1.7500</td>\n",
       "      <td>1.7500</td>\n",
       "      <td>1.7500</td>\n",
       "      <td>101.7500</td>\n",
       "      <td>0.0000</td>\n",
       "      <td>0.0000</td>\n",
       "      <td>0.0000</td>\n",
       "      <td>0.0000</td>\n",
       "      <td>0.0000</td>\n",
       "      <td>0.0000</td>\n",
       "      <td>0.0000</td>\n",
       "    </tr>\n",
       "    <tr>\n",
       "      <th>208132</th>\n",
       "      <td>2.4375</td>\n",
       "      <td>2.4375</td>\n",
       "      <td>2.4375</td>\n",
       "      <td>2.4375</td>\n",
       "      <td>2.4375</td>\n",
       "      <td>2.4375</td>\n",
       "      <td>2.4375</td>\n",
       "      <td>102.4375</td>\n",
       "      <td>0.0000</td>\n",
       "      <td>0.0000</td>\n",
       "      <td>0.0000</td>\n",
       "      <td>0.0000</td>\n",
       "      <td>0.0000</td>\n",
       "      <td>0.0000</td>\n",
       "    </tr>\n",
       "    <tr>\n",
       "      <th>208216</th>\n",
       "      <td>2.3125</td>\n",
       "      <td>2.3125</td>\n",
       "      <td>2.3125</td>\n",
       "      <td>2.3125</td>\n",
       "      <td>2.3125</td>\n",
       "      <td>2.3125</td>\n",
       "      <td>2.3125</td>\n",
       "      <td>2.3125</td>\n",
       "      <td>102.3125</td>\n",
       "      <td>0.0000</td>\n",
       "      <td>0.0000</td>\n",
       "      <td>0.0000</td>\n",
       "      <td>0.0000</td>\n",
       "      <td>0.0000</td>\n",
       "    </tr>\n",
       "    <tr>\n",
       "      <th>208305</th>\n",
       "      <td>2.0625</td>\n",
       "      <td>2.0625</td>\n",
       "      <td>2.0625</td>\n",
       "      <td>2.0625</td>\n",
       "      <td>2.0625</td>\n",
       "      <td>2.0625</td>\n",
       "      <td>2.0625</td>\n",
       "      <td>2.0625</td>\n",
       "      <td>2.0625</td>\n",
       "      <td>102.0625</td>\n",
       "      <td>0.0000</td>\n",
       "      <td>0.0000</td>\n",
       "      <td>0.0000</td>\n",
       "      <td>0.0000</td>\n",
       "    </tr>\n",
       "    <tr>\n",
       "      <th>208046</th>\n",
       "      <td>1.7500</td>\n",
       "      <td>1.7500</td>\n",
       "      <td>1.7500</td>\n",
       "      <td>1.7500</td>\n",
       "      <td>1.7500</td>\n",
       "      <td>1.7500</td>\n",
       "      <td>1.7500</td>\n",
       "      <td>1.7500</td>\n",
       "      <td>1.7500</td>\n",
       "      <td>1.7500</td>\n",
       "      <td>101.7500</td>\n",
       "      <td>0.0000</td>\n",
       "      <td>0.0000</td>\n",
       "      <td>0.0000</td>\n",
       "    </tr>\n",
       "    <tr>\n",
       "      <th>208133</th>\n",
       "      <td>2.4375</td>\n",
       "      <td>2.4375</td>\n",
       "      <td>2.4375</td>\n",
       "      <td>2.4375</td>\n",
       "      <td>2.4375</td>\n",
       "      <td>2.4375</td>\n",
       "      <td>2.4375</td>\n",
       "      <td>2.4375</td>\n",
       "      <td>2.4375</td>\n",
       "      <td>2.4375</td>\n",
       "      <td>2.4375</td>\n",
       "      <td>102.4375</td>\n",
       "      <td>0.0000</td>\n",
       "      <td>0.0000</td>\n",
       "    </tr>\n",
       "    <tr>\n",
       "      <th>208217</th>\n",
       "      <td>2.3125</td>\n",
       "      <td>2.3125</td>\n",
       "      <td>2.3125</td>\n",
       "      <td>2.3125</td>\n",
       "      <td>2.3125</td>\n",
       "      <td>2.3125</td>\n",
       "      <td>2.3125</td>\n",
       "      <td>2.3125</td>\n",
       "      <td>2.3125</td>\n",
       "      <td>2.3125</td>\n",
       "      <td>2.3125</td>\n",
       "      <td>2.3125</td>\n",
       "      <td>102.3125</td>\n",
       "      <td>0.0000</td>\n",
       "    </tr>\n",
       "    <tr>\n",
       "      <th>208306</th>\n",
       "      <td>2.0625</td>\n",
       "      <td>2.0625</td>\n",
       "      <td>2.0625</td>\n",
       "      <td>2.0625</td>\n",
       "      <td>2.0625</td>\n",
       "      <td>2.0625</td>\n",
       "      <td>2.0625</td>\n",
       "      <td>2.0625</td>\n",
       "      <td>2.0625</td>\n",
       "      <td>2.0625</td>\n",
       "      <td>2.0625</td>\n",
       "      <td>2.0625</td>\n",
       "      <td>2.0625</td>\n",
       "      <td>102.0625</td>\n",
       "    </tr>\n",
       "  </tbody>\n",
       "</table>\n",
       "</div>"
      ],
      "text/plain": [
       "           2025-04-30  2025-10-31  2026-04-30  2026-10-31  2027-04-30  \\\n",
       "KYTREASNO                                                               \n",
       "208042       101.9375      0.0000      0.0000      0.0000      0.0000   \n",
       "208129         2.5000    102.5000      0.0000      0.0000      0.0000   \n",
       "208213         2.4375      2.4375    102.4375      0.0000      0.0000   \n",
       "208302         2.0625      2.0625      2.0625    102.0625      0.0000   \n",
       "207875         1.3750      1.3750      1.3750      1.3750    101.3750   \n",
       "207960         2.0625      2.0625      2.0625      2.0625      2.0625   \n",
       "208044         1.7500      1.7500      1.7500      1.7500      1.7500   \n",
       "208132         2.4375      2.4375      2.4375      2.4375      2.4375   \n",
       "208216         2.3125      2.3125      2.3125      2.3125      2.3125   \n",
       "208305         2.0625      2.0625      2.0625      2.0625      2.0625   \n",
       "208046         1.7500      1.7500      1.7500      1.7500      1.7500   \n",
       "208133         2.4375      2.4375      2.4375      2.4375      2.4375   \n",
       "208217         2.3125      2.3125      2.3125      2.3125      2.3125   \n",
       "208306         2.0625      2.0625      2.0625      2.0625      2.0625   \n",
       "\n",
       "           2027-10-31  2028-04-30  2028-10-31  2029-04-30  2029-10-31  \\\n",
       "KYTREASNO                                                               \n",
       "208042         0.0000      0.0000      0.0000      0.0000      0.0000   \n",
       "208129         0.0000      0.0000      0.0000      0.0000      0.0000   \n",
       "208213         0.0000      0.0000      0.0000      0.0000      0.0000   \n",
       "208302         0.0000      0.0000      0.0000      0.0000      0.0000   \n",
       "207875         0.0000      0.0000      0.0000      0.0000      0.0000   \n",
       "207960       102.0625      0.0000      0.0000      0.0000      0.0000   \n",
       "208044         1.7500    101.7500      0.0000      0.0000      0.0000   \n",
       "208132         2.4375      2.4375    102.4375      0.0000      0.0000   \n",
       "208216         2.3125      2.3125      2.3125    102.3125      0.0000   \n",
       "208305         2.0625      2.0625      2.0625      2.0625    102.0625   \n",
       "208046         1.7500      1.7500      1.7500      1.7500      1.7500   \n",
       "208133         2.4375      2.4375      2.4375      2.4375      2.4375   \n",
       "208217         2.3125      2.3125      2.3125      2.3125      2.3125   \n",
       "208306         2.0625      2.0625      2.0625      2.0625      2.0625   \n",
       "\n",
       "           2030-04-30  2030-10-31  2031-04-30  2031-10-31  \n",
       "KYTREASNO                                                  \n",
       "208042         0.0000      0.0000      0.0000      0.0000  \n",
       "208129         0.0000      0.0000      0.0000      0.0000  \n",
       "208213         0.0000      0.0000      0.0000      0.0000  \n",
       "208302         0.0000      0.0000      0.0000      0.0000  \n",
       "207875         0.0000      0.0000      0.0000      0.0000  \n",
       "207960         0.0000      0.0000      0.0000      0.0000  \n",
       "208044         0.0000      0.0000      0.0000      0.0000  \n",
       "208132         0.0000      0.0000      0.0000      0.0000  \n",
       "208216         0.0000      0.0000      0.0000      0.0000  \n",
       "208305         0.0000      0.0000      0.0000      0.0000  \n",
       "208046       101.7500      0.0000      0.0000      0.0000  \n",
       "208133         2.4375    102.4375      0.0000      0.0000  \n",
       "208217         2.3125      2.3125    102.3125      0.0000  \n",
       "208306         2.0625      2.0625      2.0625    102.0625  "
      ]
     },
     "metadata": {},
     "output_type": "display_data"
    }
   ],
   "source": [
    "# Calculate cash flow matrix\n",
    "cf = calc_treasury_cashflows(treasuries_df)\n",
    "display(cf.head())\n",
    "\n",
    "# Adjust oct-30 to oct-31\n",
    "years = cf.columns.year\n",
    "years = sorted(set(years))\n",
    "\n",
    "for year in years:\n",
    "    coupon_col = f\"{year}-10-30\"\n",
    "    principal_col = f\"{year}-10-31\"\n",
    "    if coupon_col in cf.columns and principal_col in cf.columns:\n",
    "        cf[principal_col] += cf[coupon_col]\n",
    "        cf.drop(columns=coupon_col, inplace=True)\n",
    "    elif coupon_col in cf.columns:\n",
    "        cf.rename(columns={coupon_col: principal_col}, inplace=True)\n",
    "\n",
    "print(\"\\nDates-adjusted cashflow map:\")\n",
    "display(cf)   "
   ]
  },
  {
   "cell_type": "code",
   "execution_count": 6,
   "id": "fd2128ee",
   "metadata": {},
   "outputs": [
    {
     "data": {
      "image/png": "[encoded data removed]",
      "text/plain": [
       "<Figure size 1200x800 with 2 Axes>"
      ]
     },
     "metadata": {},
     "output_type": "display_data"
    }
   ],
   "source": [
    "plot_treasury_cashflows_heatmap(cf)"
   ]
  },
  {
   "cell_type": "markdown",
   "id": "f2c17434",
   "metadata": {},
   "source": [
    "### 1.2.\n",
    "\n",
    "Estimate the spot discount factors that rationalize the market prices of the treasuries. Do this via solving the linear system\n",
    "\n",
    "$$\\textbf{p} = {\\textbf{C}}\\, \\textbf{z}$$"
   ]
  },
  {
   "cell_type": "code",
   "execution_count": 7,
   "id": "4fe82c4c",
   "metadata": {},
   "outputs": [
    {
     "data": {
      "text/plain": [
       "array([0.97822049, 0.95810304, 0.93935838, 0.92106705, 0.90303423,\n",
       "       0.88485588, 0.86632685, 0.84811994, 0.83111031, 0.81446174,\n",
       "       0.79632959, 0.77902394, 0.76195606, 0.74636869])"
      ]
     },
     "execution_count": 7,
     "metadata": {},
     "output_type": "execute_result"
    }
   ],
   "source": [
    "prices = treasuries_df['price'][cf.index]\n",
    "z = np.linalg.solve(cf, prices)\n",
    "z"
   ]
  },
  {
   "cell_type": "markdown",
   "id": "f02955d5",
   "metadata": {},
   "source": [
    "### 1.3.\n",
    "\n",
    "Plot the time-to-maturity on the horizontal axis. On the vertical axis, plot the...\n",
    "* discount factors\n",
    "\n",
    "Make another plot, this time with the vertical axis displaying the\n",
    "* semiannually compounded discount rates\n",
    "* continuously compounded discount rates"
   ]
  },
  {
   "cell_type": "code",
   "execution_count": 8,
   "id": "3f06509c",
   "metadata": {},
   "outputs": [
    {
     "data": {
      "text/html": [
       "<div>\n",
       "<style scoped>\n",
       "    .dataframe tbody tr th:only-of-type {\n",
       "        vertical-align: middle;\n",
       "    }\n",
       "\n",
       "    .dataframe tbody tr th {\n",
       "        vertical-align: top;\n",
       "    }\n",
       "\n",
       "    .dataframe thead th {\n",
       "        text-align: right;\n",
       "    }\n",
       "</style>\n",
       "<table border=\"1\" class=\"dataframe\">\n",
       "  <thead>\n",
       "    <tr style=\"text-align: right;\">\n",
       "      <th></th>\n",
       "      <th>type</th>\n",
       "      <th>quote date</th>\n",
       "      <th>issue date</th>\n",
       "      <th>maturity date</th>\n",
       "      <th>ttm</th>\n",
       "      <th>accrual fraction</th>\n",
       "      <th>cpn rate</th>\n",
       "      <th>bid</th>\n",
       "      <th>ask</th>\n",
       "      <th>price</th>\n",
       "      <th>accrued int</th>\n",
       "      <th>dirty price</th>\n",
       "      <th>ytm</th>\n",
       "    </tr>\n",
       "    <tr>\n",
       "      <th>KYTREASNO</th>\n",
       "      <th></th>\n",
       "      <th></th>\n",
       "      <th></th>\n",
       "      <th></th>\n",
       "      <th></th>\n",
       "      <th></th>\n",
       "      <th></th>\n",
       "      <th></th>\n",
       "      <th></th>\n",
       "      <th></th>\n",
       "      <th></th>\n",
       "      <th></th>\n",
       "      <th></th>\n",
       "    </tr>\n",
       "  </thead>\n",
       "  <tbody>\n",
       "    <tr>\n",
       "      <th>208042</th>\n",
       "      <td>note</td>\n",
       "      <td>2024-10-31</td>\n",
       "      <td>2023-04-30</td>\n",
       "      <td>2025-04-30</td>\n",
       "      <td>0.4956</td>\n",
       "      <td>0</td>\n",
       "      <td>3.8750</td>\n",
       "      <td>99.7125</td>\n",
       "      <td>99.7222</td>\n",
       "      <td>99.7174</td>\n",
       "      <td>0</td>\n",
       "      <td>99.7174</td>\n",
       "      <td>0.0449</td>\n",
       "    </tr>\n",
       "    <tr>\n",
       "      <th>208129</th>\n",
       "      <td>note</td>\n",
       "      <td>2024-10-31</td>\n",
       "      <td>2023-10-31</td>\n",
       "      <td>2025-10-31</td>\n",
       "      <td>0.9993</td>\n",
       "      <td>0</td>\n",
       "      <td>5.0000</td>\n",
       "      <td>100.6414</td>\n",
       "      <td>100.6608</td>\n",
       "      <td>100.6511</td>\n",
       "      <td>0</td>\n",
       "      <td>100.6511</td>\n",
       "      <td>0.0433</td>\n",
       "    </tr>\n",
       "    <tr>\n",
       "      <th>208213</th>\n",
       "      <td>note</td>\n",
       "      <td>2024-10-31</td>\n",
       "      <td>2024-04-30</td>\n",
       "      <td>2026-04-30</td>\n",
       "      <td>1.4949</td>\n",
       "      <td>0</td>\n",
       "      <td>4.8750</td>\n",
       "      <td>100.9297</td>\n",
       "      <td>100.9609</td>\n",
       "      <td>100.9453</td>\n",
       "      <td>0</td>\n",
       "      <td>100.9453</td>\n",
       "      <td>0.0423</td>\n",
       "    </tr>\n",
       "    <tr>\n",
       "      <th>208302</th>\n",
       "      <td>note</td>\n",
       "      <td>2024-10-31</td>\n",
       "      <td>2024-10-31</td>\n",
       "      <td>2026-10-31</td>\n",
       "      <td>1.9986</td>\n",
       "      <td>0</td>\n",
       "      <td>4.1250</td>\n",
       "      <td>99.9336</td>\n",
       "      <td>99.9414</td>\n",
       "      <td>99.9375</td>\n",
       "      <td>0</td>\n",
       "      <td>99.9375</td>\n",
       "      <td>0.0416</td>\n",
       "    </tr>\n",
       "    <tr>\n",
       "      <th>207875</th>\n",
       "      <td>note</td>\n",
       "      <td>2024-10-31</td>\n",
       "      <td>2022-04-30</td>\n",
       "      <td>2027-04-30</td>\n",
       "      <td>2.4942</td>\n",
       "      <td>0</td>\n",
       "      <td>2.7500</td>\n",
       "      <td>96.7500</td>\n",
       "      <td>96.7812</td>\n",
       "      <td>96.7656</td>\n",
       "      <td>0</td>\n",
       "      <td>96.7656</td>\n",
       "      <td>0.0413</td>\n",
       "    </tr>\n",
       "    <tr>\n",
       "      <th>207960</th>\n",
       "      <td>note</td>\n",
       "      <td>2024-10-31</td>\n",
       "      <td>2022-10-31</td>\n",
       "      <td>2027-10-31</td>\n",
       "      <td>2.9979</td>\n",
       "      <td>0</td>\n",
       "      <td>4.1250</td>\n",
       "      <td>99.9922</td>\n",
       "      <td>100.0156</td>\n",
       "      <td>100.0039</td>\n",
       "      <td>0</td>\n",
       "      <td>100.0039</td>\n",
       "      <td>0.0413</td>\n",
       "    </tr>\n",
       "    <tr>\n",
       "      <th>208044</th>\n",
       "      <td>note</td>\n",
       "      <td>2024-10-31</td>\n",
       "      <td>2023-04-30</td>\n",
       "      <td>2028-04-30</td>\n",
       "      <td>3.4962</td>\n",
       "      <td>0</td>\n",
       "      <td>3.5000</td>\n",
       "      <td>97.9023</td>\n",
       "      <td>97.9414</td>\n",
       "      <td>97.9219</td>\n",
       "      <td>0</td>\n",
       "      <td>97.9219</td>\n",
       "      <td>0.0415</td>\n",
       "    </tr>\n",
       "    <tr>\n",
       "      <th>208132</th>\n",
       "      <td>note</td>\n",
       "      <td>2024-10-31</td>\n",
       "      <td>2023-10-31</td>\n",
       "      <td>2028-10-31</td>\n",
       "      <td>4.0000</td>\n",
       "      <td>0</td>\n",
       "      <td>4.8750</td>\n",
       "      <td>102.5859</td>\n",
       "      <td>102.6211</td>\n",
       "      <td>102.6035</td>\n",
       "      <td>0</td>\n",
       "      <td>102.6035</td>\n",
       "      <td>0.0416</td>\n",
       "    </tr>\n",
       "    <tr>\n",
       "      <th>208216</th>\n",
       "      <td>note</td>\n",
       "      <td>2024-10-31</td>\n",
       "      <td>2024-04-30</td>\n",
       "      <td>2029-04-30</td>\n",
       "      <td>4.4956</td>\n",
       "      <td>0</td>\n",
       "      <td>4.6250</td>\n",
       "      <td>101.8945</td>\n",
       "      <td>101.9297</td>\n",
       "      <td>101.9121</td>\n",
       "      <td>0</td>\n",
       "      <td>101.9121</td>\n",
       "      <td>0.0416</td>\n",
       "    </tr>\n",
       "    <tr>\n",
       "      <th>208305</th>\n",
       "      <td>note</td>\n",
       "      <td>2024-10-31</td>\n",
       "      <td>2024-10-31</td>\n",
       "      <td>2029-10-31</td>\n",
       "      <td>4.9993</td>\n",
       "      <td>0</td>\n",
       "      <td>4.1250</td>\n",
       "      <td>99.8906</td>\n",
       "      <td>99.8984</td>\n",
       "      <td>99.8945</td>\n",
       "      <td>0</td>\n",
       "      <td>99.8945</td>\n",
       "      <td>0.0415</td>\n",
       "    </tr>\n",
       "    <tr>\n",
       "      <th>208046</th>\n",
       "      <td>note</td>\n",
       "      <td>2024-10-31</td>\n",
       "      <td>2023-04-30</td>\n",
       "      <td>2030-04-30</td>\n",
       "      <td>5.4949</td>\n",
       "      <td>0</td>\n",
       "      <td>3.5000</td>\n",
       "      <td>96.6641</td>\n",
       "      <td>96.6953</td>\n",
       "      <td>96.6797</td>\n",
       "      <td>0</td>\n",
       "      <td>96.6797</td>\n",
       "      <td>0.0419</td>\n",
       "    </tr>\n",
       "    <tr>\n",
       "      <th>208133</th>\n",
       "      <td>note</td>\n",
       "      <td>2024-10-31</td>\n",
       "      <td>2023-10-31</td>\n",
       "      <td>2030-10-31</td>\n",
       "      <td>5.9986</td>\n",
       "      <td>0</td>\n",
       "      <td>4.8750</td>\n",
       "      <td>103.5234</td>\n",
       "      <td>103.5664</td>\n",
       "      <td>103.5449</td>\n",
       "      <td>0</td>\n",
       "      <td>103.5449</td>\n",
       "      <td>0.0420</td>\n",
       "    </tr>\n",
       "    <tr>\n",
       "      <th>208217</th>\n",
       "      <td>note</td>\n",
       "      <td>2024-10-31</td>\n",
       "      <td>2024-04-30</td>\n",
       "      <td>2031-04-30</td>\n",
       "      <td>6.4942</td>\n",
       "      <td>0</td>\n",
       "      <td>4.6250</td>\n",
       "      <td>102.2656</td>\n",
       "      <td>102.3047</td>\n",
       "      <td>102.2852</td>\n",
       "      <td>0</td>\n",
       "      <td>102.2852</td>\n",
       "      <td>0.0422</td>\n",
       "    </tr>\n",
       "    <tr>\n",
       "      <th>208306</th>\n",
       "      <td>note</td>\n",
       "      <td>2024-10-31</td>\n",
       "      <td>2024-10-31</td>\n",
       "      <td>2031-10-31</td>\n",
       "      <td>6.9979</td>\n",
       "      <td>0</td>\n",
       "      <td>4.1250</td>\n",
       "      <td>99.4375</td>\n",
       "      <td>99.4531</td>\n",
       "      <td>99.4453</td>\n",
       "      <td>0</td>\n",
       "      <td>99.4453</td>\n",
       "      <td>0.0422</td>\n",
       "    </tr>\n",
       "  </tbody>\n",
       "</table>\n",
       "</div>"
      ],
      "text/plain": [
       "           type quote date issue date maturity date    ttm  accrual fraction  \\\n",
       "KYTREASNO                                                                      \n",
       "208042     note 2024-10-31 2023-04-30    2025-04-30 0.4956                 0   \n",
       "208129     note 2024-10-31 2023-10-31    2025-10-31 0.9993                 0   \n",
       "208213     note 2024-10-31 2024-04-30    2026-04-30 1.4949                 0   \n",
       "208302     note 2024-10-31 2024-10-31    2026-10-31 1.9986                 0   \n",
       "207875     note 2024-10-31 2022-04-30    2027-04-30 2.4942                 0   \n",
       "207960     note 2024-10-31 2022-10-31    2027-10-31 2.9979                 0   \n",
       "208044     note 2024-10-31 2023-04-30    2028-04-30 3.4962                 0   \n",
       "208132     note 2024-10-31 2023-10-31    2028-10-31 4.0000                 0   \n",
       "208216     note 2024-10-31 2024-04-30    2029-04-30 4.4956                 0   \n",
       "208305     note 2024-10-31 2024-10-31    2029-10-31 4.9993                 0   \n",
       "208046     note 2024-10-31 2023-04-30    2030-04-30 5.4949                 0   \n",
       "208133     note 2024-10-31 2023-10-31    2030-10-31 5.9986                 0   \n",
       "208217     note 2024-10-31 2024-04-30    2031-04-30 6.4942                 0   \n",
       "208306     note 2024-10-31 2024-10-31    2031-10-31 6.9979                 0   \n",
       "\n",
       "           cpn rate      bid      ask    price  accrued int  dirty price  \\\n",
       "KYTREASNO                                                                  \n",
       "208042       3.8750  99.7125  99.7222  99.7174            0      99.7174   \n",
       "208129       5.0000 100.6414 100.6608 100.6511            0     100.6511   \n",
       "208213       4.8750 100.9297 100.9609 100.9453            0     100.9453   \n",
       "208302       4.1250  99.9336  99.9414  99.9375            0      99.9375   \n",
       "207875       2.7500  96.7500  96.7812  96.7656            0      96.7656   \n",
       "207960       4.1250  99.9922 100.0156 100.0039            0     100.0039   \n",
       "208044       3.5000  97.9023  97.9414  97.9219            0      97.9219   \n",
       "208132       4.8750 102.5859 102.6211 102.6035            0     102.6035   \n",
       "208216       4.6250 101.8945 101.9297 101.9121            0     101.9121   \n",
       "208305       4.1250  99.8906  99.8984  99.8945            0      99.8945   \n",
       "208046       3.5000  96.6641  96.6953  96.6797            0      96.6797   \n",
       "208133       4.8750 103.5234 103.5664 103.5449            0     103.5449   \n",
       "208217       4.6250 102.2656 102.3047 102.2852            0     102.2852   \n",
       "208306       4.1250  99.4375  99.4531  99.4453            0      99.4453   \n",
       "\n",
       "             ytm  \n",
       "KYTREASNO         \n",
       "208042    0.0449  \n",
       "208129    0.0433  \n",
       "208213    0.0423  \n",
       "208302    0.0416  \n",
       "207875    0.0413  \n",
       "207960    0.0413  \n",
       "208044    0.0415  \n",
       "208132    0.0416  \n",
       "208216    0.0416  \n",
       "208305    0.0415  \n",
       "208046    0.0419  \n",
       "208133    0.0420  \n",
       "208217    0.0422  \n",
       "208306    0.0422  "
      ]
     },
     "execution_count": 8,
     "metadata": {},
     "output_type": "execute_result"
    }
   ],
   "source": [
    "treasuries_df"
   ]
  },
  {
   "cell_type": "code",
   "execution_count": 9,
   "id": "130cd91e",
   "metadata": {},
   "outputs": [
    {
     "data": {
      "application/vnd.plotly.v1+json": {
       "config": {
        "plotlyServerURL": "https://plot.ly"
       },
       "data": [
        {
         "hovertemplate": "Time to Maturity=%{x}<br>Discount Factor=%{y}<extra></extra>",
         "legendgroup": "",
         "line": {
          "color": "#636efa",
          "dash": "solid"
         },
         "marker": {
          "symbol": "circle"
         },
         "mode": "lines",
         "name": "",
         "orientation": "v",
         "showlegend": false,
         "type": "scatter",
         "x": [
          0.5,
          1,
          1.5,
          2,
          2.5,
          3,
          3.5,
          4,
          4.5,
          5,
          5.5,
          6,
          6.5,
          7
         ],
         "xaxis": "x",
         "y": [
          0.9782204914776211,
          0.9581030377688385,
          0.9393583784987115,
          0.9210670522011078,
          0.9030342311228002,
          0.8848558816256705,
          0.8663268459241689,
          0.8481199382390863,
          0.8311103072060195,
          0.8144617431634336,
          0.7963295937331887,
          0.7790239396354698,
          0.7619560639572047,
          0.7463686909673853
         ],
         "yaxis": "y"
        }
       ],
       "layout": {
        "legend": {
         "tracegroupgap": 0
        },
        "showlegend": false,
        "template": {
         "data": {
          "bar": [
           {
            "error_x": {
             "color": "#2a3f5f"
            },
            "error_y": {
             "color": "#2a3f5f"
            },
            "marker": {
             "line": {
              "color": "#E5ECF6",
              "width": 0.5
             },
             "pattern": {
              "fillmode": "overlay",
              "size": 10,
              "solidity": 0.2
             }
            },
            "type": "bar"
           }
          ],
          "barpolar": [
           {
            "marker": {
             "line": {
              "color": "#E5ECF6",
              "width": 0.5
             },
             "pattern": {
              "fillmode": "overlay",
              "size": 10,
              "solidity": 0.2
             }
            },
            "type": "barpolar"
           }
          ],
          "carpet": [
           {
            "aaxis": {
             "endlinecolor": "#2a3f5f",
             "gridcolor": "white",
             "linecolor": "white",
             "minorgridcolor": "white",
             "startlinecolor": "#2a3f5f"
            },
            "baxis": {
             "endlinecolor": "#2a3f5f",
             "gridcolor": "white",
             "linecolor": "white",
             "minorgridcolor": "white",
             "startlinecolor": "#2a3f5f"
            },
            "type": "carpet"
           }
          ],
          "choropleth": [
           {
            "colorbar": {
             "outlinewidth": 0,
             "ticks": ""
            },
            "type": "choropleth"
           }
          ],
          "contour": [
           {
            "colorbar": {
             "outlinewidth": 0,
             "ticks": ""
            },
            "colorscale": [
             [
              0,
              "#0d0887"
             ],
             [
              0.1111111111111111,
              "#46039f"
             ],
             [
              0.2222222222222222,
              "#7201a8"
             ],
             [
              0.3333333333333333,
              "#9c179e"
             ],
             [
              0.4444444444444444,
              "#bd3786"
             ],
             [
              0.5555555555555556,
              "#d8576b"
             ],
             [
              0.6666666666666666,
              "#ed7953"
             ],
             [
              0.7777777777777778,
              "#fb9f3a"
             ],
             [
              0.8888888888888888,
              "#fdca26"
             ],
             [
              1,
              "#f0f921"
             ]
            ],
            "type": "contour"
           }
          ],
          "contourcarpet": [
           {
            "colorbar": {
             "outlinewidth": 0,
             "ticks": ""
            },
            "type": "contourcarpet"
           }
          ],
          "heatmap": [
           {
            "colorbar": {
             "outlinewidth": 0,
             "ticks": ""
            },
            "colorscale": [
             [
              0,
              "#0d0887"
             ],
             [
              0.1111111111111111,
              "#46039f"
             ],
             [
              0.2222222222222222,
              "#7201a8"
             ],
             [
              0.3333333333333333,
              "#9c179e"
             ],
             [
              0.4444444444444444,
              "#bd3786"
             ],
             [
              0.5555555555555556,
              "#d8576b"
             ],
             [
              0.6666666666666666,
              "#ed7953"
             ],
             [
              0.7777777777777778,
              "#fb9f3a"
             ],
             [
              0.8888888888888888,
              "#fdca26"
             ],
             [
              1,
              "#f0f921"
             ]
            ],
            "type": "heatmap"
           }
          ],
          "heatmapgl": [
           {
            "colorbar": {
             "outlinewidth": 0,
             "ticks": ""
            },
            "colorscale": [
             [
              0,
              "#0d0887"
             ],
             [
              0.1111111111111111,
              "#46039f"
             ],
             [
              0.2222222222222222,
              "#7201a8"
             ],
             [
              0.3333333333333333,
              "#9c179e"
             ],
             [
              0.4444444444444444,
              "#bd3786"
             ],
             [
              0.5555555555555556,
              "#d8576b"
             ],
             [
              0.6666666666666666,
              "#ed7953"
             ],
             [
              0.7777777777777778,
              "#fb9f3a"
             ],
             [
              0.8888888888888888,
              "#fdca26"
             ],
             [
              1,
              "#f0f921"
             ]
            ],
            "type": "heatmapgl"
           }
          ],
          "histogram": [
           {
            "marker": {
             "pattern": {
              "fillmode": "overlay",
              "size": 10,
              "solidity": 0.2
             }
            },
            "type": "histogram"
           }
          ],
          "histogram2d": [
           {
            "colorbar": {
             "outlinewidth": 0,
             "ticks": ""
            },
            "colorscale": [
             [
              0,
              "#0d0887"
             ],
             [
              0.1111111111111111,
              "#46039f"
             ],
             [
              0.2222222222222222,
              "#7201a8"
             ],
             [
              0.3333333333333333,
              "#9c179e"
             ],
             [
              0.4444444444444444,
              "#bd3786"
             ],
             [
              0.5555555555555556,
              "#d8576b"
             ],
             [
              0.6666666666666666,
              "#ed7953"
             ],
             [
              0.7777777777777778,
              "#fb9f3a"
             ],
             [
              0.8888888888888888,
              "#fdca26"
             ],
             [
              1,
              "#f0f921"
             ]
            ],
            "type": "histogram2d"
           }
          ],
          "histogram2dcontour": [
           {
            "colorbar": {
             "outlinewidth": 0,
             "ticks": ""
            },
            "colorscale": [
             [
              0,
              "#0d0887"
             ],
             [
              0.1111111111111111,
              "#46039f"
             ],
             [
              0.2222222222222222,
              "#7201a8"
             ],
             [
              0.3333333333333333,
              "#9c179e"
             ],
             [
              0.4444444444444444,
              "#bd3786"
             ],
             [
              0.5555555555555556,
              "#d8576b"
             ],
             [
              0.6666666666666666,
              "#ed7953"
             ],
             [
              0.7777777777777778,
              "#fb9f3a"
             ],
             [
              0.8888888888888888,
              "#fdca26"
             ],
             [
              1,
              "#f0f921"
             ]
            ],
            "type": "histogram2dcontour"
           }
          ],
          "mesh3d": [
           {
            "colorbar": {
             "outlinewidth": 0,
             "ticks": ""
            },
            "type": "mesh3d"
           }
          ],
          "parcoords": [
           {
            "line": {
             "colorbar": {
              "outlinewidth": 0,
              "ticks": ""
             }
            },
            "type": "parcoords"
           }
          ],
          "pie": [
           {
            "automargin": true,
            "type": "pie"
           }
          ],
          "scatter": [
           {
            "fillpattern": {
             "fillmode": "overlay",
             "size": 10,
             "solidity": 0.2
            },
            "type": "scatter"
           }
          ],
          "scatter3d": [
           {
            "line": {
             "colorbar": {
              "outlinewidth": 0,
              "ticks": ""
             }
            },
            "marker": {
             "colorbar": {
              "outlinewidth": 0,
              "ticks": ""
             }
            },
            "type": "scatter3d"
           }
          ],
          "scattercarpet": [
           {
            "marker": {
             "colorbar": {
              "outlinewidth": 0,
              "ticks": ""
             }
            },
            "type": "scattercarpet"
           }
          ],
          "scattergeo": [
           {
            "marker": {
             "colorbar": {
              "outlinewidth": 0,
              "ticks": ""
             }
            },
            "type": "scattergeo"
           }
          ],
          "scattergl": [
           {
            "marker": {
             "colorbar": {
              "outlinewidth": 0,
              "ticks": ""
             }
            },
            "type": "scattergl"
           }
          ],
          "scattermapbox": [
           {
            "marker": {
             "colorbar": {
              "outlinewidth": 0,
              "ticks": ""
             }
            },
            "type": "scattermapbox"
           }
          ],
          "scatterpolar": [
           {
            "marker": {
             "colorbar": {
              "outlinewidth": 0,
              "ticks": ""
             }
            },
            "type": "scatterpolar"
           }
          ],
          "scatterpolargl": [
           {
            "marker": {
             "colorbar": {
              "outlinewidth": 0,
              "ticks": ""
             }
            },
            "type": "scatterpolargl"
           }
          ],
          "scatterternary": [
           {
            "marker": {
             "colorbar": {
              "outlinewidth": 0,
              "ticks": ""
             }
            },
            "type": "scatterternary"
           }
          ],
          "surface": [
           {
            "colorbar": {
             "outlinewidth": 0,
             "ticks": ""
            },
            "colorscale": [
             [
              0,
              "#0d0887"
             ],
             [
              0.1111111111111111,
              "#46039f"
             ],
             [
              0.2222222222222222,
              "#7201a8"
             ],
             [
              0.3333333333333333,
              "#9c179e"
             ],
             [
              0.4444444444444444,
              "#bd3786"
             ],
             [
              0.5555555555555556,
              "#d8576b"
             ],
             [
              0.6666666666666666,
              "#ed7953"
             ],
             [
              0.7777777777777778,
              "#fb9f3a"
             ],
             [
              0.8888888888888888,
              "#fdca26"
             ],
             [
              1,
              "#f0f921"
             ]
            ],
            "type": "surface"
           }
          ],
          "table": [
           {
            "cells": {
             "fill": {
              "color": "#EBF0F8"
             },
             "line": {
              "color": "white"
             }
            },
            "header": {
             "fill": {
              "color": "#C8D4E3"
             },
             "line": {
              "color": "white"
             }
            },
            "type": "table"
           }
          ]
         },
         "layout": {
          "annotationdefaults": {
           "arrowcolor": "#2a3f5f",
           "arrowhead": 0,
           "arrowwidth": 1
          },
          "autotypenumbers": "strict",
          "coloraxis": {
           "colorbar": {
            "outlinewidth": 0,
            "ticks": ""
           }
          },
          "colorscale": {
           "diverging": [
            [
             0,
             "#8e0152"
            ],
            [
             0.1,
             "#c51b7d"
            ],
            [
             0.2,
             "#de77ae"
            ],
            [
             0.3,
             "#f1b6da"
            ],
            [
             0.4,
             "#fde0ef"
            ],
            [
             0.5,
             "#f7f7f7"
            ],
            [
             0.6,
             "#e6f5d0"
            ],
            [
             0.7,
             "#b8e186"
            ],
            [
             0.8,
             "#7fbc41"
            ],
            [
             0.9,
             "#4d9221"
            ],
            [
             1,
             "#276419"
            ]
           ],
           "sequential": [
            [
             0,
             "#0d0887"
            ],
            [
             0.1111111111111111,
             "#46039f"
            ],
            [
             0.2222222222222222,
             "#7201a8"
            ],
            [
             0.3333333333333333,
             "#9c179e"
            ],
            [
             0.4444444444444444,
             "#bd3786"
            ],
            [
             0.5555555555555556,
             "#d8576b"
            ],
            [
             0.6666666666666666,
             "#ed7953"
            ],
            [
             0.7777777777777778,
             "#fb9f3a"
            ],
            [
             0.8888888888888888,
             "#fdca26"
            ],
            [
             1,
             "#f0f921"
            ]
           ],
           "sequentialminus": [
            [
             0,
             "#0d0887"
            ],
            [
             0.1111111111111111,
             "#46039f"
            ],
            [
             0.2222222222222222,
             "#7201a8"
            ],
            [
             0.3333333333333333,
             "#9c179e"
            ],
            [
             0.4444444444444444,
             "#bd3786"
            ],
            [
             0.5555555555555556,
             "#d8576b"
            ],
            [
             0.6666666666666666,
             "#ed7953"
            ],
            [
             0.7777777777777778,
             "#fb9f3a"
            ],
            [
             0.8888888888888888,
             "#fdca26"
            ],
            [
             1,
             "#f0f921"
            ]
           ]
          },
          "colorway": [
           "#636efa",
           "#EF553B",
           "#00cc96",
           "#ab63fa",
           "#FFA15A",
           "#19d3f3",
           "#FF6692",
           "#B6E880",
           "#FF97FF",
           "#FECB52"
          ],
          "font": {
           "color": "#2a3f5f"
          },
          "geo": {
           "bgcolor": "white",
           "lakecolor": "white",
           "landcolor": "#E5ECF6",
           "showlakes": true,
           "showland": true,
           "subunitcolor": "white"
          },
          "hoverlabel": {
           "align": "left"
          },
          "hovermode": "closest",
          "mapbox": {
           "style": "light"
          },
          "paper_bgcolor": "white",
          "plot_bgcolor": "#E5ECF6",
          "polar": {
           "angularaxis": {
            "gridcolor": "white",
            "linecolor": "white",
            "ticks": ""
           },
           "bgcolor": "#E5ECF6",
           "radialaxis": {
            "gridcolor": "white",
            "linecolor": "white",
            "ticks": ""
           }
          },
          "scene": {
           "xaxis": {
            "backgroundcolor": "#E5ECF6",
            "gridcolor": "white",
            "gridwidth": 2,
            "linecolor": "white",
            "showbackground": true,
            "ticks": "",
            "zerolinecolor": "white"
           },
           "yaxis": {
            "backgroundcolor": "#E5ECF6",
            "gridcolor": "white",
            "gridwidth": 2,
            "linecolor": "white",
            "showbackground": true,
            "ticks": "",
            "zerolinecolor": "white"
           },
           "zaxis": {
            "backgroundcolor": "#E5ECF6",
            "gridcolor": "white",
            "gridwidth": 2,
            "linecolor": "white",
            "showbackground": true,
            "ticks": "",
            "zerolinecolor": "white"
           }
          },
          "shapedefaults": {
           "line": {
            "color": "#2a3f5f"
           }
          },
          "ternary": {
           "aaxis": {
            "gridcolor": "white",
            "linecolor": "white",
            "ticks": ""
           },
           "baxis": {
            "gridcolor": "white",
            "linecolor": "white",
            "ticks": ""
           },
           "bgcolor": "#E5ECF6",
           "caxis": {
            "gridcolor": "white",
            "linecolor": "white",
            "ticks": ""
           }
          },
          "title": {
           "x": 0.05
          },
          "xaxis": {
           "automargin": true,
           "gridcolor": "white",
           "linecolor": "white",
           "ticks": "",
           "title": {
            "standoff": 15
           },
           "zerolinecolor": "white",
           "zerolinewidth": 2
          },
          "yaxis": {
           "automargin": true,
           "gridcolor": "white",
           "linecolor": "white",
           "ticks": "",
           "title": {
            "standoff": 15
           },
           "zerolinecolor": "white",
           "zerolinewidth": 2
          }
         }
        },
        "title": {
         "text": "Discount Factors"
        },
        "xaxis": {
         "anchor": "y",
         "domain": [
          0,
          1
         ],
         "title": {
          "text": "Time to Maturity"
         }
        },
        "yaxis": {
         "anchor": "x",
         "domain": [
          0,
          1
         ],
         "gridcolor": "lightgrey",
         "showgrid": true,
         "tickformat": ".4f",
         "title": {
          "text": "Discount Factor"
         }
        }
       }
      }
     },
     "metadata": {},
     "output_type": "display_data"
    }
   ],
   "source": [
    "time_to_maturity = cf.columns - t_curr_date\n",
    "time_to_maturity = np.round(time_to_maturity.days / 365, 2)\n",
    "\n",
    "fig = px.line(\n",
    "    x=time_to_maturity, \n",
    "    y=z, \n",
    "    labels={\"x\": \"Time to Maturity\", \"y\": \"Discount Factor\"}, \n",
    "    title=\"Discount Factors\"\n",
    ")\n",
    "fig.update_layout(\n",
    "    showlegend=False,\n",
    "    yaxis=dict(\n",
    "        tickformat=\".4f\",\n",
    "        gridcolor='lightgrey',\n",
    "        showgrid=True  # Ensure grid is enabled on the y-axis\n",
    "    )\n",
    ")\n",
    "fig.show()"
   ]
  },
  {
   "cell_type": "code",
   "execution_count": 10,
   "id": "6272c7f5",
   "metadata": {},
   "outputs": [
    {
     "data": {
      "application/vnd.plotly.v1+json": {
       "config": {
        "plotlyServerURL": "https://plot.ly"
       },
       "data": [
        {
         "hovertemplate": "variable=interest rate<br>maturity=%{x}<br>value=%{y}<extra></extra>",
         "legendgroup": "interest rate",
         "line": {
          "color": "#636efa",
          "dash": "solid"
         },
         "marker": {
          "symbol": "circle"
         },
         "mode": "lines",
         "name": "interest rate",
         "orientation": "v",
         "showlegend": true,
         "type": "scatter",
         "x": [
          0.5,
          1,
          1.5,
          2,
          2.5,
          3,
          3.5,
          4,
          4.5,
          5,
          5.5,
          6,
          6.5,
          7
         ],
         "xaxis": "x",
         "y": [
          0.04452883314574718,
          0.04326119500181269,
          0.04214335023011406,
          0.04153666404309897,
          0.041216888887155356,
          0.04119535796583529,
          0.041421101301991836,
          0.04161024572427241,
          0.04153490805616977,
          0.04146964507790374,
          0.041839279642293725,
          0.04205497004472569,
          0.04226600737030051,
          0.04223047144700098
         ],
         "yaxis": "y"
        }
       ],
       "layout": {
        "legend": {
         "title": {
          "text": "variable"
         },
         "tracegroupgap": 0
        },
        "showlegend": false,
        "template": {
         "data": {
          "bar": [
           {
            "error_x": {
             "color": "#2a3f5f"
            },
            "error_y": {
             "color": "#2a3f5f"
            },
            "marker": {
             "line": {
              "color": "#E5ECF6",
              "width": 0.5
             },
             "pattern": {
              "fillmode": "overlay",
              "size": 10,
              "solidity": 0.2
             }
            },
            "type": "bar"
           }
          ],
          "barpolar": [
           {
            "marker": {
             "line": {
              "color": "#E5ECF6",
              "width": 0.5
             },
             "pattern": {
              "fillmode": "overlay",
              "size": 10,
              "solidity": 0.2
             }
            },
            "type": "barpolar"
           }
          ],
          "carpet": [
           {
            "aaxis": {
             "endlinecolor": "#2a3f5f",
             "gridcolor": "white",
             "linecolor": "white",
             "minorgridcolor": "white",
             "startlinecolor": "#2a3f5f"
            },
            "baxis": {
             "endlinecolor": "#2a3f5f",
             "gridcolor": "white",
             "linecolor": "white",
             "minorgridcolor": "white",
             "startlinecolor": "#2a3f5f"
            },
            "type": "carpet"
           }
          ],
          "choropleth": [
           {
            "colorbar": {
             "outlinewidth": 0,
             "ticks": ""
            },
            "type": "choropleth"
           }
          ],
          "contour": [
           {
            "colorbar": {
             "outlinewidth": 0,
             "ticks": ""
            },
            "colorscale": [
             [
              0,
              "#0d0887"
             ],
             [
              0.1111111111111111,
              "#46039f"
             ],
             [
              0.2222222222222222,
              "#7201a8"
             ],
             [
              0.3333333333333333,
              "#9c179e"
             ],
             [
              0.4444444444444444,
              "#bd3786"
             ],
             [
              0.5555555555555556,
              "#d8576b"
             ],
             [
              0.6666666666666666,
              "#ed7953"
             ],
             [
              0.7777777777777778,
              "#fb9f3a"
             ],
             [
              0.8888888888888888,
              "#fdca26"
             ],
             [
              1,
              "#f0f921"
             ]
            ],
            "type": "contour"
           }
          ],
          "contourcarpet": [
           {
            "colorbar": {
             "outlinewidth": 0,
             "ticks": ""
            },
            "type": "contourcarpet"
           }
          ],
          "heatmap": [
           {
            "colorbar": {
             "outlinewidth": 0,
             "ticks": ""
            },
            "colorscale": [
             [
              0,
              "#0d0887"
             ],
             [
              0.1111111111111111,
              "#46039f"
             ],
             [
              0.2222222222222222,
              "#7201a8"
             ],
             [
              0.3333333333333333,
              "#9c179e"
             ],
             [
              0.4444444444444444,
              "#bd3786"
             ],
             [
              0.5555555555555556,
              "#d8576b"
             ],
             [
              0.6666666666666666,
              "#ed7953"
             ],
             [
              0.7777777777777778,
              "#fb9f3a"
             ],
             [
              0.8888888888888888,
              "#fdca26"
             ],
             [
              1,
              "#f0f921"
             ]
            ],
            "type": "heatmap"
           }
          ],
          "heatmapgl": [
           {
            "colorbar": {
             "outlinewidth": 0,
             "ticks": ""
            },
            "colorscale": [
             [
              0,
              "#0d0887"
             ],
             [
              0.1111111111111111,
              "#46039f"
             ],
             [
              0.2222222222222222,
              "#7201a8"
             ],
             [
              0.3333333333333333,
              "#9c179e"
             ],
             [
              0.4444444444444444,
              "#bd3786"
             ],
             [
              0.5555555555555556,
              "#d8576b"
             ],
             [
              0.6666666666666666,
              "#ed7953"
             ],
             [
              0.7777777777777778,
              "#fb9f3a"
             ],
             [
              0.8888888888888888,
              "#fdca26"
             ],
             [
              1,
              "#f0f921"
             ]
            ],
            "type": "heatmapgl"
           }
          ],
          "histogram": [
           {
            "marker": {
             "pattern": {
              "fillmode": "overlay",
              "size": 10,
              "solidity": 0.2
             }
            },
            "type": "histogram"
           }
          ],
          "histogram2d": [
           {
            "colorbar": {
             "outlinewidth": 0,
             "ticks": ""
            },
            "colorscale": [
             [
              0,
              "#0d0887"
             ],
             [
              0.1111111111111111,
              "#46039f"
             ],
             [
              0.2222222222222222,
              "#7201a8"
             ],
             [
              0.3333333333333333,
              "#9c179e"
             ],
             [
              0.4444444444444444,
              "#bd3786"
             ],
             [
              0.5555555555555556,
              "#d8576b"
             ],
             [
              0.6666666666666666,
              "#ed7953"
             ],
             [
              0.7777777777777778,
              "#fb9f3a"
             ],
             [
              0.8888888888888888,
              "#fdca26"
             ],
             [
              1,
              "#f0f921"
             ]
            ],
            "type": "histogram2d"
           }
          ],
          "histogram2dcontour": [
           {
            "colorbar": {
             "outlinewidth": 0,
             "ticks": ""
            },
            "colorscale": [
             [
              0,
              "#0d0887"
             ],
             [
              0.1111111111111111,
              "#46039f"
             ],
             [
              0.2222222222222222,
              "#7201a8"
             ],
             [
              0.3333333333333333,
              "#9c179e"
             ],
             [
              0.4444444444444444,
              "#bd3786"
             ],
             [
              0.5555555555555556,
              "#d8576b"
             ],
             [
              0.6666666666666666,
              "#ed7953"
             ],
             [
              0.7777777777777778,
              "#fb9f3a"
             ],
             [
              0.8888888888888888,
              "#fdca26"
             ],
             [
              1,
              "#f0f921"
             ]
            ],
            "type": "histogram2dcontour"
           }
          ],
          "mesh3d": [
           {
            "colorbar": {
             "outlinewidth": 0,
             "ticks": ""
            },
            "type": "mesh3d"
           }
          ],
          "parcoords": [
           {
            "line": {
             "colorbar": {
              "outlinewidth": 0,
              "ticks": ""
             }
            },
            "type": "parcoords"
           }
          ],
          "pie": [
           {
            "automargin": true,
            "type": "pie"
           }
          ],
          "scatter": [
           {
            "fillpattern": {
             "fillmode": "overlay",
             "size": 10,
             "solidity": 0.2
            },
            "type": "scatter"
           }
          ],
          "scatter3d": [
           {
            "line": {
             "colorbar": {
              "outlinewidth": 0,
              "ticks": ""
             }
            },
            "marker": {
             "colorbar": {
              "outlinewidth": 0,
              "ticks": ""
             }
            },
            "type": "scatter3d"
           }
          ],
          "scattercarpet": [
           {
            "marker": {
             "colorbar": {
              "outlinewidth": 0,
              "ticks": ""
             }
            },
            "type": "scattercarpet"
           }
          ],
          "scattergeo": [
           {
            "marker": {
             "colorbar": {
              "outlinewidth": 0,
              "ticks": ""
             }
            },
            "type": "scattergeo"
           }
          ],
          "scattergl": [
           {
            "marker": {
             "colorbar": {
              "outlinewidth": 0,
              "ticks": ""
             }
            },
            "type": "scattergl"
           }
          ],
          "scattermapbox": [
           {
            "marker": {
             "colorbar": {
              "outlinewidth": 0,
              "ticks": ""
             }
            },
            "type": "scattermapbox"
           }
          ],
          "scatterpolar": [
           {
            "marker": {
             "colorbar": {
              "outlinewidth": 0,
              "ticks": ""
             }
            },
            "type": "scatterpolar"
           }
          ],
          "scatterpolargl": [
           {
            "marker": {
             "colorbar": {
              "outlinewidth": 0,
              "ticks": ""
             }
            },
            "type": "scatterpolargl"
           }
          ],
          "scatterternary": [
           {
            "marker": {
             "colorbar": {
              "outlinewidth": 0,
              "ticks": ""
             }
            },
            "type": "scatterternary"
           }
          ],
          "surface": [
           {
            "colorbar": {
             "outlinewidth": 0,
             "ticks": ""
            },
            "colorscale": [
             [
              0,
              "#0d0887"
             ],
             [
              0.1111111111111111,
              "#46039f"
             ],
             [
              0.2222222222222222,
              "#7201a8"
             ],
             [
              0.3333333333333333,
              "#9c179e"
             ],
             [
              0.4444444444444444,
              "#bd3786"
             ],
             [
              0.5555555555555556,
              "#d8576b"
             ],
             [
              0.6666666666666666,
              "#ed7953"
             ],
             [
              0.7777777777777778,
              "#fb9f3a"
             ],
             [
              0.8888888888888888,
              "#fdca26"
             ],
             [
              1,
              "#f0f921"
             ]
            ],
            "type": "surface"
           }
          ],
          "table": [
           {
            "cells": {
             "fill": {
              "color": "#EBF0F8"
             },
             "line": {
              "color": "white"
             }
            },
            "header": {
             "fill": {
              "color": "#C8D4E3"
             },
             "line": {
              "color": "white"
             }
            },
            "type": "table"
           }
          ]
         },
         "layout": {
          "annotationdefaults": {
           "arrowcolor": "#2a3f5f",
           "arrowhead": 0,
           "arrowwidth": 1
          },
          "autotypenumbers": "strict",
          "coloraxis": {
           "colorbar": {
            "outlinewidth": 0,
            "ticks": ""
           }
          },
          "colorscale": {
           "diverging": [
            [
             0,
             "#8e0152"
            ],
            [
             0.1,
             "#c51b7d"
            ],
            [
             0.2,
             "#de77ae"
            ],
            [
             0.3,
             "#f1b6da"
            ],
            [
             0.4,
             "#fde0ef"
            ],
            [
             0.5,
             "#f7f7f7"
            ],
            [
             0.6,
             "#e6f5d0"
            ],
            [
             0.7,
             "#b8e186"
            ],
            [
             0.8,
             "#7fbc41"
            ],
            [
             0.9,
             "#4d9221"
            ],
            [
             1,
             "#276419"
            ]
           ],
           "sequential": [
            [
             0,
             "#0d0887"
            ],
            [
             0.1111111111111111,
             "#46039f"
            ],
            [
             0.2222222222222222,
             "#7201a8"
            ],
            [
             0.3333333333333333,
             "#9c179e"
            ],
            [
             0.4444444444444444,
             "#bd3786"
            ],
            [
             0.5555555555555556,
             "#d8576b"
            ],
            [
             0.6666666666666666,
             "#ed7953"
            ],
            [
             0.7777777777777778,
             "#fb9f3a"
            ],
            [
             0.8888888888888888,
             "#fdca26"
            ],
            [
             1,
             "#f0f921"
            ]
           ],
           "sequentialminus": [
            [
             0,
             "#0d0887"
            ],
            [
             0.1111111111111111,
             "#46039f"
            ],
            [
             0.2222222222222222,
             "#7201a8"
            ],
            [
             0.3333333333333333,
             "#9c179e"
            ],
            [
             0.4444444444444444,
             "#bd3786"
            ],
            [
             0.5555555555555556,
             "#d8576b"
            ],
            [
             0.6666666666666666,
             "#ed7953"
            ],
            [
             0.7777777777777778,
             "#fb9f3a"
            ],
            [
             0.8888888888888888,
             "#fdca26"
            ],
            [
             1,
             "#f0f921"
            ]
           ]
          },
          "colorway": [
           "#636efa",
           "#EF553B",
           "#00cc96",
           "#ab63fa",
           "#FFA15A",
           "#19d3f3",
           "#FF6692",
           "#B6E880",
           "#FF97FF",
           "#FECB52"
          ],
          "font": {
           "color": "#2a3f5f"
          },
          "geo": {
           "bgcolor": "white",
           "lakecolor": "white",
           "landcolor": "#E5ECF6",
           "showlakes": true,
           "showland": true,
           "subunitcolor": "white"
          },
          "hoverlabel": {
           "align": "left"
          },
          "hovermode": "closest",
          "mapbox": {
           "style": "light"
          },
          "paper_bgcolor": "white",
          "plot_bgcolor": "#E5ECF6",
          "polar": {
           "angularaxis": {
            "gridcolor": "white",
            "linecolor": "white",
            "ticks": ""
           },
           "bgcolor": "#E5ECF6",
           "radialaxis": {
            "gridcolor": "white",
            "linecolor": "white",
            "ticks": ""
           }
          },
          "scene": {
           "xaxis": {
            "backgroundcolor": "#E5ECF6",
            "gridcolor": "white",
            "gridwidth": 2,
            "linecolor": "white",
            "showbackground": true,
            "ticks": "",
            "zerolinecolor": "white"
           },
           "yaxis": {
            "backgroundcolor": "#E5ECF6",
            "gridcolor": "white",
            "gridwidth": 2,
            "linecolor": "white",
            "showbackground": true,
            "ticks": "",
            "zerolinecolor": "white"
           },
           "zaxis": {
            "backgroundcolor": "#E5ECF6",
            "gridcolor": "white",
            "gridwidth": 2,
            "linecolor": "white",
            "showbackground": true,
            "ticks": "",
            "zerolinecolor": "white"
           }
          },
          "shapedefaults": {
           "line": {
            "color": "#2a3f5f"
           }
          },
          "ternary": {
           "aaxis": {
            "gridcolor": "white",
            "linecolor": "white",
            "ticks": ""
           },
           "baxis": {
            "gridcolor": "white",
            "linecolor": "white",
            "ticks": ""
           },
           "bgcolor": "#E5ECF6",
           "caxis": {
            "gridcolor": "white",
            "linecolor": "white",
            "ticks": ""
           }
          },
          "title": {
           "x": 0.05
          },
          "xaxis": {
           "automargin": true,
           "gridcolor": "white",
           "linecolor": "white",
           "ticks": "",
           "title": {
            "standoff": 15
           },
           "zerolinecolor": "white",
           "zerolinewidth": 2
          },
          "yaxis": {
           "automargin": true,
           "gridcolor": "white",
           "linecolor": "white",
           "ticks": "",
           "title": {
            "standoff": 15
           },
           "zerolinecolor": "white",
           "zerolinewidth": 2
          }
         }
        },
        "title": {
         "text": "Interest Rates"
        },
        "xaxis": {
         "anchor": "y",
         "domain": [
          0,
          1
         ],
         "title": {
          "text": "maturity"
         }
        },
        "yaxis": {
         "anchor": "x",
         "domain": [
          0,
          1
         ],
         "gridcolor": "lightgrey",
         "showgrid": true,
         "tickformat": ".4f",
         "title": {
          "text": "value"
         }
        }
       }
      }
     },
     "metadata": {},
     "output_type": "display_data"
    }
   ],
   "source": [
    "int_rates = discount_to_int_rate(discount=z, time_to_maturity=time_to_maturity, n_compound=COMPOUNDING_FREQ)\n",
    "\n",
    "fig = px.line(\n",
    "    int_rates, \n",
    "    labels={\"x\": \"Time to Maturity\", \"y\": \"Interest Rates\"}, \n",
    "    title=\"Interest Rates\"\n",
    ")\n",
    "fig.update_layout(\n",
    "    showlegend=False,\n",
    "    yaxis=dict(\n",
    "        tickformat=\".4f\",\n",
    "        gridcolor='lightgrey',\n",
    "        showgrid=True  # Ensure grid is enabled on the y-axis\n",
    "    )\n",
    ")\n",
    "fig.show()"
   ]
  },
  {
   "cell_type": "markdown",
   "id": "5bc6a2cd",
   "metadata": {},
   "source": [
    "### 1.4.\n",
    "\n",
    "Suppose that all discount rates and all coupon rates go up by 0.5\\%. \n",
    "\n",
    "Calculate the new price of each of the treasury securities, using present value pricing."
   ]
  },
  {
   "cell_type": "code",
   "execution_count": 11,
   "id": "246c51e9",
   "metadata": {},
   "outputs": [
    {
     "data": {
      "text/html": [
       "<div>\n",
       "<style scoped>\n",
       "    .dataframe tbody tr th:only-of-type {\n",
       "        vertical-align: middle;\n",
       "    }\n",
       "\n",
       "    .dataframe tbody tr th {\n",
       "        vertical-align: top;\n",
       "    }\n",
       "\n",
       "    .dataframe thead th {\n",
       "        text-align: right;\n",
       "    }\n",
       "</style>\n",
       "<table border=\"1\" class=\"dataframe\">\n",
       "  <thead>\n",
       "    <tr style=\"text-align: right;\">\n",
       "      <th></th>\n",
       "      <th>time_to_maturity</th>\n",
       "      <th>cpn rate</th>\n",
       "      <th>price</th>\n",
       "      <th>new_price</th>\n",
       "      <th>price_diff</th>\n",
       "    </tr>\n",
       "    <tr>\n",
       "      <th>KYTREASNO</th>\n",
       "      <th></th>\n",
       "      <th></th>\n",
       "      <th></th>\n",
       "      <th></th>\n",
       "      <th></th>\n",
       "    </tr>\n",
       "  </thead>\n",
       "  <tbody>\n",
       "    <tr>\n",
       "      <th>208042</th>\n",
       "      <td>0.5000</td>\n",
       "      <td>3.8750</td>\n",
       "      <td>99.7174</td>\n",
       "      <td>99.7180</td>\n",
       "      <td>0.0000</td>\n",
       "    </tr>\n",
       "    <tr>\n",
       "      <th>208129</th>\n",
       "      <td>1.0000</td>\n",
       "      <td>5.0000</td>\n",
       "      <td>100.6511</td>\n",
       "      <td>100.6486</td>\n",
       "      <td>-0.0000</td>\n",
       "    </tr>\n",
       "    <tr>\n",
       "      <th>208213</th>\n",
       "      <td>1.5000</td>\n",
       "      <td>4.8750</td>\n",
       "      <td>100.9453</td>\n",
       "      <td>100.9402</td>\n",
       "      <td>-0.0001</td>\n",
       "    </tr>\n",
       "    <tr>\n",
       "      <th>208302</th>\n",
       "      <td>2.0000</td>\n",
       "      <td>4.1250</td>\n",
       "      <td>99.9375</td>\n",
       "      <td>99.9369</td>\n",
       "      <td>-0.0000</td>\n",
       "    </tr>\n",
       "    <tr>\n",
       "      <th>207875</th>\n",
       "      <td>2.5000</td>\n",
       "      <td>2.7500</td>\n",
       "      <td>96.7656</td>\n",
       "      <td>96.7876</td>\n",
       "      <td>0.0002</td>\n",
       "    </tr>\n",
       "    <tr>\n",
       "      <th>207960</th>\n",
       "      <td>3.0000</td>\n",
       "      <td>4.1250</td>\n",
       "      <td>100.0039</td>\n",
       "      <td>100.0025</td>\n",
       "      <td>-0.0000</td>\n",
       "    </tr>\n",
       "    <tr>\n",
       "      <th>208044</th>\n",
       "      <td>3.5000</td>\n",
       "      <td>3.5000</td>\n",
       "      <td>97.9219</td>\n",
       "      <td>97.9408</td>\n",
       "      <td>0.0002</td>\n",
       "    </tr>\n",
       "    <tr>\n",
       "      <th>208132</th>\n",
       "      <td>4.0000</td>\n",
       "      <td>4.8750</td>\n",
       "      <td>102.6035</td>\n",
       "      <td>102.5754</td>\n",
       "      <td>-0.0003</td>\n",
       "    </tr>\n",
       "    <tr>\n",
       "      <th>208216</th>\n",
       "      <td>4.5000</td>\n",
       "      <td>4.6250</td>\n",
       "      <td>101.9121</td>\n",
       "      <td>101.8889</td>\n",
       "      <td>-0.0002</td>\n",
       "    </tr>\n",
       "    <tr>\n",
       "      <th>208305</th>\n",
       "      <td>5.0000</td>\n",
       "      <td>4.1250</td>\n",
       "      <td>99.8945</td>\n",
       "      <td>99.8950</td>\n",
       "      <td>0.0000</td>\n",
       "    </tr>\n",
       "    <tr>\n",
       "      <th>208046</th>\n",
       "      <td>5.5000</td>\n",
       "      <td>3.5000</td>\n",
       "      <td>96.6797</td>\n",
       "      <td>96.7274</td>\n",
       "      <td>0.0005</td>\n",
       "    </tr>\n",
       "    <tr>\n",
       "      <th>208133</th>\n",
       "      <td>6.0000</td>\n",
       "      <td>4.8750</td>\n",
       "      <td>103.5449</td>\n",
       "      <td>103.4937</td>\n",
       "      <td>-0.0005</td>\n",
       "    </tr>\n",
       "    <tr>\n",
       "      <th>208217</th>\n",
       "      <td>6.5000</td>\n",
       "      <td>4.6250</td>\n",
       "      <td>102.2852</td>\n",
       "      <td>102.2522</td>\n",
       "      <td>-0.0003</td>\n",
       "    </tr>\n",
       "    <tr>\n",
       "      <th>208306</th>\n",
       "      <td>7.0000</td>\n",
       "      <td>4.1250</td>\n",
       "      <td>99.4453</td>\n",
       "      <td>99.4588</td>\n",
       "      <td>0.0001</td>\n",
       "    </tr>\n",
       "  </tbody>\n",
       "</table>\n",
       "</div>"
      ],
      "text/plain": [
       "           time_to_maturity  cpn rate    price  new_price  price_diff\n",
       "KYTREASNO                                                            \n",
       "208042               0.5000    3.8750  99.7174    99.7180      0.0000\n",
       "208129               1.0000    5.0000 100.6511   100.6486     -0.0000\n",
       "208213               1.5000    4.8750 100.9453   100.9402     -0.0001\n",
       "208302               2.0000    4.1250  99.9375    99.9369     -0.0000\n",
       "207875               2.5000    2.7500  96.7656    96.7876      0.0002\n",
       "207960               3.0000    4.1250 100.0039   100.0025     -0.0000\n",
       "208044               3.5000    3.5000  97.9219    97.9408      0.0002\n",
       "208132               4.0000    4.8750 102.6035   102.5754     -0.0003\n",
       "208216               4.5000    4.6250 101.9121   101.8889     -0.0002\n",
       "208305               5.0000    4.1250  99.8945    99.8950      0.0000\n",
       "208046               5.5000    3.5000  96.6797    96.7274      0.0005\n",
       "208133               6.0000    4.8750 103.5449   103.4937     -0.0005\n",
       "208217               6.5000    4.6250 102.2852   102.2522     -0.0003\n",
       "208306               7.0000    4.1250  99.4453    99.4588      0.0001"
      ]
     },
     "metadata": {},
     "output_type": "display_data"
    }
   ],
   "source": [
    "rADJ = .005\n",
    "\n",
    "int_rates_up = (int_rates + rADJ).to_numpy().flatten()\n",
    "z_up = (int_rate_to_discount(interest_rate=int_rates_up, time_to_maturity=time_to_maturity, n_compound=COMPOUNDING_FREQ)).to_numpy()\n",
    "cf_up = (cf.where(cf == 0, cf + rADJ/2*100)).to_numpy()\n",
    "\n",
    "treasuries_df['new_price'] = np.dot(cf_up, z_up).flatten()\n",
    "treasuries_df['price_diff'] = (treasuries_df['new_price'] - treasuries_df['price']) / treasuries_df['price']\n",
    "treasuries_df['time_to_maturity'] = time_to_maturity\n",
    "display(treasuries_df[['time_to_maturity', 'cpn rate', 'price', 'new_price', 'price_diff']])"
   ]
  },
  {
   "cell_type": "markdown",
   "id": "0a996ff8",
   "metadata": {},
   "source": [
    "This is the essence of floating rate notes (FRN) pricing."
   ]
  },
  {
   "cell_type": "markdown",
   "id": "fd2fdc93",
   "metadata": {},
   "source": [
    "***"
   ]
  },
  {
   "cell_type": "markdown",
   "id": "b68bef36",
   "metadata": {},
   "source": [
    "# 2. Estimating the Discount Curve with Real Data\n",
    "\n",
    "Use the data in the `quotes` tab."
   ]
  },
  {
   "cell_type": "markdown",
   "id": "cccda275",
   "metadata": {},
   "source": [
    "### 2.1. Map Cashflows\n",
    "\n",
    "Construct the cashflow matrix.\n",
    "\n",
    "Given the unfiltered data set, you will need to make a few modeling choices to do this...\n",
    "* eliminate any treasury that does not report YTM or that reports a negative YTM.\n",
    "* assume notes and bonds pay coupons every six months, going backward from the date of maturity.\n",
    "\n",
    "Make other reasonable modeling assumptions as needed.\n",
    "\n",
    "Report:\n",
    "* head and tail rows of the dataframe, $\\textbf{C}$, for instance, using `display()`.\n",
    "\n",
    "* which date has the most cashflow across all issues?\n",
    "\n",
    "* which date has the most issues paying a cashflow?"
   ]
  },
  {
   "cell_type": "code",
   "execution_count": 12,
   "id": "65e14362",
   "metadata": {},
   "outputs": [
    {
     "data": {
      "text/html": [
       "<div>\n",
       "<style scoped>\n",
       "    .dataframe tbody tr th:only-of-type {\n",
       "        vertical-align: middle;\n",
       "    }\n",
       "\n",
       "    .dataframe tbody tr th {\n",
       "        vertical-align: top;\n",
       "    }\n",
       "\n",
       "    .dataframe thead th {\n",
       "        text-align: right;\n",
       "    }\n",
       "</style>\n",
       "<table border=\"1\" class=\"dataframe\">\n",
       "  <thead>\n",
       "    <tr style=\"text-align: right;\">\n",
       "      <th></th>\n",
       "      <th>type</th>\n",
       "      <th>quote date</th>\n",
       "      <th>issue date</th>\n",
       "      <th>maturity date</th>\n",
       "      <th>ttm</th>\n",
       "      <th>accrual fraction</th>\n",
       "      <th>cpn rate</th>\n",
       "      <th>bid</th>\n",
       "      <th>ask</th>\n",
       "      <th>price</th>\n",
       "      <th>accrued int</th>\n",
       "      <th>dirty price</th>\n",
       "      <th>ytm</th>\n",
       "    </tr>\n",
       "    <tr>\n",
       "      <th>KYTREASNO</th>\n",
       "      <th></th>\n",
       "      <th></th>\n",
       "      <th></th>\n",
       "      <th></th>\n",
       "      <th></th>\n",
       "      <th></th>\n",
       "      <th></th>\n",
       "      <th></th>\n",
       "      <th></th>\n",
       "      <th></th>\n",
       "      <th></th>\n",
       "      <th></th>\n",
       "      <th></th>\n",
       "    </tr>\n",
       "  </thead>\n",
       "  <tbody>\n",
       "    <tr>\n",
       "      <th>208246</th>\n",
       "      <td>bill</td>\n",
       "      <td>2024-10-31</td>\n",
       "      <td>2024-07-09</td>\n",
       "      <td>2024-11-05</td>\n",
       "      <td>0.0137</td>\n",
       "      <td>0.9726</td>\n",
       "      <td>0.0000</td>\n",
       "      <td>99.9478</td>\n",
       "      <td>99.9479</td>\n",
       "      <td>99.9479</td>\n",
       "      <td>0.0000</td>\n",
       "      <td>99.9479</td>\n",
       "      <td>0.0385</td>\n",
       "    </tr>\n",
       "    <tr>\n",
       "      <th>208222</th>\n",
       "      <td>bill</td>\n",
       "      <td>2024-10-31</td>\n",
       "      <td>2024-05-09</td>\n",
       "      <td>2024-11-07</td>\n",
       "      <td>0.0192</td>\n",
       "      <td>0.9617</td>\n",
       "      <td>0.0000</td>\n",
       "      <td>99.9224</td>\n",
       "      <td>99.9225</td>\n",
       "      <td>99.9224</td>\n",
       "      <td>0.0000</td>\n",
       "      <td>99.9224</td>\n",
       "      <td>0.0409</td>\n",
       "    </tr>\n",
       "    <tr>\n",
       "      <th>208247</th>\n",
       "      <td>bill</td>\n",
       "      <td>2024-10-31</td>\n",
       "      <td>2024-07-16</td>\n",
       "      <td>2024-11-12</td>\n",
       "      <td>0.0329</td>\n",
       "      <td>0.9343</td>\n",
       "      <td>0.0000</td>\n",
       "      <td>99.8575</td>\n",
       "      <td>99.8578</td>\n",
       "      <td>99.8576</td>\n",
       "      <td>0.0000</td>\n",
       "      <td>99.8576</td>\n",
       "      <td>0.0438</td>\n",
       "    </tr>\n",
       "    <tr>\n",
       "      <th>208223</th>\n",
       "      <td>bill</td>\n",
       "      <td>2024-10-31</td>\n",
       "      <td>2024-05-16</td>\n",
       "      <td>2024-11-14</td>\n",
       "      <td>0.0383</td>\n",
       "      <td>0.9233</td>\n",
       "      <td>0.0000</td>\n",
       "      <td>99.8326</td>\n",
       "      <td>99.8329</td>\n",
       "      <td>99.8328</td>\n",
       "      <td>0.0000</td>\n",
       "      <td>99.8328</td>\n",
       "      <td>0.0442</td>\n",
       "    </tr>\n",
       "    <tr>\n",
       "      <th>204083</th>\n",
       "      <td>bond</td>\n",
       "      <td>2024-10-31</td>\n",
       "      <td>1994-05-15</td>\n",
       "      <td>2024-11-15</td>\n",
       "      <td>0.0411</td>\n",
       "      <td>0.9185</td>\n",
       "      <td>7.5000</td>\n",
       "      <td>100.1140</td>\n",
       "      <td>100.1144</td>\n",
       "      <td>100.1142</td>\n",
       "      <td>3.4443</td>\n",
       "      <td>103.5585</td>\n",
       "      <td>0.0455</td>\n",
       "    </tr>\n",
       "    <tr>\n",
       "      <th>...</th>\n",
       "      <td>...</td>\n",
       "      <td>...</td>\n",
       "      <td>...</td>\n",
       "      <td>...</td>\n",
       "      <td>...</td>\n",
       "      <td>...</td>\n",
       "      <td>...</td>\n",
       "      <td>...</td>\n",
       "      <td>...</td>\n",
       "      <td>...</td>\n",
       "      <td>...</td>\n",
       "      <td>...</td>\n",
       "      <td>...</td>\n",
       "    </tr>\n",
       "    <tr>\n",
       "      <th>208149</th>\n",
       "      <td>bond</td>\n",
       "      <td>2024-10-31</td>\n",
       "      <td>2023-11-15</td>\n",
       "      <td>2053-11-15</td>\n",
       "      <td>29.0404</td>\n",
       "      <td>0.9185</td>\n",
       "      <td>4.7500</td>\n",
       "      <td>104.2812</td>\n",
       "      <td>104.3359</td>\n",
       "      <td>104.3086</td>\n",
       "      <td>2.1814</td>\n",
       "      <td>106.4900</td>\n",
       "      <td>0.0448</td>\n",
       "    </tr>\n",
       "    <tr>\n",
       "      <th>208191</th>\n",
       "      <td>TIPS note</td>\n",
       "      <td>2024-10-31</td>\n",
       "      <td>2024-02-15</td>\n",
       "      <td>2054-02-15</td>\n",
       "      <td>29.2923</td>\n",
       "      <td>0.0000</td>\n",
       "      <td>2.1250</td>\n",
       "      <td>98.9651</td>\n",
       "      <td>99.1370</td>\n",
       "      <td>99.0511</td>\n",
       "      <td>0.0000</td>\n",
       "      <td>99.0511</td>\n",
       "      <td>NaN</td>\n",
       "    </tr>\n",
       "    <tr>\n",
       "      <th>208178</th>\n",
       "      <td>bond</td>\n",
       "      <td>2024-10-31</td>\n",
       "      <td>2024-02-15</td>\n",
       "      <td>2054-02-15</td>\n",
       "      <td>29.2923</td>\n",
       "      <td>0.4185</td>\n",
       "      <td>4.2500</td>\n",
       "      <td>96.1250</td>\n",
       "      <td>96.1719</td>\n",
       "      <td>96.1484</td>\n",
       "      <td>0.8893</td>\n",
       "      <td>97.0377</td>\n",
       "      <td>0.0449</td>\n",
       "    </tr>\n",
       "    <tr>\n",
       "      <th>208233</th>\n",
       "      <td>bond</td>\n",
       "      <td>2024-10-31</td>\n",
       "      <td>2024-05-15</td>\n",
       "      <td>2054-05-15</td>\n",
       "      <td>29.5359</td>\n",
       "      <td>0.9185</td>\n",
       "      <td>4.6250</td>\n",
       "      <td>102.3281</td>\n",
       "      <td>102.3906</td>\n",
       "      <td>102.3594</td>\n",
       "      <td>2.1240</td>\n",
       "      <td>104.4834</td>\n",
       "      <td>0.0448</td>\n",
       "    </tr>\n",
       "    <tr>\n",
       "      <th>208279</th>\n",
       "      <td>bond</td>\n",
       "      <td>2024-10-31</td>\n",
       "      <td>2024-08-15</td>\n",
       "      <td>2054-08-15</td>\n",
       "      <td>29.7878</td>\n",
       "      <td>0.4185</td>\n",
       "      <td>4.2500</td>\n",
       "      <td>96.2188</td>\n",
       "      <td>96.2500</td>\n",
       "      <td>96.2344</td>\n",
       "      <td>0.8893</td>\n",
       "      <td>97.1236</td>\n",
       "      <td>0.0448</td>\n",
       "    </tr>\n",
       "  </tbody>\n",
       "</table>\n",
       "<p>448 rows × 13 columns</p>\n",
       "</div>"
      ],
      "text/plain": [
       "                type quote date issue date maturity date     ttm  \\\n",
       "KYTREASNO                                                          \n",
       "208246          bill 2024-10-31 2024-07-09    2024-11-05  0.0137   \n",
       "208222          bill 2024-10-31 2024-05-09    2024-11-07  0.0192   \n",
       "208247          bill 2024-10-31 2024-07-16    2024-11-12  0.0329   \n",
       "208223          bill 2024-10-31 2024-05-16    2024-11-14  0.0383   \n",
       "204083          bond 2024-10-31 1994-05-15    2024-11-15  0.0411   \n",
       "...              ...        ...        ...           ...     ...   \n",
       "208149          bond 2024-10-31 2023-11-15    2053-11-15 29.0404   \n",
       "208191     TIPS note 2024-10-31 2024-02-15    2054-02-15 29.2923   \n",
       "208178          bond 2024-10-31 2024-02-15    2054-02-15 29.2923   \n",
       "208233          bond 2024-10-31 2024-05-15    2054-05-15 29.5359   \n",
       "208279          bond 2024-10-31 2024-08-15    2054-08-15 29.7878   \n",
       "\n",
       "           accrual fraction  cpn rate      bid      ask    price  accrued int  \\\n",
       "KYTREASNO                                                                       \n",
       "208246               0.9726    0.0000  99.9478  99.9479  99.9479       0.0000   \n",
       "208222               0.9617    0.0000  99.9224  99.9225  99.9224       0.0000   \n",
       "208247               0.9343    0.0000  99.8575  99.8578  99.8576       0.0000   \n",
       "208223               0.9233    0.0000  99.8326  99.8329  99.8328       0.0000   \n",
       "204083               0.9185    7.5000 100.1140 100.1144 100.1142       3.4443   \n",
       "...                     ...       ...      ...      ...      ...          ...   \n",
       "208149               0.9185    4.7500 104.2812 104.3359 104.3086       2.1814   \n",
       "208191               0.0000    2.1250  98.9651  99.1370  99.0511       0.0000   \n",
       "208178               0.4185    4.2500  96.1250  96.1719  96.1484       0.8893   \n",
       "208233               0.9185    4.6250 102.3281 102.3906 102.3594       2.1240   \n",
       "208279               0.4185    4.2500  96.2188  96.2500  96.2344       0.8893   \n",
       "\n",
       "           dirty price    ytm  \n",
       "KYTREASNO                      \n",
       "208246         99.9479 0.0385  \n",
       "208222         99.9224 0.0409  \n",
       "208247         99.8576 0.0438  \n",
       "208223         99.8328 0.0442  \n",
       "204083        103.5585 0.0455  \n",
       "...                ...    ...  \n",
       "208149        106.4900 0.0448  \n",
       "208191         99.0511    NaN  \n",
       "208178         97.0377 0.0449  \n",
       "208233        104.4834 0.0448  \n",
       "208279         97.1236 0.0448  \n",
       "\n",
       "[448 rows x 13 columns]"
      ]
     },
     "metadata": {},
     "output_type": "display_data"
    }
   ],
   "source": [
    "treasuries_all = pd.read_excel(FILE_PATH, sheet_name='quotes', index_col=0)\n",
    "t_curr_date = treasuries_all['quote date'].values[0]\n",
    "\n",
    "cf_set = dict()\n",
    "\n",
    "display(treasuries_all)"
   ]
  },
  {
   "cell_type": "markdown",
   "id": "748aa806",
   "metadata": {},
   "source": [
    "### Extra: Bootstrap"
   ]
  },
  {
   "cell_type": "code",
   "execution_count": 13,
   "metadata": {},
   "outputs": [
    {
     "data": {
      "application/vnd.plotly.v1+json": {
       "config": {
        "plotlyServerURL": "https://plot.ly"
       },
       "data": [
        {
         "hovertemplate": "Time to Maturity=%{x}<br>Discount Factor=%{y}<extra></extra>",
         "legendgroup": "",
         "line": {
          "color": "#636efa",
          "dash": "solid"
         },
         "marker": {
          "symbol": "circle"
         },
         "mode": "lines",
         "name": "",
         "orientation": "v",
         "showlegend": false,
         "type": "scatter",
         "x": [
          0.013689253935660506,
          0.019164955509924708,
          0.03285420944558522,
          0.038329911019849415,
          0.04106776180698152,
          0.05201916495550993,
          0.057494866529774126,
          0.07118412046543464,
          0.07939767282683094,
          0.08213552361396304,
          0.09034907597535935,
          0.09582477754962354,
          0.10951403148528405,
          0.11498973305954825,
          0.12320328542094455,
          0.12867898699520877,
          0.13415468856947296,
          0.14784394250513347,
          0.15331964407939766,
          0.16700889801505817,
          0.17248459958932238,
          0.1861738535249829,
          0.19164955509924708,
          0.2053388090349076,
          0.2108145106091718,
          0.2245037645448323,
          0.2299794661190965,
          0.243668720054757,
          0.24914442162902123,
          0.2518822724161533,
          0.26283367556468173,
          0.2683093771389459,
          0.28199863107460643,
          0.2874743326488706,
          0.2929500342231348,
          0.30116358658453113,
          0.3066392881587953,
          0.3203285420944558,
          0.3258042436687201,
          0.32854209445585214,
          0.3394934976043806,
          0.34496919917864477,
          0.36413415468856947,
          0.36960985626283366,
          0.38329911019849416,
          0.4024640657084189,
          0.4134154688569473,
          0.4216290212183436,
          0.4407939767282683,
          0.4544832306639288,
          0.459958932238193,
          0.4791238877481177,
          0.49555099247091033,
          0.49828884325804246,
          0.5366187542778919,
          0.5804243668720055,
          0.6132785763175906,
          0.621492128678987,
          0.6899383983572895,
          0.7474332648870636,
          0.7665982203969883,
          0.7885010266940452,
          0.8323066392881588,
          0.8432580424366872,
          0.8733744010951403,
          0.919917864476386,
          0.9555099247091033,
          0.9965776865160849,
          0.999315537303217,
          1.0403832991101984,
          1.1225188227241616,
          1.2511978097193703,
          1.2922655715263518,
          1.3689253935660506,
          1.4537987679671458,
          1.4948665297741273,
          1.5359342915811087,
          1.620807665982204,
          1.7467488021902806,
          1.787816563997262,
          1.8726899383983573,
          1.998631074606434,
          2.0396988364134154,
          2.1218343600273784,
          2.2505133470225873,
          2.291581108829569,
          2.3682409308692676,
          2.535249828884326,
          2.620123203285421,
          2.746064339493498,
          2.7871321013004793,
          2.8720054757015743,
          3.0390143737166326,
          3.249828884325804,
          3.2908966461327855,
          3.5373032169746748,
          3.7481177275838466,
          3.789185489390828,
          4.041067761806982,
          4.251882272416153,
          4.292950034223135,
          4.5366187542778915,
          4.747433264887063,
          4.788501026694045,
          5.040383299110198,
          5.25119780971937,
          5.292265571526352,
          5.535934291581109,
          5.746748802190281,
          5.7878165639972625,
          6.039698836413415,
          6.250513347022587,
          6.291581108829569,
          6.535249828884326,
          6.746064339493498,
          6.787132101300479,
          7.039014373716633,
          7.2908966461327855,
          7.537303216974675,
          7.789185489390828,
          8.041067761806982,
          8.292950034223136,
          8.536618754277892,
          8.788501026694044,
          9.040383299110198,
          9.292265571526352,
          9.535934291581109,
          9.787816563997263
         ],
         "xaxis": "x",
         "y": [
          0.9994786115000001,
          0.9992243890000001,
          0.9985761110000001,
          0.9983275135,
          0.9981541973808291,
          0.9976911670000006,
          0.9974406665000014,
          0.9968100694999984,
          0.9964287040000006,
          0.9962696501880616,
          0.9959376294999995,
          0.995662403000001,
          0.9950529580000009,
          0.9947851415000022,
          0.9943909057744065,
          0.9941631109999998,
          0.9939399999999997,
          0.9932645829999996,
          0.9930274130000004,
          0.992633843650666,
          0.9922349305000017,
          0.991699444500001,
          0.9914516664999993,
          0.9908635695000009,
          0.9906013335000018,
          0.9899959370000013,
          0.9897850055000008,
          0.9891439165000006,
          0.9889147499999993,
          0.9886397393753839,
          0.9882960325000014,
          0.9880541804999996,
          0.9874454999999983,
          0.9872166665,
          0.9869691061603179,
          0.9865970369999992,
          0.9863870835000002,
          0.9857497220000031,
          0.9855728610000002,
          0.9852911137173845,
          0.9854018399999971,
          0.9848177085000009,
          0.9839904164999997,
          0.9836697714062714,
          0.9831285530000002,
          0.9823025694999996,
          0.9820468764846124,
          0.9815068329999995,
          0.980797777500001,
          0.9804350767712254,
          0.9799785560000018,
          0.9791562500000011,
          0.9782204914776199,
          0.9783617010000005,
          0.9765058331968515,
          0.9746913691929888,
          0.974254339999999,
          0.9735679050291235,
          0.9711625400000001,
          0.9683159509515509,
          0.9679266249999994,
          0.9691994873166215,
          0.9645132711091894,
          0.9647184515000016,
          0.9633494224201917,
          0.9619588890000015,
          0.9600839123493206,
          0.9588095834999999,
          0.9582122315961574,
          0.9564732559612205,
          0.9536038392127866,
          0.9488484921578411,
          0.9488984306036695,
          0.9441362882990495,
          0.941017970652607,
          0.9393502921233706,
          0.9380567170900795,
          0.9347664896822414,
          0.9301511992958065,
          0.9308338614187475,
          0.9256791763460489,
          0.9211001093201294,
          0.9195624102125255,
          0.9166571387972472,
          0.912123781277068,
          0.9151174229247543,
          0.9077951378150941,
          0.9013685086143093,
          0.8986644143188247,
          0.8935235569000787,
          0.8919664884697267,
          0.8896646428723405,
          0.8830256069786451,
          0.8750547220923117,
          0.8734576790428272,
          0.8645672395705527,
          0.8571151586113593,
          0.8592241937573293,
          0.847597203324185,
          0.839427405869386,
          0.8378271394291732,
          0.8297746619408688,
          0.8227574140876325,
          0.8208083612708144,
          0.814337823031222,
          0.8049520527166362,
          0.8031273962070142,
          0.7948646562104933,
          0.7877778162091161,
          0.7861169741254472,
          0.7793150779287517,
          0.7705121055971743,
          0.7719839094133629,
          0.7608607414151135,
          0.7538549721741179,
          0.7526658244144708,
          0.7442235615196484,
          0.7358501420400785,
          0.727907539882545,
          0.7201032679248178,
          0.7135270334832752,
          0.704365755367205,
          0.6968473369480432,
          0.68870867409594,
          0.6814214965907672,
          0.6736244685664183,
          0.6665309220707266,
          0.6593663519484645
         ],
         "yaxis": "y"
        }
       ],
       "layout": {
        "legend": {
         "tracegroupgap": 0
        },
        "showlegend": false,
        "template": {
         "data": {
          "bar": [
           {
            "error_x": {
             "color": "#2a3f5f"
            },
            "error_y": {
             "color": "#2a3f5f"
            },
            "marker": {
             "line": {
              "color": "#E5ECF6",
              "width": 0.5
             },
             "pattern": {
              "fillmode": "overlay",
              "size": 10,
              "solidity": 0.2
             }
            },
            "type": "bar"
           }
          ],
          "barpolar": [
           {
            "marker": {
             "line": {
              "color": "#E5ECF6",
              "width": 0.5
             },
             "pattern": {
              "fillmode": "overlay",
              "size": 10,
              "solidity": 0.2
             }
            },
            "type": "barpolar"
           }
          ],
          "carpet": [
           {
            "aaxis": {
             "endlinecolor": "#2a3f5f",
             "gridcolor": "white",
             "linecolor": "white",
             "minorgridcolor": "white",
             "startlinecolor": "#2a3f5f"
            },
            "baxis": {
             "endlinecolor": "#2a3f5f",
             "gridcolor": "white",
             "linecolor": "white",
             "minorgridcolor": "white",
             "startlinecolor": "#2a3f5f"
            },
            "type": "carpet"
           }
          ],
          "choropleth": [
           {
            "colorbar": {
             "outlinewidth": 0,
             "ticks": ""
            },
            "type": "choropleth"
           }
          ],
          "contour": [
           {
            "colorbar": {
             "outlinewidth": 0,
             "ticks": ""
            },
            "colorscale": [
             [
              0,
              "#0d0887"
             ],
             [
              0.1111111111111111,
              "#46039f"
             ],
             [
              0.2222222222222222,
              "#7201a8"
             ],
             [
              0.3333333333333333,
              "#9c179e"
             ],
             [
              0.4444444444444444,
              "#bd3786"
             ],
             [
              0.5555555555555556,
              "#d8576b"
             ],
             [
              0.6666666666666666,
              "#ed7953"
             ],
             [
              0.7777777777777778,
              "#fb9f3a"
             ],
             [
              0.8888888888888888,
              "#fdca26"
             ],
             [
              1,
              "#f0f921"
             ]
            ],
            "type": "contour"
           }
          ],
          "contourcarpet": [
           {
            "colorbar": {
             "outlinewidth": 0,
             "ticks": ""
            },
            "type": "contourcarpet"
           }
          ],
          "heatmap": [
           {
            "colorbar": {
             "outlinewidth": 0,
             "ticks": ""
            },
            "colorscale": [
             [
              0,
              "#0d0887"
             ],
             [
              0.1111111111111111,
              "#46039f"
             ],
             [
              0.2222222222222222,
              "#7201a8"
             ],
             [
              0.3333333333333333,
              "#9c179e"
             ],
             [
              0.4444444444444444,
              "#bd3786"
             ],
             [
              0.5555555555555556,
              "#d8576b"
             ],
             [
              0.6666666666666666,
              "#ed7953"
             ],
             [
              0.7777777777777778,
              "#fb9f3a"
             ],
             [
              0.8888888888888888,
              "#fdca26"
             ],
             [
              1,
              "#f0f921"
             ]
            ],
            "type": "heatmap"
           }
          ],
          "heatmapgl": [
           {
            "colorbar": {
             "outlinewidth": 0,
             "ticks": ""
            },
            "colorscale": [
             [
              0,
              "#0d0887"
             ],
             [
              0.1111111111111111,
              "#46039f"
             ],
             [
              0.2222222222222222,
              "#7201a8"
             ],
             [
              0.3333333333333333,
              "#9c179e"
             ],
             [
              0.4444444444444444,
              "#bd3786"
             ],
             [
              0.5555555555555556,
              "#d8576b"
             ],
             [
              0.6666666666666666,
              "#ed7953"
             ],
             [
              0.7777777777777778,
              "#fb9f3a"
             ],
             [
              0.8888888888888888,
              "#fdca26"
             ],
             [
              1,
              "#f0f921"
             ]
            ],
            "type": "heatmapgl"
           }
          ],
          "histogram": [
           {
            "marker": {
             "pattern": {
              "fillmode": "overlay",
              "size": 10,
              "solidity": 0.2
             }
            },
            "type": "histogram"
           }
          ],
          "histogram2d": [
           {
            "colorbar": {
             "outlinewidth": 0,
             "ticks": ""
            },
            "colorscale": [
             [
              0,
              "#0d0887"
             ],
             [
              0.1111111111111111,
              "#46039f"
             ],
             [
              0.2222222222222222,
              "#7201a8"
             ],
             [
              0.3333333333333333,
              "#9c179e"
             ],
             [
              0.4444444444444444,
              "#bd3786"
             ],
             [
              0.5555555555555556,
              "#d8576b"
             ],
             [
              0.6666666666666666,
              "#ed7953"
             ],
             [
              0.7777777777777778,
              "#fb9f3a"
             ],
             [
              0.8888888888888888,
              "#fdca26"
             ],
             [
              1,
              "#f0f921"
             ]
            ],
            "type": "histogram2d"
           }
          ],
          "histogram2dcontour": [
           {
            "colorbar": {
             "outlinewidth": 0,
             "ticks": ""
            },
            "colorscale": [
             [
              0,
              "#0d0887"
             ],
             [
              0.1111111111111111,
              "#46039f"
             ],
             [
              0.2222222222222222,
              "#7201a8"
             ],
             [
              0.3333333333333333,
              "#9c179e"
             ],
             [
              0.4444444444444444,
              "#bd3786"
             ],
             [
              0.5555555555555556,
              "#d8576b"
             ],
             [
              0.6666666666666666,
              "#ed7953"
             ],
             [
              0.7777777777777778,
              "#fb9f3a"
             ],
             [
              0.8888888888888888,
              "#fdca26"
             ],
             [
              1,
              "#f0f921"
             ]
            ],
            "type": "histogram2dcontour"
           }
          ],
          "mesh3d": [
           {
            "colorbar": {
             "outlinewidth": 0,
             "ticks": ""
            },
            "type": "mesh3d"
           }
          ],
          "parcoords": [
           {
            "line": {
             "colorbar": {
              "outlinewidth": 0,
              "ticks": ""
             }
            },
            "type": "parcoords"
           }
          ],
          "pie": [
           {
            "automargin": true,
            "type": "pie"
           }
          ],
          "scatter": [
           {
            "fillpattern": {
             "fillmode": "overlay",
             "size": 10,
             "solidity": 0.2
            },
            "type": "scatter"
           }
          ],
          "scatter3d": [
           {
            "line": {
             "colorbar": {
              "outlinewidth": 0,
              "ticks": ""
             }
            },
            "marker": {
             "colorbar": {
              "outlinewidth": 0,
              "ticks": ""
             }
            },
            "type": "scatter3d"
           }
          ],
          "scattercarpet": [
           {
            "marker": {
             "colorbar": {
              "outlinewidth": 0,
              "ticks": ""
             }
            },
            "type": "scattercarpet"
           }
          ],
          "scattergeo": [
           {
            "marker": {
             "colorbar": {
              "outlinewidth": 0,
              "ticks": ""
             }
            },
            "type": "scattergeo"
           }
          ],
          "scattergl": [
           {
            "marker": {
             "colorbar": {
              "outlinewidth": 0,
              "ticks": ""
             }
            },
            "type": "scattergl"
           }
          ],
          "scattermapbox": [
           {
            "marker": {
             "colorbar": {
              "outlinewidth": 0,
              "ticks": ""
             }
            },
            "type": "scattermapbox"
           }
          ],
          "scatterpolar": [
           {
            "marker": {
             "colorbar": {
              "outlinewidth": 0,
              "ticks": ""
             }
            },
            "type": "scatterpolar"
           }
          ],
          "scatterpolargl": [
           {
            "marker": {
             "colorbar": {
              "outlinewidth": 0,
              "ticks": ""
             }
            },
            "type": "scatterpolargl"
           }
          ],
          "scatterternary": [
           {
            "marker": {
             "colorbar": {
              "outlinewidth": 0,
              "ticks": ""
             }
            },
            "type": "scatterternary"
           }
          ],
          "surface": [
           {
            "colorbar": {
             "outlinewidth": 0,
             "ticks": ""
            },
            "colorscale": [
             [
              0,
              "#0d0887"
             ],
             [
              0.1111111111111111,
              "#46039f"
             ],
             [
              0.2222222222222222,
              "#7201a8"
             ],
             [
              0.3333333333333333,
              "#9c179e"
             ],
             [
              0.4444444444444444,
              "#bd3786"
             ],
             [
              0.5555555555555556,
              "#d8576b"
             ],
             [
              0.6666666666666666,
              "#ed7953"
             ],
             [
              0.7777777777777778,
              "#fb9f3a"
             ],
             [
              0.8888888888888888,
              "#fdca26"
             ],
             [
              1,
              "#f0f921"
             ]
            ],
            "type": "surface"
           }
          ],
          "table": [
           {
            "cells": {
             "fill": {
              "color": "#EBF0F8"
             },
             "line": {
              "color": "white"
             }
            },
            "header": {
             "fill": {
              "color": "#C8D4E3"
             },
             "line": {
              "color": "white"
             }
            },
            "type": "table"
           }
          ]
         },
         "layout": {
          "annotationdefaults": {
           "arrowcolor": "#2a3f5f",
           "arrowhead": 0,
           "arrowwidth": 1
          },
          "autotypenumbers": "strict",
          "coloraxis": {
           "colorbar": {
            "outlinewidth": 0,
            "ticks": ""
           }
          },
          "colorscale": {
           "diverging": [
            [
             0,
             "#8e0152"
            ],
            [
             0.1,
             "#c51b7d"
            ],
            [
             0.2,
             "#de77ae"
            ],
            [
             0.3,
             "#f1b6da"
            ],
            [
             0.4,
             "#fde0ef"
            ],
            [
             0.5,
             "#f7f7f7"
            ],
            [
             0.6,
             "#e6f5d0"
            ],
            [
             0.7,
             "#b8e186"
            ],
            [
             0.8,
             "#7fbc41"
            ],
            [
             0.9,
             "#4d9221"
            ],
            [
             1,
             "#276419"
            ]
           ],
           "sequential": [
            [
             0,
             "#0d0887"
            ],
            [
             0.1111111111111111,
             "#46039f"
            ],
            [
             0.2222222222222222,
             "#7201a8"
            ],
            [
             0.3333333333333333,
             "#9c179e"
            ],
            [
             0.4444444444444444,
             "#bd3786"
            ],
            [
             0.5555555555555556,
             "#d8576b"
            ],
            [
             0.6666666666666666,
             "#ed7953"
            ],
            [
             0.7777777777777778,
             "#fb9f3a"
            ],
            [
             0.8888888888888888,
             "#fdca26"
            ],
            [
             1,
             "#f0f921"
            ]
           ],
           "sequentialminus": [
            [
             0,
             "#0d0887"
            ],
            [
             0.1111111111111111,
             "#46039f"
            ],
            [
             0.2222222222222222,
             "#7201a8"
            ],
            [
             0.3333333333333333,
             "#9c179e"
            ],
            [
             0.4444444444444444,
             "#bd3786"
            ],
            [
             0.5555555555555556,
             "#d8576b"
            ],
            [
             0.6666666666666666,
             "#ed7953"
            ],
            [
             0.7777777777777778,
             "#fb9f3a"
            ],
            [
             0.8888888888888888,
             "#fdca26"
            ],
            [
             1,
             "#f0f921"
            ]
           ]
          },
          "colorway": [
           "#636efa",
           "#EF553B",
           "#00cc96",
           "#ab63fa",
           "#FFA15A",
           "#19d3f3",
           "#FF6692",
           "#B6E880",
           "#FF97FF",
           "#FECB52"
          ],
          "font": {
           "color": "#2a3f5f"
          },
          "geo": {
           "bgcolor": "white",
           "lakecolor": "white",
           "landcolor": "#E5ECF6",
           "showlakes": true,
           "showland": true,
           "subunitcolor": "white"
          },
          "hoverlabel": {
           "align": "left"
          },
          "hovermode": "closest",
          "mapbox": {
           "style": "light"
          },
          "paper_bgcolor": "white",
          "plot_bgcolor": "#E5ECF6",
          "polar": {
           "angularaxis": {
            "gridcolor": "white",
            "linecolor": "white",
            "ticks": ""
           },
           "bgcolor": "#E5ECF6",
           "radialaxis": {
            "gridcolor": "white",
            "linecolor": "white",
            "ticks": ""
           }
          },
          "scene": {
           "xaxis": {
            "backgroundcolor": "#E5ECF6",
            "gridcolor": "white",
            "gridwidth": 2,
            "linecolor": "white",
            "showbackground": true,
            "ticks": "",
            "zerolinecolor": "white"
           },
           "yaxis": {
            "backgroundcolor": "#E5ECF6",
            "gridcolor": "white",
            "gridwidth": 2,
            "linecolor": "white",
            "showbackground": true,
            "ticks": "",
            "zerolinecolor": "white"
           },
           "zaxis": {
            "backgroundcolor": "#E5ECF6",
            "gridcolor": "white",
            "gridwidth": 2,
            "linecolor": "white",
            "showbackground": true,
            "ticks": "",
            "zerolinecolor": "white"
           }
          },
          "shapedefaults": {
           "line": {
            "color": "#2a3f5f"
           }
          },
          "ternary": {
           "aaxis": {
            "gridcolor": "white",
            "linecolor": "white",
            "ticks": ""
           },
           "baxis": {
            "gridcolor": "white",
            "linecolor": "white",
            "ticks": ""
           },
           "bgcolor": "#E5ECF6",
           "caxis": {
            "gridcolor": "white",
            "linecolor": "white",
            "ticks": ""
           }
          },
          "title": {
           "x": 0.05
          },
          "xaxis": {
           "automargin": true,
           "gridcolor": "white",
           "linecolor": "white",
           "ticks": "",
           "title": {
            "standoff": 15
           },
           "zerolinecolor": "white",
           "zerolinewidth": 2
          },
          "yaxis": {
           "automargin": true,
           "gridcolor": "white",
           "linecolor": "white",
           "ticks": "",
           "title": {
            "standoff": 15
           },
           "zerolinecolor": "white",
           "zerolinewidth": 2
          }
         }
        },
        "title": {
         "text": "Discount Curve (Bootstrapping)"
        },
        "xaxis": {
         "anchor": "y",
         "domain": [
          0,
          1
         ],
         "title": {
          "text": "Time to Maturity"
         }
        },
        "yaxis": {
         "anchor": "x",
         "domain": [
          0,
          1
         ],
         "gridcolor": "lightgrey",
         "showgrid": true,
         "tickformat": ".4f",
         "title": {
          "text": "Discount Factor"
         }
        }
       }
      }
     },
     "metadata": {},
     "output_type": "display_data"
    }
   ],
   "source": [
    "# Extract data:\n",
    "RESTRICT_YLD = True\n",
    "RESTRICT_TIPS = True\n",
    "\n",
    "RESTRICT_DTS_MATURING = True\n",
    "RESTRICT_REDUNDANT = True\n",
    "\n",
    "treasuries_boots = filter_treasuries(treasuries_all, date_curr=t_curr_date, filter_tips=RESTRICT_TIPS, filter_yld=RESTRICT_YLD, drop_duplicate_maturities=RESTRICT_REDUNDANT)\n",
    "cf_boots = filter_treasury_cashflows(calc_treasury_cashflows(treasuries_boots), filter_maturity_dates=RESTRICT_DTS_MATURING)\n",
    "\n",
    "prices_boots = treasuries_all['dirty price'][cf_boots.index]\n",
    "params_boots = estimate_rate_curve(model_name='bootstrap', cf=cf_boots, prices=prices_boots, date_current=t_curr_date)\n",
    "\n",
    "label = 'single maturity per date, no non-maturity dates'\n",
    "cf_set[label] = cf_boots\n",
    "\n",
    "time_to_maturity = cf_boots.columns - t_curr_date\n",
    "time_to_maturity = np.round(time_to_maturity.days / 365, 2)\n",
    "\n",
    "fig = px.line(\n",
    "    x=params_boots[0], \n",
    "    y=params_boots[1], \n",
    "    labels={\"x\": \"Time to Maturity\", \"y\": \"Discount Factor\"}, \n",
    "    title=\"Discount Curve (Bootstrapping)\"\n",
    ")\n",
    "fig.update_layout(\n",
    "    showlegend=False,\n",
    "    yaxis=dict(\n",
    "        tickformat=\".4f\",\n",
    "        gridcolor='lightgrey',\n",
    "        showgrid=True  # Ensure grid is enabled on the y-axis\n",
    "    )\n",
    ")\n",
    "fig.show()"
   ]
  },
  {
   "cell_type": "code",
   "execution_count": 14,
   "id": "425d2016",
   "metadata": {},
   "outputs": [
    {
     "data": {
      "text/html": [
       "<div>\n",
       "<style scoped>\n",
       "    .dataframe tbody tr th:only-of-type {\n",
       "        vertical-align: middle;\n",
       "    }\n",
       "\n",
       "    .dataframe tbody tr th {\n",
       "        vertical-align: top;\n",
       "    }\n",
       "\n",
       "    .dataframe thead th {\n",
       "        text-align: right;\n",
       "    }\n",
       "</style>\n",
       "<table border=\"1\" class=\"dataframe\">\n",
       "  <thead>\n",
       "    <tr style=\"text-align: right;\">\n",
       "      <th></th>\n",
       "      <th>2024-11-05</th>\n",
       "      <th>2024-11-07</th>\n",
       "      <th>2024-11-12</th>\n",
       "      <th>2024-11-14</th>\n",
       "      <th>2024-11-15</th>\n",
       "      <th>2024-11-19</th>\n",
       "      <th>2024-11-21</th>\n",
       "      <th>2024-11-26</th>\n",
       "      <th>2024-11-29</th>\n",
       "      <th>2024-11-30</th>\n",
       "      <th>2024-12-03</th>\n",
       "      <th>2024-12-05</th>\n",
       "      <th>2024-12-10</th>\n",
       "      <th>2024-12-12</th>\n",
       "      <th>2024-12-15</th>\n",
       "      <th>...</th>\n",
       "      <th>2051-02-15</th>\n",
       "      <th>2051-05-15</th>\n",
       "      <th>2051-08-15</th>\n",
       "      <th>2051-11-15</th>\n",
       "      <th>2052-02-15</th>\n",
       "      <th>2052-05-15</th>\n",
       "      <th>2052-08-15</th>\n",
       "      <th>2052-11-15</th>\n",
       "      <th>2053-02-15</th>\n",
       "      <th>2053-05-15</th>\n",
       "      <th>2053-08-15</th>\n",
       "      <th>2053-11-15</th>\n",
       "      <th>2054-02-15</th>\n",
       "      <th>2054-05-15</th>\n",
       "      <th>2054-08-15</th>\n",
       "    </tr>\n",
       "    <tr>\n",
       "      <th>KYTREASNO</th>\n",
       "      <th></th>\n",
       "      <th></th>\n",
       "      <th></th>\n",
       "      <th></th>\n",
       "      <th></th>\n",
       "      <th></th>\n",
       "      <th></th>\n",
       "      <th></th>\n",
       "      <th></th>\n",
       "      <th></th>\n",
       "      <th></th>\n",
       "      <th></th>\n",
       "      <th></th>\n",
       "      <th></th>\n",
       "      <th></th>\n",
       "      <th></th>\n",
       "      <th></th>\n",
       "      <th></th>\n",
       "      <th></th>\n",
       "      <th></th>\n",
       "      <th></th>\n",
       "      <th></th>\n",
       "      <th></th>\n",
       "      <th></th>\n",
       "      <th></th>\n",
       "      <th></th>\n",
       "      <th></th>\n",
       "      <th></th>\n",
       "      <th></th>\n",
       "      <th></th>\n",
       "      <th></th>\n",
       "    </tr>\n",
       "  </thead>\n",
       "  <tbody>\n",
       "    <tr>\n",
       "      <th>208246</th>\n",
       "      <td>100</td>\n",
       "      <td>0</td>\n",
       "      <td>0</td>\n",
       "      <td>0</td>\n",
       "      <td>0.0000</td>\n",
       "      <td>0</td>\n",
       "      <td>0</td>\n",
       "      <td>0</td>\n",
       "      <td>0</td>\n",
       "      <td>0.0000</td>\n",
       "      <td>0</td>\n",
       "      <td>0</td>\n",
       "      <td>0</td>\n",
       "      <td>0</td>\n",
       "      <td>0.0000</td>\n",
       "      <td>...</td>\n",
       "      <td>0.0000</td>\n",
       "      <td>0.0000</td>\n",
       "      <td>0.0000</td>\n",
       "      <td>0.0000</td>\n",
       "      <td>0.0000</td>\n",
       "      <td>0.0000</td>\n",
       "      <td>0.0000</td>\n",
       "      <td>0.0000</td>\n",
       "      <td>0.0000</td>\n",
       "      <td>0.0000</td>\n",
       "      <td>0.0000</td>\n",
       "      <td>0.0000</td>\n",
       "      <td>0.0000</td>\n",
       "      <td>0.0000</td>\n",
       "      <td>0.0000</td>\n",
       "    </tr>\n",
       "    <tr>\n",
       "      <th>208222</th>\n",
       "      <td>0</td>\n",
       "      <td>100</td>\n",
       "      <td>0</td>\n",
       "      <td>0</td>\n",
       "      <td>0.0000</td>\n",
       "      <td>0</td>\n",
       "      <td>0</td>\n",
       "      <td>0</td>\n",
       "      <td>0</td>\n",
       "      <td>0.0000</td>\n",
       "      <td>0</td>\n",
       "      <td>0</td>\n",
       "      <td>0</td>\n",
       "      <td>0</td>\n",
       "      <td>0.0000</td>\n",
       "      <td>...</td>\n",
       "      <td>0.0000</td>\n",
       "      <td>0.0000</td>\n",
       "      <td>0.0000</td>\n",
       "      <td>0.0000</td>\n",
       "      <td>0.0000</td>\n",
       "      <td>0.0000</td>\n",
       "      <td>0.0000</td>\n",
       "      <td>0.0000</td>\n",
       "      <td>0.0000</td>\n",
       "      <td>0.0000</td>\n",
       "      <td>0.0000</td>\n",
       "      <td>0.0000</td>\n",
       "      <td>0.0000</td>\n",
       "      <td>0.0000</td>\n",
       "      <td>0.0000</td>\n",
       "    </tr>\n",
       "    <tr>\n",
       "      <th>208247</th>\n",
       "      <td>0</td>\n",
       "      <td>0</td>\n",
       "      <td>100</td>\n",
       "      <td>0</td>\n",
       "      <td>0.0000</td>\n",
       "      <td>0</td>\n",
       "      <td>0</td>\n",
       "      <td>0</td>\n",
       "      <td>0</td>\n",
       "      <td>0.0000</td>\n",
       "      <td>0</td>\n",
       "      <td>0</td>\n",
       "      <td>0</td>\n",
       "      <td>0</td>\n",
       "      <td>0.0000</td>\n",
       "      <td>...</td>\n",
       "      <td>0.0000</td>\n",
       "      <td>0.0000</td>\n",
       "      <td>0.0000</td>\n",
       "      <td>0.0000</td>\n",
       "      <td>0.0000</td>\n",
       "      <td>0.0000</td>\n",
       "      <td>0.0000</td>\n",
       "      <td>0.0000</td>\n",
       "      <td>0.0000</td>\n",
       "      <td>0.0000</td>\n",
       "      <td>0.0000</td>\n",
       "      <td>0.0000</td>\n",
       "      <td>0.0000</td>\n",
       "      <td>0.0000</td>\n",
       "      <td>0.0000</td>\n",
       "    </tr>\n",
       "    <tr>\n",
       "      <th>208223</th>\n",
       "      <td>0</td>\n",
       "      <td>0</td>\n",
       "      <td>0</td>\n",
       "      <td>100</td>\n",
       "      <td>0.0000</td>\n",
       "      <td>0</td>\n",
       "      <td>0</td>\n",
       "      <td>0</td>\n",
       "      <td>0</td>\n",
       "      <td>0.0000</td>\n",
       "      <td>0</td>\n",
       "      <td>0</td>\n",
       "      <td>0</td>\n",
       "      <td>0</td>\n",
       "      <td>0.0000</td>\n",
       "      <td>...</td>\n",
       "      <td>0.0000</td>\n",
       "      <td>0.0000</td>\n",
       "      <td>0.0000</td>\n",
       "      <td>0.0000</td>\n",
       "      <td>0.0000</td>\n",
       "      <td>0.0000</td>\n",
       "      <td>0.0000</td>\n",
       "      <td>0.0000</td>\n",
       "      <td>0.0000</td>\n",
       "      <td>0.0000</td>\n",
       "      <td>0.0000</td>\n",
       "      <td>0.0000</td>\n",
       "      <td>0.0000</td>\n",
       "      <td>0.0000</td>\n",
       "      <td>0.0000</td>\n",
       "    </tr>\n",
       "    <tr>\n",
       "      <th>204083</th>\n",
       "      <td>0</td>\n",
       "      <td>0</td>\n",
       "      <td>0</td>\n",
       "      <td>0</td>\n",
       "      <td>103.7500</td>\n",
       "      <td>0</td>\n",
       "      <td>0</td>\n",
       "      <td>0</td>\n",
       "      <td>0</td>\n",
       "      <td>0.0000</td>\n",
       "      <td>0</td>\n",
       "      <td>0</td>\n",
       "      <td>0</td>\n",
       "      <td>0</td>\n",
       "      <td>0.0000</td>\n",
       "      <td>...</td>\n",
       "      <td>0.0000</td>\n",
       "      <td>0.0000</td>\n",
       "      <td>0.0000</td>\n",
       "      <td>0.0000</td>\n",
       "      <td>0.0000</td>\n",
       "      <td>0.0000</td>\n",
       "      <td>0.0000</td>\n",
       "      <td>0.0000</td>\n",
       "      <td>0.0000</td>\n",
       "      <td>0.0000</td>\n",
       "      <td>0.0000</td>\n",
       "      <td>0.0000</td>\n",
       "      <td>0.0000</td>\n",
       "      <td>0.0000</td>\n",
       "      <td>0.0000</td>\n",
       "    </tr>\n",
       "    <tr>\n",
       "      <th>...</th>\n",
       "      <td>...</td>\n",
       "      <td>...</td>\n",
       "      <td>...</td>\n",
       "      <td>...</td>\n",
       "      <td>...</td>\n",
       "      <td>...</td>\n",
       "      <td>...</td>\n",
       "      <td>...</td>\n",
       "      <td>...</td>\n",
       "      <td>...</td>\n",
       "      <td>...</td>\n",
       "      <td>...</td>\n",
       "      <td>...</td>\n",
       "      <td>...</td>\n",
       "      <td>...</td>\n",
       "      <td>...</td>\n",
       "      <td>...</td>\n",
       "      <td>...</td>\n",
       "      <td>...</td>\n",
       "      <td>...</td>\n",
       "      <td>...</td>\n",
       "      <td>...</td>\n",
       "      <td>...</td>\n",
       "      <td>...</td>\n",
       "      <td>...</td>\n",
       "      <td>...</td>\n",
       "      <td>...</td>\n",
       "      <td>...</td>\n",
       "      <td>...</td>\n",
       "      <td>...</td>\n",
       "      <td>...</td>\n",
       "    </tr>\n",
       "    <tr>\n",
       "      <th>208149</th>\n",
       "      <td>0</td>\n",
       "      <td>0</td>\n",
       "      <td>0</td>\n",
       "      <td>0</td>\n",
       "      <td>2.3750</td>\n",
       "      <td>0</td>\n",
       "      <td>0</td>\n",
       "      <td>0</td>\n",
       "      <td>0</td>\n",
       "      <td>0.0000</td>\n",
       "      <td>0</td>\n",
       "      <td>0</td>\n",
       "      <td>0</td>\n",
       "      <td>0</td>\n",
       "      <td>0.0000</td>\n",
       "      <td>...</td>\n",
       "      <td>0.0000</td>\n",
       "      <td>2.3750</td>\n",
       "      <td>0.0000</td>\n",
       "      <td>2.3750</td>\n",
       "      <td>0.0000</td>\n",
       "      <td>2.3750</td>\n",
       "      <td>0.0000</td>\n",
       "      <td>2.3750</td>\n",
       "      <td>0.0000</td>\n",
       "      <td>2.3750</td>\n",
       "      <td>0.0000</td>\n",
       "      <td>102.3750</td>\n",
       "      <td>0.0000</td>\n",
       "      <td>0.0000</td>\n",
       "      <td>0.0000</td>\n",
       "    </tr>\n",
       "    <tr>\n",
       "      <th>208191</th>\n",
       "      <td>0</td>\n",
       "      <td>0</td>\n",
       "      <td>0</td>\n",
       "      <td>0</td>\n",
       "      <td>0.0000</td>\n",
       "      <td>0</td>\n",
       "      <td>0</td>\n",
       "      <td>0</td>\n",
       "      <td>0</td>\n",
       "      <td>0.0000</td>\n",
       "      <td>0</td>\n",
       "      <td>0</td>\n",
       "      <td>0</td>\n",
       "      <td>0</td>\n",
       "      <td>0.0000</td>\n",
       "      <td>...</td>\n",
       "      <td>1.0625</td>\n",
       "      <td>0.0000</td>\n",
       "      <td>1.0625</td>\n",
       "      <td>0.0000</td>\n",
       "      <td>1.0625</td>\n",
       "      <td>0.0000</td>\n",
       "      <td>1.0625</td>\n",
       "      <td>0.0000</td>\n",
       "      <td>1.0625</td>\n",
       "      <td>0.0000</td>\n",
       "      <td>1.0625</td>\n",
       "      <td>0.0000</td>\n",
       "      <td>101.0625</td>\n",
       "      <td>0.0000</td>\n",
       "      <td>0.0000</td>\n",
       "    </tr>\n",
       "    <tr>\n",
       "      <th>208178</th>\n",
       "      <td>0</td>\n",
       "      <td>0</td>\n",
       "      <td>0</td>\n",
       "      <td>0</td>\n",
       "      <td>0.0000</td>\n",
       "      <td>0</td>\n",
       "      <td>0</td>\n",
       "      <td>0</td>\n",
       "      <td>0</td>\n",
       "      <td>0.0000</td>\n",
       "      <td>0</td>\n",
       "      <td>0</td>\n",
       "      <td>0</td>\n",
       "      <td>0</td>\n",
       "      <td>0.0000</td>\n",
       "      <td>...</td>\n",
       "      <td>2.1250</td>\n",
       "      <td>0.0000</td>\n",
       "      <td>2.1250</td>\n",
       "      <td>0.0000</td>\n",
       "      <td>2.1250</td>\n",
       "      <td>0.0000</td>\n",
       "      <td>2.1250</td>\n",
       "      <td>0.0000</td>\n",
       "      <td>2.1250</td>\n",
       "      <td>0.0000</td>\n",
       "      <td>2.1250</td>\n",
       "      <td>0.0000</td>\n",
       "      <td>102.1250</td>\n",
       "      <td>0.0000</td>\n",
       "      <td>0.0000</td>\n",
       "    </tr>\n",
       "    <tr>\n",
       "      <th>208233</th>\n",
       "      <td>0</td>\n",
       "      <td>0</td>\n",
       "      <td>0</td>\n",
       "      <td>0</td>\n",
       "      <td>2.3125</td>\n",
       "      <td>0</td>\n",
       "      <td>0</td>\n",
       "      <td>0</td>\n",
       "      <td>0</td>\n",
       "      <td>0.0000</td>\n",
       "      <td>0</td>\n",
       "      <td>0</td>\n",
       "      <td>0</td>\n",
       "      <td>0</td>\n",
       "      <td>0.0000</td>\n",
       "      <td>...</td>\n",
       "      <td>0.0000</td>\n",
       "      <td>2.3125</td>\n",
       "      <td>0.0000</td>\n",
       "      <td>2.3125</td>\n",
       "      <td>0.0000</td>\n",
       "      <td>2.3125</td>\n",
       "      <td>0.0000</td>\n",
       "      <td>2.3125</td>\n",
       "      <td>0.0000</td>\n",
       "      <td>2.3125</td>\n",
       "      <td>0.0000</td>\n",
       "      <td>2.3125</td>\n",
       "      <td>0.0000</td>\n",
       "      <td>102.3125</td>\n",
       "      <td>0.0000</td>\n",
       "    </tr>\n",
       "    <tr>\n",
       "      <th>208279</th>\n",
       "      <td>0</td>\n",
       "      <td>0</td>\n",
       "      <td>0</td>\n",
       "      <td>0</td>\n",
       "      <td>0.0000</td>\n",
       "      <td>0</td>\n",
       "      <td>0</td>\n",
       "      <td>0</td>\n",
       "      <td>0</td>\n",
       "      <td>0.0000</td>\n",
       "      <td>0</td>\n",
       "      <td>0</td>\n",
       "      <td>0</td>\n",
       "      <td>0</td>\n",
       "      <td>0.0000</td>\n",
       "      <td>...</td>\n",
       "      <td>2.1250</td>\n",
       "      <td>0.0000</td>\n",
       "      <td>2.1250</td>\n",
       "      <td>0.0000</td>\n",
       "      <td>2.1250</td>\n",
       "      <td>0.0000</td>\n",
       "      <td>2.1250</td>\n",
       "      <td>0.0000</td>\n",
       "      <td>2.1250</td>\n",
       "      <td>0.0000</td>\n",
       "      <td>2.1250</td>\n",
       "      <td>0.0000</td>\n",
       "      <td>2.1250</td>\n",
       "      <td>0.0000</td>\n",
       "      <td>102.1250</td>\n",
       "    </tr>\n",
       "  </tbody>\n",
       "</table>\n",
       "<p>448 rows × 333 columns</p>\n",
       "</div>"
      ],
      "text/plain": [
       "           2024-11-05  2024-11-07  2024-11-12  2024-11-14  2024-11-15  \\\n",
       "KYTREASNO                                                               \n",
       "208246            100           0           0           0      0.0000   \n",
       "208222              0         100           0           0      0.0000   \n",
       "208247              0           0         100           0      0.0000   \n",
       "208223              0           0           0         100      0.0000   \n",
       "204083              0           0           0           0    103.7500   \n",
       "...               ...         ...         ...         ...         ...   \n",
       "208149              0           0           0           0      2.3750   \n",
       "208191              0           0           0           0      0.0000   \n",
       "208178              0           0           0           0      0.0000   \n",
       "208233              0           0           0           0      2.3125   \n",
       "208279              0           0           0           0      0.0000   \n",
       "\n",
       "           2024-11-19  2024-11-21  2024-11-26  2024-11-29  2024-11-30  \\\n",
       "KYTREASNO                                                               \n",
       "208246              0           0           0           0      0.0000   \n",
       "208222              0           0           0           0      0.0000   \n",
       "208247              0           0           0           0      0.0000   \n",
       "208223              0           0           0           0      0.0000   \n",
       "204083              0           0           0           0      0.0000   \n",
       "...               ...         ...         ...         ...         ...   \n",
       "208149              0           0           0           0      0.0000   \n",
       "208191              0           0           0           0      0.0000   \n",
       "208178              0           0           0           0      0.0000   \n",
       "208233              0           0           0           0      0.0000   \n",
       "208279              0           0           0           0      0.0000   \n",
       "\n",
       "           2024-12-03  2024-12-05  2024-12-10  2024-12-12  2024-12-15  ...  \\\n",
       "KYTREASNO                                                              ...   \n",
       "208246              0           0           0           0      0.0000  ...   \n",
       "208222              0           0           0           0      0.0000  ...   \n",
       "208247              0           0           0           0      0.0000  ...   \n",
       "208223              0           0           0           0      0.0000  ...   \n",
       "204083              0           0           0           0      0.0000  ...   \n",
       "...               ...         ...         ...         ...         ...  ...   \n",
       "208149              0           0           0           0      0.0000  ...   \n",
       "208191              0           0           0           0      0.0000  ...   \n",
       "208178              0           0           0           0      0.0000  ...   \n",
       "208233              0           0           0           0      0.0000  ...   \n",
       "208279              0           0           0           0      0.0000  ...   \n",
       "\n",
       "           2051-02-15  2051-05-15  2051-08-15  2051-11-15  2052-02-15  \\\n",
       "KYTREASNO                                                               \n",
       "208246         0.0000      0.0000      0.0000      0.0000      0.0000   \n",
       "208222         0.0000      0.0000      0.0000      0.0000      0.0000   \n",
       "208247         0.0000      0.0000      0.0000      0.0000      0.0000   \n",
       "208223         0.0000      0.0000      0.0000      0.0000      0.0000   \n",
       "204083         0.0000      0.0000      0.0000      0.0000      0.0000   \n",
       "...               ...         ...         ...         ...         ...   \n",
       "208149         0.0000      2.3750      0.0000      2.3750      0.0000   \n",
       "208191         1.0625      0.0000      1.0625      0.0000      1.0625   \n",
       "208178         2.1250      0.0000      2.1250      0.0000      2.1250   \n",
       "208233         0.0000      2.3125      0.0000      2.3125      0.0000   \n",
       "208279         2.1250      0.0000      2.1250      0.0000      2.1250   \n",
       "\n",
       "           2052-05-15  2052-08-15  2052-11-15  2053-02-15  2053-05-15  \\\n",
       "KYTREASNO                                                               \n",
       "208246         0.0000      0.0000      0.0000      0.0000      0.0000   \n",
       "208222         0.0000      0.0000      0.0000      0.0000      0.0000   \n",
       "208247         0.0000      0.0000      0.0000      0.0000      0.0000   \n",
       "208223         0.0000      0.0000      0.0000      0.0000      0.0000   \n",
       "204083         0.0000      0.0000      0.0000      0.0000      0.0000   \n",
       "...               ...         ...         ...         ...         ...   \n",
       "208149         2.3750      0.0000      2.3750      0.0000      2.3750   \n",
       "208191         0.0000      1.0625      0.0000      1.0625      0.0000   \n",
       "208178         0.0000      2.1250      0.0000      2.1250      0.0000   \n",
       "208233         2.3125      0.0000      2.3125      0.0000      2.3125   \n",
       "208279         0.0000      2.1250      0.0000      2.1250      0.0000   \n",
       "\n",
       "           2053-08-15  2053-11-15  2054-02-15  2054-05-15  2054-08-15  \n",
       "KYTREASNO                                                              \n",
       "208246         0.0000      0.0000      0.0000      0.0000      0.0000  \n",
       "208222         0.0000      0.0000      0.0000      0.0000      0.0000  \n",
       "208247         0.0000      0.0000      0.0000      0.0000      0.0000  \n",
       "208223         0.0000      0.0000      0.0000      0.0000      0.0000  \n",
       "204083         0.0000      0.0000      0.0000      0.0000      0.0000  \n",
       "...               ...         ...         ...         ...         ...  \n",
       "208149         0.0000    102.3750      0.0000      0.0000      0.0000  \n",
       "208191         1.0625      0.0000    101.0625      0.0000      0.0000  \n",
       "208178         2.1250      0.0000    102.1250      0.0000      0.0000  \n",
       "208233         0.0000      2.3125      0.0000    102.3125      0.0000  \n",
       "208279         2.1250      0.0000      2.1250      0.0000    102.1250  \n",
       "\n",
       "[448 rows x 333 columns]"
      ]
     },
     "metadata": {},
     "output_type": "display_data"
    }
   ],
   "source": [
    "# Calculate cash flow matrix\n",
    "cf = calc_treasury_cashflows(treasuries_all)\n",
    "\n",
    "cf_set['all dates, all issues'] = cf\n",
    "display(cf)   "
   ]
  },
  {
   "cell_type": "code",
   "execution_count": 15,
   "id": "2b23bd12",
   "metadata": {},
   "outputs": [
    {
     "name": "stdout",
     "output_type": "stream",
     "text": [
      "Most cashflow on 2025-02-15 00:00:00\n",
      "Most issues paying cashflow on 2024-11-15 00:00:00\n"
     ]
    }
   ],
   "source": [
    "most_cf_dt = cf_boots.sum(axis=0).idxmax()\n",
    "most_issues_dt = cf_boots.where(cf_boots == 0, 1).sum(axis=0).idxmax()\n",
    "\n",
    "print(f\"Most cashflow on {most_cf_dt}\")\n",
    "print(f\"Most issues paying cashflow on {most_issues_dt}\")"
   ]
  },
  {
   "cell_type": "code",
   "execution_count": 16,
   "id": "5a4c76de",
   "metadata": {},
   "outputs": [
    {
     "data": {
      "image/png": "[encoded data removed]",
      "text/plain": [
       "<Figure size 1200x800 with 2 Axes>"
      ]
     },
     "metadata": {},
     "output_type": "display_data"
    }
   ],
   "source": [
    "num_cf_per_month = cf_boots.where(cf_boots == 0, 1).sum(axis=0).resample('ME').sum()\n",
    "plot_heatmap_year_month(num_cf_per_month)"
   ]
  },
  {
   "cell_type": "markdown",
   "id": "a0ff7a76",
   "metadata": {},
   "source": [
    "### 2.2. OLS\n",
    "\n",
    "Estimate the discount factors using OLS.\n",
    "\n",
    "Starting with the cashflow matrix, $C$, create an additional filter to get a subset where every date has at least one maturity, (possibly multiple,) and every issue has its maturity in the cashflow matrix. Call this set of cashflows, $\\hat{C}$.\n",
    "\n",
    "**Report 5 head and tail rows of $\\hat{C}$.**\n",
    "\n",
    "$$\\textbf{p} = \\hat{\\textbf{C}}\\,\\textbf{z}_{\\text{ols}}+\\epsilon$$\n",
    "\n",
    "Plot the time-to-maturity vs discount rates, semiannually compounded."
   ]
  },
  {
   "cell_type": "code",
   "execution_count": 17,
   "id": "f4d38858",
   "metadata": {},
   "outputs": [
    {
     "data": {
      "text/html": [
       "<div>\n",
       "<style scoped>\n",
       "    .dataframe tbody tr th:only-of-type {\n",
       "        vertical-align: middle;\n",
       "    }\n",
       "\n",
       "    .dataframe tbody tr th {\n",
       "        vertical-align: top;\n",
       "    }\n",
       "\n",
       "    .dataframe thead th {\n",
       "        text-align: right;\n",
       "    }\n",
       "</style>\n",
       "<table border=\"1\" class=\"dataframe\">\n",
       "  <thead>\n",
       "    <tr style=\"text-align: right;\">\n",
       "      <th></th>\n",
       "      <th>2024-11-05</th>\n",
       "      <th>2024-11-07</th>\n",
       "      <th>2024-11-12</th>\n",
       "      <th>2024-11-14</th>\n",
       "      <th>2024-11-15</th>\n",
       "      <th>2024-11-19</th>\n",
       "      <th>2024-11-21</th>\n",
       "      <th>2024-11-26</th>\n",
       "      <th>2024-11-29</th>\n",
       "      <th>2024-11-30</th>\n",
       "      <th>2024-12-03</th>\n",
       "      <th>2024-12-05</th>\n",
       "      <th>2024-12-10</th>\n",
       "      <th>2024-12-12</th>\n",
       "      <th>2024-12-15</th>\n",
       "      <th>...</th>\n",
       "      <th>2031-05-15</th>\n",
       "      <th>2031-07-31</th>\n",
       "      <th>2031-08-15</th>\n",
       "      <th>2031-11-15</th>\n",
       "      <th>2032-02-15</th>\n",
       "      <th>2032-05-15</th>\n",
       "      <th>2032-08-15</th>\n",
       "      <th>2032-11-15</th>\n",
       "      <th>2033-02-15</th>\n",
       "      <th>2033-05-15</th>\n",
       "      <th>2033-08-15</th>\n",
       "      <th>2033-11-15</th>\n",
       "      <th>2034-02-15</th>\n",
       "      <th>2034-05-15</th>\n",
       "      <th>2034-08-15</th>\n",
       "    </tr>\n",
       "    <tr>\n",
       "      <th>KYTREASNO</th>\n",
       "      <th></th>\n",
       "      <th></th>\n",
       "      <th></th>\n",
       "      <th></th>\n",
       "      <th></th>\n",
       "      <th></th>\n",
       "      <th></th>\n",
       "      <th></th>\n",
       "      <th></th>\n",
       "      <th></th>\n",
       "      <th></th>\n",
       "      <th></th>\n",
       "      <th></th>\n",
       "      <th></th>\n",
       "      <th></th>\n",
       "      <th></th>\n",
       "      <th></th>\n",
       "      <th></th>\n",
       "      <th></th>\n",
       "      <th></th>\n",
       "      <th></th>\n",
       "      <th></th>\n",
       "      <th></th>\n",
       "      <th></th>\n",
       "      <th></th>\n",
       "      <th></th>\n",
       "      <th></th>\n",
       "      <th></th>\n",
       "      <th></th>\n",
       "      <th></th>\n",
       "      <th></th>\n",
       "    </tr>\n",
       "  </thead>\n",
       "  <tbody>\n",
       "    <tr>\n",
       "      <th>208246</th>\n",
       "      <td>100</td>\n",
       "      <td>0</td>\n",
       "      <td>0</td>\n",
       "      <td>0</td>\n",
       "      <td>0.0000</td>\n",
       "      <td>0</td>\n",
       "      <td>0</td>\n",
       "      <td>0</td>\n",
       "      <td>0</td>\n",
       "      <td>0.0000</td>\n",
       "      <td>0</td>\n",
       "      <td>0</td>\n",
       "      <td>0</td>\n",
       "      <td>0</td>\n",
       "      <td>0.0000</td>\n",
       "      <td>...</td>\n",
       "      <td>0.0000</td>\n",
       "      <td>0.0000</td>\n",
       "      <td>0.0000</td>\n",
       "      <td>0.0000</td>\n",
       "      <td>0.0000</td>\n",
       "      <td>0.0000</td>\n",
       "      <td>0.0000</td>\n",
       "      <td>0.0000</td>\n",
       "      <td>0.0000</td>\n",
       "      <td>0.0000</td>\n",
       "      <td>0.0000</td>\n",
       "      <td>0.0000</td>\n",
       "      <td>0.0000</td>\n",
       "      <td>0.0000</td>\n",
       "      <td>0.0000</td>\n",
       "    </tr>\n",
       "    <tr>\n",
       "      <th>208222</th>\n",
       "      <td>0</td>\n",
       "      <td>100</td>\n",
       "      <td>0</td>\n",
       "      <td>0</td>\n",
       "      <td>0.0000</td>\n",
       "      <td>0</td>\n",
       "      <td>0</td>\n",
       "      <td>0</td>\n",
       "      <td>0</td>\n",
       "      <td>0.0000</td>\n",
       "      <td>0</td>\n",
       "      <td>0</td>\n",
       "      <td>0</td>\n",
       "      <td>0</td>\n",
       "      <td>0.0000</td>\n",
       "      <td>...</td>\n",
       "      <td>0.0000</td>\n",
       "      <td>0.0000</td>\n",
       "      <td>0.0000</td>\n",
       "      <td>0.0000</td>\n",
       "      <td>0.0000</td>\n",
       "      <td>0.0000</td>\n",
       "      <td>0.0000</td>\n",
       "      <td>0.0000</td>\n",
       "      <td>0.0000</td>\n",
       "      <td>0.0000</td>\n",
       "      <td>0.0000</td>\n",
       "      <td>0.0000</td>\n",
       "      <td>0.0000</td>\n",
       "      <td>0.0000</td>\n",
       "      <td>0.0000</td>\n",
       "    </tr>\n",
       "    <tr>\n",
       "      <th>208247</th>\n",
       "      <td>0</td>\n",
       "      <td>0</td>\n",
       "      <td>100</td>\n",
       "      <td>0</td>\n",
       "      <td>0.0000</td>\n",
       "      <td>0</td>\n",
       "      <td>0</td>\n",
       "      <td>0</td>\n",
       "      <td>0</td>\n",
       "      <td>0.0000</td>\n",
       "      <td>0</td>\n",
       "      <td>0</td>\n",
       "      <td>0</td>\n",
       "      <td>0</td>\n",
       "      <td>0.0000</td>\n",
       "      <td>...</td>\n",
       "      <td>0.0000</td>\n",
       "      <td>0.0000</td>\n",
       "      <td>0.0000</td>\n",
       "      <td>0.0000</td>\n",
       "      <td>0.0000</td>\n",
       "      <td>0.0000</td>\n",
       "      <td>0.0000</td>\n",
       "      <td>0.0000</td>\n",
       "      <td>0.0000</td>\n",
       "      <td>0.0000</td>\n",
       "      <td>0.0000</td>\n",
       "      <td>0.0000</td>\n",
       "      <td>0.0000</td>\n",
       "      <td>0.0000</td>\n",
       "      <td>0.0000</td>\n",
       "    </tr>\n",
       "    <tr>\n",
       "      <th>208223</th>\n",
       "      <td>0</td>\n",
       "      <td>0</td>\n",
       "      <td>0</td>\n",
       "      <td>100</td>\n",
       "      <td>0.0000</td>\n",
       "      <td>0</td>\n",
       "      <td>0</td>\n",
       "      <td>0</td>\n",
       "      <td>0</td>\n",
       "      <td>0.0000</td>\n",
       "      <td>0</td>\n",
       "      <td>0</td>\n",
       "      <td>0</td>\n",
       "      <td>0</td>\n",
       "      <td>0.0000</td>\n",
       "      <td>...</td>\n",
       "      <td>0.0000</td>\n",
       "      <td>0.0000</td>\n",
       "      <td>0.0000</td>\n",
       "      <td>0.0000</td>\n",
       "      <td>0.0000</td>\n",
       "      <td>0.0000</td>\n",
       "      <td>0.0000</td>\n",
       "      <td>0.0000</td>\n",
       "      <td>0.0000</td>\n",
       "      <td>0.0000</td>\n",
       "      <td>0.0000</td>\n",
       "      <td>0.0000</td>\n",
       "      <td>0.0000</td>\n",
       "      <td>0.0000</td>\n",
       "      <td>0.0000</td>\n",
       "    </tr>\n",
       "    <tr>\n",
       "      <th>204083</th>\n",
       "      <td>0</td>\n",
       "      <td>0</td>\n",
       "      <td>0</td>\n",
       "      <td>0</td>\n",
       "      <td>103.7500</td>\n",
       "      <td>0</td>\n",
       "      <td>0</td>\n",
       "      <td>0</td>\n",
       "      <td>0</td>\n",
       "      <td>0.0000</td>\n",
       "      <td>0</td>\n",
       "      <td>0</td>\n",
       "      <td>0</td>\n",
       "      <td>0</td>\n",
       "      <td>0.0000</td>\n",
       "      <td>...</td>\n",
       "      <td>0.0000</td>\n",
       "      <td>0.0000</td>\n",
       "      <td>0.0000</td>\n",
       "      <td>0.0000</td>\n",
       "      <td>0.0000</td>\n",
       "      <td>0.0000</td>\n",
       "      <td>0.0000</td>\n",
       "      <td>0.0000</td>\n",
       "      <td>0.0000</td>\n",
       "      <td>0.0000</td>\n",
       "      <td>0.0000</td>\n",
       "      <td>0.0000</td>\n",
       "      <td>0.0000</td>\n",
       "      <td>0.0000</td>\n",
       "      <td>0.0000</td>\n",
       "    </tr>\n",
       "    <tr>\n",
       "      <th>...</th>\n",
       "      <td>...</td>\n",
       "      <td>...</td>\n",
       "      <td>...</td>\n",
       "      <td>...</td>\n",
       "      <td>...</td>\n",
       "      <td>...</td>\n",
       "      <td>...</td>\n",
       "      <td>...</td>\n",
       "      <td>...</td>\n",
       "      <td>...</td>\n",
       "      <td>...</td>\n",
       "      <td>...</td>\n",
       "      <td>...</td>\n",
       "      <td>...</td>\n",
       "      <td>...</td>\n",
       "      <td>...</td>\n",
       "      <td>...</td>\n",
       "      <td>...</td>\n",
       "      <td>...</td>\n",
       "      <td>...</td>\n",
       "      <td>...</td>\n",
       "      <td>...</td>\n",
       "      <td>...</td>\n",
       "      <td>...</td>\n",
       "      <td>...</td>\n",
       "      <td>...</td>\n",
       "      <td>...</td>\n",
       "      <td>...</td>\n",
       "      <td>...</td>\n",
       "      <td>...</td>\n",
       "      <td>...</td>\n",
       "    </tr>\n",
       "    <tr>\n",
       "      <th>208105</th>\n",
       "      <td>0</td>\n",
       "      <td>0</td>\n",
       "      <td>0</td>\n",
       "      <td>0</td>\n",
       "      <td>0.0000</td>\n",
       "      <td>0</td>\n",
       "      <td>0</td>\n",
       "      <td>0</td>\n",
       "      <td>0</td>\n",
       "      <td>0.0000</td>\n",
       "      <td>0</td>\n",
       "      <td>0</td>\n",
       "      <td>0</td>\n",
       "      <td>0</td>\n",
       "      <td>0.0000</td>\n",
       "      <td>...</td>\n",
       "      <td>0.0000</td>\n",
       "      <td>0.0000</td>\n",
       "      <td>1.9375</td>\n",
       "      <td>0.0000</td>\n",
       "      <td>1.9375</td>\n",
       "      <td>0.0000</td>\n",
       "      <td>1.9375</td>\n",
       "      <td>0.0000</td>\n",
       "      <td>1.9375</td>\n",
       "      <td>0.0000</td>\n",
       "      <td>101.9375</td>\n",
       "      <td>0.0000</td>\n",
       "      <td>0.0000</td>\n",
       "      <td>0.0000</td>\n",
       "      <td>0.0000</td>\n",
       "    </tr>\n",
       "    <tr>\n",
       "      <th>208147</th>\n",
       "      <td>0</td>\n",
       "      <td>0</td>\n",
       "      <td>0</td>\n",
       "      <td>0</td>\n",
       "      <td>2.2500</td>\n",
       "      <td>0</td>\n",
       "      <td>0</td>\n",
       "      <td>0</td>\n",
       "      <td>0</td>\n",
       "      <td>0.0000</td>\n",
       "      <td>0</td>\n",
       "      <td>0</td>\n",
       "      <td>0</td>\n",
       "      <td>0</td>\n",
       "      <td>0.0000</td>\n",
       "      <td>...</td>\n",
       "      <td>2.2500</td>\n",
       "      <td>0.0000</td>\n",
       "      <td>0.0000</td>\n",
       "      <td>2.2500</td>\n",
       "      <td>0.0000</td>\n",
       "      <td>2.2500</td>\n",
       "      <td>0.0000</td>\n",
       "      <td>2.2500</td>\n",
       "      <td>0.0000</td>\n",
       "      <td>2.2500</td>\n",
       "      <td>0.0000</td>\n",
       "      <td>102.2500</td>\n",
       "      <td>0.0000</td>\n",
       "      <td>0.0000</td>\n",
       "      <td>0.0000</td>\n",
       "    </tr>\n",
       "    <tr>\n",
       "      <th>208177</th>\n",
       "      <td>0</td>\n",
       "      <td>0</td>\n",
       "      <td>0</td>\n",
       "      <td>0</td>\n",
       "      <td>0.0000</td>\n",
       "      <td>0</td>\n",
       "      <td>0</td>\n",
       "      <td>0</td>\n",
       "      <td>0</td>\n",
       "      <td>0.0000</td>\n",
       "      <td>0</td>\n",
       "      <td>0</td>\n",
       "      <td>0</td>\n",
       "      <td>0</td>\n",
       "      <td>0.0000</td>\n",
       "      <td>...</td>\n",
       "      <td>0.0000</td>\n",
       "      <td>0.0000</td>\n",
       "      <td>2.0000</td>\n",
       "      <td>0.0000</td>\n",
       "      <td>2.0000</td>\n",
       "      <td>0.0000</td>\n",
       "      <td>2.0000</td>\n",
       "      <td>0.0000</td>\n",
       "      <td>2.0000</td>\n",
       "      <td>0.0000</td>\n",
       "      <td>2.0000</td>\n",
       "      <td>0.0000</td>\n",
       "      <td>102.0000</td>\n",
       "      <td>0.0000</td>\n",
       "      <td>0.0000</td>\n",
       "    </tr>\n",
       "    <tr>\n",
       "      <th>208231</th>\n",
       "      <td>0</td>\n",
       "      <td>0</td>\n",
       "      <td>0</td>\n",
       "      <td>0</td>\n",
       "      <td>2.1875</td>\n",
       "      <td>0</td>\n",
       "      <td>0</td>\n",
       "      <td>0</td>\n",
       "      <td>0</td>\n",
       "      <td>0.0000</td>\n",
       "      <td>0</td>\n",
       "      <td>0</td>\n",
       "      <td>0</td>\n",
       "      <td>0</td>\n",
       "      <td>0.0000</td>\n",
       "      <td>...</td>\n",
       "      <td>2.1875</td>\n",
       "      <td>0.0000</td>\n",
       "      <td>0.0000</td>\n",
       "      <td>2.1875</td>\n",
       "      <td>0.0000</td>\n",
       "      <td>2.1875</td>\n",
       "      <td>0.0000</td>\n",
       "      <td>2.1875</td>\n",
       "      <td>0.0000</td>\n",
       "      <td>2.1875</td>\n",
       "      <td>0.0000</td>\n",
       "      <td>2.1875</td>\n",
       "      <td>0.0000</td>\n",
       "      <td>102.1875</td>\n",
       "      <td>0.0000</td>\n",
       "    </tr>\n",
       "    <tr>\n",
       "      <th>208277</th>\n",
       "      <td>0</td>\n",
       "      <td>0</td>\n",
       "      <td>0</td>\n",
       "      <td>0</td>\n",
       "      <td>0.0000</td>\n",
       "      <td>0</td>\n",
       "      <td>0</td>\n",
       "      <td>0</td>\n",
       "      <td>0</td>\n",
       "      <td>0.0000</td>\n",
       "      <td>0</td>\n",
       "      <td>0</td>\n",
       "      <td>0</td>\n",
       "      <td>0</td>\n",
       "      <td>0.0000</td>\n",
       "      <td>...</td>\n",
       "      <td>0.0000</td>\n",
       "      <td>0.0000</td>\n",
       "      <td>1.9375</td>\n",
       "      <td>0.0000</td>\n",
       "      <td>1.9375</td>\n",
       "      <td>0.0000</td>\n",
       "      <td>1.9375</td>\n",
       "      <td>0.0000</td>\n",
       "      <td>1.9375</td>\n",
       "      <td>0.0000</td>\n",
       "      <td>1.9375</td>\n",
       "      <td>0.0000</td>\n",
       "      <td>1.9375</td>\n",
       "      <td>0.0000</td>\n",
       "      <td>101.9375</td>\n",
       "    </tr>\n",
       "  </tbody>\n",
       "</table>\n",
       "<p>199 rows × 137 columns</p>\n",
       "</div>"
      ],
      "text/plain": [
       "           2024-11-05  2024-11-07  2024-11-12  2024-11-14  2024-11-15  \\\n",
       "KYTREASNO                                                               \n",
       "208246            100           0           0           0      0.0000   \n",
       "208222              0         100           0           0      0.0000   \n",
       "208247              0           0         100           0      0.0000   \n",
       "208223              0           0           0         100      0.0000   \n",
       "204083              0           0           0           0    103.7500   \n",
       "...               ...         ...         ...         ...         ...   \n",
       "208105              0           0           0           0      0.0000   \n",
       "208147              0           0           0           0      2.2500   \n",
       "208177              0           0           0           0      0.0000   \n",
       "208231              0           0           0           0      2.1875   \n",
       "208277              0           0           0           0      0.0000   \n",
       "\n",
       "           2024-11-19  2024-11-21  2024-11-26  2024-11-29  2024-11-30  \\\n",
       "KYTREASNO                                                               \n",
       "208246              0           0           0           0      0.0000   \n",
       "208222              0           0           0           0      0.0000   \n",
       "208247              0           0           0           0      0.0000   \n",
       "208223              0           0           0           0      0.0000   \n",
       "204083              0           0           0           0      0.0000   \n",
       "...               ...         ...         ...         ...         ...   \n",
       "208105              0           0           0           0      0.0000   \n",
       "208147              0           0           0           0      0.0000   \n",
       "208177              0           0           0           0      0.0000   \n",
       "208231              0           0           0           0      0.0000   \n",
       "208277              0           0           0           0      0.0000   \n",
       "\n",
       "           2024-12-03  2024-12-05  2024-12-10  2024-12-12  2024-12-15  ...  \\\n",
       "KYTREASNO                                                              ...   \n",
       "208246              0           0           0           0      0.0000  ...   \n",
       "208222              0           0           0           0      0.0000  ...   \n",
       "208247              0           0           0           0      0.0000  ...   \n",
       "208223              0           0           0           0      0.0000  ...   \n",
       "204083              0           0           0           0      0.0000  ...   \n",
       "...               ...         ...         ...         ...         ...  ...   \n",
       "208105              0           0           0           0      0.0000  ...   \n",
       "208147              0           0           0           0      0.0000  ...   \n",
       "208177              0           0           0           0      0.0000  ...   \n",
       "208231              0           0           0           0      0.0000  ...   \n",
       "208277              0           0           0           0      0.0000  ...   \n",
       "\n",
       "           2031-05-15  2031-07-31  2031-08-15  2031-11-15  2032-02-15  \\\n",
       "KYTREASNO                                                               \n",
       "208246         0.0000      0.0000      0.0000      0.0000      0.0000   \n",
       "208222         0.0000      0.0000      0.0000      0.0000      0.0000   \n",
       "208247         0.0000      0.0000      0.0000      0.0000      0.0000   \n",
       "208223         0.0000      0.0000      0.0000      0.0000      0.0000   \n",
       "204083         0.0000      0.0000      0.0000      0.0000      0.0000   \n",
       "...               ...         ...         ...         ...         ...   \n",
       "208105         0.0000      0.0000      1.9375      0.0000      1.9375   \n",
       "208147         2.2500      0.0000      0.0000      2.2500      0.0000   \n",
       "208177         0.0000      0.0000      2.0000      0.0000      2.0000   \n",
       "208231         2.1875      0.0000      0.0000      2.1875      0.0000   \n",
       "208277         0.0000      0.0000      1.9375      0.0000      1.9375   \n",
       "\n",
       "           2032-05-15  2032-08-15  2032-11-15  2033-02-15  2033-05-15  \\\n",
       "KYTREASNO                                                               \n",
       "208246         0.0000      0.0000      0.0000      0.0000      0.0000   \n",
       "208222         0.0000      0.0000      0.0000      0.0000      0.0000   \n",
       "208247         0.0000      0.0000      0.0000      0.0000      0.0000   \n",
       "208223         0.0000      0.0000      0.0000      0.0000      0.0000   \n",
       "204083         0.0000      0.0000      0.0000      0.0000      0.0000   \n",
       "...               ...         ...         ...         ...         ...   \n",
       "208105         0.0000      1.9375      0.0000      1.9375      0.0000   \n",
       "208147         2.2500      0.0000      2.2500      0.0000      2.2500   \n",
       "208177         0.0000      2.0000      0.0000      2.0000      0.0000   \n",
       "208231         2.1875      0.0000      2.1875      0.0000      2.1875   \n",
       "208277         0.0000      1.9375      0.0000      1.9375      0.0000   \n",
       "\n",
       "           2033-08-15  2033-11-15  2034-02-15  2034-05-15  2034-08-15  \n",
       "KYTREASNO                                                              \n",
       "208246         0.0000      0.0000      0.0000      0.0000      0.0000  \n",
       "208222         0.0000      0.0000      0.0000      0.0000      0.0000  \n",
       "208247         0.0000      0.0000      0.0000      0.0000      0.0000  \n",
       "208223         0.0000      0.0000      0.0000      0.0000      0.0000  \n",
       "204083         0.0000      0.0000      0.0000      0.0000      0.0000  \n",
       "...               ...         ...         ...         ...         ...  \n",
       "208105       101.9375      0.0000      0.0000      0.0000      0.0000  \n",
       "208147         0.0000    102.2500      0.0000      0.0000      0.0000  \n",
       "208177         2.0000      0.0000    102.0000      0.0000      0.0000  \n",
       "208231         0.0000      2.1875      0.0000    102.1875      0.0000  \n",
       "208277         1.9375      0.0000      1.9375      0.0000    101.9375  \n",
       "\n",
       "[199 rows x 137 columns]"
      ]
     },
     "metadata": {},
     "output_type": "display_data"
    }
   ],
   "source": [
    "RESTRICT_YLD = True\n",
    "RESTRICT_TIPS = True\n",
    "\n",
    "RESTRICT_DTS_MATURING = True\n",
    "RESTRICT_REDUNDANT = False\n",
    "\n",
    "\n",
    "label = 'no non-maturity dates'\n",
    "\n",
    "treasuries_OLS = filter_treasuries(treasuries_all, date_curr=t_curr_date, filter_tips=RESTRICT_TIPS, filter_yld=RESTRICT_YLD, drop_duplicate_maturities=RESTRICT_REDUNDANT)\n",
    "cf_ols = filter_treasury_cashflows(calc_treasury_cashflows(treasuries_OLS), filter_maturity_dates=RESTRICT_DTS_MATURING)\n",
    "\n",
    "cf_set[label] = cf_ols\n",
    "\n",
    "display(cf_ols)\n"
   ]
  },
  {
   "cell_type": "code",
   "execution_count": 18,
   "id": "cc9f4d75",
   "metadata": {},
   "outputs": [
    {
     "data": {
      "application/vnd.plotly.v1+json": {
       "config": {
        "plotlyServerURL": "https://plot.ly"
       },
       "data": [
        {
         "hovertemplate": "Time to Maturity=%{x}<br>Interest Rates=%{y}<extra></extra>",
         "legendgroup": "",
         "line": {
          "color": "#636efa",
          "dash": "solid"
         },
         "marker": {
          "symbol": "circle"
         },
         "mode": "lines+markers",
         "name": "",
         "orientation": "v",
         "showlegend": false,
         "type": "scatter",
         "x": [
          0.013689253935660506,
          0.019164955509924708,
          0.03285420944558522,
          0.038329911019849415,
          0.04106776180698152,
          0.05201916495550993,
          0.057494866529774126,
          0.07118412046543464,
          0.07939767282683094,
          0.08213552361396304,
          0.09034907597535935,
          0.09582477754962354,
          0.10951403148528405,
          0.11498973305954825,
          0.12320328542094455,
          0.12867898699520877,
          0.13415468856947296,
          0.14784394250513347,
          0.15331964407939766,
          0.16700889801505817,
          0.17248459958932238,
          0.1861738535249829,
          0.19164955509924708,
          0.2053388090349076,
          0.2080766598220397,
          0.2108145106091718,
          0.2245037645448323,
          0.2299794661190965,
          0.243668720054757,
          0.24914442162902123,
          0.2518822724161533,
          0.26283367556468173,
          0.2683093771389459,
          0.28199863107460643,
          0.2874743326488706,
          0.2929500342231348,
          0.30116358658453113,
          0.3066392881587953,
          0.3203285420944558,
          0.3258042436687201,
          0.32854209445585214,
          0.3394934976043806,
          0.34496919917864477,
          0.36413415468856947,
          0.36960985626283366,
          0.38329911019849416,
          0.4024640657084189,
          0.4134154688569473,
          0.4216290212183436,
          0.4407939767282683,
          0.4544832306639288,
          0.459958932238193,
          0.4791238877481177,
          0.49555099247091033,
          0.49828884325804246,
          0.5366187542778919,
          0.5804243668720055,
          0.6132785763175906,
          0.621492128678987,
          0.6899383983572895,
          0.70362765229295,
          0.7474332648870636,
          0.7665982203969883,
          0.7885010266940452,
          0.8323066392881588,
          0.8432580424366872,
          0.8733744010951403,
          0.919917864476386,
          0.9555099247091033,
          0.9965776865160849,
          0.999315537303217,
          1.0403832991101984,
          1.1225188227241616,
          1.2073921971252566,
          1.2511978097193703,
          1.2922655715263518,
          1.3689253935660506,
          1.4537987679671458,
          1.4948665297741273,
          1.5359342915811087,
          1.620807665982204,
          1.702943189596167,
          1.7467488021902806,
          1.787816563997262,
          1.8726899383983573,
          1.9548254620123204,
          1.998631074606434,
          2.0396988364134154,
          2.1218343600273784,
          2.206707734428474,
          2.2505133470225873,
          2.291581108829569,
          2.3682409308692676,
          2.4531143052703626,
          2.535249828884326,
          2.620123203285421,
          2.702258726899384,
          2.746064339493498,
          2.7871321013004793,
          2.8720054757015743,
          2.954140999315537,
          3.0390143737166326,
          3.249828884325804,
          3.2908966461327855,
          3.5373032169746748,
          3.7481177275838466,
          3.789185489390828,
          4.041067761806982,
          4.251882272416153,
          4.292950034223135,
          4.5366187542778915,
          4.747433264887063,
          4.788501026694045,
          5.040383299110198,
          5.25119780971937,
          5.292265571526352,
          5.535934291581109,
          5.746748802190281,
          5.7878165639972625,
          6.039698836413415,
          6.250513347022587,
          6.291581108829569,
          6.535249828884326,
          6.746064339493498,
          6.787132101300479,
          7.039014373716633,
          7.2908966461327855,
          7.537303216974675,
          7.789185489390828,
          8.041067761806982,
          8.292950034223136,
          8.536618754277892,
          8.788501026694044,
          9.040383299110198,
          9.292265571526352,
          9.535934291581109,
          9.787816563997263
         ],
         "xaxis": "x",
         "y": [
          0.9994786115,
          0.999224389,
          0.998576111,
          0.9983275134999999,
          0.9981874647971107,
          0.9976911670000015,
          0.9974406665000001,
          0.9968100694999997,
          0.9964287040000004,
          0.9962542249653727,
          0.9959376295000014,
          0.995662403,
          0.9950529579999982,
          0.9947851414999983,
          0.9943909057744069,
          0.9941631110000003,
          0.9939399999999994,
          0.9932645829999994,
          0.9930274129999996,
          0.9925049823685876,
          0.9922349304999991,
          0.9916994445000006,
          0.9914516665000006,
          0.9908635695000008,
          0.9906506017996568,
          0.9906013335000001,
          0.9899959369999998,
          0.9897850055000024,
          0.9891439165000004,
          0.9889147500000004,
          0.9887500808006946,
          0.9882960325000004,
          0.9880541805000009,
          0.9874454999999993,
          0.9872166665000011,
          0.9870738701030038,
          0.9865970370000006,
          0.9863870834999986,
          0.9857497220000022,
          0.9855728610000017,
          0.9852532101745741,
          0.9854018399999978,
          0.984817708499998,
          0.9839904165000002,
          0.9836697714062709,
          0.9831285530000008,
          0.9823025694999992,
          0.9819228439190494,
          0.9815068329999987,
          0.9807977774999999,
          0.9804350767712204,
          0.9799785559999996,
          0.9791562499999991,
          0.9782837807476084,
          0.9783617010000001,
          0.9767360132003631,
          0.9747744064968997,
          0.9742543400000012,
          0.9735679050291252,
          0.971162540000001,
          0.9705098047281684,
          0.9681413381726677,
          0.9679266250000003,
          0.9673678267395853,
          0.9644751976174861,
          0.9647184514999988,
          0.9633494224201906,
          0.9619588889999997,
          0.9600839123493226,
          0.9588081219484489,
          0.9581642015279406,
          0.9565640895174086,
          0.9536038392127854,
          0.950620587842766,
          0.9488494132083408,
          0.9479579513147308,
          0.9441362882990509,
          0.9410179706526139,
          0.9394323147502023,
          0.9379308884103563,
          0.934766489682249,
          0.9317084771303579,
          0.930144577965184,
          0.9295915104833252,
          0.9256791763460487,
          0.9227311421753996,
          0.9211332886164095,
          0.9215096122119271,
          0.916657138797248,
          0.9136663264752604,
          0.9121319447935884,
          0.9120643921986745,
          0.9077951378150952,
          0.9045835473683852,
          0.9013267102785443,
          0.8986644143188236,
          0.8954391587349881,
          0.8936335588387546,
          0.8924994939338742,
          0.8896646428723413,
          0.8864582302859854,
          0.8834723819890088,
          0.8753209986938092,
          0.8735886157374535,
          0.8645357404927041,
          0.8570935489048505,
          0.85744538347465,
          0.8470649764784335,
          0.8393071977530266,
          0.8401450147621468,
          0.8297511976386596,
          0.8225406890033814,
          0.8216357379125414,
          0.8143207401740441,
          0.8049528107200493,
          0.8031696099907608,
          0.7948662526252637,
          0.7877786655126588,
          0.7861377700041674,
          0.7793064620730488,
          0.7705129382477038,
          0.7718534316298697,
          0.7608448694995498,
          0.7538558134927843,
          0.7526968793328234,
          0.7442102231386187,
          0.7358962917639524,
          0.7278800457682832,
          0.7201700361237576,
          0.7134883825811476,
          0.7044492715418906,
          0.6968162382728129,
          0.6887993809862001,
          0.6813809441210269,
          0.6737162655458073,
          0.6664923400403934,
          0.6594535900343355
         ],
         "yaxis": "y"
        }
       ],
       "layout": {
        "legend": {
         "tracegroupgap": 0
        },
        "showlegend": false,
        "template": {
         "data": {
          "bar": [
           {
            "error_x": {
             "color": "#2a3f5f"
            },
            "error_y": {
             "color": "#2a3f5f"
            },
            "marker": {
             "line": {
              "color": "#E5ECF6",
              "width": 0.5
             },
             "pattern": {
              "fillmode": "overlay",
              "size": 10,
              "solidity": 0.2
             }
            },
            "type": "bar"
           }
          ],
          "barpolar": [
           {
            "marker": {
             "line": {
              "color": "#E5ECF6",
              "width": 0.5
             },
             "pattern": {
              "fillmode": "overlay",
              "size": 10,
              "solidity": 0.2
             }
            },
            "type": "barpolar"
           }
          ],
          "carpet": [
           {
            "aaxis": {
             "endlinecolor": "#2a3f5f",
             "gridcolor": "white",
             "linecolor": "white",
             "minorgridcolor": "white",
             "startlinecolor": "#2a3f5f"
            },
            "baxis": {
             "endlinecolor": "#2a3f5f",
             "gridcolor": "white",
             "linecolor": "white",
             "minorgridcolor": "white",
             "startlinecolor": "#2a3f5f"
            },
            "type": "carpet"
           }
          ],
          "choropleth": [
           {
            "colorbar": {
             "outlinewidth": 0,
             "ticks": ""
            },
            "type": "choropleth"
           }
          ],
          "contour": [
           {
            "colorbar": {
             "outlinewidth": 0,
             "ticks": ""
            },
            "colorscale": [
             [
              0,
              "#0d0887"
             ],
             [
              0.1111111111111111,
              "#46039f"
             ],
             [
              0.2222222222222222,
              "#7201a8"
             ],
             [
              0.3333333333333333,
              "#9c179e"
             ],
             [
              0.4444444444444444,
              "#bd3786"
             ],
             [
              0.5555555555555556,
              "#d8576b"
             ],
             [
              0.6666666666666666,
              "#ed7953"
             ],
             [
              0.7777777777777778,
              "#fb9f3a"
             ],
             [
              0.8888888888888888,
              "#fdca26"
             ],
             [
              1,
              "#f0f921"
             ]
            ],
            "type": "contour"
           }
          ],
          "contourcarpet": [
           {
            "colorbar": {
             "outlinewidth": 0,
             "ticks": ""
            },
            "type": "contourcarpet"
           }
          ],
          "heatmap": [
           {
            "colorbar": {
             "outlinewidth": 0,
             "ticks": ""
            },
            "colorscale": [
             [
              0,
              "#0d0887"
             ],
             [
              0.1111111111111111,
              "#46039f"
             ],
             [
              0.2222222222222222,
              "#7201a8"
             ],
             [
              0.3333333333333333,
              "#9c179e"
             ],
             [
              0.4444444444444444,
              "#bd3786"
             ],
             [
              0.5555555555555556,
              "#d8576b"
             ],
             [
              0.6666666666666666,
              "#ed7953"
             ],
             [
              0.7777777777777778,
              "#fb9f3a"
             ],
             [
              0.8888888888888888,
              "#fdca26"
             ],
             [
              1,
              "#f0f921"
             ]
            ],
            "type": "heatmap"
           }
          ],
          "heatmapgl": [
           {
            "colorbar": {
             "outlinewidth": 0,
             "ticks": ""
            },
            "colorscale": [
             [
              0,
              "#0d0887"
             ],
             [
              0.1111111111111111,
              "#46039f"
             ],
             [
              0.2222222222222222,
              "#7201a8"
             ],
             [
              0.3333333333333333,
              "#9c179e"
             ],
             [
              0.4444444444444444,
              "#bd3786"
             ],
             [
              0.5555555555555556,
              "#d8576b"
             ],
             [
              0.6666666666666666,
              "#ed7953"
             ],
             [
              0.7777777777777778,
              "#fb9f3a"
             ],
             [
              0.8888888888888888,
              "#fdca26"
             ],
             [
              1,
              "#f0f921"
             ]
            ],
            "type": "heatmapgl"
           }
          ],
          "histogram": [
           {
            "marker": {
             "pattern": {
              "fillmode": "overlay",
              "size": 10,
              "solidity": 0.2
             }
            },
            "type": "histogram"
           }
          ],
          "histogram2d": [
           {
            "colorbar": {
             "outlinewidth": 0,
             "ticks": ""
            },
            "colorscale": [
             [
              0,
              "#0d0887"
             ],
             [
              0.1111111111111111,
              "#46039f"
             ],
             [
              0.2222222222222222,
              "#7201a8"
             ],
             [
              0.3333333333333333,
              "#9c179e"
             ],
             [
              0.4444444444444444,
              "#bd3786"
             ],
             [
              0.5555555555555556,
              "#d8576b"
             ],
             [
              0.6666666666666666,
              "#ed7953"
             ],
             [
              0.7777777777777778,
              "#fb9f3a"
             ],
             [
              0.8888888888888888,
              "#fdca26"
             ],
             [
              1,
              "#f0f921"
             ]
            ],
            "type": "histogram2d"
           }
          ],
          "histogram2dcontour": [
           {
            "colorbar": {
             "outlinewidth": 0,
             "ticks": ""
            },
            "colorscale": [
             [
              0,
              "#0d0887"
             ],
             [
              0.1111111111111111,
              "#46039f"
             ],
             [
              0.2222222222222222,
              "#7201a8"
             ],
             [
              0.3333333333333333,
              "#9c179e"
             ],
             [
              0.4444444444444444,
              "#bd3786"
             ],
             [
              0.5555555555555556,
              "#d8576b"
             ],
             [
              0.6666666666666666,
              "#ed7953"
             ],
             [
              0.7777777777777778,
              "#fb9f3a"
             ],
             [
              0.8888888888888888,
              "#fdca26"
             ],
             [
              1,
              "#f0f921"
             ]
            ],
            "type": "histogram2dcontour"
           }
          ],
          "mesh3d": [
           {
            "colorbar": {
             "outlinewidth": 0,
             "ticks": ""
            },
            "type": "mesh3d"
           }
          ],
          "parcoords": [
           {
            "line": {
             "colorbar": {
              "outlinewidth": 0,
              "ticks": ""
             }
            },
            "type": "parcoords"
           }
          ],
          "pie": [
           {
            "automargin": true,
            "type": "pie"
           }
          ],
          "scatter": [
           {
            "fillpattern": {
             "fillmode": "overlay",
             "size": 10,
             "solidity": 0.2
            },
            "type": "scatter"
           }
          ],
          "scatter3d": [
           {
            "line": {
             "colorbar": {
              "outlinewidth": 0,
              "ticks": ""
             }
            },
            "marker": {
             "colorbar": {
              "outlinewidth": 0,
              "ticks": ""
             }
            },
            "type": "scatter3d"
           }
          ],
          "scattercarpet": [
           {
            "marker": {
             "colorbar": {
              "outlinewidth": 0,
              "ticks": ""
             }
            },
            "type": "scattercarpet"
           }
          ],
          "scattergeo": [
           {
            "marker": {
             "colorbar": {
              "outlinewidth": 0,
              "ticks": ""
             }
            },
            "type": "scattergeo"
           }
          ],
          "scattergl": [
           {
            "marker": {
             "colorbar": {
              "outlinewidth": 0,
              "ticks": ""
             }
            },
            "type": "scattergl"
           }
          ],
          "scattermapbox": [
           {
            "marker": {
             "colorbar": {
              "outlinewidth": 0,
              "ticks": ""
             }
            },
            "type": "scattermapbox"
           }
          ],
          "scatterpolar": [
           {
            "marker": {
             "colorbar": {
              "outlinewidth": 0,
              "ticks": ""
             }
            },
            "type": "scatterpolar"
           }
          ],
          "scatterpolargl": [
           {
            "marker": {
             "colorbar": {
              "outlinewidth": 0,
              "ticks": ""
             }
            },
            "type": "scatterpolargl"
           }
          ],
          "scatterternary": [
           {
            "marker": {
             "colorbar": {
              "outlinewidth": 0,
              "ticks": ""
             }
            },
            "type": "scatterternary"
           }
          ],
          "surface": [
           {
            "colorbar": {
             "outlinewidth": 0,
             "ticks": ""
            },
            "colorscale": [
             [
              0,
              "#0d0887"
             ],
             [
              0.1111111111111111,
              "#46039f"
             ],
             [
              0.2222222222222222,
              "#7201a8"
             ],
             [
              0.3333333333333333,
              "#9c179e"
             ],
             [
              0.4444444444444444,
              "#bd3786"
             ],
             [
              0.5555555555555556,
              "#d8576b"
             ],
             [
              0.6666666666666666,
              "#ed7953"
             ],
             [
              0.7777777777777778,
              "#fb9f3a"
             ],
             [
              0.8888888888888888,
              "#fdca26"
             ],
             [
              1,
              "#f0f921"
             ]
            ],
            "type": "surface"
           }
          ],
          "table": [
           {
            "cells": {
             "fill": {
              "color": "#EBF0F8"
             },
             "line": {
              "color": "white"
             }
            },
            "header": {
             "fill": {
              "color": "#C8D4E3"
             },
             "line": {
              "color": "white"
             }
            },
            "type": "table"
           }
          ]
         },
         "layout": {
          "annotationdefaults": {
           "arrowcolor": "#2a3f5f",
           "arrowhead": 0,
           "arrowwidth": 1
          },
          "autotypenumbers": "strict",
          "coloraxis": {
           "colorbar": {
            "outlinewidth": 0,
            "ticks": ""
           }
          },
          "colorscale": {
           "diverging": [
            [
             0,
             "#8e0152"
            ],
            [
             0.1,
             "#c51b7d"
            ],
            [
             0.2,
             "#de77ae"
            ],
            [
             0.3,
             "#f1b6da"
            ],
            [
             0.4,
             "#fde0ef"
            ],
            [
             0.5,
             "#f7f7f7"
            ],
            [
             0.6,
             "#e6f5d0"
            ],
            [
             0.7,
             "#b8e186"
            ],
            [
             0.8,
             "#7fbc41"
            ],
            [
             0.9,
             "#4d9221"
            ],
            [
             1,
             "#276419"
            ]
           ],
           "sequential": [
            [
             0,
             "#0d0887"
            ],
            [
             0.1111111111111111,
             "#46039f"
            ],
            [
             0.2222222222222222,
             "#7201a8"
            ],
            [
             0.3333333333333333,
             "#9c179e"
            ],
            [
             0.4444444444444444,
             "#bd3786"
            ],
            [
             0.5555555555555556,
             "#d8576b"
            ],
            [
             0.6666666666666666,
             "#ed7953"
            ],
            [
             0.7777777777777778,
             "#fb9f3a"
            ],
            [
             0.8888888888888888,
             "#fdca26"
            ],
            [
             1,
             "#f0f921"
            ]
           ],
           "sequentialminus": [
            [
             0,
             "#0d0887"
            ],
            [
             0.1111111111111111,
             "#46039f"
            ],
            [
             0.2222222222222222,
             "#7201a8"
            ],
            [
             0.3333333333333333,
             "#9c179e"
            ],
            [
             0.4444444444444444,
             "#bd3786"
            ],
            [
             0.5555555555555556,
             "#d8576b"
            ],
            [
             0.6666666666666666,
             "#ed7953"
            ],
            [
             0.7777777777777778,
             "#fb9f3a"
            ],
            [
             0.8888888888888888,
             "#fdca26"
            ],
            [
             1,
             "#f0f921"
            ]
           ]
          },
          "colorway": [
           "#636efa",
           "#EF553B",
           "#00cc96",
           "#ab63fa",
           "#FFA15A",
           "#19d3f3",
           "#FF6692",
           "#B6E880",
           "#FF97FF",
           "#FECB52"
          ],
          "font": {
           "color": "#2a3f5f"
          },
          "geo": {
           "bgcolor": "white",
           "lakecolor": "white",
           "landcolor": "#E5ECF6",
           "showlakes": true,
           "showland": true,
           "subunitcolor": "white"
          },
          "hoverlabel": {
           "align": "left"
          },
          "hovermode": "closest",
          "mapbox": {
           "style": "light"
          },
          "paper_bgcolor": "white",
          "plot_bgcolor": "#E5ECF6",
          "polar": {
           "angularaxis": {
            "gridcolor": "white",
            "linecolor": "white",
            "ticks": ""
           },
           "bgcolor": "#E5ECF6",
           "radialaxis": {
            "gridcolor": "white",
            "linecolor": "white",
            "ticks": ""
           }
          },
          "scene": {
           "xaxis": {
            "backgroundcolor": "#E5ECF6",
            "gridcolor": "white",
            "gridwidth": 2,
            "linecolor": "white",
            "showbackground": true,
            "ticks": "",
            "zerolinecolor": "white"
           },
           "yaxis": {
            "backgroundcolor": "#E5ECF6",
            "gridcolor": "white",
            "gridwidth": 2,
            "linecolor": "white",
            "showbackground": true,
            "ticks": "",
            "zerolinecolor": "white"
           },
           "zaxis": {
            "backgroundcolor": "#E5ECF6",
            "gridcolor": "white",
            "gridwidth": 2,
            "linecolor": "white",
            "showbackground": true,
            "ticks": "",
            "zerolinecolor": "white"
           }
          },
          "shapedefaults": {
           "line": {
            "color": "#2a3f5f"
           }
          },
          "ternary": {
           "aaxis": {
            "gridcolor": "white",
            "linecolor": "white",
            "ticks": ""
           },
           "baxis": {
            "gridcolor": "white",
            "linecolor": "white",
            "ticks": ""
           },
           "bgcolor": "#E5ECF6",
           "caxis": {
            "gridcolor": "white",
            "linecolor": "white",
            "ticks": ""
           }
          },
          "title": {
           "x": 0.05
          },
          "xaxis": {
           "automargin": true,
           "gridcolor": "white",
           "linecolor": "white",
           "ticks": "",
           "title": {
            "standoff": 15
           },
           "zerolinecolor": "white",
           "zerolinewidth": 2
          },
          "yaxis": {
           "automargin": true,
           "gridcolor": "white",
           "linecolor": "white",
           "ticks": "",
           "title": {
            "standoff": 15
           },
           "zerolinecolor": "white",
           "zerolinewidth": 2
          }
         }
        },
        "title": {
         "text": "Discount Curve: OLS"
        },
        "xaxis": {
         "anchor": "y",
         "domain": [
          0,
          1
         ],
         "title": {
          "text": "Time to Maturity"
         }
        },
        "yaxis": {
         "anchor": "x",
         "domain": [
          0,
          1
         ],
         "dtick": 0.05,
         "gridcolor": "lightgrey",
         "showgrid": true,
         "tickformat": ".4f",
         "title": {
          "text": "Interest Rates"
         }
        }
       }
      }
     },
     "metadata": {},
     "output_type": "display_data"
    }
   ],
   "source": [
    "# Perform OLS\n",
    "prices_filtered = treasuries_OLS['dirty price'][cf_ols.index]\n",
    "params_OLS = estimate_rate_curve(model_name='OLS', cf=cf_ols, prices=prices_filtered, date_current=t_curr_date)\n",
    "maturities_ols = params_OLS\n",
    "\n",
    "fig = px.line(\n",
    "    x=params_OLS[0], \n",
    "    y=params_OLS[1],\n",
    "    labels={\"x\": \"Time to Maturity\", \"y\": \"Interest Rates\"}, \n",
    "    title=\"Discount Curve: OLS\",\n",
    "    markers=True\n",
    ")\n",
    "fig.update_layout(\n",
    "    showlegend=False,\n",
    "    yaxis=dict(\n",
    "        tickformat=\".4f\",\n",
    "        gridcolor='lightgrey',\n",
    "        showgrid=True,  # Ensure grid is enabled on the y-axis\n",
    "        dtick=0.05  # Set y-axis tickers every 0.05\n",
    "    )\n",
    ")\n",
    "fig.show()"
   ]
  },
  {
   "cell_type": "code",
   "execution_count": 19,
   "id": "aec6d5cc",
   "metadata": {},
   "outputs": [
    {
     "data": {
      "application/vnd.plotly.v1+json": {
       "config": {
        "plotlyServerURL": "https://plot.ly"
       },
       "data": [
        {
         "hovertemplate": "variable=bootstrap<br>index=%{x}<br>value=%{y}<extra></extra>",
         "legendgroup": "bootstrap",
         "line": {
          "color": "#636efa",
          "dash": "solid"
         },
         "marker": {
          "symbol": "circle"
         },
         "mode": "lines+markers",
         "name": "bootstrap",
         "orientation": "v",
         "showlegend": true,
         "type": "scatter",
         "x": [
          0.5,
          1,
          1.5,
          2,
          2.5,
          3,
          3.5,
          4,
          4.5,
          5,
          5.5,
          6,
          6.5,
          7,
          7.5,
          8,
          8.5,
          9,
          9.5,
          10
         ],
         "xaxis": "x",
         "y": [
          0.0439198921386925,
          0.0427162235234533,
          0.041826715720062,
          0.04112112882348927,
          0.04093539061565408,
          0.04088148917911818,
          0.041136143361992505,
          0.0407745730246729,
          0.041144976671618205,
          0.04082554764628583,
          0.04146490459877858,
          0.04133001238792673,
          0.04172071843398478,
          0.041951886769209835,
          0.04212483496714954,
          0.04200566453640928,
          0.042302895785438124,
          0.042429886805231444,
          0.04253756255134976,
          0.042558356658196544
         ],
         "yaxis": "y"
        },
        {
         "hovertemplate": "variable=ols<br>index=%{x}<br>value=%{y}<extra></extra>",
         "legendgroup": "ols",
         "line": {
          "color": "#EF553B",
          "dash": "solid"
         },
         "marker": {
          "symbol": "circle"
         },
         "mode": "lines+markers",
         "name": "ols",
         "orientation": "v",
         "showlegend": true,
         "type": "scatter",
         "x": [
          0.5,
          1,
          1.5,
          2,
          2.5,
          3,
          3.5,
          4,
          4.5,
          5,
          5.5,
          6,
          6.5,
          7,
          7.5,
          8,
          8.5,
          9,
          9.5,
          10
         ],
         "xaxis": "x",
         "y": [
          0.04390028439122729,
          0.042764026497660965,
          0.04178652460790131,
          0.04106913817629381,
          0.04093502097103235,
          0.04078164068167225,
          0.04113798849024997,
          0.04099383740938089,
          0.04105356055739514,
          0.04079530992294798,
          0.04146313068207182,
          0.041330834034567075,
          0.04172733522657953,
          0.04195309699520459,
          0.04212778545974909,
          0.042009362127355246,
          0.0423051895102328,
          0.04243301191402027,
          0.042540575137218026,
          0.042528340330343826
         ],
         "yaxis": "y"
        }
       ],
       "layout": {
        "legend": {
         "title": {
          "text": "variable"
         },
         "tracegroupgap": 0
        },
        "showlegend": true,
        "template": {
         "data": {
          "bar": [
           {
            "error_x": {
             "color": "#2a3f5f"
            },
            "error_y": {
             "color": "#2a3f5f"
            },
            "marker": {
             "line": {
              "color": "#E5ECF6",
              "width": 0.5
             },
             "pattern": {
              "fillmode": "overlay",
              "size": 10,
              "solidity": 0.2
             }
            },
            "type": "bar"
           }
          ],
          "barpolar": [
           {
            "marker": {
             "line": {
              "color": "#E5ECF6",
              "width": 0.5
             },
             "pattern": {
              "fillmode": "overlay",
              "size": 10,
              "solidity": 0.2
             }
            },
            "type": "barpolar"
           }
          ],
          "carpet": [
           {
            "aaxis": {
             "endlinecolor": "#2a3f5f",
             "gridcolor": "white",
             "linecolor": "white",
             "minorgridcolor": "white",
             "startlinecolor": "#2a3f5f"
            },
            "baxis": {
             "endlinecolor": "#2a3f5f",
             "gridcolor": "white",
             "linecolor": "white",
             "minorgridcolor": "white",
             "startlinecolor": "#2a3f5f"
            },
            "type": "carpet"
           }
          ],
          "choropleth": [
           {
            "colorbar": {
             "outlinewidth": 0,
             "ticks": ""
            },
            "type": "choropleth"
           }
          ],
          "contour": [
           {
            "colorbar": {
             "outlinewidth": 0,
             "ticks": ""
            },
            "colorscale": [
             [
              0,
              "#0d0887"
             ],
             [
              0.1111111111111111,
              "#46039f"
             ],
             [
              0.2222222222222222,
              "#7201a8"
             ],
             [
              0.3333333333333333,
              "#9c179e"
             ],
             [
              0.4444444444444444,
              "#bd3786"
             ],
             [
              0.5555555555555556,
              "#d8576b"
             ],
             [
              0.6666666666666666,
              "#ed7953"
             ],
             [
              0.7777777777777778,
              "#fb9f3a"
             ],
             [
              0.8888888888888888,
              "#fdca26"
             ],
             [
              1,
              "#f0f921"
             ]
            ],
            "type": "contour"
           }
          ],
          "contourcarpet": [
           {
            "colorbar": {
             "outlinewidth": 0,
             "ticks": ""
            },
            "type": "contourcarpet"
           }
          ],
          "heatmap": [
           {
            "colorbar": {
             "outlinewidth": 0,
             "ticks": ""
            },
            "colorscale": [
             [
              0,
              "#0d0887"
             ],
             [
              0.1111111111111111,
              "#46039f"
             ],
             [
              0.2222222222222222,
              "#7201a8"
             ],
             [
              0.3333333333333333,
              "#9c179e"
             ],
             [
              0.4444444444444444,
              "#bd3786"
             ],
             [
              0.5555555555555556,
              "#d8576b"
             ],
             [
              0.6666666666666666,
              "#ed7953"
             ],
             [
              0.7777777777777778,
              "#fb9f3a"
             ],
             [
              0.8888888888888888,
              "#fdca26"
             ],
             [
              1,
              "#f0f921"
             ]
            ],
            "type": "heatmap"
           }
          ],
          "heatmapgl": [
           {
            "colorbar": {
             "outlinewidth": 0,
             "ticks": ""
            },
            "colorscale": [
             [
              0,
              "#0d0887"
             ],
             [
              0.1111111111111111,
              "#46039f"
             ],
             [
              0.2222222222222222,
              "#7201a8"
             ],
             [
              0.3333333333333333,
              "#9c179e"
             ],
             [
              0.4444444444444444,
              "#bd3786"
             ],
             [
              0.5555555555555556,
              "#d8576b"
             ],
             [
              0.6666666666666666,
              "#ed7953"
             ],
             [
              0.7777777777777778,
              "#fb9f3a"
             ],
             [
              0.8888888888888888,
              "#fdca26"
             ],
             [
              1,
              "#f0f921"
             ]
            ],
            "type": "heatmapgl"
           }
          ],
          "histogram": [
           {
            "marker": {
             "pattern": {
              "fillmode": "overlay",
              "size": 10,
              "solidity": 0.2
             }
            },
            "type": "histogram"
           }
          ],
          "histogram2d": [
           {
            "colorbar": {
             "outlinewidth": 0,
             "ticks": ""
            },
            "colorscale": [
             [
              0,
              "#0d0887"
             ],
             [
              0.1111111111111111,
              "#46039f"
             ],
             [
              0.2222222222222222,
              "#7201a8"
             ],
             [
              0.3333333333333333,
              "#9c179e"
             ],
             [
              0.4444444444444444,
              "#bd3786"
             ],
             [
              0.5555555555555556,
              "#d8576b"
             ],
             [
              0.6666666666666666,
              "#ed7953"
             ],
             [
              0.7777777777777778,
              "#fb9f3a"
             ],
             [
              0.8888888888888888,
              "#fdca26"
             ],
             [
              1,
              "#f0f921"
             ]
            ],
            "type": "histogram2d"
           }
          ],
          "histogram2dcontour": [
           {
            "colorbar": {
             "outlinewidth": 0,
             "ticks": ""
            },
            "colorscale": [
             [
              0,
              "#0d0887"
             ],
             [
              0.1111111111111111,
              "#46039f"
             ],
             [
              0.2222222222222222,
              "#7201a8"
             ],
             [
              0.3333333333333333,
              "#9c179e"
             ],
             [
              0.4444444444444444,
              "#bd3786"
             ],
             [
              0.5555555555555556,
              "#d8576b"
             ],
             [
              0.6666666666666666,
              "#ed7953"
             ],
             [
              0.7777777777777778,
              "#fb9f3a"
             ],
             [
              0.8888888888888888,
              "#fdca26"
             ],
             [
              1,
              "#f0f921"
             ]
            ],
            "type": "histogram2dcontour"
           }
          ],
          "mesh3d": [
           {
            "colorbar": {
             "outlinewidth": 0,
             "ticks": ""
            },
            "type": "mesh3d"
           }
          ],
          "parcoords": [
           {
            "line": {
             "colorbar": {
              "outlinewidth": 0,
              "ticks": ""
             }
            },
            "type": "parcoords"
           }
          ],
          "pie": [
           {
            "automargin": true,
            "type": "pie"
           }
          ],
          "scatter": [
           {
            "fillpattern": {
             "fillmode": "overlay",
             "size": 10,
             "solidity": 0.2
            },
            "type": "scatter"
           }
          ],
          "scatter3d": [
           {
            "line": {
             "colorbar": {
              "outlinewidth": 0,
              "ticks": ""
             }
            },
            "marker": {
             "colorbar": {
              "outlinewidth": 0,
              "ticks": ""
             }
            },
            "type": "scatter3d"
           }
          ],
          "scattercarpet": [
           {
            "marker": {
             "colorbar": {
              "outlinewidth": 0,
              "ticks": ""
             }
            },
            "type": "scattercarpet"
           }
          ],
          "scattergeo": [
           {
            "marker": {
             "colorbar": {
              "outlinewidth": 0,
              "ticks": ""
             }
            },
            "type": "scattergeo"
           }
          ],
          "scattergl": [
           {
            "marker": {
             "colorbar": {
              "outlinewidth": 0,
              "ticks": ""
             }
            },
            "type": "scattergl"
           }
          ],
          "scattermapbox": [
           {
            "marker": {
             "colorbar": {
              "outlinewidth": 0,
              "ticks": ""
             }
            },
            "type": "scattermapbox"
           }
          ],
          "scatterpolar": [
           {
            "marker": {
             "colorbar": {
              "outlinewidth": 0,
              "ticks": ""
             }
            },
            "type": "scatterpolar"
           }
          ],
          "scatterpolargl": [
           {
            "marker": {
             "colorbar": {
              "outlinewidth": 0,
              "ticks": ""
             }
            },
            "type": "scatterpolargl"
           }
          ],
          "scatterternary": [
           {
            "marker": {
             "colorbar": {
              "outlinewidth": 0,
              "ticks": ""
             }
            },
            "type": "scatterternary"
           }
          ],
          "surface": [
           {
            "colorbar": {
             "outlinewidth": 0,
             "ticks": ""
            },
            "colorscale": [
             [
              0,
              "#0d0887"
             ],
             [
              0.1111111111111111,
              "#46039f"
             ],
             [
              0.2222222222222222,
              "#7201a8"
             ],
             [
              0.3333333333333333,
              "#9c179e"
             ],
             [
              0.4444444444444444,
              "#bd3786"
             ],
             [
              0.5555555555555556,
              "#d8576b"
             ],
             [
              0.6666666666666666,
              "#ed7953"
             ],
             [
              0.7777777777777778,
              "#fb9f3a"
             ],
             [
              0.8888888888888888,
              "#fdca26"
             ],
             [
              1,
              "#f0f921"
             ]
            ],
            "type": "surface"
           }
          ],
          "table": [
           {
            "cells": {
             "fill": {
              "color": "#EBF0F8"
             },
             "line": {
              "color": "white"
             }
            },
            "header": {
             "fill": {
              "color": "#C8D4E3"
             },
             "line": {
              "color": "white"
             }
            },
            "type": "table"
           }
          ]
         },
         "layout": {
          "annotationdefaults": {
           "arrowcolor": "#2a3f5f",
           "arrowhead": 0,
           "arrowwidth": 1
          },
          "autotypenumbers": "strict",
          "coloraxis": {
           "colorbar": {
            "outlinewidth": 0,
            "ticks": ""
           }
          },
          "colorscale": {
           "diverging": [
            [
             0,
             "#8e0152"
            ],
            [
             0.1,
             "#c51b7d"
            ],
            [
             0.2,
             "#de77ae"
            ],
            [
             0.3,
             "#f1b6da"
            ],
            [
             0.4,
             "#fde0ef"
            ],
            [
             0.5,
             "#f7f7f7"
            ],
            [
             0.6,
             "#e6f5d0"
            ],
            [
             0.7,
             "#b8e186"
            ],
            [
             0.8,
             "#7fbc41"
            ],
            [
             0.9,
             "#4d9221"
            ],
            [
             1,
             "#276419"
            ]
           ],
           "sequential": [
            [
             0,
             "#0d0887"
            ],
            [
             0.1111111111111111,
             "#46039f"
            ],
            [
             0.2222222222222222,
             "#7201a8"
            ],
            [
             0.3333333333333333,
             "#9c179e"
            ],
            [
             0.4444444444444444,
             "#bd3786"
            ],
            [
             0.5555555555555556,
             "#d8576b"
            ],
            [
             0.6666666666666666,
             "#ed7953"
            ],
            [
             0.7777777777777778,
             "#fb9f3a"
            ],
            [
             0.8888888888888888,
             "#fdca26"
            ],
            [
             1,
             "#f0f921"
            ]
           ],
           "sequentialminus": [
            [
             0,
             "#0d0887"
            ],
            [
             0.1111111111111111,
             "#46039f"
            ],
            [
             0.2222222222222222,
             "#7201a8"
            ],
            [
             0.3333333333333333,
             "#9c179e"
            ],
            [
             0.4444444444444444,
             "#bd3786"
            ],
            [
             0.5555555555555556,
             "#d8576b"
            ],
            [
             0.6666666666666666,
             "#ed7953"
            ],
            [
             0.7777777777777778,
             "#fb9f3a"
            ],
            [
             0.8888888888888888,
             "#fdca26"
            ],
            [
             1,
             "#f0f921"
            ]
           ]
          },
          "colorway": [
           "#636efa",
           "#EF553B",
           "#00cc96",
           "#ab63fa",
           "#FFA15A",
           "#19d3f3",
           "#FF6692",
           "#B6E880",
           "#FF97FF",
           "#FECB52"
          ],
          "font": {
           "color": "#2a3f5f"
          },
          "geo": {
           "bgcolor": "white",
           "lakecolor": "white",
           "landcolor": "#E5ECF6",
           "showlakes": true,
           "showland": true,
           "subunitcolor": "white"
          },
          "hoverlabel": {
           "align": "left"
          },
          "hovermode": "closest",
          "mapbox": {
           "style": "light"
          },
          "paper_bgcolor": "white",
          "plot_bgcolor": "#E5ECF6",
          "polar": {
           "angularaxis": {
            "gridcolor": "white",
            "linecolor": "white",
            "ticks": ""
           },
           "bgcolor": "#E5ECF6",
           "radialaxis": {
            "gridcolor": "white",
            "linecolor": "white",
            "ticks": ""
           }
          },
          "scene": {
           "xaxis": {
            "backgroundcolor": "#E5ECF6",
            "gridcolor": "white",
            "gridwidth": 2,
            "linecolor": "white",
            "showbackground": true,
            "ticks": "",
            "zerolinecolor": "white"
           },
           "yaxis": {
            "backgroundcolor": "#E5ECF6",
            "gridcolor": "white",
            "gridwidth": 2,
            "linecolor": "white",
            "showbackground": true,
            "ticks": "",
            "zerolinecolor": "white"
           },
           "zaxis": {
            "backgroundcolor": "#E5ECF6",
            "gridcolor": "white",
            "gridwidth": 2,
            "linecolor": "white",
            "showbackground": true,
            "ticks": "",
            "zerolinecolor": "white"
           }
          },
          "shapedefaults": {
           "line": {
            "color": "#2a3f5f"
           }
          },
          "ternary": {
           "aaxis": {
            "gridcolor": "white",
            "linecolor": "white",
            "ticks": ""
           },
           "baxis": {
            "gridcolor": "white",
            "linecolor": "white",
            "ticks": ""
           },
           "bgcolor": "#E5ECF6",
           "caxis": {
            "gridcolor": "white",
            "linecolor": "white",
            "ticks": ""
           }
          },
          "title": {
           "x": 0.05
          },
          "xaxis": {
           "automargin": true,
           "gridcolor": "white",
           "linecolor": "white",
           "ticks": "",
           "title": {
            "standoff": 15
           },
           "zerolinecolor": "white",
           "zerolinewidth": 2
          },
          "yaxis": {
           "automargin": true,
           "gridcolor": "white",
           "linecolor": "white",
           "ticks": "",
           "title": {
            "standoff": 15
           },
           "zerolinecolor": "white",
           "zerolinewidth": 2
          }
         }
        },
        "title": {
         "text": "Discount Curves: OLS vs Bootstrapping"
        },
        "xaxis": {
         "anchor": "y",
         "domain": [
          0,
          1
         ],
         "title": {
          "text": "Time to Maturity"
         }
        },
        "yaxis": {
         "anchor": "x",
         "domain": [
          0,
          1
         ],
         "gridcolor": "lightgrey",
         "showgrid": true,
         "tickformat": ".4f",
         "title": {
          "text": "Interest Rates"
         }
        }
       }
      }
     },
     "metadata": {},
     "output_type": "display_data"
    }
   ],
   "source": [
    "inc = .5\n",
    "\n",
    "maturity_grid = np.arange(inc,np.array(maturities_ols).max()+.5,inc)\n",
    "curves_ols = pd.DataFrame(index = maturity_grid)\n",
    "curves_ols['bootstrap'] = bootstrap(params_boots,maturity_grid)\n",
    "curves_ols['ols'] = bootstrap(params_OLS,maturity_grid)\n",
    "\n",
    "fig = px.line(\n",
    "    curves_ols, \n",
    "    title=\"Discount Curves: OLS vs Bootstrapping\",\n",
    "    markers=True\n",
    ")\n",
    "fig.update_layout(\n",
    "    showlegend=True,\n",
    "    xaxis_title=\"Time to Maturity\",\n",
    "    yaxis_title=\"Interest Rates\",\n",
    "    yaxis=dict(\n",
    "        tickformat=\".4f\",\n",
    "        gridcolor='lightgrey',\n",
    "        showgrid=True  # Ensure grid is enabled on the y-axis\n",
    "    )\n",
    ")\n",
    "fig.show()"
   ]
  },
  {
   "cell_type": "markdown",
   "id": "e0e78a59",
   "metadata": {},
   "source": [
    "### 2.3. EXTRA (not graded)\n",
    "\n",
    "Re-do `2.2.`, but this time use Weighted Least Squares. Find a weighting scheme that puts more weight on more recently issued treasures and less weight on less recently issued treasures. \n",
    "\n",
    "Does your answer change much?\n"
   ]
  },
  {
   "cell_type": "markdown",
   "id": "ac1a365d",
   "metadata": {},
   "source": [
    "### 2.4. Curve-Fitting\n",
    "\n",
    "Continue with the model of cashflows (having filtered out some treasuries).\n",
    "\n",
    "Estimate the discount curve via the Nelson-Siegel model.\n",
    "* Fit via minimizing the sum of squared errors of the modeled prices against the quoted prices.\n",
    "* Consider using `minimize` from `scipy.optimize`.\n",
    "\n",
    "When done,\n",
    "* Report the estimated NS parameters.\n",
    "* Plot the semiannually-compounded discount rates along with those estimated with OLS from above."
   ]
  },
  {
   "cell_type": "code",
   "execution_count": 20,
   "id": "d1573be5",
   "metadata": {},
   "outputs": [
    {
     "data": {
      "text/html": [
       "<div>\n",
       "<style scoped>\n",
       "    .dataframe tbody tr th:only-of-type {\n",
       "        vertical-align: middle;\n",
       "    }\n",
       "\n",
       "    .dataframe tbody tr th {\n",
       "        vertical-align: top;\n",
       "    }\n",
       "\n",
       "    .dataframe thead th {\n",
       "        text-align: right;\n",
       "    }\n",
       "</style>\n",
       "<table border=\"1\" class=\"dataframe\">\n",
       "  <thead>\n",
       "    <tr style=\"text-align: right;\">\n",
       "      <th></th>\n",
       "      <th>2024-11-05</th>\n",
       "      <th>2024-11-07</th>\n",
       "      <th>2024-11-12</th>\n",
       "      <th>2024-11-14</th>\n",
       "      <th>2024-11-15</th>\n",
       "      <th>2024-11-19</th>\n",
       "      <th>2024-11-21</th>\n",
       "      <th>2024-11-26</th>\n",
       "      <th>2024-11-29</th>\n",
       "      <th>2024-11-30</th>\n",
       "      <th>2024-12-03</th>\n",
       "      <th>2024-12-05</th>\n",
       "      <th>2024-12-10</th>\n",
       "      <th>2024-12-12</th>\n",
       "      <th>2024-12-15</th>\n",
       "      <th>...</th>\n",
       "      <th>2051-02-15</th>\n",
       "      <th>2051-05-15</th>\n",
       "      <th>2051-08-15</th>\n",
       "      <th>2051-11-15</th>\n",
       "      <th>2052-02-15</th>\n",
       "      <th>2052-05-15</th>\n",
       "      <th>2052-08-15</th>\n",
       "      <th>2052-11-15</th>\n",
       "      <th>2053-02-15</th>\n",
       "      <th>2053-05-15</th>\n",
       "      <th>2053-08-15</th>\n",
       "      <th>2053-11-15</th>\n",
       "      <th>2054-02-15</th>\n",
       "      <th>2054-05-15</th>\n",
       "      <th>2054-08-15</th>\n",
       "    </tr>\n",
       "    <tr>\n",
       "      <th>KYTREASNO</th>\n",
       "      <th></th>\n",
       "      <th></th>\n",
       "      <th></th>\n",
       "      <th></th>\n",
       "      <th></th>\n",
       "      <th></th>\n",
       "      <th></th>\n",
       "      <th></th>\n",
       "      <th></th>\n",
       "      <th></th>\n",
       "      <th></th>\n",
       "      <th></th>\n",
       "      <th></th>\n",
       "      <th></th>\n",
       "      <th></th>\n",
       "      <th></th>\n",
       "      <th></th>\n",
       "      <th></th>\n",
       "      <th></th>\n",
       "      <th></th>\n",
       "      <th></th>\n",
       "      <th></th>\n",
       "      <th></th>\n",
       "      <th></th>\n",
       "      <th></th>\n",
       "      <th></th>\n",
       "      <th></th>\n",
       "      <th></th>\n",
       "      <th></th>\n",
       "      <th></th>\n",
       "      <th></th>\n",
       "    </tr>\n",
       "  </thead>\n",
       "  <tbody>\n",
       "    <tr>\n",
       "      <th>208246</th>\n",
       "      <td>100</td>\n",
       "      <td>0</td>\n",
       "      <td>0</td>\n",
       "      <td>0</td>\n",
       "      <td>0.0000</td>\n",
       "      <td>0</td>\n",
       "      <td>0</td>\n",
       "      <td>0</td>\n",
       "      <td>0</td>\n",
       "      <td>0.0000</td>\n",
       "      <td>0</td>\n",
       "      <td>0</td>\n",
       "      <td>0</td>\n",
       "      <td>0</td>\n",
       "      <td>0.0000</td>\n",
       "      <td>...</td>\n",
       "      <td>0.0000</td>\n",
       "      <td>0.0000</td>\n",
       "      <td>0.0000</td>\n",
       "      <td>0.0000</td>\n",
       "      <td>0.0000</td>\n",
       "      <td>0.0000</td>\n",
       "      <td>0.0000</td>\n",
       "      <td>0.0000</td>\n",
       "      <td>0.0000</td>\n",
       "      <td>0.0000</td>\n",
       "      <td>0.0000</td>\n",
       "      <td>0.0000</td>\n",
       "      <td>0.0000</td>\n",
       "      <td>0.0000</td>\n",
       "      <td>0.0000</td>\n",
       "    </tr>\n",
       "    <tr>\n",
       "      <th>208222</th>\n",
       "      <td>0</td>\n",
       "      <td>100</td>\n",
       "      <td>0</td>\n",
       "      <td>0</td>\n",
       "      <td>0.0000</td>\n",
       "      <td>0</td>\n",
       "      <td>0</td>\n",
       "      <td>0</td>\n",
       "      <td>0</td>\n",
       "      <td>0.0000</td>\n",
       "      <td>0</td>\n",
       "      <td>0</td>\n",
       "      <td>0</td>\n",
       "      <td>0</td>\n",
       "      <td>0.0000</td>\n",
       "      <td>...</td>\n",
       "      <td>0.0000</td>\n",
       "      <td>0.0000</td>\n",
       "      <td>0.0000</td>\n",
       "      <td>0.0000</td>\n",
       "      <td>0.0000</td>\n",
       "      <td>0.0000</td>\n",
       "      <td>0.0000</td>\n",
       "      <td>0.0000</td>\n",
       "      <td>0.0000</td>\n",
       "      <td>0.0000</td>\n",
       "      <td>0.0000</td>\n",
       "      <td>0.0000</td>\n",
       "      <td>0.0000</td>\n",
       "      <td>0.0000</td>\n",
       "      <td>0.0000</td>\n",
       "    </tr>\n",
       "    <tr>\n",
       "      <th>208247</th>\n",
       "      <td>0</td>\n",
       "      <td>0</td>\n",
       "      <td>100</td>\n",
       "      <td>0</td>\n",
       "      <td>0.0000</td>\n",
       "      <td>0</td>\n",
       "      <td>0</td>\n",
       "      <td>0</td>\n",
       "      <td>0</td>\n",
       "      <td>0.0000</td>\n",
       "      <td>0</td>\n",
       "      <td>0</td>\n",
       "      <td>0</td>\n",
       "      <td>0</td>\n",
       "      <td>0.0000</td>\n",
       "      <td>...</td>\n",
       "      <td>0.0000</td>\n",
       "      <td>0.0000</td>\n",
       "      <td>0.0000</td>\n",
       "      <td>0.0000</td>\n",
       "      <td>0.0000</td>\n",
       "      <td>0.0000</td>\n",
       "      <td>0.0000</td>\n",
       "      <td>0.0000</td>\n",
       "      <td>0.0000</td>\n",
       "      <td>0.0000</td>\n",
       "      <td>0.0000</td>\n",
       "      <td>0.0000</td>\n",
       "      <td>0.0000</td>\n",
       "      <td>0.0000</td>\n",
       "      <td>0.0000</td>\n",
       "    </tr>\n",
       "    <tr>\n",
       "      <th>208223</th>\n",
       "      <td>0</td>\n",
       "      <td>0</td>\n",
       "      <td>0</td>\n",
       "      <td>100</td>\n",
       "      <td>0.0000</td>\n",
       "      <td>0</td>\n",
       "      <td>0</td>\n",
       "      <td>0</td>\n",
       "      <td>0</td>\n",
       "      <td>0.0000</td>\n",
       "      <td>0</td>\n",
       "      <td>0</td>\n",
       "      <td>0</td>\n",
       "      <td>0</td>\n",
       "      <td>0.0000</td>\n",
       "      <td>...</td>\n",
       "      <td>0.0000</td>\n",
       "      <td>0.0000</td>\n",
       "      <td>0.0000</td>\n",
       "      <td>0.0000</td>\n",
       "      <td>0.0000</td>\n",
       "      <td>0.0000</td>\n",
       "      <td>0.0000</td>\n",
       "      <td>0.0000</td>\n",
       "      <td>0.0000</td>\n",
       "      <td>0.0000</td>\n",
       "      <td>0.0000</td>\n",
       "      <td>0.0000</td>\n",
       "      <td>0.0000</td>\n",
       "      <td>0.0000</td>\n",
       "      <td>0.0000</td>\n",
       "    </tr>\n",
       "    <tr>\n",
       "      <th>204083</th>\n",
       "      <td>0</td>\n",
       "      <td>0</td>\n",
       "      <td>0</td>\n",
       "      <td>0</td>\n",
       "      <td>103.7500</td>\n",
       "      <td>0</td>\n",
       "      <td>0</td>\n",
       "      <td>0</td>\n",
       "      <td>0</td>\n",
       "      <td>0.0000</td>\n",
       "      <td>0</td>\n",
       "      <td>0</td>\n",
       "      <td>0</td>\n",
       "      <td>0</td>\n",
       "      <td>0.0000</td>\n",
       "      <td>...</td>\n",
       "      <td>0.0000</td>\n",
       "      <td>0.0000</td>\n",
       "      <td>0.0000</td>\n",
       "      <td>0.0000</td>\n",
       "      <td>0.0000</td>\n",
       "      <td>0.0000</td>\n",
       "      <td>0.0000</td>\n",
       "      <td>0.0000</td>\n",
       "      <td>0.0000</td>\n",
       "      <td>0.0000</td>\n",
       "      <td>0.0000</td>\n",
       "      <td>0.0000</td>\n",
       "      <td>0.0000</td>\n",
       "      <td>0.0000</td>\n",
       "      <td>0.0000</td>\n",
       "    </tr>\n",
       "    <tr>\n",
       "      <th>...</th>\n",
       "      <td>...</td>\n",
       "      <td>...</td>\n",
       "      <td>...</td>\n",
       "      <td>...</td>\n",
       "      <td>...</td>\n",
       "      <td>...</td>\n",
       "      <td>...</td>\n",
       "      <td>...</td>\n",
       "      <td>...</td>\n",
       "      <td>...</td>\n",
       "      <td>...</td>\n",
       "      <td>...</td>\n",
       "      <td>...</td>\n",
       "      <td>...</td>\n",
       "      <td>...</td>\n",
       "      <td>...</td>\n",
       "      <td>...</td>\n",
       "      <td>...</td>\n",
       "      <td>...</td>\n",
       "      <td>...</td>\n",
       "      <td>...</td>\n",
       "      <td>...</td>\n",
       "      <td>...</td>\n",
       "      <td>...</td>\n",
       "      <td>...</td>\n",
       "      <td>...</td>\n",
       "      <td>...</td>\n",
       "      <td>...</td>\n",
       "      <td>...</td>\n",
       "      <td>...</td>\n",
       "      <td>...</td>\n",
       "    </tr>\n",
       "    <tr>\n",
       "      <th>208107</th>\n",
       "      <td>0</td>\n",
       "      <td>0</td>\n",
       "      <td>0</td>\n",
       "      <td>0</td>\n",
       "      <td>0.0000</td>\n",
       "      <td>0</td>\n",
       "      <td>0</td>\n",
       "      <td>0</td>\n",
       "      <td>0</td>\n",
       "      <td>0.0000</td>\n",
       "      <td>0</td>\n",
       "      <td>0</td>\n",
       "      <td>0</td>\n",
       "      <td>0</td>\n",
       "      <td>0.0000</td>\n",
       "      <td>...</td>\n",
       "      <td>2.0625</td>\n",
       "      <td>0.0000</td>\n",
       "      <td>2.0625</td>\n",
       "      <td>0.0000</td>\n",
       "      <td>2.0625</td>\n",
       "      <td>0.0000</td>\n",
       "      <td>2.0625</td>\n",
       "      <td>0.0000</td>\n",
       "      <td>2.0625</td>\n",
       "      <td>0.0000</td>\n",
       "      <td>102.0625</td>\n",
       "      <td>0.0000</td>\n",
       "      <td>0.0000</td>\n",
       "      <td>0.0000</td>\n",
       "      <td>0.0000</td>\n",
       "    </tr>\n",
       "    <tr>\n",
       "      <th>208149</th>\n",
       "      <td>0</td>\n",
       "      <td>0</td>\n",
       "      <td>0</td>\n",
       "      <td>0</td>\n",
       "      <td>2.3750</td>\n",
       "      <td>0</td>\n",
       "      <td>0</td>\n",
       "      <td>0</td>\n",
       "      <td>0</td>\n",
       "      <td>0.0000</td>\n",
       "      <td>0</td>\n",
       "      <td>0</td>\n",
       "      <td>0</td>\n",
       "      <td>0</td>\n",
       "      <td>0.0000</td>\n",
       "      <td>...</td>\n",
       "      <td>0.0000</td>\n",
       "      <td>2.3750</td>\n",
       "      <td>0.0000</td>\n",
       "      <td>2.3750</td>\n",
       "      <td>0.0000</td>\n",
       "      <td>2.3750</td>\n",
       "      <td>0.0000</td>\n",
       "      <td>2.3750</td>\n",
       "      <td>0.0000</td>\n",
       "      <td>2.3750</td>\n",
       "      <td>0.0000</td>\n",
       "      <td>102.3750</td>\n",
       "      <td>0.0000</td>\n",
       "      <td>0.0000</td>\n",
       "      <td>0.0000</td>\n",
       "    </tr>\n",
       "    <tr>\n",
       "      <th>208178</th>\n",
       "      <td>0</td>\n",
       "      <td>0</td>\n",
       "      <td>0</td>\n",
       "      <td>0</td>\n",
       "      <td>0.0000</td>\n",
       "      <td>0</td>\n",
       "      <td>0</td>\n",
       "      <td>0</td>\n",
       "      <td>0</td>\n",
       "      <td>0.0000</td>\n",
       "      <td>0</td>\n",
       "      <td>0</td>\n",
       "      <td>0</td>\n",
       "      <td>0</td>\n",
       "      <td>0.0000</td>\n",
       "      <td>...</td>\n",
       "      <td>2.1250</td>\n",
       "      <td>0.0000</td>\n",
       "      <td>2.1250</td>\n",
       "      <td>0.0000</td>\n",
       "      <td>2.1250</td>\n",
       "      <td>0.0000</td>\n",
       "      <td>2.1250</td>\n",
       "      <td>0.0000</td>\n",
       "      <td>2.1250</td>\n",
       "      <td>0.0000</td>\n",
       "      <td>2.1250</td>\n",
       "      <td>0.0000</td>\n",
       "      <td>102.1250</td>\n",
       "      <td>0.0000</td>\n",
       "      <td>0.0000</td>\n",
       "    </tr>\n",
       "    <tr>\n",
       "      <th>208233</th>\n",
       "      <td>0</td>\n",
       "      <td>0</td>\n",
       "      <td>0</td>\n",
       "      <td>0</td>\n",
       "      <td>2.3125</td>\n",
       "      <td>0</td>\n",
       "      <td>0</td>\n",
       "      <td>0</td>\n",
       "      <td>0</td>\n",
       "      <td>0.0000</td>\n",
       "      <td>0</td>\n",
       "      <td>0</td>\n",
       "      <td>0</td>\n",
       "      <td>0</td>\n",
       "      <td>0.0000</td>\n",
       "      <td>...</td>\n",
       "      <td>0.0000</td>\n",
       "      <td>2.3125</td>\n",
       "      <td>0.0000</td>\n",
       "      <td>2.3125</td>\n",
       "      <td>0.0000</td>\n",
       "      <td>2.3125</td>\n",
       "      <td>0.0000</td>\n",
       "      <td>2.3125</td>\n",
       "      <td>0.0000</td>\n",
       "      <td>2.3125</td>\n",
       "      <td>0.0000</td>\n",
       "      <td>2.3125</td>\n",
       "      <td>0.0000</td>\n",
       "      <td>102.3125</td>\n",
       "      <td>0.0000</td>\n",
       "    </tr>\n",
       "    <tr>\n",
       "      <th>208279</th>\n",
       "      <td>0</td>\n",
       "      <td>0</td>\n",
       "      <td>0</td>\n",
       "      <td>0</td>\n",
       "      <td>0.0000</td>\n",
       "      <td>0</td>\n",
       "      <td>0</td>\n",
       "      <td>0</td>\n",
       "      <td>0</td>\n",
       "      <td>0.0000</td>\n",
       "      <td>0</td>\n",
       "      <td>0</td>\n",
       "      <td>0</td>\n",
       "      <td>0</td>\n",
       "      <td>0.0000</td>\n",
       "      <td>...</td>\n",
       "      <td>2.1250</td>\n",
       "      <td>0.0000</td>\n",
       "      <td>2.1250</td>\n",
       "      <td>0.0000</td>\n",
       "      <td>2.1250</td>\n",
       "      <td>0.0000</td>\n",
       "      <td>2.1250</td>\n",
       "      <td>0.0000</td>\n",
       "      <td>2.1250</td>\n",
       "      <td>0.0000</td>\n",
       "      <td>2.1250</td>\n",
       "      <td>0.0000</td>\n",
       "      <td>2.1250</td>\n",
       "      <td>0.0000</td>\n",
       "      <td>102.1250</td>\n",
       "    </tr>\n",
       "  </tbody>\n",
       "</table>\n",
       "<p>395 rows × 310 columns</p>\n",
       "</div>"
      ],
      "text/plain": [
       "           2024-11-05  2024-11-07  2024-11-12  2024-11-14  2024-11-15  \\\n",
       "KYTREASNO                                                               \n",
       "208246            100           0           0           0      0.0000   \n",
       "208222              0         100           0           0      0.0000   \n",
       "208247              0           0         100           0      0.0000   \n",
       "208223              0           0           0         100      0.0000   \n",
       "204083              0           0           0           0    103.7500   \n",
       "...               ...         ...         ...         ...         ...   \n",
       "208107              0           0           0           0      0.0000   \n",
       "208149              0           0           0           0      2.3750   \n",
       "208178              0           0           0           0      0.0000   \n",
       "208233              0           0           0           0      2.3125   \n",
       "208279              0           0           0           0      0.0000   \n",
       "\n",
       "           2024-11-19  2024-11-21  2024-11-26  2024-11-29  2024-11-30  \\\n",
       "KYTREASNO                                                               \n",
       "208246              0           0           0           0      0.0000   \n",
       "208222              0           0           0           0      0.0000   \n",
       "208247              0           0           0           0      0.0000   \n",
       "208223              0           0           0           0      0.0000   \n",
       "204083              0           0           0           0      0.0000   \n",
       "...               ...         ...         ...         ...         ...   \n",
       "208107              0           0           0           0      0.0000   \n",
       "208149              0           0           0           0      0.0000   \n",
       "208178              0           0           0           0      0.0000   \n",
       "208233              0           0           0           0      0.0000   \n",
       "208279              0           0           0           0      0.0000   \n",
       "\n",
       "           2024-12-03  2024-12-05  2024-12-10  2024-12-12  2024-12-15  ...  \\\n",
       "KYTREASNO                                                              ...   \n",
       "208246              0           0           0           0      0.0000  ...   \n",
       "208222              0           0           0           0      0.0000  ...   \n",
       "208247              0           0           0           0      0.0000  ...   \n",
       "208223              0           0           0           0      0.0000  ...   \n",
       "204083              0           0           0           0      0.0000  ...   \n",
       "...               ...         ...         ...         ...         ...  ...   \n",
       "208107              0           0           0           0      0.0000  ...   \n",
       "208149              0           0           0           0      0.0000  ...   \n",
       "208178              0           0           0           0      0.0000  ...   \n",
       "208233              0           0           0           0      0.0000  ...   \n",
       "208279              0           0           0           0      0.0000  ...   \n",
       "\n",
       "           2051-02-15  2051-05-15  2051-08-15  2051-11-15  2052-02-15  \\\n",
       "KYTREASNO                                                               \n",
       "208246         0.0000      0.0000      0.0000      0.0000      0.0000   \n",
       "208222         0.0000      0.0000      0.0000      0.0000      0.0000   \n",
       "208247         0.0000      0.0000      0.0000      0.0000      0.0000   \n",
       "208223         0.0000      0.0000      0.0000      0.0000      0.0000   \n",
       "204083         0.0000      0.0000      0.0000      0.0000      0.0000   \n",
       "...               ...         ...         ...         ...         ...   \n",
       "208107         2.0625      0.0000      2.0625      0.0000      2.0625   \n",
       "208149         0.0000      2.3750      0.0000      2.3750      0.0000   \n",
       "208178         2.1250      0.0000      2.1250      0.0000      2.1250   \n",
       "208233         0.0000      2.3125      0.0000      2.3125      0.0000   \n",
       "208279         2.1250      0.0000      2.1250      0.0000      2.1250   \n",
       "\n",
       "           2052-05-15  2052-08-15  2052-11-15  2053-02-15  2053-05-15  \\\n",
       "KYTREASNO                                                               \n",
       "208246         0.0000      0.0000      0.0000      0.0000      0.0000   \n",
       "208222         0.0000      0.0000      0.0000      0.0000      0.0000   \n",
       "208247         0.0000      0.0000      0.0000      0.0000      0.0000   \n",
       "208223         0.0000      0.0000      0.0000      0.0000      0.0000   \n",
       "204083         0.0000      0.0000      0.0000      0.0000      0.0000   \n",
       "...               ...         ...         ...         ...         ...   \n",
       "208107         0.0000      2.0625      0.0000      2.0625      0.0000   \n",
       "208149         2.3750      0.0000      2.3750      0.0000      2.3750   \n",
       "208178         0.0000      2.1250      0.0000      2.1250      0.0000   \n",
       "208233         2.3125      0.0000      2.3125      0.0000      2.3125   \n",
       "208279         0.0000      2.1250      0.0000      2.1250      0.0000   \n",
       "\n",
       "           2053-08-15  2053-11-15  2054-02-15  2054-05-15  2054-08-15  \n",
       "KYTREASNO                                                              \n",
       "208246         0.0000      0.0000      0.0000      0.0000      0.0000  \n",
       "208222         0.0000      0.0000      0.0000      0.0000      0.0000  \n",
       "208247         0.0000      0.0000      0.0000      0.0000      0.0000  \n",
       "208223         0.0000      0.0000      0.0000      0.0000      0.0000  \n",
       "204083         0.0000      0.0000      0.0000      0.0000      0.0000  \n",
       "...               ...         ...         ...         ...         ...  \n",
       "208107       102.0625      0.0000      0.0000      0.0000      0.0000  \n",
       "208149         0.0000    102.3750      0.0000      0.0000      0.0000  \n",
       "208178         2.1250      0.0000    102.1250      0.0000      0.0000  \n",
       "208233         0.0000      2.3125      0.0000    102.3125      0.0000  \n",
       "208279         2.1250      0.0000      2.1250      0.0000    102.1250  \n",
       "\n",
       "[395 rows x 310 columns]"
      ]
     },
     "metadata": {},
     "output_type": "display_data"
    }
   ],
   "source": [
    "RESTRICT_YLD = True\n",
    "RESTRICT_TIPS = True\n",
    "\n",
    "RESTRICT_DTS_MATURING = False\n",
    "RESTRICT_REDUNDANT = False\n",
    "\n",
    "label = 'all maturities'\n",
    "treasuries_NS = filter_treasuries(treasuries_all, date_curr=t_curr_date, filter_tips=RESTRICT_TIPS, filter_yld=RESTRICT_YLD, drop_duplicate_maturities=RESTRICT_REDUNDANT)\n",
    "cf_NS = filter_treasury_cashflows(calc_treasury_cashflows(treasuries_NS), filter_maturity_dates=RESTRICT_DTS_MATURING)\n",
    "\n",
    "cf_set[label] = cf_NS\n",
    "display(cf_NS)"
   ]
  },
  {
   "cell_type": "code",
   "execution_count": 21,
   "id": "005a33d1",
   "metadata": {},
   "outputs": [
    {
     "data": {
      "text/html": [
       "<div>\n",
       "<style scoped>\n",
       "    .dataframe tbody tr th:only-of-type {\n",
       "        vertical-align: middle;\n",
       "    }\n",
       "\n",
       "    .dataframe tbody tr th {\n",
       "        vertical-align: top;\n",
       "    }\n",
       "\n",
       "    .dataframe thead th {\n",
       "        text-align: right;\n",
       "    }\n",
       "</style>\n",
       "<table border=\"1\" class=\"dataframe\">\n",
       "  <thead>\n",
       "    <tr style=\"text-align: right;\">\n",
       "      <th></th>\n",
       "      <th>theta 0</th>\n",
       "      <th>theta 1</th>\n",
       "      <th>theta 2</th>\n",
       "      <th>lambda_1</th>\n",
       "      <th>theta_3</th>\n",
       "      <th>lambda_2</th>\n",
       "    </tr>\n",
       "  </thead>\n",
       "  <tbody>\n",
       "    <tr>\n",
       "      <th>Nelson-Siegel</th>\n",
       "      <td>0.0479</td>\n",
       "      <td>-0.0022</td>\n",
       "      <td>-0.0204</td>\n",
       "      <td>2.1269</td>\n",
       "      <td>None</td>\n",
       "      <td>None</td>\n",
       "    </tr>\n",
       "    <tr>\n",
       "      <th>Nelson-Siegel Extended</th>\n",
       "      <td>0.0479</td>\n",
       "      <td>-0.0039</td>\n",
       "      <td>-0.8860</td>\n",
       "      <td>1.6139</td>\n",
       "      <td>0.8688</td>\n",
       "      <td>1.5989</td>\n",
       "    </tr>\n",
       "  </tbody>\n",
       "</table>\n",
       "</div>"
      ],
      "text/plain": [
       "                        theta 0  theta 1  theta 2  lambda_1 theta_3 lambda_2\n",
       "Nelson-Siegel            0.0479  -0.0022  -0.0204    2.1269    None     None\n",
       "Nelson-Siegel Extended   0.0479  -0.0039  -0.8860    1.6139  0.8688   1.5989"
      ]
     },
     "execution_count": 21,
     "metadata": {},
     "output_type": "execute_result"
    }
   ],
   "source": [
    "prices_NS = treasuries_NS['dirty price'].loc[cf_NS.index]\n",
    "\n",
    "AVG_LEVEL = .045\n",
    "AVG_SLOPE = -.005\n",
    "FIRST_HUMP = .01\n",
    "FIRST_DECAY = 2\n",
    "SECOND_HUMP = -.01\n",
    "SECOND_DECAY = 2\n",
    "\n",
    "\n",
    "x0 = np.array([AVG_LEVEL, AVG_SLOPE, FIRST_HUMP, FIRST_DECAY])\n",
    "params_NS = estimate_rate_curve(model_name='nelson_siegel', cf=cf_NS, prices=prices_NS, date_current=t_curr_date, x0=x0)\n",
    "\n",
    "x0_ext = np.concatenate((params_NS,(SECOND_HUMP, SECOND_DECAY)))\n",
    "params_NSE = estimate_rate_curve(model_name='nelson_siegel_extended', cf=cf_NS, prices=prices_NS, date_current=t_curr_date, x0=x0_ext)\n",
    "\n",
    "tab_params_ns = pd.DataFrame(data = params_NS, index=['theta 0', 'theta 1', 'theta 2', 'lambda_1'],columns=['Nelson-Siegel']).T\n",
    "tab_params_ns.loc[:,['theta_3', 'lambda_2']] = None\n",
    "tab_params_ns.loc['Nelson-Siegel Extended',:] = params_NSE\n",
    "tab_params_ns"
   ]
  },
  {
   "cell_type": "markdown",
   "id": "2adc781e",
   "metadata": {},
   "source": [
    "_Note: graphs created using ChatGPT: \"Combine int_rates_ols and ns_curve_df into one graph using plotly express\". Assume both dataframes have different  different number of rows, so concating will lead to many nan and merging would remove some rows\"_"
   ]
  },
  {
   "cell_type": "code",
   "execution_count": 36,
   "id": "66ba811f",
   "metadata": {},
   "outputs": [
    {
     "data": {
      "application/vnd.plotly.v1+json": {
       "config": {
        "plotlyServerURL": "https://plot.ly"
       },
       "data": [
        {
         "mode": "lines+markers",
         "name": "bootstrap",
         "type": "scatter",
         "x": [
          0.5,
          1,
          1.5,
          2,
          2.5,
          3,
          3.5,
          4,
          4.5,
          5,
          5.5,
          6,
          6.5,
          7,
          7.5,
          8,
          8.5,
          9,
          9.5,
          10
         ],
         "y": [
          0.0439198921386925,
          0.0427162235234533,
          0.041826715720062,
          0.04112112882348927,
          0.04093539061565408,
          0.04088148917911818,
          0.041136143361992505,
          0.0407745730246729,
          0.041144976671618205,
          0.04082554764628583,
          0.04146490459877858,
          0.04133001238792673,
          0.04172071843398478,
          0.041951886769209835,
          0.04212483496714954,
          0.04200566453640928,
          0.042302895785438124,
          0.042429886805231444,
          0.04253756255134976,
          0.042558356658196544
         ]
        },
        {
         "mode": "lines+markers",
         "name": "ols",
         "type": "scatter",
         "x": [
          0.5,
          1,
          1.5,
          2,
          2.5,
          3,
          3.5,
          4,
          4.5,
          5,
          5.5,
          6,
          6.5,
          7,
          7.5,
          8,
          8.5,
          9,
          9.5,
          10
         ],
         "y": [
          0.04390028439122729,
          0.042764026497660965,
          0.04178652460790131,
          0.04106913817629381,
          0.04093502097103235,
          0.04078164068167225,
          0.04113798849024997,
          0.04099383740938089,
          0.04105356055739514,
          0.04079530992294798,
          0.04146313068207182,
          0.041330834034567075,
          0.04172733522657953,
          0.04195309699520459,
          0.04212778545974909,
          0.042009362127355246,
          0.0423051895102328,
          0.04243301191402027,
          0.042540575137218026,
          0.042528340330343826
         ]
        },
        {
         "mode": "lines+markers",
         "name": "nelson siegel",
         "type": "scatter",
         "x": [
          0.25,
          0.5,
          0.75,
          1,
          1.25,
          1.5,
          1.75,
          2,
          2.25,
          2.5,
          2.75,
          3,
          3.25,
          3.5,
          3.75,
          4,
          4.25,
          4.5,
          4.75,
          5,
          5.25,
          5.5,
          5.75,
          6,
          6.25,
          6.5,
          6.75,
          7,
          7.25,
          7.5,
          7.75,
          8,
          8.25,
          8.5,
          8.75,
          9,
          9.25,
          9.5,
          9.75,
          10,
          10.25,
          10.5,
          10.75,
          11,
          11.25,
          11.5,
          11.75,
          12,
          12.25,
          12.5,
          12.75,
          13,
          13.25,
          13.5,
          13.75,
          14,
          14.25,
          14.5,
          14.75,
          15,
          15.25,
          15.5,
          15.75,
          16,
          16.25,
          16.5,
          16.75,
          17,
          17.25,
          17.5,
          17.75,
          18,
          18.25,
          18.5,
          18.75,
          19,
          19.25,
          19.5,
          19.75,
          20,
          20.25,
          20.5,
          20.75,
          21,
          21.25,
          21.5,
          21.75,
          22,
          22.25,
          22.5,
          22.75,
          23,
          23.25,
          23.5,
          23.75,
          24,
          24.25,
          24.5,
          24.75,
          25,
          25.25,
          25.5,
          25.75,
          26,
          26.25,
          26.5,
          26.75,
          27,
          27.25,
          27.5,
          27.75,
          28,
          28.25,
          28.5,
          28.75,
          29,
          29.25,
          29.5,
          29.75,
          30,
          30.25
         ],
         "y": [
          0.044672042618457974,
          0.04384606948344613,
          0.04315541608664748,
          0.04258265186025309,
          0.04211244049770504,
          0.04173129578637903,
          0.04142736546167244,
          0.04119023989651657,
          0.041010782800415646,
          0.0408809814216661,
          0.040793814029978503,
          0.04074313270834871,
          0.0407235597062946,
          0.040730395804672595,
          0.04075953931804438,
          0.040807414516489296,
          0.040870908387081344,
          0.040947314777951875,
          0.041034285076696694,
          0.041129784671420665,
          0.04123205452832831,
          0.04133957729569601,
          0.04145104741139117,
          0.041565344750805366,
          0.04168151140500269,
          0.04179873122581358,
          0.04191631181620762,
          0.04203366868115568,
          0.04215031128687813,
          0.042265830805343595,
          0.042379889346553457,
          0.04249221050389366,
          0.04260257105798802,
          0.042710793702340766,
          0.042816740669869895,
          0.04292030815343975,
          0.04302142142590422,
          0.04312003057615542,
          0.04321610678739599,
          0.04330963909246038,
          0.04340063154862887,
          0.04348910078111976,
          0.04357507385040974,
          0.04365858640380982,
          0.04373968107639099,
          0.043818406110481656,
          0.04389481416660751,
          0.04396896130197091,
          0.04404090609541686,
          0.0441107089003523,
          0.04417843120930974,
          0.04424413511581193,
          0.044307882860928446,
          0.04436973645344685,
          0.04442975735393196,
          0.04448800621413856,
          0.04454454266429395,
          0.04459942514169323,
          0.0446527107548661,
          0.044704455178293544,
          0.044754712573285386,
          0.04480353553118697,
          0.04485097503557323,
          0.04489708044051934,
          0.044941899462415495,
          0.04498547818312611,
          0.045027861062585293,
          0.04506909095917646,
          0.045109209156468225,
          0.04514825539507513,
          0.04518626790858375,
          0.04522328346263479,
          0.04525933739638324,
          0.04529446366567324,
          0.04532869488736366,
          0.0453620623843281,
          0.045394596230727634,
          0.045426325297220974,
          0.04545727729583306,
          0.04548747882425243,
          0.04551695540937024,
          0.045545731549910165,
          0.04557383075803007,
          0.045601275599803225,
          0.045628087734509624,
          0.04565428795268814,
          0.04567989621291617,
          0.04570493167729804,
          0.04572941274565505,
          0.045753357088419676,
          0.045776781678245,
          0.04579970282034687,
          0.045822136181601754,
          0.045844096818427736,
          0.04586559920347948,
          0.04588665725119049,
          0.045907284342198255,
          0.04592749334668889,
          0.04594729664669913,
          0.0459667061574137,
          0.04598573334749641,
          0.046004389258493227,
          0.04602268452334495,
          0.04604062938404679,
          0.04605823370849127,
          0.04607550700653003,
          0.046092458445289246,
          0.0461090968637722,
          0.04612543078678163,
          0.04614146843819304,
          0.046157217753609654,
          0.0461726863924276,
          0.04618788174933978,
          0.046202810965304805,
          0.04621748093800703,
          0.04623189833183196,
          0.0462460695873807,
          0.04626000093054573,
          0.04627369838116948,
          0.046287167761305995,
          0.04630041470310518
         ]
        },
        {
         "mode": "lines+markers",
         "name": "ns-extended",
         "type": "scatter",
         "x": [
          0.25,
          0.5,
          0.75,
          1,
          1.25,
          1.5,
          1.75,
          2,
          2.25,
          2.5,
          2.75,
          3,
          3.25,
          3.5,
          3.75,
          4,
          4.25,
          4.5,
          4.75,
          5,
          5.25,
          5.5,
          5.75,
          6,
          6.25,
          6.5,
          6.75,
          7,
          7.25,
          7.5,
          7.75,
          8,
          8.25,
          8.5,
          8.75,
          9,
          9.25,
          9.5,
          9.75,
          10,
          10.25,
          10.5,
          10.75,
          11,
          11.25,
          11.5,
          11.75,
          12,
          12.25,
          12.5,
          12.75,
          13,
          13.25,
          13.5,
          13.75,
          14,
          14.25,
          14.5,
          14.75,
          15,
          15.25,
          15.5,
          15.75,
          16,
          16.25,
          16.5,
          16.75,
          17,
          17.25,
          17.5,
          17.75,
          18,
          18.25,
          18.5,
          18.75,
          19,
          19.25,
          19.5,
          19.75,
          20,
          20.25,
          20.5,
          20.75,
          21,
          21.25,
          21.5,
          21.75,
          22,
          22.25,
          22.5,
          22.75,
          23,
          23.25,
          23.5,
          23.75,
          24,
          24.25,
          24.5,
          24.75,
          25,
          25.25,
          25.5,
          25.75,
          26,
          26.25,
          26.5,
          26.75,
          27,
          27.25,
          27.5,
          27.75,
          28,
          28.25,
          28.5,
          28.75,
          29,
          29.25,
          29.5,
          29.75,
          30,
          30.25
         ],
         "y": [
          0.043525055029936206,
          0.043120698529357585,
          0.042734356134834756,
          0.04237602585428313,
          0.04205205812131699,
          0.04176602773735236,
          0.041519427920395174,
          0.041312219835690694,
          0.04114326503806062,
          0.04101066333294373,
          0.040912014491366916,
          0.04084461889011873,
          0.04080562937261109,
          0.0407921643385053,
          0.04080139018788667,
          0.04083057969920992,
          0.04087715165163747,
          0.04093869596364125,
          0.041012987770864845,
          0.04109799317399915,
          0.041191868824240335,
          0.041292957056874746,
          0.041399777913729646,
          0.04151101909693042,
          0.0416255246566479,
          0.041742283023583765,
          0.04186041484398384,
          0.04197916095371351,
          0.042097870732382386,
          0.04221599100375173,
          0.04233305559066239,
          0.0424486755881905,
          0.042562530384968836,
          0.0426743594374189,
          0.04278395478322845,
          0.04289115426734265,
          0.042995835444836816,
          0.04309791011937264,
          0.043197319472741635,
          0.04329402973967307,
          0.043388028382144936,
          0.04347932071850466,
          0.043567926964485484,
          0.043653879645461025,
          0.043737221341830584,
          0.043818002732141786,
          0.04389628090132479,
          0.04397211788415828,
          0.04404557941676164,
          0.04411673387146156,
          0.04418565135280217,
          0.04425240293472656,
          0.04431706002105766,
          0.04437969381333872,
          0.04444037487186286,
          0.04449917275733188,
          0.04455615574204517,
          0.044611390580834735,
          0.04466494233314848,
          0.04471687422874181,
          0.044767247570385534,
          0.04481612166784078,
          0.04486355379809764,
          0.04490959918753867,
          0.04495431101227136,
          0.04499774041338885,
          0.045039936524371674,
          0.04508094650823908,
          0.0451208156024064,
          0.04515958716950779,
          0.045197302752707905,
          0.045234002134255186,
          0.04526972339622877,
          0.04530450298260309,
          0.04533837576190239,
          0.04537137508984583,
          0.04540353287149303,
          0.04543487962249447,
          0.04546544452913075,
          0.04549525550689303,
          0.04552433925741549,
          0.04555272132361808,
          0.04558042614296015,
          0.04560747709873876,
          0.04563389656939492,
          0.045659705975813404,
          0.04568492582662199,
          0.045709575761510975,
          0.04573367459260663,
          0.04575724034394166,
          0.04578029028907421,
          0.04580284098691182,
          0.0458249083158011,
          0.045846507505947466,
          0.04586765317023003,
          0.04588835933347818,
          0.04590863946027644,
          0.04592850648136355,
          0.04594797281869101,
          0.045967050409204464,
          0.04598575072741055,
          0.04600408480678875,
          0.04602206326010713,
          0.04603969629869732,
          0.04605699375074315,
          0.046073965078633955,
          0.04609061939543224,
          0.046106965480502415,
          0.04612301179434548,
          0.046138766492682254,
          0.04615423743982566,
          0.046169432221380306,
          0.04618435815630573,
          0.04619902230837799,
          0.04621343149708198,
          0.04622759230796536,
          0.046241511102483396,
          0.04625519402736202,
          0.04626864702350528,
          0.046281875834471776,
          0.04629488601454309
         ]
        }
       ],
       "layout": {
        "legend": {
         "title": {
          "text": "Curve Types"
         }
        },
        "template": {
         "data": {
          "bar": [
           {
            "error_x": {
             "color": "#2a3f5f"
            },
            "error_y": {
             "color": "#2a3f5f"
            },
            "marker": {
             "line": {
              "color": "#E5ECF6",
              "width": 0.5
             },
             "pattern": {
              "fillmode": "overlay",
              "size": 10,
              "solidity": 0.2
             }
            },
            "type": "bar"
           }
          ],
          "barpolar": [
           {
            "marker": {
             "line": {
              "color": "#E5ECF6",
              "width": 0.5
             },
             "pattern": {
              "fillmode": "overlay",
              "size": 10,
              "solidity": 0.2
             }
            },
            "type": "barpolar"
           }
          ],
          "carpet": [
           {
            "aaxis": {
             "endlinecolor": "#2a3f5f",
             "gridcolor": "white",
             "linecolor": "white",
             "minorgridcolor": "white",
             "startlinecolor": "#2a3f5f"
            },
            "baxis": {
             "endlinecolor": "#2a3f5f",
             "gridcolor": "white",
             "linecolor": "white",
             "minorgridcolor": "white",
             "startlinecolor": "#2a3f5f"
            },
            "type": "carpet"
           }
          ],
          "choropleth": [
           {
            "colorbar": {
             "outlinewidth": 0,
             "ticks": ""
            },
            "type": "choropleth"
           }
          ],
          "contour": [
           {
            "colorbar": {
             "outlinewidth": 0,
             "ticks": ""
            },
            "colorscale": [
             [
              0,
              "#0d0887"
             ],
             [
              0.1111111111111111,
              "#46039f"
             ],
             [
              0.2222222222222222,
              "#7201a8"
             ],
             [
              0.3333333333333333,
              "#9c179e"
             ],
             [
              0.4444444444444444,
              "#bd3786"
             ],
             [
              0.5555555555555556,
              "#d8576b"
             ],
             [
              0.6666666666666666,
              "#ed7953"
             ],
             [
              0.7777777777777778,
              "#fb9f3a"
             ],
             [
              0.8888888888888888,
              "#fdca26"
             ],
             [
              1,
              "#f0f921"
             ]
            ],
            "type": "contour"
           }
          ],
          "contourcarpet": [
           {
            "colorbar": {
             "outlinewidth": 0,
             "ticks": ""
            },
            "type": "contourcarpet"
           }
          ],
          "heatmap": [
           {
            "colorbar": {
             "outlinewidth": 0,
             "ticks": ""
            },
            "colorscale": [
             [
              0,
              "#0d0887"
             ],
             [
              0.1111111111111111,
              "#46039f"
             ],
             [
              0.2222222222222222,
              "#7201a8"
             ],
             [
              0.3333333333333333,
              "#9c179e"
             ],
             [
              0.4444444444444444,
              "#bd3786"
             ],
             [
              0.5555555555555556,
              "#d8576b"
             ],
             [
              0.6666666666666666,
              "#ed7953"
             ],
             [
              0.7777777777777778,
              "#fb9f3a"
             ],
             [
              0.8888888888888888,
              "#fdca26"
             ],
             [
              1,
              "#f0f921"
             ]
            ],
            "type": "heatmap"
           }
          ],
          "heatmapgl": [
           {
            "colorbar": {
             "outlinewidth": 0,
             "ticks": ""
            },
            "colorscale": [
             [
              0,
              "#0d0887"
             ],
             [
              0.1111111111111111,
              "#46039f"
             ],
             [
              0.2222222222222222,
              "#7201a8"
             ],
             [
              0.3333333333333333,
              "#9c179e"
             ],
             [
              0.4444444444444444,
              "#bd3786"
             ],
             [
              0.5555555555555556,
              "#d8576b"
             ],
             [
              0.6666666666666666,
              "#ed7953"
             ],
             [
              0.7777777777777778,
              "#fb9f3a"
             ],
             [
              0.8888888888888888,
              "#fdca26"
             ],
             [
              1,
              "#f0f921"
             ]
            ],
            "type": "heatmapgl"
           }
          ],
          "histogram": [
           {
            "marker": {
             "pattern": {
              "fillmode": "overlay",
              "size": 10,
              "solidity": 0.2
             }
            },
            "type": "histogram"
           }
          ],
          "histogram2d": [
           {
            "colorbar": {
             "outlinewidth": 0,
             "ticks": ""
            },
            "colorscale": [
             [
              0,
              "#0d0887"
             ],
             [
              0.1111111111111111,
              "#46039f"
             ],
             [
              0.2222222222222222,
              "#7201a8"
             ],
             [
              0.3333333333333333,
              "#9c179e"
             ],
             [
              0.4444444444444444,
              "#bd3786"
             ],
             [
              0.5555555555555556,
              "#d8576b"
             ],
             [
              0.6666666666666666,
              "#ed7953"
             ],
             [
              0.7777777777777778,
              "#fb9f3a"
             ],
             [
              0.8888888888888888,
              "#fdca26"
             ],
             [
              1,
              "#f0f921"
             ]
            ],
            "type": "histogram2d"
           }
          ],
          "histogram2dcontour": [
           {
            "colorbar": {
             "outlinewidth": 0,
             "ticks": ""
            },
            "colorscale": [
             [
              0,
              "#0d0887"
             ],
             [
              0.1111111111111111,
              "#46039f"
             ],
             [
              0.2222222222222222,
              "#7201a8"
             ],
             [
              0.3333333333333333,
              "#9c179e"
             ],
             [
              0.4444444444444444,
              "#bd3786"
             ],
             [
              0.5555555555555556,
              "#d8576b"
             ],
             [
              0.6666666666666666,
              "#ed7953"
             ],
             [
              0.7777777777777778,
              "#fb9f3a"
             ],
             [
              0.8888888888888888,
              "#fdca26"
             ],
             [
              1,
              "#f0f921"
             ]
            ],
            "type": "histogram2dcontour"
           }
          ],
          "mesh3d": [
           {
            "colorbar": {
             "outlinewidth": 0,
             "ticks": ""
            },
            "type": "mesh3d"
           }
          ],
          "parcoords": [
           {
            "line": {
             "colorbar": {
              "outlinewidth": 0,
              "ticks": ""
             }
            },
            "type": "parcoords"
           }
          ],
          "pie": [
           {
            "automargin": true,
            "type": "pie"
           }
          ],
          "scatter": [
           {
            "fillpattern": {
             "fillmode": "overlay",
             "size": 10,
             "solidity": 0.2
            },
            "type": "scatter"
           }
          ],
          "scatter3d": [
           {
            "line": {
             "colorbar": {
              "outlinewidth": 0,
              "ticks": ""
             }
            },
            "marker": {
             "colorbar": {
              "outlinewidth": 0,
              "ticks": ""
             }
            },
            "type": "scatter3d"
           }
          ],
          "scattercarpet": [
           {
            "marker": {
             "colorbar": {
              "outlinewidth": 0,
              "ticks": ""
             }
            },
            "type": "scattercarpet"
           }
          ],
          "scattergeo": [
           {
            "marker": {
             "colorbar": {
              "outlinewidth": 0,
              "ticks": ""
             }
            },
            "type": "scattergeo"
           }
          ],
          "scattergl": [
           {
            "marker": {
             "colorbar": {
              "outlinewidth": 0,
              "ticks": ""
             }
            },
            "type": "scattergl"
           }
          ],
          "scattermapbox": [
           {
            "marker": {
             "colorbar": {
              "outlinewidth": 0,
              "ticks": ""
             }
            },
            "type": "scattermapbox"
           }
          ],
          "scatterpolar": [
           {
            "marker": {
             "colorbar": {
              "outlinewidth": 0,
              "ticks": ""
             }
            },
            "type": "scatterpolar"
           }
          ],
          "scatterpolargl": [
           {
            "marker": {
             "colorbar": {
              "outlinewidth": 0,
              "ticks": ""
             }
            },
            "type": "scatterpolargl"
           }
          ],
          "scatterternary": [
           {
            "marker": {
             "colorbar": {
              "outlinewidth": 0,
              "ticks": ""
             }
            },
            "type": "scatterternary"
           }
          ],
          "surface": [
           {
            "colorbar": {
             "outlinewidth": 0,
             "ticks": ""
            },
            "colorscale": [
             [
              0,
              "#0d0887"
             ],
             [
              0.1111111111111111,
              "#46039f"
             ],
             [
              0.2222222222222222,
              "#7201a8"
             ],
             [
              0.3333333333333333,
              "#9c179e"
             ],
             [
              0.4444444444444444,
              "#bd3786"
             ],
             [
              0.5555555555555556,
              "#d8576b"
             ],
             [
              0.6666666666666666,
              "#ed7953"
             ],
             [
              0.7777777777777778,
              "#fb9f3a"
             ],
             [
              0.8888888888888888,
              "#fdca26"
             ],
             [
              1,
              "#f0f921"
             ]
            ],
            "type": "surface"
           }
          ],
          "table": [
           {
            "cells": {
             "fill": {
              "color": "#EBF0F8"
             },
             "line": {
              "color": "white"
             }
            },
            "header": {
             "fill": {
              "color": "#C8D4E3"
             },
             "line": {
              "color": "white"
             }
            },
            "type": "table"
           }
          ]
         },
         "layout": {
          "annotationdefaults": {
           "arrowcolor": "#2a3f5f",
           "arrowhead": 0,
           "arrowwidth": 1
          },
          "autotypenumbers": "strict",
          "coloraxis": {
           "colorbar": {
            "outlinewidth": 0,
            "ticks": ""
           }
          },
          "colorscale": {
           "diverging": [
            [
             0,
             "#8e0152"
            ],
            [
             0.1,
             "#c51b7d"
            ],
            [
             0.2,
             "#de77ae"
            ],
            [
             0.3,
             "#f1b6da"
            ],
            [
             0.4,
             "#fde0ef"
            ],
            [
             0.5,
             "#f7f7f7"
            ],
            [
             0.6,
             "#e6f5d0"
            ],
            [
             0.7,
             "#b8e186"
            ],
            [
             0.8,
             "#7fbc41"
            ],
            [
             0.9,
             "#4d9221"
            ],
            [
             1,
             "#276419"
            ]
           ],
           "sequential": [
            [
             0,
             "#0d0887"
            ],
            [
             0.1111111111111111,
             "#46039f"
            ],
            [
             0.2222222222222222,
             "#7201a8"
            ],
            [
             0.3333333333333333,
             "#9c179e"
            ],
            [
             0.4444444444444444,
             "#bd3786"
            ],
            [
             0.5555555555555556,
             "#d8576b"
            ],
            [
             0.6666666666666666,
             "#ed7953"
            ],
            [
             0.7777777777777778,
             "#fb9f3a"
            ],
            [
             0.8888888888888888,
             "#fdca26"
            ],
            [
             1,
             "#f0f921"
            ]
           ],
           "sequentialminus": [
            [
             0,
             "#0d0887"
            ],
            [
             0.1111111111111111,
             "#46039f"
            ],
            [
             0.2222222222222222,
             "#7201a8"
            ],
            [
             0.3333333333333333,
             "#9c179e"
            ],
            [
             0.4444444444444444,
             "#bd3786"
            ],
            [
             0.5555555555555556,
             "#d8576b"
            ],
            [
             0.6666666666666666,
             "#ed7953"
            ],
            [
             0.7777777777777778,
             "#fb9f3a"
            ],
            [
             0.8888888888888888,
             "#fdca26"
            ],
            [
             1,
             "#f0f921"
            ]
           ]
          },
          "colorway": [
           "#636efa",
           "#EF553B",
           "#00cc96",
           "#ab63fa",
           "#FFA15A",
           "#19d3f3",
           "#FF6692",
           "#B6E880",
           "#FF97FF",
           "#FECB52"
          ],
          "font": {
           "color": "#2a3f5f"
          },
          "geo": {
           "bgcolor": "white",
           "lakecolor": "white",
           "landcolor": "#E5ECF6",
           "showlakes": true,
           "showland": true,
           "subunitcolor": "white"
          },
          "hoverlabel": {
           "align": "left"
          },
          "hovermode": "closest",
          "mapbox": {
           "style": "light"
          },
          "paper_bgcolor": "white",
          "plot_bgcolor": "#E5ECF6",
          "polar": {
           "angularaxis": {
            "gridcolor": "white",
            "linecolor": "white",
            "ticks": ""
           },
           "bgcolor": "#E5ECF6",
           "radialaxis": {
            "gridcolor": "white",
            "linecolor": "white",
            "ticks": ""
           }
          },
          "scene": {
           "xaxis": {
            "backgroundcolor": "#E5ECF6",
            "gridcolor": "white",
            "gridwidth": 2,
            "linecolor": "white",
            "showbackground": true,
            "ticks": "",
            "zerolinecolor": "white"
           },
           "yaxis": {
            "backgroundcolor": "#E5ECF6",
            "gridcolor": "white",
            "gridwidth": 2,
            "linecolor": "white",
            "showbackground": true,
            "ticks": "",
            "zerolinecolor": "white"
           },
           "zaxis": {
            "backgroundcolor": "#E5ECF6",
            "gridcolor": "white",
            "gridwidth": 2,
            "linecolor": "white",
            "showbackground": true,
            "ticks": "",
            "zerolinecolor": "white"
           }
          },
          "shapedefaults": {
           "line": {
            "color": "#2a3f5f"
           }
          },
          "ternary": {
           "aaxis": {
            "gridcolor": "white",
            "linecolor": "white",
            "ticks": ""
           },
           "baxis": {
            "gridcolor": "white",
            "linecolor": "white",
            "ticks": ""
           },
           "bgcolor": "#E5ECF6",
           "caxis": {
            "gridcolor": "white",
            "linecolor": "white",
            "ticks": ""
           }
          },
          "title": {
           "x": 0.05
          },
          "xaxis": {
           "automargin": true,
           "gridcolor": "white",
           "linecolor": "white",
           "ticks": "",
           "title": {
            "standoff": 15
           },
           "zerolinecolor": "white",
           "zerolinewidth": 2
          },
          "yaxis": {
           "automargin": true,
           "gridcolor": "white",
           "linecolor": "white",
           "ticks": "",
           "title": {
            "standoff": 15
           },
           "zerolinecolor": "white",
           "zerolinewidth": 2
          }
         }
        },
        "title": {
         "text": "Spot Curve and Discount Curve Estimates"
        },
        "xaxis": {
         "title": {
          "text": "Time to Maturity"
         }
        },
        "yaxis": {
         "gridcolor": "lightgrey",
         "showgrid": true,
         "tickformat": ".4f",
         "title": {
          "text": "Interest Rates"
         }
        }
       }
      }
     },
     "metadata": {},
     "output_type": "display_data"
    }
   ],
   "source": [
    "maturity_list = get_maturity_delta(t_maturity=cf_NS.columns,date_current=t_curr_date)\n",
    "maturity_grid = np.arange(0.25, maturity_list.max()+.5, 0.25)\n",
    "curves_ns_df = pd.DataFrame(index = maturity_grid)\n",
    "curves_ns_df['nelson siegel'] = nelson_siegel(params_NS,maturity_grid)\n",
    "curves_ns_df['ns-extended']= nelson_siegel_extended(params_NSE,maturity_grid)\n",
    "\n",
    "# Create an empty figure\n",
    "fig = go.Figure()\n",
    "\n",
    "# Add the first set of data (curves_ols)\n",
    "for col in curves_ols.columns:\n",
    "    fig.add_trace(go.Scatter(\n",
    "        x=curves_ols.index, \n",
    "        y=curves_ols[col], \n",
    "        mode='lines+markers', \n",
    "        name=col  # Add legend name from series_names\n",
    "    ))\n",
    "\n",
    "# Add the second set of data (curves_ns_df)\n",
    "for col in curves_ns_df.columns:\n",
    "    fig.add_trace(go.Scatter(\n",
    "        x=curves_ns_df.index, \n",
    "        y=curves_ns_df[col], \n",
    "        mode='lines+markers', \n",
    "        name=col  # Add legend name from series_names\n",
    "    ))\n",
    "\n",
    "# Update layout to customize axis labels and grid style\n",
    "fig.update_layout(\n",
    "    title=\"Spot Curve and Discount Curve Estimates\",\n",
    "    xaxis_title=\"Time to Maturity\",\n",
    "    yaxis_title=\"Interest Rates\",\n",
    "    legend_title=\"Curve Types\",\n",
    "    yaxis=dict(\n",
    "        tickformat=\".4f\",\n",
    "        gridcolor='lightgrey',\n",
    "        showgrid=True  # Ensure grid is enabled on the y-axis\n",
    "    )\n",
    ")\n",
    "\n",
    "# Show the figure\n",
    "fig.show()\n"
   ]
  },
  {
   "cell_type": "markdown",
   "id": "d5638e53",
   "metadata": {},
   "source": [
    "#### Extra: Compare to raw YTMs"
   ]
  },
  {
   "cell_type": "code",
   "execution_count": 37,
   "id": "c32e538b",
   "metadata": {},
   "outputs": [
    {
     "data": {
      "application/vnd.plotly.v1+json": {
       "config": {
        "plotlyServerURL": "https://plot.ly"
       },
       "data": [
        {
         "mode": "lines+markers",
         "name": "bootstrap",
         "type": "scatter",
         "x": [
          0.5,
          1,
          1.5,
          2,
          2.5,
          3,
          3.5,
          4,
          4.5,
          5,
          5.5,
          6,
          6.5,
          7,
          7.5,
          8,
          8.5,
          9,
          9.5,
          10
         ],
         "y": [
          0.0439198921386925,
          0.0427162235234533,
          0.041826715720062,
          0.04112112882348927,
          0.04093539061565408,
          0.04088148917911818,
          0.041136143361992505,
          0.0407745730246729,
          0.041144976671618205,
          0.04082554764628583,
          0.04146490459877858,
          0.04133001238792673,
          0.04172071843398478,
          0.041951886769209835,
          0.04212483496714954,
          0.04200566453640928,
          0.042302895785438124,
          0.042429886805231444,
          0.04253756255134976,
          0.042558356658196544
         ]
        },
        {
         "mode": "lines+markers",
         "name": "ols",
         "type": "scatter",
         "x": [
          0.5,
          1,
          1.5,
          2,
          2.5,
          3,
          3.5,
          4,
          4.5,
          5,
          5.5,
          6,
          6.5,
          7,
          7.5,
          8,
          8.5,
          9,
          9.5,
          10
         ],
         "y": [
          0.04390028439122729,
          0.042764026497660965,
          0.04178652460790131,
          0.04106913817629381,
          0.04093502097103235,
          0.04078164068167225,
          0.04113798849024997,
          0.04099383740938089,
          0.04105356055739514,
          0.04079530992294798,
          0.04146313068207182,
          0.041330834034567075,
          0.04172733522657953,
          0.04195309699520459,
          0.04212778545974909,
          0.042009362127355246,
          0.0423051895102328,
          0.04243301191402027,
          0.042540575137218026,
          0.042528340330343826
         ]
        },
        {
         "mode": "lines+markers",
         "name": "nelson siegel",
         "type": "scatter",
         "x": [
          0.25,
          0.5,
          0.75,
          1,
          1.25,
          1.5,
          1.75,
          2,
          2.25,
          2.5,
          2.75,
          3,
          3.25,
          3.5,
          3.75,
          4,
          4.25,
          4.5,
          4.75,
          5,
          5.25,
          5.5,
          5.75,
          6,
          6.25,
          6.5,
          6.75,
          7,
          7.25,
          7.5,
          7.75,
          8,
          8.25,
          8.5,
          8.75,
          9,
          9.25,
          9.5,
          9.75,
          10,
          10.25,
          10.5,
          10.75,
          11,
          11.25,
          11.5,
          11.75,
          12,
          12.25,
          12.5,
          12.75,
          13,
          13.25,
          13.5,
          13.75,
          14,
          14.25,
          14.5,
          14.75,
          15,
          15.25,
          15.5,
          15.75,
          16,
          16.25,
          16.5,
          16.75,
          17,
          17.25,
          17.5,
          17.75,
          18,
          18.25,
          18.5,
          18.75,
          19,
          19.25,
          19.5,
          19.75,
          20,
          20.25,
          20.5,
          20.75,
          21,
          21.25,
          21.5,
          21.75,
          22,
          22.25,
          22.5,
          22.75,
          23,
          23.25,
          23.5,
          23.75,
          24,
          24.25,
          24.5,
          24.75,
          25,
          25.25,
          25.5,
          25.75,
          26,
          26.25,
          26.5,
          26.75,
          27,
          27.25,
          27.5,
          27.75,
          28,
          28.25,
          28.5,
          28.75,
          29,
          29.25,
          29.5,
          29.75,
          30,
          30.25
         ],
         "y": [
          0.044672042618457974,
          0.04384606948344613,
          0.04315541608664748,
          0.04258265186025309,
          0.04211244049770504,
          0.04173129578637903,
          0.04142736546167244,
          0.04119023989651657,
          0.041010782800415646,
          0.0408809814216661,
          0.040793814029978503,
          0.04074313270834871,
          0.0407235597062946,
          0.040730395804672595,
          0.04075953931804438,
          0.040807414516489296,
          0.040870908387081344,
          0.040947314777951875,
          0.041034285076696694,
          0.041129784671420665,
          0.04123205452832831,
          0.04133957729569601,
          0.04145104741139117,
          0.041565344750805366,
          0.04168151140500269,
          0.04179873122581358,
          0.04191631181620762,
          0.04203366868115568,
          0.04215031128687813,
          0.042265830805343595,
          0.042379889346553457,
          0.04249221050389366,
          0.04260257105798802,
          0.042710793702340766,
          0.042816740669869895,
          0.04292030815343975,
          0.04302142142590422,
          0.04312003057615542,
          0.04321610678739599,
          0.04330963909246038,
          0.04340063154862887,
          0.04348910078111976,
          0.04357507385040974,
          0.04365858640380982,
          0.04373968107639099,
          0.043818406110481656,
          0.04389481416660751,
          0.04396896130197091,
          0.04404090609541686,
          0.0441107089003523,
          0.04417843120930974,
          0.04424413511581193,
          0.044307882860928446,
          0.04436973645344685,
          0.04442975735393196,
          0.04448800621413856,
          0.04454454266429395,
          0.04459942514169323,
          0.0446527107548661,
          0.044704455178293544,
          0.044754712573285386,
          0.04480353553118697,
          0.04485097503557323,
          0.04489708044051934,
          0.044941899462415495,
          0.04498547818312611,
          0.045027861062585293,
          0.04506909095917646,
          0.045109209156468225,
          0.04514825539507513,
          0.04518626790858375,
          0.04522328346263479,
          0.04525933739638324,
          0.04529446366567324,
          0.04532869488736366,
          0.0453620623843281,
          0.045394596230727634,
          0.045426325297220974,
          0.04545727729583306,
          0.04548747882425243,
          0.04551695540937024,
          0.045545731549910165,
          0.04557383075803007,
          0.045601275599803225,
          0.045628087734509624,
          0.04565428795268814,
          0.04567989621291617,
          0.04570493167729804,
          0.04572941274565505,
          0.045753357088419676,
          0.045776781678245,
          0.04579970282034687,
          0.045822136181601754,
          0.045844096818427736,
          0.04586559920347948,
          0.04588665725119049,
          0.045907284342198255,
          0.04592749334668889,
          0.04594729664669913,
          0.0459667061574137,
          0.04598573334749641,
          0.046004389258493227,
          0.04602268452334495,
          0.04604062938404679,
          0.04605823370849127,
          0.04607550700653003,
          0.046092458445289246,
          0.0461090968637722,
          0.04612543078678163,
          0.04614146843819304,
          0.046157217753609654,
          0.0461726863924276,
          0.04618788174933978,
          0.046202810965304805,
          0.04621748093800703,
          0.04623189833183196,
          0.0462460695873807,
          0.04626000093054573,
          0.04627369838116948,
          0.046287167761305995,
          0.04630041470310518
         ]
        },
        {
         "mode": "lines+markers",
         "name": "ns-extended",
         "type": "scatter",
         "x": [
          0.25,
          0.5,
          0.75,
          1,
          1.25,
          1.5,
          1.75,
          2,
          2.25,
          2.5,
          2.75,
          3,
          3.25,
          3.5,
          3.75,
          4,
          4.25,
          4.5,
          4.75,
          5,
          5.25,
          5.5,
          5.75,
          6,
          6.25,
          6.5,
          6.75,
          7,
          7.25,
          7.5,
          7.75,
          8,
          8.25,
          8.5,
          8.75,
          9,
          9.25,
          9.5,
          9.75,
          10,
          10.25,
          10.5,
          10.75,
          11,
          11.25,
          11.5,
          11.75,
          12,
          12.25,
          12.5,
          12.75,
          13,
          13.25,
          13.5,
          13.75,
          14,
          14.25,
          14.5,
          14.75,
          15,
          15.25,
          15.5,
          15.75,
          16,
          16.25,
          16.5,
          16.75,
          17,
          17.25,
          17.5,
          17.75,
          18,
          18.25,
          18.5,
          18.75,
          19,
          19.25,
          19.5,
          19.75,
          20,
          20.25,
          20.5,
          20.75,
          21,
          21.25,
          21.5,
          21.75,
          22,
          22.25,
          22.5,
          22.75,
          23,
          23.25,
          23.5,
          23.75,
          24,
          24.25,
          24.5,
          24.75,
          25,
          25.25,
          25.5,
          25.75,
          26,
          26.25,
          26.5,
          26.75,
          27,
          27.25,
          27.5,
          27.75,
          28,
          28.25,
          28.5,
          28.75,
          29,
          29.25,
          29.5,
          29.75,
          30,
          30.25
         ],
         "y": [
          0.043525055029936206,
          0.043120698529357585,
          0.042734356134834756,
          0.04237602585428313,
          0.04205205812131699,
          0.04176602773735236,
          0.041519427920395174,
          0.041312219835690694,
          0.04114326503806062,
          0.04101066333294373,
          0.040912014491366916,
          0.04084461889011873,
          0.04080562937261109,
          0.0407921643385053,
          0.04080139018788667,
          0.04083057969920992,
          0.04087715165163747,
          0.04093869596364125,
          0.041012987770864845,
          0.04109799317399915,
          0.041191868824240335,
          0.041292957056874746,
          0.041399777913729646,
          0.04151101909693042,
          0.0416255246566479,
          0.041742283023583765,
          0.04186041484398384,
          0.04197916095371351,
          0.042097870732382386,
          0.04221599100375173,
          0.04233305559066239,
          0.0424486755881905,
          0.042562530384968836,
          0.0426743594374189,
          0.04278395478322845,
          0.04289115426734265,
          0.042995835444836816,
          0.04309791011937264,
          0.043197319472741635,
          0.04329402973967307,
          0.043388028382144936,
          0.04347932071850466,
          0.043567926964485484,
          0.043653879645461025,
          0.043737221341830584,
          0.043818002732141786,
          0.04389628090132479,
          0.04397211788415828,
          0.04404557941676164,
          0.04411673387146156,
          0.04418565135280217,
          0.04425240293472656,
          0.04431706002105766,
          0.04437969381333872,
          0.04444037487186286,
          0.04449917275733188,
          0.04455615574204517,
          0.044611390580834735,
          0.04466494233314848,
          0.04471687422874181,
          0.044767247570385534,
          0.04481612166784078,
          0.04486355379809764,
          0.04490959918753867,
          0.04495431101227136,
          0.04499774041338885,
          0.045039936524371674,
          0.04508094650823908,
          0.0451208156024064,
          0.04515958716950779,
          0.045197302752707905,
          0.045234002134255186,
          0.04526972339622877,
          0.04530450298260309,
          0.04533837576190239,
          0.04537137508984583,
          0.04540353287149303,
          0.04543487962249447,
          0.04546544452913075,
          0.04549525550689303,
          0.04552433925741549,
          0.04555272132361808,
          0.04558042614296015,
          0.04560747709873876,
          0.04563389656939492,
          0.045659705975813404,
          0.04568492582662199,
          0.045709575761510975,
          0.04573367459260663,
          0.04575724034394166,
          0.04578029028907421,
          0.04580284098691182,
          0.0458249083158011,
          0.045846507505947466,
          0.04586765317023003,
          0.04588835933347818,
          0.04590863946027644,
          0.04592850648136355,
          0.04594797281869101,
          0.045967050409204464,
          0.04598575072741055,
          0.04600408480678875,
          0.04602206326010713,
          0.04603969629869732,
          0.04605699375074315,
          0.046073965078633955,
          0.04609061939543224,
          0.046106965480502415,
          0.04612301179434548,
          0.046138766492682254,
          0.04615423743982566,
          0.046169432221380306,
          0.04618435815630573,
          0.04619902230837799,
          0.04621343149708198,
          0.04622759230796536,
          0.046241511102483396,
          0.04625519402736202,
          0.04626864702350528,
          0.046281875834471776,
          0.04629488601454309
         ]
        },
        {
         "marker": {
          "color": "black",
          "size": 5,
          "symbol": "x"
         },
         "mode": "markers",
         "name": "quoted ytm",
         "type": "scatter",
         "x": [
          0.01368925393566051,
          0.01916495550992471,
          0.03285420944558522,
          0.03832991101984942,
          0.04106776180698152,
          0.04106776180698152,
          0.04106776180698152,
          0.05201916495550993,
          0.05749486652977413,
          0.07118412046543464,
          0.07939767282683094,
          0.08213552361396304,
          0.08213552361396304,
          0.08213552361396304,
          0.09034907597535935,
          0.09582477754962354,
          0.109514031485284,
          0.1149897330595483,
          0.1232032854209446,
          0.1286789869952088,
          0.134154688569473,
          0.1478439425051335,
          0.1533196440793977,
          0.1670088980150582,
          0.1670088980150582,
          0.1670088980150582,
          0.1670088980150582,
          0.1724845995893224,
          0.1861738535249829,
          0.1916495550992471,
          0.2053388090349076,
          0.2080766598220397,
          0.2080766598220397,
          0.2080766598220397,
          0.2108145106091718,
          0.2245037645448323,
          0.2299794661190965,
          0.243668720054757,
          0.2491444216290212,
          0.2518822724161533,
          0.2518822724161533,
          0.2518822724161533,
          0.2628336755646817,
          0.2683093771389459,
          0.2819986310746064,
          0.2874743326488706,
          0.2929500342231348,
          0.2929500342231348,
          0.2929500342231348,
          0.3011635865845311,
          0.3066392881587953,
          0.3203285420944558,
          0.3258042436687201,
          0.3285420944558521,
          0.3285420944558521,
          0.3285420944558521,
          0.3394934976043806,
          0.3449691991786448,
          0.3641341546885695,
          0.3696098562628337,
          0.3832991101984942,
          0.4024640657084189,
          0.4134154688569473,
          0.4134154688569473,
          0.4134154688569473,
          0.4216290212183436,
          0.4407939767282683,
          0.4544832306639288,
          0.4544832306639288,
          0.459958932238193,
          0.4791238877481177,
          0.4955509924709103,
          0.4955509924709103,
          0.4955509924709103,
          0.4982888432580425,
          0.5366187542778919,
          0.5366187542778919,
          0.5366187542778919,
          0.5804243668720055,
          0.5804243668720055,
          0.5804243668720055,
          0.6132785763175906,
          0.621492128678987,
          0.6625598904859685,
          0.6625598904859685,
          0.6625598904859685,
          0.6899383983572895,
          0.70362765229295,
          0.70362765229295,
          0.7474332648870636,
          0.7474332648870636,
          0.7474332648870636,
          0.7665982203969883,
          0.7885010266940452,
          0.7885010266940452,
          0.7885010266940452,
          0.8323066392881588,
          0.8323066392881588,
          0.8323066392881588,
          0.8432580424366872,
          0.8733744010951403,
          0.9144421629021219,
          0.9144421629021219,
          0.9144421629021219,
          0.919917864476386,
          0.9555099247091033,
          0.9555099247091033,
          0.9965776865160849,
          0.999315537303217,
          0.999315537303217,
          0.999315537303217,
          1.040383299110198,
          1.040383299110198,
          1.08145106091718,
          1.08145106091718,
          1.08145106091718,
          1.122518822724162,
          1.166324435318275,
          1.166324435318275,
          1.166324435318275,
          1.207392197125257,
          1.207392197125257,
          1.207392197125257,
          1.25119780971937,
          1.25119780971937,
          1.25119780971937,
          1.292265571526352,
          1.292265571526352,
          1.292265571526352,
          1.327857631759069,
          1.327857631759069,
          1.327857631759069,
          1.368925393566051,
          1.412731006160164,
          1.412731006160164,
          1.412731006160164,
          1.453798767967146,
          1.453798767967146,
          1.494866529774127,
          1.494866529774127,
          1.494866529774127,
          1.535934291581109,
          1.535934291581109,
          1.579739904175222,
          1.579739904175222,
          1.579739904175222,
          1.620807665982204,
          1.661875427789185,
          1.661875427789185,
          1.661875427789185,
          1.702943189596167,
          1.702943189596167,
          1.746748802190281,
          1.746748802190281,
          1.746748802190281,
          1.787816563997262,
          1.787816563997262,
          1.787816563997262,
          1.831622176591376,
          1.831622176591376,
          1.831622176591376,
          1.872689938398357,
          1.913757700205339,
          1.913757700205339,
          1.913757700205339,
          1.95482546201232,
          1.95482546201232,
          1.998631074606434,
          1.998631074606434,
          1.998631074606434,
          2.039698836413415,
          2.039698836413415,
          2.039698836413415,
          2.080766598220397,
          2.080766598220397,
          2.121834360027378,
          2.165639972621492,
          2.165639972621492,
          2.206707734428474,
          2.206707734428474,
          2.206707734428474,
          2.250513347022587,
          2.291581108829569,
          2.291581108829569,
          2.291581108829569,
          2.327173169062286,
          2.327173169062286,
          2.368240930869268,
          2.412046543463381,
          2.412046543463381,
          2.453114305270363,
          2.453114305270363,
          2.494182067077344,
          2.494182067077344,
          2.535249828884326,
          2.535249828884326,
          2.579055441478439,
          2.579055441478439,
          2.620123203285421,
          2.661190965092402,
          2.661190965092402,
          2.702258726899384,
          2.702258726899384,
          2.746064339493498,
          2.746064339493498,
          2.787132101300479,
          2.787132101300479,
          2.787132101300479,
          2.830937713894593,
          2.830937713894593,
          2.872005475701574,
          2.913073237508556,
          2.913073237508556,
          2.954140999315537,
          2.954140999315537,
          2.997946611909651,
          2.997946611909651,
          3.039014373716633,
          3.039014373716633,
          3.080082135523614,
          3.080082135523614,
          3.164955509924709,
          3.164955509924709,
          3.206023271731691,
          3.206023271731691,
          3.249828884325804,
          3.249828884325804,
          3.290896646132786,
          3.329226557152635,
          3.329226557152635,
          3.41409993155373,
          3.41409993155373,
          3.455167693360712,
          3.455167693360712,
          3.496235455167693,
          3.496235455167693,
          3.537303216974675,
          3.581108829568788,
          3.581108829568788,
          3.663244353182752,
          3.663244353182752,
          3.704312114989733,
          3.748117727583847,
          3.748117727583847,
          3.789185489390828,
          3.789185489390828,
          3.832991101984942,
          3.832991101984942,
          3.915126625598905,
          3.915126625598905,
          3.956194387405886,
          4,
          4,
          4.041067761806982,
          4.041067761806982,
          4.082135523613963,
          4.082135523613963,
          4.167008898015058,
          4.167008898015058,
          4.20807665982204,
          4.20807665982204,
          4.251882272416153,
          4.251882272416153,
          4.292950034223135,
          4.292950034223135,
          4.328542094455853,
          4.328542094455853,
          4.413415468856948,
          4.413415468856948,
          4.454483230663929,
          4.454483230663929,
          4.495550992470911,
          4.495550992470911,
          4.536618754277892,
          4.580424366872005,
          4.580424366872005,
          4.662559890485968,
          4.662559890485968,
          4.70362765229295,
          4.747433264887063,
          4.747433264887063,
          4.788501026694045,
          4.788501026694045,
          4.832306639288158,
          4.832306639288158,
          4.914442162902122,
          4.914442162902122,
          4.955509924709103,
          4.999315537303217,
          4.999315537303217,
          5.040383299110198,
          5.08145106091718,
          5.166324435318275,
          5.207392197125257,
          5.25119780971937,
          5.292265571526352,
          5.327857631759069,
          5.412731006160164,
          5.494866529774128,
          5.535934291581109,
          5.535934291581109,
          5.579739904175223,
          5.661875427789186,
          5.702943189596167,
          5.746748802190281,
          5.787816563997263,
          5.831622176591376,
          5.913757700205339,
          5.998631074606434,
          6.039698836413415,
          6.080766598220397,
          6.165639972621492,
          6.206707734428473,
          6.250513347022587,
          6.291581108829569,
          6.291581108829569,
          6.327173169062286,
          6.412046543463381,
          6.494182067077344,
          6.535249828884326,
          6.579055441478439,
          6.661190965092403,
          6.702258726899384,
          6.746064339493498,
          6.787132101300479,
          6.830937713894593,
          6.913073237508556,
          6.997946611909651,
          7.039014373716633,
          7.206023271731691,
          7.290896646132786,
          7.455167693360712,
          7.537303216974675,
          7.704312114989733,
          7.789185489390828,
          8.041067761806982,
          8.208076659822039,
          8.292950034223136,
          8.536618754277892,
          8.70362765229295,
          8.788501026694044,
          9.040383299110198,
          9.207392197125257,
          9.292265571526352,
          9.535934291581109,
          9.702943189596168,
          9.787816563997263,
          11.29089664613279,
          12.29295003422314,
          12.53661875427789,
          13.29226557152635,
          13.53593429158111,
          14.29158110882957,
          14.53524982888433,
          14.78713210130048,
          15.03901437371663,
          15.29089664613279,
          15.29089664613279,
          15.53730321697467,
          15.53730321697467,
          15.78918548939083,
          15.78918548939083,
          16.04106776180698,
          16.04106776180698,
          16.29295003422314,
          16.29295003422314,
          16.29295003422314,
          16.53661875427789,
          16.53661875427789,
          16.78850102669405,
          16.78850102669405,
          17.0403832991102,
          17.0403832991102,
          17.29226557152635,
          17.29226557152635,
          17.29226557152635,
          17.53593429158111,
          17.53593429158111,
          17.78781656399726,
          17.78781656399726,
          18.03969883641341,
          18.03969883641341,
          18.29158110882957,
          18.29158110882957,
          18.29158110882957,
          18.53524982888433,
          18.53524982888433,
          18.78713210130048,
          18.78713210130048,
          19.03901437371663,
          19.03901437371663,
          19.29089664613279,
          19.29089664613279,
          19.29089664613279,
          19.53730321697467,
          19.53730321697467,
          19.78918548939083,
          19.78918548939083,
          20.04106776180698,
          20.29295003422314,
          20.29295003422314,
          20.53661875427789,
          20.78850102669405,
          21.0403832991102,
          21.29226557152635,
          21.29226557152635,
          21.53593429158111,
          21.78781656399726,
          22.03969883641341,
          22.29158110882957,
          22.29158110882957,
          22.53524982888433,
          22.78713210130048,
          23.03901437371663,
          23.29089664613279,
          23.29089664613279,
          23.53730321697467,
          23.78918548939083,
          24.04106776180698,
          24.29295003422314,
          24.29295003422314,
          24.53661875427789,
          24.78850102669405,
          25.0403832991102,
          25.29226557152635,
          25.29226557152635,
          25.53593429158111,
          25.78781656399726,
          26.03969883641341,
          26.29158110882957,
          26.29158110882957,
          26.53524982888433,
          26.78713210130048,
          27.03901437371663,
          27.29089664613279,
          27.29089664613279,
          27.53730321697467,
          27.78918548939083,
          28.04106776180698,
          28.29295003422314,
          28.29295003422314,
          28.53661875427789,
          28.78850102669405,
          29.0403832991102,
          29.29226557152635,
          29.29226557152635,
          29.53593429158111,
          29.78781656399726
         ],
         "y": [
          0.03846252977607589,
          0.04089853435371937,
          0.04384417403795915,
          0.04415077503147691,
          0.04549659353558866,
          0.04441312808128783,
          0.04541473636440285,
          0.0449329001126979,
          0.04507154015445103,
          0.04539144814931761,
          0.04557181023296941,
          0.04602348508939347,
          0.04680871761715855,
          0.04581382417898761,
          0.04556594393534841,
          0.0458827742295318,
          0.04580135201484703,
          0.04599010948358595,
          0.04618040039576599,
          0.04601432532922178,
          0.04582628825907387,
          0.04623812267710159,
          0.04616140331875185,
          0.04476320487374963,
          0.04579455786715503,
          0.04540425594640185,
          0.04627521363223686,
          0.04570911889427176,
          0.04527591117020702,
          0.0453011519818074,
          0.04520216369318009,
          null,
          0.04565718042959199,
          null,
          0.04529884584672272,
          0.04529036458734348,
          0.04514743306504654,
          0.04530167521389039,
          0.04524592535203142,
          0.04587789289706157,
          0.0453035492464684,
          0.04510035942456625,
          0.04529793807104543,
          0.04529593821890776,
          0.04530710480414823,
          0.0452589025964647,
          0.04527892463209371,
          0.04529655547772649,
          0.0447986626809036,
          0.04531050137094361,
          0.04520208303058793,
          0.04531213464701578,
          0.04510525312831248,
          0.04561510494992627,
          0.04601825716049435,
          0.04556327111862846,
          0.04378926018099616,
          0.0448434249150429,
          0.04481666613103785,
          0.04504688511611121,
          0.04488826666590029,
          0.04486220616508918,
          0.04430448862829106,
          0.04455304599480092,
          0.04498194590654236,
          0.04476550108065114,
          0.04447375838280898,
          0.04395139199210529,
          null,
          0.04445733509663397,
          0.04445043769482382,
          0.0449330662554277,
          0.04458594777862679,
          0.04486759002214979,
          0.04438731580801791,
          0.04479930494387174,
          0.04355013975065791,
          0.04479872713371114,
          0.04465642307622009,
          0.04436755622523325,
          0.04450755918101112,
          0.04298565955892641,
          0.04357751074313265,
          0.04391806551821187,
          0.04410915286500972,
          0.04336461453314566,
          0.0428645390952811,
          0.04300955397978123,
          null,
          0.04355512227875424,
          0.04404861924209458,
          0.04379233709115038,
          0.04297952355838985,
          0.04013710406533555,
          0.04386988537937198,
          0.04392873957408083,
          0.04389548005652788,
          0.04399185945879536,
          0.04394370788148949,
          0.04305231019576272,
          0.0432264167680203,
          0.04349578694156397,
          0.04331860405234167,
          0.04365277983083615,
          0.04260731326212586,
          0.0430974892851812,
          null,
          0.04265573956152613,
          0.04317574952544012,
          0.04331117289789743,
          0.04321926123341102,
          0.04324588608984126,
          0.0431250647632524,
          0.043239739588806,
          0.04321536532380144,
          0.04313282328643098,
          0.04278896744494975,
          0.04285296927371673,
          0.04268234770082557,
          0.04267055684020571,
          null,
          0.0424025512892201,
          null,
          0.04241070983048045,
          0.04235641436114923,
          0.04251083732808247,
          0.04101715681800533,
          0.04223489494244648,
          0.04232334289800344,
          0.04229791284893691,
          0.0427269782933366,
          0.04272090059079803,
          0.04246399690254643,
          0.04238656587840994,
          0.04224661737013502,
          0.04246725705140353,
          0.04227696398215253,
          null,
          0.04229947692652614,
          0.04232665527712198,
          0.04212177184916843,
          0.04208404535174459,
          0.04231232765270887,
          0.042156560016128,
          0.04223736028581149,
          0.04192062590074874,
          0.04208489363424706,
          0.04209548630461057,
          0.04202255123751453,
          0.04180755064533681,
          0.0419975201943017,
          null,
          0.04190154973835103,
          0.04194520307449334,
          0.04188486993286711,
          0.04052666135497551,
          0.0416213690255951,
          0.04182953960827751,
          0.0417710336046615,
          0.04180821219716835,
          0.04168426106430445,
          0.04171144868087051,
          0.04165559186360657,
          0.04159633114593131,
          0.04137062458845309,
          null,
          0.04160521208328971,
          0.041558048355951,
          0.04147877212205531,
          0.04161121046602112,
          0.04158840338644243,
          0.04132417183222792,
          0.03886913027837569,
          0.04148398303038769,
          0.04142365232311152,
          0.04148098290213653,
          0.04122531129218432,
          0.04125460293316374,
          null,
          0.04137724714827096,
          null,
          0.04130906654936473,
          0.0391896962858751,
          0.04142546006429448,
          0.04138382534559115,
          0.04136507211929752,
          0.0413908756802237,
          0.04131590490852322,
          0.04111594717546119,
          0.04125118804905137,
          null,
          0.04134328704948764,
          0.0413461225909284,
          0.04139845321532265,
          0.04142803812055851,
          0.04141703375068939,
          0.04133149883287945,
          0.04143260844295593,
          0.04124766371875133,
          0.0412654241402084,
          0.04139179591632747,
          0.04132823687064047,
          null,
          0.04142415541915057,
          0.04135928492282259,
          0.04141258047244367,
          0.04102328887523932,
          0.04130469877212173,
          0.04133178627081247,
          0.04125298832306834,
          0.04116231265851544,
          0.04139979422676454,
          0.0411575890388316,
          0.04125214257419341,
          null,
          0.04126805468835792,
          0.04136703675975451,
          0.04137767595042341,
          0.04107295012588619,
          0.04142840627855326,
          0.04134278208212105,
          0.04127922375881488,
          0.04142444173385718,
          null,
          null,
          0.04149888839583138,
          0.04133649816624763,
          0.0415021965784641,
          0.04142136585700973,
          0.04151774712357481,
          0.04151054580073854,
          0.0413417057309915,
          null,
          null,
          0.04152665753292339,
          0.04148653231187582,
          0.04158067106130803,
          0.04149068112224885,
          0.04151319797218855,
          0.04157841186360889,
          0.04147115296458681,
          null,
          0.04157937568957681,
          0.04157858575519091,
          0.04048024454263421,
          0.04162719976119122,
          0.04159665761041653,
          0.04157805978171858,
          0.04160640088753409,
          0.04161404411503034,
          null,
          0.04159144224800926,
          0.04162290593532303,
          0.04138058843523229,
          0.04163824949700512,
          0.0416031015253342,
          0.04161015152371883,
          0.04163992462040289,
          0.04157025663460745,
          null,
          null,
          0.04160585111188286,
          0.04166427449521759,
          0.04160069527453958,
          0.0404652282014859,
          0.04164536850624856,
          0.04156634221580058,
          0.04160889479554575,
          0.04166827127120998,
          null,
          null,
          0.0416879467354474,
          0.0415902586064032,
          0.04156566758723645,
          0.04148773348004253,
          0.04171463274098386,
          0.04162457714508916,
          0.04172659508106014,
          null,
          0.04153726303818006,
          0.04163792250694964,
          0.04157724793014372,
          0.04127377425964029,
          0.04143175022436862,
          0.04167054329097075,
          0.04170756342762294,
          0.04150813542281639,
          null,
          0.04149573019293795,
          0.04170031811441888,
          0.04118601931182697,
          0.04169411510142584,
          0.04172504423705981,
          null,
          0.04174404342921134,
          0.04182925726267772,
          0.04174222320998933,
          0.04182634216758263,
          0.04186043158184516,
          0.04189927437172658,
          0.04184690682891556,
          0.0418676510202598,
          0.0419126132219465,
          null,
          0.04191806044639312,
          0.04199930285269637,
          0.04195876439209156,
          0.04197754257342501,
          0.04201862955500291,
          0.04171076617130254,
          0.04206423946424787,
          0.04207897101875613,
          null,
          0.04210138688855602,
          0.04152390675456408,
          0.0416370635305201,
          0.04215732433402453,
          0.04220286333276047,
          0.04223197883859653,
          0.0422294027691934,
          0.04227028171828229,
          0.04227193537270724,
          null,
          0.04226059828276396,
          0.04226490700103458,
          0.04228123127198824,
          0.04223851719697658,
          0.04218936600228407,
          0.04237929249836503,
          null,
          0.04244637597775602,
          null,
          0.04250420342518346,
          null,
          0.04250133381255461,
          0.04234364355568454,
          null,
          0.04257546817615854,
          0.04265464859942325,
          null,
          0.04272136857507203,
          0.042731432416244,
          null,
          0.04279480407797376,
          0.04283454362251371,
          null,
          0.04283438607803225,
          0.04202005384255125,
          0.04276005325810406,
          0.04290499872116582,
          0.04327043835267474,
          0.04343016489088614,
          0.04371091546749462,
          0.04403303748642484,
          0.04416617123444277,
          0.04425527665494089,
          0.04430685984257332,
          null,
          0.04435806471682735,
          0.04513491197396258,
          0.04531752027138047,
          0.04451602806385413,
          0.04452152514760188,
          0.04539746384259846,
          0.04446781312371684,
          0.04548751859544975,
          null,
          0.0446292009489615,
          0.04545772687946359,
          0.04489980163776952,
          0.0457854946433951,
          0.04511825466690444,
          0.04587729814298402,
          0.04594720004641184,
          null,
          0.04537393818161917,
          0.04571356276565108,
          0.04570248455624348,
          0.04586530565226177,
          0.04574718862507376,
          0.04596989104867655,
          0.04550471396875366,
          null,
          0.04595267939569325,
          0.04567641422863966,
          0.04613446661673004,
          0.04584378708001458,
          0.04601826193137315,
          0.04571163793660649,
          0.04561762983233075,
          0.04607448451186125,
          0.04581951746282087,
          0.04616293030709206,
          null,
          0.04584458496141641,
          0.04619591293165559,
          0.0463452757176066,
          0.04596507742205658,
          0.04635614231709395,
          0.04642009877377395,
          null,
          0.04632807487657731,
          0.0463044936774919,
          0.04627860503448789,
          null,
          0.04639684623076201,
          0.04644161494768628,
          0.04645753682686982,
          0.04642920936926354,
          null,
          0.04643782805352847,
          0.04641521397423354,
          0.04642735597328196,
          0.04639157167584429,
          0.0464154539288093,
          null,
          0.04640282109026828,
          0.04638182691828074,
          0.04636442824762987,
          0.04633569482442201,
          null,
          0.04626621170470857,
          0.04620456499856029,
          0.04611703593873662,
          null,
          0.04599672865125504,
          0.04569870180269087,
          0.04584135578847803,
          0.04583462851846942,
          0.04575089625444262,
          null,
          0.04569031447076544,
          0.04565570278362863,
          0.04557612327646421,
          null,
          0.04551515109136206,
          0.04545952105483453,
          0.04536270991056757,
          0.04510359437333467,
          0.04516261936004096,
          null,
          0.04508601438488213,
          0.04499081603425337,
          0.04483664381643537,
          null,
          0.04487251098752676,
          0.04480937085297887,
          0.04480197718244705
         ]
        }
       ],
       "layout": {
        "legend": {
         "title": {
          "text": "Curve Types"
         }
        },
        "template": {
         "data": {
          "bar": [
           {
            "error_x": {
             "color": "#2a3f5f"
            },
            "error_y": {
             "color": "#2a3f5f"
            },
            "marker": {
             "line": {
              "color": "#E5ECF6",
              "width": 0.5
             },
             "pattern": {
              "fillmode": "overlay",
              "size": 10,
              "solidity": 0.2
             }
            },
            "type": "bar"
           }
          ],
          "barpolar": [
           {
            "marker": {
             "line": {
              "color": "#E5ECF6",
              "width": 0.5
             },
             "pattern": {
              "fillmode": "overlay",
              "size": 10,
              "solidity": 0.2
             }
            },
            "type": "barpolar"
           }
          ],
          "carpet": [
           {
            "aaxis": {
             "endlinecolor": "#2a3f5f",
             "gridcolor": "white",
             "linecolor": "white",
             "minorgridcolor": "white",
             "startlinecolor": "#2a3f5f"
            },
            "baxis": {
             "endlinecolor": "#2a3f5f",
             "gridcolor": "white",
             "linecolor": "white",
             "minorgridcolor": "white",
             "startlinecolor": "#2a3f5f"
            },
            "type": "carpet"
           }
          ],
          "choropleth": [
           {
            "colorbar": {
             "outlinewidth": 0,
             "ticks": ""
            },
            "type": "choropleth"
           }
          ],
          "contour": [
           {
            "colorbar": {
             "outlinewidth": 0,
             "ticks": ""
            },
            "colorscale": [
             [
              0,
              "#0d0887"
             ],
             [
              0.1111111111111111,
              "#46039f"
             ],
             [
              0.2222222222222222,
              "#7201a8"
             ],
             [
              0.3333333333333333,
              "#9c179e"
             ],
             [
              0.4444444444444444,
              "#bd3786"
             ],
             [
              0.5555555555555556,
              "#d8576b"
             ],
             [
              0.6666666666666666,
              "#ed7953"
             ],
             [
              0.7777777777777778,
              "#fb9f3a"
             ],
             [
              0.8888888888888888,
              "#fdca26"
             ],
             [
              1,
              "#f0f921"
             ]
            ],
            "type": "contour"
           }
          ],
          "contourcarpet": [
           {
            "colorbar": {
             "outlinewidth": 0,
             "ticks": ""
            },
            "type": "contourcarpet"
           }
          ],
          "heatmap": [
           {
            "colorbar": {
             "outlinewidth": 0,
             "ticks": ""
            },
            "colorscale": [
             [
              0,
              "#0d0887"
             ],
             [
              0.1111111111111111,
              "#46039f"
             ],
             [
              0.2222222222222222,
              "#7201a8"
             ],
             [
              0.3333333333333333,
              "#9c179e"
             ],
             [
              0.4444444444444444,
              "#bd3786"
             ],
             [
              0.5555555555555556,
              "#d8576b"
             ],
             [
              0.6666666666666666,
              "#ed7953"
             ],
             [
              0.7777777777777778,
              "#fb9f3a"
             ],
             [
              0.8888888888888888,
              "#fdca26"
             ],
             [
              1,
              "#f0f921"
             ]
            ],
            "type": "heatmap"
           }
          ],
          "heatmapgl": [
           {
            "colorbar": {
             "outlinewidth": 0,
             "ticks": ""
            },
            "colorscale": [
             [
              0,
              "#0d0887"
             ],
             [
              0.1111111111111111,
              "#46039f"
             ],
             [
              0.2222222222222222,
              "#7201a8"
             ],
             [
              0.3333333333333333,
              "#9c179e"
             ],
             [
              0.4444444444444444,
              "#bd3786"
             ],
             [
              0.5555555555555556,
              "#d8576b"
             ],
             [
              0.6666666666666666,
              "#ed7953"
             ],
             [
              0.7777777777777778,
              "#fb9f3a"
             ],
             [
              0.8888888888888888,
              "#fdca26"
             ],
             [
              1,
              "#f0f921"
             ]
            ],
            "type": "heatmapgl"
           }
          ],
          "histogram": [
           {
            "marker": {
             "pattern": {
              "fillmode": "overlay",
              "size": 10,
              "solidity": 0.2
             }
            },
            "type": "histogram"
           }
          ],
          "histogram2d": [
           {
            "colorbar": {
             "outlinewidth": 0,
             "ticks": ""
            },
            "colorscale": [
             [
              0,
              "#0d0887"
             ],
             [
              0.1111111111111111,
              "#46039f"
             ],
             [
              0.2222222222222222,
              "#7201a8"
             ],
             [
              0.3333333333333333,
              "#9c179e"
             ],
             [
              0.4444444444444444,
              "#bd3786"
             ],
             [
              0.5555555555555556,
              "#d8576b"
             ],
             [
              0.6666666666666666,
              "#ed7953"
             ],
             [
              0.7777777777777778,
              "#fb9f3a"
             ],
             [
              0.8888888888888888,
              "#fdca26"
             ],
             [
              1,
              "#f0f921"
             ]
            ],
            "type": "histogram2d"
           }
          ],
          "histogram2dcontour": [
           {
            "colorbar": {
             "outlinewidth": 0,
             "ticks": ""
            },
            "colorscale": [
             [
              0,
              "#0d0887"
             ],
             [
              0.1111111111111111,
              "#46039f"
             ],
             [
              0.2222222222222222,
              "#7201a8"
             ],
             [
              0.3333333333333333,
              "#9c179e"
             ],
             [
              0.4444444444444444,
              "#bd3786"
             ],
             [
              0.5555555555555556,
              "#d8576b"
             ],
             [
              0.6666666666666666,
              "#ed7953"
             ],
             [
              0.7777777777777778,
              "#fb9f3a"
             ],
             [
              0.8888888888888888,
              "#fdca26"
             ],
             [
              1,
              "#f0f921"
             ]
            ],
            "type": "histogram2dcontour"
           }
          ],
          "mesh3d": [
           {
            "colorbar": {
             "outlinewidth": 0,
             "ticks": ""
            },
            "type": "mesh3d"
           }
          ],
          "parcoords": [
           {
            "line": {
             "colorbar": {
              "outlinewidth": 0,
              "ticks": ""
             }
            },
            "type": "parcoords"
           }
          ],
          "pie": [
           {
            "automargin": true,
            "type": "pie"
           }
          ],
          "scatter": [
           {
            "fillpattern": {
             "fillmode": "overlay",
             "size": 10,
             "solidity": 0.2
            },
            "type": "scatter"
           }
          ],
          "scatter3d": [
           {
            "line": {
             "colorbar": {
              "outlinewidth": 0,
              "ticks": ""
             }
            },
            "marker": {
             "colorbar": {
              "outlinewidth": 0,
              "ticks": ""
             }
            },
            "type": "scatter3d"
           }
          ],
          "scattercarpet": [
           {
            "marker": {
             "colorbar": {
              "outlinewidth": 0,
              "ticks": ""
             }
            },
            "type": "scattercarpet"
           }
          ],
          "scattergeo": [
           {
            "marker": {
             "colorbar": {
              "outlinewidth": 0,
              "ticks": ""
             }
            },
            "type": "scattergeo"
           }
          ],
          "scattergl": [
           {
            "marker": {
             "colorbar": {
              "outlinewidth": 0,
              "ticks": ""
             }
            },
            "type": "scattergl"
           }
          ],
          "scattermapbox": [
           {
            "marker": {
             "colorbar": {
              "outlinewidth": 0,
              "ticks": ""
             }
            },
            "type": "scattermapbox"
           }
          ],
          "scatterpolar": [
           {
            "marker": {
             "colorbar": {
              "outlinewidth": 0,
              "ticks": ""
             }
            },
            "type": "scatterpolar"
           }
          ],
          "scatterpolargl": [
           {
            "marker": {
             "colorbar": {
              "outlinewidth": 0,
              "ticks": ""
             }
            },
            "type": "scatterpolargl"
           }
          ],
          "scatterternary": [
           {
            "marker": {
             "colorbar": {
              "outlinewidth": 0,
              "ticks": ""
             }
            },
            "type": "scatterternary"
           }
          ],
          "surface": [
           {
            "colorbar": {
             "outlinewidth": 0,
             "ticks": ""
            },
            "colorscale": [
             [
              0,
              "#0d0887"
             ],
             [
              0.1111111111111111,
              "#46039f"
             ],
             [
              0.2222222222222222,
              "#7201a8"
             ],
             [
              0.3333333333333333,
              "#9c179e"
             ],
             [
              0.4444444444444444,
              "#bd3786"
             ],
             [
              0.5555555555555556,
              "#d8576b"
             ],
             [
              0.6666666666666666,
              "#ed7953"
             ],
             [
              0.7777777777777778,
              "#fb9f3a"
             ],
             [
              0.8888888888888888,
              "#fdca26"
             ],
             [
              1,
              "#f0f921"
             ]
            ],
            "type": "surface"
           }
          ],
          "table": [
           {
            "cells": {
             "fill": {
              "color": "#EBF0F8"
             },
             "line": {
              "color": "white"
             }
            },
            "header": {
             "fill": {
              "color": "#C8D4E3"
             },
             "line": {
              "color": "white"
             }
            },
            "type": "table"
           }
          ]
         },
         "layout": {
          "annotationdefaults": {
           "arrowcolor": "#2a3f5f",
           "arrowhead": 0,
           "arrowwidth": 1
          },
          "autotypenumbers": "strict",
          "coloraxis": {
           "colorbar": {
            "outlinewidth": 0,
            "ticks": ""
           }
          },
          "colorscale": {
           "diverging": [
            [
             0,
             "#8e0152"
            ],
            [
             0.1,
             "#c51b7d"
            ],
            [
             0.2,
             "#de77ae"
            ],
            [
             0.3,
             "#f1b6da"
            ],
            [
             0.4,
             "#fde0ef"
            ],
            [
             0.5,
             "#f7f7f7"
            ],
            [
             0.6,
             "#e6f5d0"
            ],
            [
             0.7,
             "#b8e186"
            ],
            [
             0.8,
             "#7fbc41"
            ],
            [
             0.9,
             "#4d9221"
            ],
            [
             1,
             "#276419"
            ]
           ],
           "sequential": [
            [
             0,
             "#0d0887"
            ],
            [
             0.1111111111111111,
             "#46039f"
            ],
            [
             0.2222222222222222,
             "#7201a8"
            ],
            [
             0.3333333333333333,
             "#9c179e"
            ],
            [
             0.4444444444444444,
             "#bd3786"
            ],
            [
             0.5555555555555556,
             "#d8576b"
            ],
            [
             0.6666666666666666,
             "#ed7953"
            ],
            [
             0.7777777777777778,
             "#fb9f3a"
            ],
            [
             0.8888888888888888,
             "#fdca26"
            ],
            [
             1,
             "#f0f921"
            ]
           ],
           "sequentialminus": [
            [
             0,
             "#0d0887"
            ],
            [
             0.1111111111111111,
             "#46039f"
            ],
            [
             0.2222222222222222,
             "#7201a8"
            ],
            [
             0.3333333333333333,
             "#9c179e"
            ],
            [
             0.4444444444444444,
             "#bd3786"
            ],
            [
             0.5555555555555556,
             "#d8576b"
            ],
            [
             0.6666666666666666,
             "#ed7953"
            ],
            [
             0.7777777777777778,
             "#fb9f3a"
            ],
            [
             0.8888888888888888,
             "#fdca26"
            ],
            [
             1,
             "#f0f921"
            ]
           ]
          },
          "colorway": [
           "#636efa",
           "#EF553B",
           "#00cc96",
           "#ab63fa",
           "#FFA15A",
           "#19d3f3",
           "#FF6692",
           "#B6E880",
           "#FF97FF",
           "#FECB52"
          ],
          "font": {
           "color": "#2a3f5f"
          },
          "geo": {
           "bgcolor": "white",
           "lakecolor": "white",
           "landcolor": "#E5ECF6",
           "showlakes": true,
           "showland": true,
           "subunitcolor": "white"
          },
          "hoverlabel": {
           "align": "left"
          },
          "hovermode": "closest",
          "mapbox": {
           "style": "light"
          },
          "paper_bgcolor": "white",
          "plot_bgcolor": "#E5ECF6",
          "polar": {
           "angularaxis": {
            "gridcolor": "white",
            "linecolor": "white",
            "ticks": ""
           },
           "bgcolor": "#E5ECF6",
           "radialaxis": {
            "gridcolor": "white",
            "linecolor": "white",
            "ticks": ""
           }
          },
          "scene": {
           "xaxis": {
            "backgroundcolor": "#E5ECF6",
            "gridcolor": "white",
            "gridwidth": 2,
            "linecolor": "white",
            "showbackground": true,
            "ticks": "",
            "zerolinecolor": "white"
           },
           "yaxis": {
            "backgroundcolor": "#E5ECF6",
            "gridcolor": "white",
            "gridwidth": 2,
            "linecolor": "white",
            "showbackground": true,
            "ticks": "",
            "zerolinecolor": "white"
           },
           "zaxis": {
            "backgroundcolor": "#E5ECF6",
            "gridcolor": "white",
            "gridwidth": 2,
            "linecolor": "white",
            "showbackground": true,
            "ticks": "",
            "zerolinecolor": "white"
           }
          },
          "shapedefaults": {
           "line": {
            "color": "#2a3f5f"
           }
          },
          "ternary": {
           "aaxis": {
            "gridcolor": "white",
            "linecolor": "white",
            "ticks": ""
           },
           "baxis": {
            "gridcolor": "white",
            "linecolor": "white",
            "ticks": ""
           },
           "bgcolor": "#E5ECF6",
           "caxis": {
            "gridcolor": "white",
            "linecolor": "white",
            "ticks": ""
           }
          },
          "title": {
           "x": 0.05
          },
          "xaxis": {
           "automargin": true,
           "gridcolor": "white",
           "linecolor": "white",
           "ticks": "",
           "title": {
            "standoff": 15
           },
           "zerolinecolor": "white",
           "zerolinewidth": 2
          },
          "yaxis": {
           "automargin": true,
           "gridcolor": "white",
           "linecolor": "white",
           "ticks": "",
           "title": {
            "standoff": 15
           },
           "zerolinecolor": "white",
           "zerolinewidth": 2
          }
         }
        },
        "title": {
         "text": "Spot Curve and Discount Curve Estimates"
        },
        "xaxis": {
         "title": {
          "text": "Time to Maturity"
         }
        },
        "yaxis": {
         "gridcolor": "lightgrey",
         "showgrid": true,
         "tickformat": ".4f",
         "title": {
          "text": "Interest Rates"
         }
        }
       }
      }
     },
     "metadata": {},
     "output_type": "display_data"
    }
   ],
   "source": [
    "raw_ytm_df = treasuries_all.set_index('ttm')['ytm']\n",
    "raw_ytm_df = raw_ytm_df.sort_index(ascending=True)\n",
    "\n",
    "# Add new data to the existing figure\n",
    "\n",
    "fig.add_trace(go.Scatter(\n",
    "    x=raw_ytm_df.index,\n",
    "    y=raw_ytm_df.values,\n",
    "    mode='markers',\n",
    "    marker=dict(color='black', symbol='x', size=5),\n",
    "    name='quoted ytm'\n",
    "))\n",
    "\n",
    "# Show the updated figure\n",
    "fig.show()\n"
   ]
  },
  {
   "cell_type": "markdown",
   "id": "15329dd8",
   "metadata": {},
   "source": [
    "***"
   ]
  },
  {
   "cell_type": "markdown",
   "id": "632119d7",
   "metadata": {},
   "source": [
    "# 3. Yield-Curve Factors\n",
    "\n",
    "### Data\n",
    "This section uses data in `'../data/yields.xlsx`.\n",
    "\n"
   ]
  },
  {
   "cell_type": "markdown",
   "id": "bd4327ea",
   "metadata": {},
   "source": [
    "### 3.1. Yield Curve Movements\n",
    "\n",
    "Use the yield curve time-series data to calculate the time-series of the **level**, **slope**, and **curvature** factors.\n",
    "\n",
    "Calculate the yield-curve factors. For each point in time, calculate the following three factors:\n",
    "\n",
    "$\\begin{align}\n",
    "x^{\\text{level}}_t =& \\frac{1}{N_{\\text{yields}}}\\sum_{i=1}^{N_{\\text{yields}}} y^{(i)}_t\\\\\n",
    "x^{\\text{slope}}_t =& y^{(30)}_t - y^{(1)}_t\\\\\n",
    "x^{\\text{curvature}}_t =& -y^{(1)}_t + 2 y^{(10)}_t - y^{(30)}_t\n",
    "\\end{align}$\n",
    "\n",
    "Report the \n",
    "* correlation matrix of the factors.\n",
    "* *mean and volatility of the factors."
   ]
  },
  {
   "cell_type": "code",
   "execution_count": 45,
   "id": "f5155f05",
   "metadata": {},
   "outputs": [
    {
     "data": {
      "text/html": [
       "<div>\n",
       "<style scoped>\n",
       "    .dataframe tbody tr th:only-of-type {\n",
       "        vertical-align: middle;\n",
       "    }\n",
       "\n",
       "    .dataframe tbody tr th {\n",
       "        vertical-align: top;\n",
       "    }\n",
       "\n",
       "    .dataframe thead th {\n",
       "        text-align: right;\n",
       "    }\n",
       "</style>\n",
       "<table border=\"1\" class=\"dataframe\">\n",
       "  <thead>\n",
       "    <tr style=\"text-align: right;\">\n",
       "      <th></th>\n",
       "      <th>1</th>\n",
       "      <th>2</th>\n",
       "      <th>5</th>\n",
       "      <th>7</th>\n",
       "      <th>10</th>\n",
       "      <th>20</th>\n",
       "      <th>30</th>\n",
       "    </tr>\n",
       "    <tr>\n",
       "      <th>caldt</th>\n",
       "      <th></th>\n",
       "      <th></th>\n",
       "      <th></th>\n",
       "      <th></th>\n",
       "      <th></th>\n",
       "      <th></th>\n",
       "      <th></th>\n",
       "    </tr>\n",
       "  </thead>\n",
       "  <tbody>\n",
       "    <tr>\n",
       "      <th>1961-06-14</th>\n",
       "      <td>2.9359</td>\n",
       "      <td>3.3607</td>\n",
       "      <td>3.6237</td>\n",
       "      <td>3.7687</td>\n",
       "      <td>3.8188</td>\n",
       "      <td>3.8142</td>\n",
       "      <td>3.8152</td>\n",
       "    </tr>\n",
       "    <tr>\n",
       "      <th>1961-06-15</th>\n",
       "      <td>2.9329</td>\n",
       "      <td>3.3765</td>\n",
       "      <td>3.6717</td>\n",
       "      <td>3.8042</td>\n",
       "      <td>3.8630</td>\n",
       "      <td>3.8282</td>\n",
       "      <td>3.8263</td>\n",
       "    </tr>\n",
       "    <tr>\n",
       "      <th>1961-06-16</th>\n",
       "      <td>2.9299</td>\n",
       "      <td>3.3757</td>\n",
       "      <td>3.6854</td>\n",
       "      <td>3.8042</td>\n",
       "      <td>3.8633</td>\n",
       "      <td>3.8329</td>\n",
       "      <td>3.8300</td>\n",
       "    </tr>\n",
       "    <tr>\n",
       "      <th>1961-06-19</th>\n",
       "      <td>2.9209</td>\n",
       "      <td>3.3900</td>\n",
       "      <td>3.7130</td>\n",
       "      <td>3.8246</td>\n",
       "      <td>3.8862</td>\n",
       "      <td>3.8424</td>\n",
       "      <td>3.8375</td>\n",
       "    </tr>\n",
       "    <tr>\n",
       "      <th>1961-06-20</th>\n",
       "      <td>2.9524</td>\n",
       "      <td>3.3558</td>\n",
       "      <td>3.6854</td>\n",
       "      <td>3.8093</td>\n",
       "      <td>3.8865</td>\n",
       "      <td>3.8565</td>\n",
       "      <td>3.8450</td>\n",
       "    </tr>\n",
       "    <tr>\n",
       "      <th>...</th>\n",
       "      <td>...</td>\n",
       "      <td>...</td>\n",
       "      <td>...</td>\n",
       "      <td>...</td>\n",
       "      <td>...</td>\n",
       "      <td>...</td>\n",
       "      <td>...</td>\n",
       "    </tr>\n",
       "    <tr>\n",
       "      <th>2024-05-24</th>\n",
       "      <td>5.1516</td>\n",
       "      <td>4.8768</td>\n",
       "      <td>4.4779</td>\n",
       "      <td>4.4221</td>\n",
       "      <td>4.4133</td>\n",
       "      <td>4.6410</td>\n",
       "      <td>4.5138</td>\n",
       "    </tr>\n",
       "    <tr>\n",
       "      <th>2024-05-28</th>\n",
       "      <td>5.1496</td>\n",
       "      <td>4.9211</td>\n",
       "      <td>4.5507</td>\n",
       "      <td>4.5123</td>\n",
       "      <td>4.4989</td>\n",
       "      <td>4.7375</td>\n",
       "      <td>4.6130</td>\n",
       "    </tr>\n",
       "    <tr>\n",
       "      <th>2024-05-29</th>\n",
       "      <td>5.2314</td>\n",
       "      <td>4.9334</td>\n",
       "      <td>4.6039</td>\n",
       "      <td>4.5667</td>\n",
       "      <td>4.5616</td>\n",
       "      <td>4.8026</td>\n",
       "      <td>4.6795</td>\n",
       "    </tr>\n",
       "    <tr>\n",
       "      <th>2024-05-30</th>\n",
       "      <td>5.1747</td>\n",
       "      <td>4.8848</td>\n",
       "      <td>4.5378</td>\n",
       "      <td>4.4965</td>\n",
       "      <td>4.4966</td>\n",
       "      <td>4.7449</td>\n",
       "      <td>4.6258</td>\n",
       "    </tr>\n",
       "    <tr>\n",
       "      <th>2024-05-31</th>\n",
       "      <td>5.1293</td>\n",
       "      <td>4.8202</td>\n",
       "      <td>4.4720</td>\n",
       "      <td>4.4458</td>\n",
       "      <td>4.4480</td>\n",
       "      <td>4.7067</td>\n",
       "      <td>4.5962</td>\n",
       "    </tr>\n",
       "  </tbody>\n",
       "</table>\n",
       "<p>15723 rows × 7 columns</p>\n",
       "</div>"
      ],
      "text/plain": [
       "                1      2      5      7     10     20     30\n",
       "caldt                                                      \n",
       "1961-06-14 2.9359 3.3607 3.6237 3.7687 3.8188 3.8142 3.8152\n",
       "1961-06-15 2.9329 3.3765 3.6717 3.8042 3.8630 3.8282 3.8263\n",
       "1961-06-16 2.9299 3.3757 3.6854 3.8042 3.8633 3.8329 3.8300\n",
       "1961-06-19 2.9209 3.3900 3.7130 3.8246 3.8862 3.8424 3.8375\n",
       "1961-06-20 2.9524 3.3558 3.6854 3.8093 3.8865 3.8565 3.8450\n",
       "...           ...    ...    ...    ...    ...    ...    ...\n",
       "2024-05-24 5.1516 4.8768 4.4779 4.4221 4.4133 4.6410 4.5138\n",
       "2024-05-28 5.1496 4.9211 4.5507 4.5123 4.4989 4.7375 4.6130\n",
       "2024-05-29 5.2314 4.9334 4.6039 4.5667 4.5616 4.8026 4.6795\n",
       "2024-05-30 5.1747 4.8848 4.5378 4.4965 4.4966 4.7449 4.6258\n",
       "2024-05-31 5.1293 4.8202 4.4720 4.4458 4.4480 4.7067 4.5962\n",
       "\n",
       "[15723 rows x 7 columns]"
      ]
     },
     "execution_count": 45,
     "metadata": {},
     "output_type": "execute_result"
    }
   ],
   "source": [
    "FILE_PATH_YLD_CURVE = Path(config.DATA_DIR) / \"yields.xlsx\"\n",
    "yields = read_excel_default(excel_name=FILE_PATH_YLD_CURVE, sheet_name='yields',index_col=0)\n",
    "\n",
    "yields"
   ]
  },
  {
   "cell_type": "code",
   "execution_count": 47,
   "id": "d5508e66",
   "metadata": {},
   "outputs": [
    {
     "data": {
      "text/html": [
       "<div>\n",
       "<style scoped>\n",
       "    .dataframe tbody tr th:only-of-type {\n",
       "        vertical-align: middle;\n",
       "    }\n",
       "\n",
       "    .dataframe tbody tr th {\n",
       "        vertical-align: top;\n",
       "    }\n",
       "\n",
       "    .dataframe thead th {\n",
       "        text-align: right;\n",
       "    }\n",
       "</style>\n",
       "<table border=\"1\" class=\"dataframe\">\n",
       "  <thead>\n",
       "    <tr style=\"text-align: right;\">\n",
       "      <th></th>\n",
       "      <th>level</th>\n",
       "      <th>slope</th>\n",
       "      <th>curvature</th>\n",
       "    </tr>\n",
       "  </thead>\n",
       "  <tbody>\n",
       "    <tr>\n",
       "      <th>count</th>\n",
       "      <td>15723.0000</td>\n",
       "      <td>15723.0000</td>\n",
       "      <td>15723.0000</td>\n",
       "    </tr>\n",
       "    <tr>\n",
       "      <th>mean</th>\n",
       "      <td>5.4752</td>\n",
       "      <td>1.1098</td>\n",
       "      <td>0.6718</td>\n",
       "    </tr>\n",
       "    <tr>\n",
       "      <th>std</th>\n",
       "      <td>2.9147</td>\n",
       "      <td>1.4803</td>\n",
       "      <td>0.9719</td>\n",
       "    </tr>\n",
       "    <tr>\n",
       "      <th>min</th>\n",
       "      <td>0.4876</td>\n",
       "      <td>-3.4903</td>\n",
       "      <td>-5.4268</td>\n",
       "    </tr>\n",
       "    <tr>\n",
       "      <th>25%</th>\n",
       "      <td>3.4478</td>\n",
       "      <td>-0.0128</td>\n",
       "      <td>0.0966</td>\n",
       "    </tr>\n",
       "    <tr>\n",
       "      <th>50%</th>\n",
       "      <td>5.1937</td>\n",
       "      <td>1.0110</td>\n",
       "      <td>0.6238</td>\n",
       "    </tr>\n",
       "    <tr>\n",
       "      <th>75%</th>\n",
       "      <td>7.1670</td>\n",
       "      <td>2.1240</td>\n",
       "      <td>1.3359</td>\n",
       "    </tr>\n",
       "    <tr>\n",
       "      <th>max</th>\n",
       "      <td>15.2596</td>\n",
       "      <td>4.3583</td>\n",
       "      <td>3.2838</td>\n",
       "    </tr>\n",
       "  </tbody>\n",
       "</table>\n",
       "</div>"
      ],
      "text/plain": [
       "           level      slope  curvature\n",
       "count 15723.0000 15723.0000 15723.0000\n",
       "mean      5.4752     1.1098     0.6718\n",
       "std       2.9147     1.4803     0.9719\n",
       "min       0.4876    -3.4903    -5.4268\n",
       "25%       3.4478    -0.0128     0.0966\n",
       "50%       5.1937     1.0110     0.6238\n",
       "75%       7.1670     2.1240     1.3359\n",
       "max      15.2596     4.3583     3.2838"
      ]
     },
     "execution_count": 47,
     "metadata": {},
     "output_type": "execute_result"
    }
   ],
   "source": [
    "yields.index.name = 'date'\n",
    "shapes = pd.DataFrame(yields.mean(axis=1), columns=['level'])\n",
    "shapes['slope'] = yields['30'] - yields['1']\n",
    "shapes['curvature'] = -yields['1'] + 2* yields['10'] - yields['30']\n",
    "\n",
    "DATETHRESH = '2010-01-01'\n",
    "shapesT = shapes[shapes.index > DATETHRESH]\n",
    "shapes.describe()"
   ]
  },
  {
   "cell_type": "code",
   "execution_count": 88,
   "id": "3e32aca4",
   "metadata": {},
   "outputs": [
    {
     "data": {
      "text/html": [
       "<div>\n",
       "<style scoped>\n",
       "    .dataframe tbody tr th:only-of-type {\n",
       "        vertical-align: middle;\n",
       "    }\n",
       "\n",
       "    .dataframe tbody tr th {\n",
       "        vertical-align: top;\n",
       "    }\n",
       "\n",
       "    .dataframe thead th {\n",
       "        text-align: right;\n",
       "    }\n",
       "</style>\n",
       "<table border=\"1\" class=\"dataframe\">\n",
       "  <thead>\n",
       "    <tr style=\"text-align: right;\">\n",
       "      <th></th>\n",
       "      <th>level</th>\n",
       "      <th>slope</th>\n",
       "      <th>curvature</th>\n",
       "    </tr>\n",
       "  </thead>\n",
       "  <tbody>\n",
       "    <tr>\n",
       "      <th>level</th>\n",
       "      <td>1.0000</td>\n",
       "      <td>-0.3760</td>\n",
       "      <td>-0.1693</td>\n",
       "    </tr>\n",
       "    <tr>\n",
       "      <th>slope</th>\n",
       "      <td>-0.3760</td>\n",
       "      <td>1.0000</td>\n",
       "      <td>0.6477</td>\n",
       "    </tr>\n",
       "    <tr>\n",
       "      <th>curvature</th>\n",
       "      <td>-0.1693</td>\n",
       "      <td>0.6477</td>\n",
       "      <td>1.0000</td>\n",
       "    </tr>\n",
       "  </tbody>\n",
       "</table>\n",
       "</div>"
      ],
      "text/plain": [
       "            level   slope  curvature\n",
       "level      1.0000 -0.3760    -0.1693\n",
       "slope     -0.3760  1.0000     0.6477\n",
       "curvature -0.1693  0.6477     1.0000"
      ]
     },
     "execution_count": 88,
     "metadata": {},
     "output_type": "execute_result"
    }
   ],
   "source": [
    "shapes.corr()"
   ]
  },
  {
   "cell_type": "markdown",
   "id": "87ca68a9",
   "metadata": {},
   "source": [
    "### 3.2. PCA\n",
    "\n",
    "Calculate the principal components of the time-series yield data.\n",
    "\n",
    "Report...\n",
    "* the percentage of total variation explained by each factor.\n",
    "* the loadings of the first two PCA factors.\n",
    "\n",
    "#### Note\n",
    "Consider using,\n",
    "`PCA` from `sklearn.decomposition` "
   ]
  },
  {
   "cell_type": "code",
   "execution_count": 68,
   "id": "8f4c0d54",
   "metadata": {},
   "outputs": [
    {
     "data": {
      "text/html": [
       "<div>\n",
       "<style scoped>\n",
       "    .dataframe tbody tr th:only-of-type {\n",
       "        vertical-align: middle;\n",
       "    }\n",
       "\n",
       "    .dataframe tbody tr th {\n",
       "        vertical-align: top;\n",
       "    }\n",
       "\n",
       "    .dataframe thead th {\n",
       "        text-align: right;\n",
       "    }\n",
       "</style>\n",
       "<table border=\"1\" class=\"dataframe\">\n",
       "  <thead>\n",
       "    <tr style=\"text-align: right;\">\n",
       "      <th></th>\n",
       "      <th>1</th>\n",
       "      <th>2</th>\n",
       "      <th>5</th>\n",
       "      <th>7</th>\n",
       "      <th>10</th>\n",
       "      <th>20</th>\n",
       "      <th>30</th>\n",
       "    </tr>\n",
       "  </thead>\n",
       "  <tbody>\n",
       "    <tr>\n",
       "      <th>PC 1 (Level)</th>\n",
       "      <td>0.4115</td>\n",
       "      <td>0.4111</td>\n",
       "      <td>0.3928</td>\n",
       "      <td>0.3784</td>\n",
       "      <td>0.3634</td>\n",
       "      <td>0.3441</td>\n",
       "      <td>0.3374</td>\n",
       "    </tr>\n",
       "    <tr>\n",
       "      <th>PC 2 (Slope)</th>\n",
       "      <td>0.5910</td>\n",
       "      <td>0.3993</td>\n",
       "      <td>0.0468</td>\n",
       "      <td>-0.0874</td>\n",
       "      <td>-0.2027</td>\n",
       "      <td>-0.4389</td>\n",
       "      <td>-0.4978</td>\n",
       "    </tr>\n",
       "    <tr>\n",
       "      <th>PC 3 (Curvature)</th>\n",
       "      <td>0.4555</td>\n",
       "      <td>0.0073</td>\n",
       "      <td>-0.3924</td>\n",
       "      <td>-0.4484</td>\n",
       "      <td>-0.3635</td>\n",
       "      <td>0.3630</td>\n",
       "      <td>0.4165</td>\n",
       "    </tr>\n",
       "    <tr>\n",
       "      <th>PC 4</th>\n",
       "      <td>0.3578</td>\n",
       "      <td>-0.3857</td>\n",
       "      <td>-0.3729</td>\n",
       "      <td>-0.1046</td>\n",
       "      <td>0.7405</td>\n",
       "      <td>-0.0692</td>\n",
       "      <td>-0.1419</td>\n",
       "    </tr>\n",
       "    <tr>\n",
       "      <th>PC 5</th>\n",
       "      <td>-0.0200</td>\n",
       "      <td>-0.0148</td>\n",
       "      <td>0.0161</td>\n",
       "      <td>-0.0119</td>\n",
       "      <td>-0.0500</td>\n",
       "      <td>0.7430</td>\n",
       "      <td>-0.6667</td>\n",
       "    </tr>\n",
       "    <tr>\n",
       "      <th>PC 6</th>\n",
       "      <td>0.3403</td>\n",
       "      <td>-0.5711</td>\n",
       "      <td>-0.0136</td>\n",
       "      <td>0.6432</td>\n",
       "      <td>-0.3794</td>\n",
       "      <td>-0.0165</td>\n",
       "      <td>0.0007</td>\n",
       "    </tr>\n",
       "    <tr>\n",
       "      <th>PC 7</th>\n",
       "      <td>0.1724</td>\n",
       "      <td>-0.4432</td>\n",
       "      <td>0.7416</td>\n",
       "      <td>-0.4726</td>\n",
       "      <td>-0.0056</td>\n",
       "      <td>-0.0137</td>\n",
       "      <td>0.0163</td>\n",
       "    </tr>\n",
       "  </tbody>\n",
       "</table>\n",
       "</div>"
      ],
      "text/plain": [
       "                       1       2       5       7      10      20      30\n",
       "PC 1 (Level)      0.4115  0.4111  0.3928  0.3784  0.3634  0.3441  0.3374\n",
       "PC 2 (Slope)      0.5910  0.3993  0.0468 -0.0874 -0.2027 -0.4389 -0.4978\n",
       "PC 3 (Curvature)  0.4555  0.0073 -0.3924 -0.4484 -0.3635  0.3630  0.4165\n",
       "PC 4              0.3578 -0.3857 -0.3729 -0.1046  0.7405 -0.0692 -0.1419\n",
       "PC 5             -0.0200 -0.0148  0.0161 -0.0119 -0.0500  0.7430 -0.6667\n",
       "PC 6              0.3403 -0.5711 -0.0136  0.6432 -0.3794 -0.0165  0.0007\n",
       "PC 7              0.1724 -0.4432  0.7416 -0.4726 -0.0056 -0.0137  0.0163"
      ]
     },
     "metadata": {},
     "output_type": "display_data"
    }
   ],
   "source": [
    "pca = PCA(svd_solver='full')\n",
    "pca.fit(yields)\n",
    "pca_loadings = pd.DataFrame(\n",
    "    pca.components_,\n",
    "    columns=yields.columns,\n",
    "    index=['PC 1 (Level)', 'PC 2 (Slope)', 'PC 3 (Curvature)'] + [f'PC {i+1}' for i in range(3, pca.n_components_)]\n",
    ")\n",
    "display(pca_loadings)"
   ]
  },
  {
   "cell_type": "code",
   "execution_count": 77,
   "id": "99d9dad0",
   "metadata": {},
   "outputs": [
    {
     "data": {
      "application/vnd.plotly.v1+json": {
       "config": {
        "plotlyServerURL": "https://plot.ly"
       },
       "data": [
        {
         "hovertemplate": "variable=PC 1 (Level)<br>Maturity=%{x}<br>Loading=%{y}<extra></extra>",
         "legendgroup": "PC 1 (Level)",
         "line": {
          "color": "#636efa",
          "dash": "solid"
         },
         "marker": {
          "symbol": "circle"
         },
         "mode": "lines",
         "name": "PC 1 (Level)",
         "orientation": "v",
         "showlegend": true,
         "type": "scatter",
         "x": [
          "1",
          "2",
          "5",
          "7",
          "10",
          "20",
          "30"
         ],
         "xaxis": "x",
         "y": [
          0.41146434248365893,
          0.4110543670442044,
          0.39278424976989684,
          0.37835346029708355,
          0.36338008537249905,
          0.3440686531097482,
          0.337449655377244
         ],
         "yaxis": "y"
        },
        {
         "hovertemplate": "variable=PC 2 (Slope)<br>Maturity=%{x}<br>Loading=%{y}<extra></extra>",
         "legendgroup": "PC 2 (Slope)",
         "line": {
          "color": "#EF553B",
          "dash": "solid"
         },
         "marker": {
          "symbol": "circle"
         },
         "mode": "lines",
         "name": "PC 2 (Slope)",
         "orientation": "v",
         "showlegend": true,
         "type": "scatter",
         "x": [
          "1",
          "2",
          "5",
          "7",
          "10",
          "20",
          "30"
         ],
         "xaxis": "x",
         "y": [
          -0.5910063165450297,
          -0.3992979572727834,
          -0.046805914537023624,
          0.08743853078563746,
          0.2026735119406341,
          0.43885647017283,
          0.4977598125252332
         ],
         "yaxis": "y"
        },
        {
         "hovertemplate": "variable=PC 3 (Curvature)<br>Maturity=%{x}<br>Loading=%{y}<extra></extra>",
         "legendgroup": "PC 3 (Curvature)",
         "line": {
          "color": "#00cc96",
          "dash": "solid"
         },
         "marker": {
          "symbol": "circle"
         },
         "mode": "lines",
         "name": "PC 3 (Curvature)",
         "orientation": "v",
         "showlegend": true,
         "type": "scatter",
         "x": [
          "1",
          "2",
          "5",
          "7",
          "10",
          "20",
          "30"
         ],
         "xaxis": "x",
         "y": [
          -0.4554960745402438,
          -0.007323761987683558,
          0.39243656389529535,
          0.44840170463532236,
          0.3635012307227221,
          -0.3630152306314043,
          -0.41651643518553044
         ],
         "yaxis": "y"
        }
       ],
       "layout": {
        "legend": {
         "title": {
          "text": "Principal Components"
         },
         "tracegroupgap": 0
        },
        "template": {
         "data": {
          "bar": [
           {
            "error_x": {
             "color": "#2a3f5f"
            },
            "error_y": {
             "color": "#2a3f5f"
            },
            "marker": {
             "line": {
              "color": "#E5ECF6",
              "width": 0.5
             },
             "pattern": {
              "fillmode": "overlay",
              "size": 10,
              "solidity": 0.2
             }
            },
            "type": "bar"
           }
          ],
          "barpolar": [
           {
            "marker": {
             "line": {
              "color": "#E5ECF6",
              "width": 0.5
             },
             "pattern": {
              "fillmode": "overlay",
              "size": 10,
              "solidity": 0.2
             }
            },
            "type": "barpolar"
           }
          ],
          "carpet": [
           {
            "aaxis": {
             "endlinecolor": "#2a3f5f",
             "gridcolor": "white",
             "linecolor": "white",
             "minorgridcolor": "white",
             "startlinecolor": "#2a3f5f"
            },
            "baxis": {
             "endlinecolor": "#2a3f5f",
             "gridcolor": "white",
             "linecolor": "white",
             "minorgridcolor": "white",
             "startlinecolor": "#2a3f5f"
            },
            "type": "carpet"
           }
          ],
          "choropleth": [
           {
            "colorbar": {
             "outlinewidth": 0,
             "ticks": ""
            },
            "type": "choropleth"
           }
          ],
          "contour": [
           {
            "colorbar": {
             "outlinewidth": 0,
             "ticks": ""
            },
            "colorscale": [
             [
              0,
              "#0d0887"
             ],
             [
              0.1111111111111111,
              "#46039f"
             ],
             [
              0.2222222222222222,
              "#7201a8"
             ],
             [
              0.3333333333333333,
              "#9c179e"
             ],
             [
              0.4444444444444444,
              "#bd3786"
             ],
             [
              0.5555555555555556,
              "#d8576b"
             ],
             [
              0.6666666666666666,
              "#ed7953"
             ],
             [
              0.7777777777777778,
              "#fb9f3a"
             ],
             [
              0.8888888888888888,
              "#fdca26"
             ],
             [
              1,
              "#f0f921"
             ]
            ],
            "type": "contour"
           }
          ],
          "contourcarpet": [
           {
            "colorbar": {
             "outlinewidth": 0,
             "ticks": ""
            },
            "type": "contourcarpet"
           }
          ],
          "heatmap": [
           {
            "colorbar": {
             "outlinewidth": 0,
             "ticks": ""
            },
            "colorscale": [
             [
              0,
              "#0d0887"
             ],
             [
              0.1111111111111111,
              "#46039f"
             ],
             [
              0.2222222222222222,
              "#7201a8"
             ],
             [
              0.3333333333333333,
              "#9c179e"
             ],
             [
              0.4444444444444444,
              "#bd3786"
             ],
             [
              0.5555555555555556,
              "#d8576b"
             ],
             [
              0.6666666666666666,
              "#ed7953"
             ],
             [
              0.7777777777777778,
              "#fb9f3a"
             ],
             [
              0.8888888888888888,
              "#fdca26"
             ],
             [
              1,
              "#f0f921"
             ]
            ],
            "type": "heatmap"
           }
          ],
          "heatmapgl": [
           {
            "colorbar": {
             "outlinewidth": 0,
             "ticks": ""
            },
            "colorscale": [
             [
              0,
              "#0d0887"
             ],
             [
              0.1111111111111111,
              "#46039f"
             ],
             [
              0.2222222222222222,
              "#7201a8"
             ],
             [
              0.3333333333333333,
              "#9c179e"
             ],
             [
              0.4444444444444444,
              "#bd3786"
             ],
             [
              0.5555555555555556,
              "#d8576b"
             ],
             [
              0.6666666666666666,
              "#ed7953"
             ],
             [
              0.7777777777777778,
              "#fb9f3a"
             ],
             [
              0.8888888888888888,
              "#fdca26"
             ],
             [
              1,
              "#f0f921"
             ]
            ],
            "type": "heatmapgl"
           }
          ],
          "histogram": [
           {
            "marker": {
             "pattern": {
              "fillmode": "overlay",
              "size": 10,
              "solidity": 0.2
             }
            },
            "type": "histogram"
           }
          ],
          "histogram2d": [
           {
            "colorbar": {
             "outlinewidth": 0,
             "ticks": ""
            },
            "colorscale": [
             [
              0,
              "#0d0887"
             ],
             [
              0.1111111111111111,
              "#46039f"
             ],
             [
              0.2222222222222222,
              "#7201a8"
             ],
             [
              0.3333333333333333,
              "#9c179e"
             ],
             [
              0.4444444444444444,
              "#bd3786"
             ],
             [
              0.5555555555555556,
              "#d8576b"
             ],
             [
              0.6666666666666666,
              "#ed7953"
             ],
             [
              0.7777777777777778,
              "#fb9f3a"
             ],
             [
              0.8888888888888888,
              "#fdca26"
             ],
             [
              1,
              "#f0f921"
             ]
            ],
            "type": "histogram2d"
           }
          ],
          "histogram2dcontour": [
           {
            "colorbar": {
             "outlinewidth": 0,
             "ticks": ""
            },
            "colorscale": [
             [
              0,
              "#0d0887"
             ],
             [
              0.1111111111111111,
              "#46039f"
             ],
             [
              0.2222222222222222,
              "#7201a8"
             ],
             [
              0.3333333333333333,
              "#9c179e"
             ],
             [
              0.4444444444444444,
              "#bd3786"
             ],
             [
              0.5555555555555556,
              "#d8576b"
             ],
             [
              0.6666666666666666,
              "#ed7953"
             ],
             [
              0.7777777777777778,
              "#fb9f3a"
             ],
             [
              0.8888888888888888,
              "#fdca26"
             ],
             [
              1,
              "#f0f921"
             ]
            ],
            "type": "histogram2dcontour"
           }
          ],
          "mesh3d": [
           {
            "colorbar": {
             "outlinewidth": 0,
             "ticks": ""
            },
            "type": "mesh3d"
           }
          ],
          "parcoords": [
           {
            "line": {
             "colorbar": {
              "outlinewidth": 0,
              "ticks": ""
             }
            },
            "type": "parcoords"
           }
          ],
          "pie": [
           {
            "automargin": true,
            "type": "pie"
           }
          ],
          "scatter": [
           {
            "fillpattern": {
             "fillmode": "overlay",
             "size": 10,
             "solidity": 0.2
            },
            "type": "scatter"
           }
          ],
          "scatter3d": [
           {
            "line": {
             "colorbar": {
              "outlinewidth": 0,
              "ticks": ""
             }
            },
            "marker": {
             "colorbar": {
              "outlinewidth": 0,
              "ticks": ""
             }
            },
            "type": "scatter3d"
           }
          ],
          "scattercarpet": [
           {
            "marker": {
             "colorbar": {
              "outlinewidth": 0,
              "ticks": ""
             }
            },
            "type": "scattercarpet"
           }
          ],
          "scattergeo": [
           {
            "marker": {
             "colorbar": {
              "outlinewidth": 0,
              "ticks": ""
             }
            },
            "type": "scattergeo"
           }
          ],
          "scattergl": [
           {
            "marker": {
             "colorbar": {
              "outlinewidth": 0,
              "ticks": ""
             }
            },
            "type": "scattergl"
           }
          ],
          "scattermapbox": [
           {
            "marker": {
             "colorbar": {
              "outlinewidth": 0,
              "ticks": ""
             }
            },
            "type": "scattermapbox"
           }
          ],
          "scatterpolar": [
           {
            "marker": {
             "colorbar": {
              "outlinewidth": 0,
              "ticks": ""
             }
            },
            "type": "scatterpolar"
           }
          ],
          "scatterpolargl": [
           {
            "marker": {
             "colorbar": {
              "outlinewidth": 0,
              "ticks": ""
             }
            },
            "type": "scatterpolargl"
           }
          ],
          "scatterternary": [
           {
            "marker": {
             "colorbar": {
              "outlinewidth": 0,
              "ticks": ""
             }
            },
            "type": "scatterternary"
           }
          ],
          "surface": [
           {
            "colorbar": {
             "outlinewidth": 0,
             "ticks": ""
            },
            "colorscale": [
             [
              0,
              "#0d0887"
             ],
             [
              0.1111111111111111,
              "#46039f"
             ],
             [
              0.2222222222222222,
              "#7201a8"
             ],
             [
              0.3333333333333333,
              "#9c179e"
             ],
             [
              0.4444444444444444,
              "#bd3786"
             ],
             [
              0.5555555555555556,
              "#d8576b"
             ],
             [
              0.6666666666666666,
              "#ed7953"
             ],
             [
              0.7777777777777778,
              "#fb9f3a"
             ],
             [
              0.8888888888888888,
              "#fdca26"
             ],
             [
              1,
              "#f0f921"
             ]
            ],
            "type": "surface"
           }
          ],
          "table": [
           {
            "cells": {
             "fill": {
              "color": "#EBF0F8"
             },
             "line": {
              "color": "white"
             }
            },
            "header": {
             "fill": {
              "color": "#C8D4E3"
             },
             "line": {
              "color": "white"
             }
            },
            "type": "table"
           }
          ]
         },
         "layout": {
          "annotationdefaults": {
           "arrowcolor": "#2a3f5f",
           "arrowhead": 0,
           "arrowwidth": 1
          },
          "autotypenumbers": "strict",
          "coloraxis": {
           "colorbar": {
            "outlinewidth": 0,
            "ticks": ""
           }
          },
          "colorscale": {
           "diverging": [
            [
             0,
             "#8e0152"
            ],
            [
             0.1,
             "#c51b7d"
            ],
            [
             0.2,
             "#de77ae"
            ],
            [
             0.3,
             "#f1b6da"
            ],
            [
             0.4,
             "#fde0ef"
            ],
            [
             0.5,
             "#f7f7f7"
            ],
            [
             0.6,
             "#e6f5d0"
            ],
            [
             0.7,
             "#b8e186"
            ],
            [
             0.8,
             "#7fbc41"
            ],
            [
             0.9,
             "#4d9221"
            ],
            [
             1,
             "#276419"
            ]
           ],
           "sequential": [
            [
             0,
             "#0d0887"
            ],
            [
             0.1111111111111111,
             "#46039f"
            ],
            [
             0.2222222222222222,
             "#7201a8"
            ],
            [
             0.3333333333333333,
             "#9c179e"
            ],
            [
             0.4444444444444444,
             "#bd3786"
            ],
            [
             0.5555555555555556,
             "#d8576b"
            ],
            [
             0.6666666666666666,
             "#ed7953"
            ],
            [
             0.7777777777777778,
             "#fb9f3a"
            ],
            [
             0.8888888888888888,
             "#fdca26"
            ],
            [
             1,
             "#f0f921"
            ]
           ],
           "sequentialminus": [
            [
             0,
             "#0d0887"
            ],
            [
             0.1111111111111111,
             "#46039f"
            ],
            [
             0.2222222222222222,
             "#7201a8"
            ],
            [
             0.3333333333333333,
             "#9c179e"
            ],
            [
             0.4444444444444444,
             "#bd3786"
            ],
            [
             0.5555555555555556,
             "#d8576b"
            ],
            [
             0.6666666666666666,
             "#ed7953"
            ],
            [
             0.7777777777777778,
             "#fb9f3a"
            ],
            [
             0.8888888888888888,
             "#fdca26"
            ],
            [
             1,
             "#f0f921"
            ]
           ]
          },
          "colorway": [
           "#636efa",
           "#EF553B",
           "#00cc96",
           "#ab63fa",
           "#FFA15A",
           "#19d3f3",
           "#FF6692",
           "#B6E880",
           "#FF97FF",
           "#FECB52"
          ],
          "font": {
           "color": "#2a3f5f"
          },
          "geo": {
           "bgcolor": "white",
           "lakecolor": "white",
           "landcolor": "#E5ECF6",
           "showlakes": true,
           "showland": true,
           "subunitcolor": "white"
          },
          "hoverlabel": {
           "align": "left"
          },
          "hovermode": "closest",
          "mapbox": {
           "style": "light"
          },
          "paper_bgcolor": "white",
          "plot_bgcolor": "#E5ECF6",
          "polar": {
           "angularaxis": {
            "gridcolor": "white",
            "linecolor": "white",
            "ticks": ""
           },
           "bgcolor": "#E5ECF6",
           "radialaxis": {
            "gridcolor": "white",
            "linecolor": "white",
            "ticks": ""
           }
          },
          "scene": {
           "xaxis": {
            "backgroundcolor": "#E5ECF6",
            "gridcolor": "white",
            "gridwidth": 2,
            "linecolor": "white",
            "showbackground": true,
            "ticks": "",
            "zerolinecolor": "white"
           },
           "yaxis": {
            "backgroundcolor": "#E5ECF6",
            "gridcolor": "white",
            "gridwidth": 2,
            "linecolor": "white",
            "showbackground": true,
            "ticks": "",
            "zerolinecolor": "white"
           },
           "zaxis": {
            "backgroundcolor": "#E5ECF6",
            "gridcolor": "white",
            "gridwidth": 2,
            "linecolor": "white",
            "showbackground": true,
            "ticks": "",
            "zerolinecolor": "white"
           }
          },
          "shapedefaults": {
           "line": {
            "color": "#2a3f5f"
           }
          },
          "ternary": {
           "aaxis": {
            "gridcolor": "white",
            "linecolor": "white",
            "ticks": ""
           },
           "baxis": {
            "gridcolor": "white",
            "linecolor": "white",
            "ticks": ""
           },
           "bgcolor": "#E5ECF6",
           "caxis": {
            "gridcolor": "white",
            "linecolor": "white",
            "ticks": ""
           }
          },
          "title": {
           "x": 0.05
          },
          "xaxis": {
           "automargin": true,
           "gridcolor": "white",
           "linecolor": "white",
           "ticks": "",
           "title": {
            "standoff": 15
           },
           "zerolinecolor": "white",
           "zerolinewidth": 2
          },
          "yaxis": {
           "automargin": true,
           "gridcolor": "white",
           "linecolor": "white",
           "ticks": "",
           "title": {
            "standoff": 15
           },
           "zerolinecolor": "white",
           "zerolinewidth": 2
          }
         }
        },
        "title": {
         "text": "Principal Component Loadings"
        },
        "xaxis": {
         "anchor": "y",
         "domain": [
          0,
          1
         ],
         "title": {
          "text": "Maturity"
         }
        },
        "yaxis": {
         "anchor": "x",
         "domain": [
          0,
          1
         ],
         "gridcolor": "lightgrey",
         "showgrid": true,
         "tickformat": ".2f",
         "title": {
          "text": "Loading"
         },
         "zeroline": true,
         "zerolinecolor": "darkgray",
         "zerolinewidth": 1
        }
       }
      }
     },
     "metadata": {},
     "output_type": "display_data"
    }
   ],
   "source": [
    "# Ensure that the slope factor follows standard financial interpretation\n",
    "# If the 10-year maturity loading for the slope component is negative, invert all slope weights\n",
    "if pca_loadings.loc['PC 2 (Slope)', '10'] < 0:\n",
    "    pca_loadings.loc['PC 2 (Slope)'] *= -1  # Flip the sign to maintain an intuitive upward slope\n",
    "\n",
    "# Ensure that the curvature factor follows standard financial interpretation\n",
    "# If the 10-year maturity loading for the curvature component is negative, invert all curvature weights\n",
    "if pca_loadings.loc['PC 3 (Curvature)', '10'] < 0:\n",
    "    pca_loadings.loc['PC 3 (Curvature)'] *= -1  # Flip the sign to maintain an intuitive hump-like curvature\n",
    "\n",
    "# Plot the first three principal components (Level, Slope, Curvature) across maturities\n",
    "\n",
    "fig = px.line(pca_loadings.T.iloc[:, 0:3], labels={\"value\": \"Loading\", \"index\": \"Maturity\"}, title=\"Principal Component Loadings\")\n",
    "fig.update_layout(\n",
    "    legend_title_text='Principal Components',\n",
    "    yaxis=dict(\n",
    "        tickformat=\".2f\",\n",
    "        zeroline=True,\n",
    "        zerolinecolor='darkgray', \n",
    "        zerolinewidth=1,\n",
    "        gridcolor='lightgrey',\n",
    "        showgrid=True  # Ensure grid is enabled on the y-axis\n",
    "    )\n",
    ")\n",
    "fig.show()"
   ]
  },
  {
   "cell_type": "code",
   "execution_count": 78,
   "id": "a9b26d56",
   "metadata": {},
   "outputs": [
    {
     "data": {
      "text/html": [
       "<style type=\"text/css\">\n",
       "</style>\n",
       "<table id=\"T_bd283\">\n",
       "  <thead>\n",
       "    <tr>\n",
       "      <th class=\"blank level0\" >&nbsp;</th>\n",
       "      <th id=\"T_bd283_level0_col0\" class=\"col_heading level0 col0\" >Explained Variance Ratio</th>\n",
       "      <th id=\"T_bd283_level0_col1\" class=\"col_heading level0 col1\" >Cumulative Variance Ratio</th>\n",
       "    </tr>\n",
       "  </thead>\n",
       "  <tbody>\n",
       "    <tr>\n",
       "      <th id=\"T_bd283_level0_row0\" class=\"row_heading level0 row0\" >PC1</th>\n",
       "      <td id=\"T_bd283_row0_col0\" class=\"data row0 col0\" >97.07%</td>\n",
       "      <td id=\"T_bd283_row0_col1\" class=\"data row0 col1\" >97.07%</td>\n",
       "    </tr>\n",
       "    <tr>\n",
       "      <th id=\"T_bd283_level0_row1\" class=\"row_heading level0 row1\" >PC2</th>\n",
       "      <td id=\"T_bd283_row1_col0\" class=\"data row1 col0\" >2.53%</td>\n",
       "      <td id=\"T_bd283_row1_col1\" class=\"data row1 col1\" >99.60%</td>\n",
       "    </tr>\n",
       "    <tr>\n",
       "      <th id=\"T_bd283_level0_row2\" class=\"row_heading level0 row2\" >PC3</th>\n",
       "      <td id=\"T_bd283_row2_col0\" class=\"data row2 col0\" >0.29%</td>\n",
       "      <td id=\"T_bd283_row2_col1\" class=\"data row2 col1\" >99.89%</td>\n",
       "    </tr>\n",
       "    <tr>\n",
       "      <th id=\"T_bd283_level0_row3\" class=\"row_heading level0 row3\" >PC4</th>\n",
       "      <td id=\"T_bd283_row3_col0\" class=\"data row3 col0\" >0.05%</td>\n",
       "      <td id=\"T_bd283_row3_col1\" class=\"data row3 col1\" >99.94%</td>\n",
       "    </tr>\n",
       "    <tr>\n",
       "      <th id=\"T_bd283_level0_row4\" class=\"row_heading level0 row4\" >PC5</th>\n",
       "      <td id=\"T_bd283_row4_col0\" class=\"data row4 col0\" >0.04%</td>\n",
       "      <td id=\"T_bd283_row4_col1\" class=\"data row4 col1\" >99.98%</td>\n",
       "    </tr>\n",
       "    <tr>\n",
       "      <th id=\"T_bd283_level0_row5\" class=\"row_heading level0 row5\" >PC6</th>\n",
       "      <td id=\"T_bd283_row5_col0\" class=\"data row5 col0\" >0.02%</td>\n",
       "      <td id=\"T_bd283_row5_col1\" class=\"data row5 col1\" >99.99%</td>\n",
       "    </tr>\n",
       "    <tr>\n",
       "      <th id=\"T_bd283_level0_row6\" class=\"row_heading level0 row6\" >PC7</th>\n",
       "      <td id=\"T_bd283_row6_col0\" class=\"data row6 col0\" >0.01%</td>\n",
       "      <td id=\"T_bd283_row6_col1\" class=\"data row6 col1\" >100.00%</td>\n",
       "    </tr>\n",
       "  </tbody>\n",
       "</table>\n"
      ],
      "text/plain": [
       "<pandas.io.formats.style.Styler at 0x20eb752bb60>"
      ]
     },
     "metadata": {},
     "output_type": "display_data"
    },
    {
     "data": {
      "application/vnd.plotly.v1+json": {
       "config": {
        "plotlyServerURL": "https://plot.ly"
       },
       "data": [
        {
         "hovertemplate": "Number of Principal Components=%{x}<br>Cumulative Explained Variance=%{y}<extra></extra>",
         "legendgroup": "",
         "line": {
          "color": "#636efa",
          "dash": "solid"
         },
         "marker": {
          "symbol": "circle"
         },
         "mode": "lines+markers",
         "name": "",
         "orientation": "v",
         "showlegend": false,
         "type": "scatter",
         "x": [
          1,
          2,
          3,
          4,
          5,
          6,
          7
         ],
         "xaxis": "x",
         "y": [
          0.9707000151668769,
          0.9959782721148605,
          0.9989252931261904,
          0.9993795305971215,
          0.9997512789398062,
          0.9999031009432859,
          0.9999999999999999
         ],
         "yaxis": "y"
        }
       ],
       "layout": {
        "legend": {
         "tracegroupgap": 0
        },
        "template": {
         "data": {
          "bar": [
           {
            "error_x": {
             "color": "#2a3f5f"
            },
            "error_y": {
             "color": "#2a3f5f"
            },
            "marker": {
             "line": {
              "color": "#E5ECF6",
              "width": 0.5
             },
             "pattern": {
              "fillmode": "overlay",
              "size": 10,
              "solidity": 0.2
             }
            },
            "type": "bar"
           }
          ],
          "barpolar": [
           {
            "marker": {
             "line": {
              "color": "#E5ECF6",
              "width": 0.5
             },
             "pattern": {
              "fillmode": "overlay",
              "size": 10,
              "solidity": 0.2
             }
            },
            "type": "barpolar"
           }
          ],
          "carpet": [
           {
            "aaxis": {
             "endlinecolor": "#2a3f5f",
             "gridcolor": "white",
             "linecolor": "white",
             "minorgridcolor": "white",
             "startlinecolor": "#2a3f5f"
            },
            "baxis": {
             "endlinecolor": "#2a3f5f",
             "gridcolor": "white",
             "linecolor": "white",
             "minorgridcolor": "white",
             "startlinecolor": "#2a3f5f"
            },
            "type": "carpet"
           }
          ],
          "choropleth": [
           {
            "colorbar": {
             "outlinewidth": 0,
             "ticks": ""
            },
            "type": "choropleth"
           }
          ],
          "contour": [
           {
            "colorbar": {
             "outlinewidth": 0,
             "ticks": ""
            },
            "colorscale": [
             [
              0,
              "#0d0887"
             ],
             [
              0.1111111111111111,
              "#46039f"
             ],
             [
              0.2222222222222222,
              "#7201a8"
             ],
             [
              0.3333333333333333,
              "#9c179e"
             ],
             [
              0.4444444444444444,
              "#bd3786"
             ],
             [
              0.5555555555555556,
              "#d8576b"
             ],
             [
              0.6666666666666666,
              "#ed7953"
             ],
             [
              0.7777777777777778,
              "#fb9f3a"
             ],
             [
              0.8888888888888888,
              "#fdca26"
             ],
             [
              1,
              "#f0f921"
             ]
            ],
            "type": "contour"
           }
          ],
          "contourcarpet": [
           {
            "colorbar": {
             "outlinewidth": 0,
             "ticks": ""
            },
            "type": "contourcarpet"
           }
          ],
          "heatmap": [
           {
            "colorbar": {
             "outlinewidth": 0,
             "ticks": ""
            },
            "colorscale": [
             [
              0,
              "#0d0887"
             ],
             [
              0.1111111111111111,
              "#46039f"
             ],
             [
              0.2222222222222222,
              "#7201a8"
             ],
             [
              0.3333333333333333,
              "#9c179e"
             ],
             [
              0.4444444444444444,
              "#bd3786"
             ],
             [
              0.5555555555555556,
              "#d8576b"
             ],
             [
              0.6666666666666666,
              "#ed7953"
             ],
             [
              0.7777777777777778,
              "#fb9f3a"
             ],
             [
              0.8888888888888888,
              "#fdca26"
             ],
             [
              1,
              "#f0f921"
             ]
            ],
            "type": "heatmap"
           }
          ],
          "heatmapgl": [
           {
            "colorbar": {
             "outlinewidth": 0,
             "ticks": ""
            },
            "colorscale": [
             [
              0,
              "#0d0887"
             ],
             [
              0.1111111111111111,
              "#46039f"
             ],
             [
              0.2222222222222222,
              "#7201a8"
             ],
             [
              0.3333333333333333,
              "#9c179e"
             ],
             [
              0.4444444444444444,
              "#bd3786"
             ],
             [
              0.5555555555555556,
              "#d8576b"
             ],
             [
              0.6666666666666666,
              "#ed7953"
             ],
             [
              0.7777777777777778,
              "#fb9f3a"
             ],
             [
              0.8888888888888888,
              "#fdca26"
             ],
             [
              1,
              "#f0f921"
             ]
            ],
            "type": "heatmapgl"
           }
          ],
          "histogram": [
           {
            "marker": {
             "pattern": {
              "fillmode": "overlay",
              "size": 10,
              "solidity": 0.2
             }
            },
            "type": "histogram"
           }
          ],
          "histogram2d": [
           {
            "colorbar": {
             "outlinewidth": 0,
             "ticks": ""
            },
            "colorscale": [
             [
              0,
              "#0d0887"
             ],
             [
              0.1111111111111111,
              "#46039f"
             ],
             [
              0.2222222222222222,
              "#7201a8"
             ],
             [
              0.3333333333333333,
              "#9c179e"
             ],
             [
              0.4444444444444444,
              "#bd3786"
             ],
             [
              0.5555555555555556,
              "#d8576b"
             ],
             [
              0.6666666666666666,
              "#ed7953"
             ],
             [
              0.7777777777777778,
              "#fb9f3a"
             ],
             [
              0.8888888888888888,
              "#fdca26"
             ],
             [
              1,
              "#f0f921"
             ]
            ],
            "type": "histogram2d"
           }
          ],
          "histogram2dcontour": [
           {
            "colorbar": {
             "outlinewidth": 0,
             "ticks": ""
            },
            "colorscale": [
             [
              0,
              "#0d0887"
             ],
             [
              0.1111111111111111,
              "#46039f"
             ],
             [
              0.2222222222222222,
              "#7201a8"
             ],
             [
              0.3333333333333333,
              "#9c179e"
             ],
             [
              0.4444444444444444,
              "#bd3786"
             ],
             [
              0.5555555555555556,
              "#d8576b"
             ],
             [
              0.6666666666666666,
              "#ed7953"
             ],
             [
              0.7777777777777778,
              "#fb9f3a"
             ],
             [
              0.8888888888888888,
              "#fdca26"
             ],
             [
              1,
              "#f0f921"
             ]
            ],
            "type": "histogram2dcontour"
           }
          ],
          "mesh3d": [
           {
            "colorbar": {
             "outlinewidth": 0,
             "ticks": ""
            },
            "type": "mesh3d"
           }
          ],
          "parcoords": [
           {
            "line": {
             "colorbar": {
              "outlinewidth": 0,
              "ticks": ""
             }
            },
            "type": "parcoords"
           }
          ],
          "pie": [
           {
            "automargin": true,
            "type": "pie"
           }
          ],
          "scatter": [
           {
            "fillpattern": {
             "fillmode": "overlay",
             "size": 10,
             "solidity": 0.2
            },
            "type": "scatter"
           }
          ],
          "scatter3d": [
           {
            "line": {
             "colorbar": {
              "outlinewidth": 0,
              "ticks": ""
             }
            },
            "marker": {
             "colorbar": {
              "outlinewidth": 0,
              "ticks": ""
             }
            },
            "type": "scatter3d"
           }
          ],
          "scattercarpet": [
           {
            "marker": {
             "colorbar": {
              "outlinewidth": 0,
              "ticks": ""
             }
            },
            "type": "scattercarpet"
           }
          ],
          "scattergeo": [
           {
            "marker": {
             "colorbar": {
              "outlinewidth": 0,
              "ticks": ""
             }
            },
            "type": "scattergeo"
           }
          ],
          "scattergl": [
           {
            "marker": {
             "colorbar": {
              "outlinewidth": 0,
              "ticks": ""
             }
            },
            "type": "scattergl"
           }
          ],
          "scattermapbox": [
           {
            "marker": {
             "colorbar": {
              "outlinewidth": 0,
              "ticks": ""
             }
            },
            "type": "scattermapbox"
           }
          ],
          "scatterpolar": [
           {
            "marker": {
             "colorbar": {
              "outlinewidth": 0,
              "ticks": ""
             }
            },
            "type": "scatterpolar"
           }
          ],
          "scatterpolargl": [
           {
            "marker": {
             "colorbar": {
              "outlinewidth": 0,
              "ticks": ""
             }
            },
            "type": "scatterpolargl"
           }
          ],
          "scatterternary": [
           {
            "marker": {
             "colorbar": {
              "outlinewidth": 0,
              "ticks": ""
             }
            },
            "type": "scatterternary"
           }
          ],
          "surface": [
           {
            "colorbar": {
             "outlinewidth": 0,
             "ticks": ""
            },
            "colorscale": [
             [
              0,
              "#0d0887"
             ],
             [
              0.1111111111111111,
              "#46039f"
             ],
             [
              0.2222222222222222,
              "#7201a8"
             ],
             [
              0.3333333333333333,
              "#9c179e"
             ],
             [
              0.4444444444444444,
              "#bd3786"
             ],
             [
              0.5555555555555556,
              "#d8576b"
             ],
             [
              0.6666666666666666,
              "#ed7953"
             ],
             [
              0.7777777777777778,
              "#fb9f3a"
             ],
             [
              0.8888888888888888,
              "#fdca26"
             ],
             [
              1,
              "#f0f921"
             ]
            ],
            "type": "surface"
           }
          ],
          "table": [
           {
            "cells": {
             "fill": {
              "color": "#EBF0F8"
             },
             "line": {
              "color": "white"
             }
            },
            "header": {
             "fill": {
              "color": "#C8D4E3"
             },
             "line": {
              "color": "white"
             }
            },
            "type": "table"
           }
          ]
         },
         "layout": {
          "annotationdefaults": {
           "arrowcolor": "#2a3f5f",
           "arrowhead": 0,
           "arrowwidth": 1
          },
          "autotypenumbers": "strict",
          "coloraxis": {
           "colorbar": {
            "outlinewidth": 0,
            "ticks": ""
           }
          },
          "colorscale": {
           "diverging": [
            [
             0,
             "#8e0152"
            ],
            [
             0.1,
             "#c51b7d"
            ],
            [
             0.2,
             "#de77ae"
            ],
            [
             0.3,
             "#f1b6da"
            ],
            [
             0.4,
             "#fde0ef"
            ],
            [
             0.5,
             "#f7f7f7"
            ],
            [
             0.6,
             "#e6f5d0"
            ],
            [
             0.7,
             "#b8e186"
            ],
            [
             0.8,
             "#7fbc41"
            ],
            [
             0.9,
             "#4d9221"
            ],
            [
             1,
             "#276419"
            ]
           ],
           "sequential": [
            [
             0,
             "#0d0887"
            ],
            [
             0.1111111111111111,
             "#46039f"
            ],
            [
             0.2222222222222222,
             "#7201a8"
            ],
            [
             0.3333333333333333,
             "#9c179e"
            ],
            [
             0.4444444444444444,
             "#bd3786"
            ],
            [
             0.5555555555555556,
             "#d8576b"
            ],
            [
             0.6666666666666666,
             "#ed7953"
            ],
            [
             0.7777777777777778,
             "#fb9f3a"
            ],
            [
             0.8888888888888888,
             "#fdca26"
            ],
            [
             1,
             "#f0f921"
            ]
           ],
           "sequentialminus": [
            [
             0,
             "#0d0887"
            ],
            [
             0.1111111111111111,
             "#46039f"
            ],
            [
             0.2222222222222222,
             "#7201a8"
            ],
            [
             0.3333333333333333,
             "#9c179e"
            ],
            [
             0.4444444444444444,
             "#bd3786"
            ],
            [
             0.5555555555555556,
             "#d8576b"
            ],
            [
             0.6666666666666666,
             "#ed7953"
            ],
            [
             0.7777777777777778,
             "#fb9f3a"
            ],
            [
             0.8888888888888888,
             "#fdca26"
            ],
            [
             1,
             "#f0f921"
            ]
           ]
          },
          "colorway": [
           "#636efa",
           "#EF553B",
           "#00cc96",
           "#ab63fa",
           "#FFA15A",
           "#19d3f3",
           "#FF6692",
           "#B6E880",
           "#FF97FF",
           "#FECB52"
          ],
          "font": {
           "color": "#2a3f5f"
          },
          "geo": {
           "bgcolor": "white",
           "lakecolor": "white",
           "landcolor": "#E5ECF6",
           "showlakes": true,
           "showland": true,
           "subunitcolor": "white"
          },
          "hoverlabel": {
           "align": "left"
          },
          "hovermode": "closest",
          "mapbox": {
           "style": "light"
          },
          "paper_bgcolor": "white",
          "plot_bgcolor": "#E5ECF6",
          "polar": {
           "angularaxis": {
            "gridcolor": "white",
            "linecolor": "white",
            "ticks": ""
           },
           "bgcolor": "#E5ECF6",
           "radialaxis": {
            "gridcolor": "white",
            "linecolor": "white",
            "ticks": ""
           }
          },
          "scene": {
           "xaxis": {
            "backgroundcolor": "#E5ECF6",
            "gridcolor": "white",
            "gridwidth": 2,
            "linecolor": "white",
            "showbackground": true,
            "ticks": "",
            "zerolinecolor": "white"
           },
           "yaxis": {
            "backgroundcolor": "#E5ECF6",
            "gridcolor": "white",
            "gridwidth": 2,
            "linecolor": "white",
            "showbackground": true,
            "ticks": "",
            "zerolinecolor": "white"
           },
           "zaxis": {
            "backgroundcolor": "#E5ECF6",
            "gridcolor": "white",
            "gridwidth": 2,
            "linecolor": "white",
            "showbackground": true,
            "ticks": "",
            "zerolinecolor": "white"
           }
          },
          "shapedefaults": {
           "line": {
            "color": "#2a3f5f"
           }
          },
          "ternary": {
           "aaxis": {
            "gridcolor": "white",
            "linecolor": "white",
            "ticks": ""
           },
           "baxis": {
            "gridcolor": "white",
            "linecolor": "white",
            "ticks": ""
           },
           "bgcolor": "#E5ECF6",
           "caxis": {
            "gridcolor": "white",
            "linecolor": "white",
            "ticks": ""
           }
          },
          "title": {
           "x": 0.05
          },
          "xaxis": {
           "automargin": true,
           "gridcolor": "white",
           "linecolor": "white",
           "ticks": "",
           "title": {
            "standoff": 15
           },
           "zerolinecolor": "white",
           "zerolinewidth": 2
          },
          "yaxis": {
           "automargin": true,
           "gridcolor": "white",
           "linecolor": "white",
           "ticks": "",
           "title": {
            "standoff": 15
           },
           "zerolinecolor": "white",
           "zerolinewidth": 2
          }
         }
        },
        "title": {
         "text": "PCA Explained Variance"
        },
        "xaxis": {
         "anchor": "y",
         "domain": [
          0,
          1
         ],
         "tickmode": "linear",
         "title": {
          "text": "Number of Principal Components"
         }
        },
        "yaxis": {
         "anchor": "x",
         "domain": [
          0,
          1
         ],
         "gridcolor": "lightgrey",
         "showgrid": true,
         "title": {
          "text": "Cumulative Explained Variance"
         }
        }
       }
      }
     },
     "metadata": {},
     "output_type": "display_data"
    }
   ],
   "source": [
    "# Explained variance ratio\n",
    "explained_variance_ratio = pca.explained_variance_ratio_\n",
    "cumulative_variance = explained_variance_ratio.cumsum()\n",
    "\n",
    "pc_var_ratio = pd.DataFrame({\n",
    "    'Explained Variance Ratio': explained_variance_ratio,\n",
    "    'Cumulative Variance Ratio': cumulative_variance\n",
    "}, index=[f'PC{i+1}' for i in range(len(pca.explained_variance_ratio_))])\n",
    "\n",
    "display(pc_var_ratio.style.format('{:.2%}'.format))\n",
    "\n",
    "# Cumulative explained variance\n",
    "fig = px.line(\n",
    "    x=range(1, len(cumulative_variance) + 1), \n",
    "    y=cumulative_variance, \n",
    "    labels={\"x\": \"Number of Principal Components\", \"y\": \"Cumulative Explained Variance\"},\n",
    "    title=\"PCA Explained Variance\"\n",
    ")\n",
    "fig.update_traces(mode='lines+markers')\n",
    "fig.update_layout(\n",
    "    xaxis=dict(tickmode='linear'),\n",
    "    yaxis=dict(gridcolor='lightgrey', showgrid=True)\n",
    ")\n",
    "fig.show()\n"
   ]
  },
  {
   "cell_type": "code",
   "execution_count": 80,
   "id": "3445a9df",
   "metadata": {},
   "outputs": [
    {
     "data": {
      "text/html": [
       "<div>\n",
       "<style scoped>\n",
       "    .dataframe tbody tr th:only-of-type {\n",
       "        vertical-align: middle;\n",
       "    }\n",
       "\n",
       "    .dataframe tbody tr th {\n",
       "        vertical-align: top;\n",
       "    }\n",
       "\n",
       "    .dataframe thead th {\n",
       "        text-align: right;\n",
       "    }\n",
       "</style>\n",
       "<table border=\"1\" class=\"dataframe\">\n",
       "  <thead>\n",
       "    <tr style=\"text-align: right;\">\n",
       "      <th></th>\n",
       "      <th>1</th>\n",
       "      <th>2</th>\n",
       "      <th>5</th>\n",
       "      <th>7</th>\n",
       "      <th>10</th>\n",
       "      <th>20</th>\n",
       "      <th>30</th>\n",
       "    </tr>\n",
       "  </thead>\n",
       "  <tbody>\n",
       "    <tr>\n",
       "      <th>PC 1 (Level)</th>\n",
       "      <td>0.4115</td>\n",
       "      <td>0.4111</td>\n",
       "      <td>0.3928</td>\n",
       "      <td>0.3784</td>\n",
       "      <td>0.3634</td>\n",
       "      <td>0.3441</td>\n",
       "      <td>0.3374</td>\n",
       "    </tr>\n",
       "    <tr>\n",
       "      <th>PC 2 (Slope)</th>\n",
       "      <td>-0.5910</td>\n",
       "      <td>-0.3993</td>\n",
       "      <td>-0.0468</td>\n",
       "      <td>0.0874</td>\n",
       "      <td>0.2027</td>\n",
       "      <td>0.4389</td>\n",
       "      <td>0.4978</td>\n",
       "    </tr>\n",
       "    <tr>\n",
       "      <th>PC 3 (Curvature)</th>\n",
       "      <td>-0.4555</td>\n",
       "      <td>-0.0073</td>\n",
       "      <td>0.3924</td>\n",
       "      <td>0.4484</td>\n",
       "      <td>0.3635</td>\n",
       "      <td>-0.3630</td>\n",
       "      <td>-0.4165</td>\n",
       "    </tr>\n",
       "    <tr>\n",
       "      <th>PC 4</th>\n",
       "      <td>0.3578</td>\n",
       "      <td>-0.3857</td>\n",
       "      <td>-0.3729</td>\n",
       "      <td>-0.1046</td>\n",
       "      <td>0.7405</td>\n",
       "      <td>-0.0692</td>\n",
       "      <td>-0.1419</td>\n",
       "    </tr>\n",
       "    <tr>\n",
       "      <th>PC 5</th>\n",
       "      <td>-0.0200</td>\n",
       "      <td>-0.0148</td>\n",
       "      <td>0.0161</td>\n",
       "      <td>-0.0119</td>\n",
       "      <td>-0.0500</td>\n",
       "      <td>0.7430</td>\n",
       "      <td>-0.6667</td>\n",
       "    </tr>\n",
       "    <tr>\n",
       "      <th>PC 6</th>\n",
       "      <td>0.3403</td>\n",
       "      <td>-0.5711</td>\n",
       "      <td>-0.0136</td>\n",
       "      <td>0.6432</td>\n",
       "      <td>-0.3794</td>\n",
       "      <td>-0.0165</td>\n",
       "      <td>0.0007</td>\n",
       "    </tr>\n",
       "    <tr>\n",
       "      <th>PC 7</th>\n",
       "      <td>0.1724</td>\n",
       "      <td>-0.4432</td>\n",
       "      <td>0.7416</td>\n",
       "      <td>-0.4726</td>\n",
       "      <td>-0.0056</td>\n",
       "      <td>-0.0137</td>\n",
       "      <td>0.0163</td>\n",
       "    </tr>\n",
       "  </tbody>\n",
       "</table>\n",
       "</div>"
      ],
      "text/plain": [
       "                       1       2       5       7      10      20      30\n",
       "PC 1 (Level)      0.4115  0.4111  0.3928  0.3784  0.3634  0.3441  0.3374\n",
       "PC 2 (Slope)     -0.5910 -0.3993 -0.0468  0.0874  0.2027  0.4389  0.4978\n",
       "PC 3 (Curvature) -0.4555 -0.0073  0.3924  0.4484  0.3635 -0.3630 -0.4165\n",
       "PC 4              0.3578 -0.3857 -0.3729 -0.1046  0.7405 -0.0692 -0.1419\n",
       "PC 5             -0.0200 -0.0148  0.0161 -0.0119 -0.0500  0.7430 -0.6667\n",
       "PC 6              0.3403 -0.5711 -0.0136  0.6432 -0.3794 -0.0165  0.0007\n",
       "PC 7              0.1724 -0.4432  0.7416 -0.4726 -0.0056 -0.0137  0.0163"
      ]
     },
     "execution_count": 80,
     "metadata": {},
     "output_type": "execute_result"
    }
   ],
   "source": [
    "pca_loadings"
   ]
  },
  {
   "cell_type": "code",
   "execution_count": 82,
   "id": "76df637b",
   "metadata": {},
   "outputs": [
    {
     "data": {
      "text/html": [
       "<div>\n",
       "<style scoped>\n",
       "    .dataframe tbody tr th:only-of-type {\n",
       "        vertical-align: middle;\n",
       "    }\n",
       "\n",
       "    .dataframe tbody tr th {\n",
       "        vertical-align: top;\n",
       "    }\n",
       "\n",
       "    .dataframe thead th {\n",
       "        text-align: right;\n",
       "    }\n",
       "</style>\n",
       "<table border=\"1\" class=\"dataframe\">\n",
       "  <thead>\n",
       "    <tr style=\"text-align: right;\">\n",
       "      <th></th>\n",
       "      <th>PC 1 (Level)</th>\n",
       "      <th>PC 2 (Slope)</th>\n",
       "    </tr>\n",
       "    <tr>\n",
       "      <th>date</th>\n",
       "      <th></th>\n",
       "      <th></th>\n",
       "    </tr>\n",
       "  </thead>\n",
       "  <tbody>\n",
       "    <tr>\n",
       "      <th>1961-06-14</th>\n",
       "      <td>9.4261</td>\n",
       "      <td>1.4298</td>\n",
       "    </tr>\n",
       "    <tr>\n",
       "      <th>1961-06-15</th>\n",
       "      <td>9.4883</td>\n",
       "      <td>1.4467</td>\n",
       "    </tr>\n",
       "    <tr>\n",
       "      <th>1961-06-16</th>\n",
       "      <td>9.4951</td>\n",
       "      <td>1.4522</td>\n",
       "    </tr>\n",
       "    <tr>\n",
       "      <th>1961-06-19</th>\n",
       "      <td>9.5299</td>\n",
       "      <td>1.4648</td>\n",
       "    </tr>\n",
       "    <tr>\n",
       "      <th>1961-06-20</th>\n",
       "      <td>9.5197</td>\n",
       "      <td>1.4697</td>\n",
       "    </tr>\n",
       "  </tbody>\n",
       "</table>\n",
       "</div>"
      ],
      "text/plain": [
       "            PC 1 (Level)  PC 2 (Slope)\n",
       "date                                  \n",
       "1961-06-14        9.4261        1.4298\n",
       "1961-06-15        9.4883        1.4467\n",
       "1961-06-16        9.4951        1.4522\n",
       "1961-06-19        9.5299        1.4648\n",
       "1961-06-20        9.5197        1.4697"
      ]
     },
     "metadata": {},
     "output_type": "display_data"
    }
   ],
   "source": [
    "pca_factors = yields @ pca_loadings.T\n",
    "display(pca_factors.iloc[0:5,0:2])"
   ]
  },
  {
   "cell_type": "markdown",
   "id": "1b7fbf2e",
   "metadata": {},
   "source": [
    "### 3.3. Comparison\n",
    "\n",
    "Compare the ad-hoc factors from `3.1.` with the PCA-estimated factors in `3.2.`.\n",
    "\n",
    "Estimate the correlation of the ad-hoc level factor with the PCA-1. And the slope factor with PCA-2."
   ]
  },
  {
   "cell_type": "code",
   "execution_count": 87,
   "id": "f6bce1cf",
   "metadata": {},
   "outputs": [
    {
     "data": {
      "text/html": [
       "<style type=\"text/css\">\n",
       "</style>\n",
       "<table id=\"T_5313c\">\n",
       "  <thead>\n",
       "    <tr>\n",
       "      <th class=\"blank level0\" >&nbsp;</th>\n",
       "      <th id=\"T_5313c_level0_col0\" class=\"col_heading level0 col0\" >PC 1 (Level)</th>\n",
       "      <th id=\"T_5313c_level0_col1\" class=\"col_heading level0 col1\" >PC 2 (Slope)</th>\n",
       "      <th id=\"T_5313c_level0_col2\" class=\"col_heading level0 col2\" >PC 3 (Curvature)</th>\n",
       "    </tr>\n",
       "  </thead>\n",
       "  <tbody>\n",
       "    <tr>\n",
       "      <th id=\"T_5313c_level0_row0\" class=\"row_heading level0 row0\" >level</th>\n",
       "      <td id=\"T_5313c_row0_col0\" class=\"data row0 col0\" >100.0%</td>\n",
       "      <td id=\"T_5313c_row0_col1\" class=\"data row0 col1\" >1.2%</td>\n",
       "      <td id=\"T_5313c_row0_col2\" class=\"data row0 col2\" >-0.1%</td>\n",
       "    </tr>\n",
       "    <tr>\n",
       "      <th id=\"T_5313c_level0_row1\" class=\"row_heading level0 row1\" >slope</th>\n",
       "      <td id=\"T_5313c_row1_col0\" class=\"data row1 col0\" >-38.7%</td>\n",
       "      <td id=\"T_5313c_row1_col1\" class=\"data row1 col1\" >91.8%</td>\n",
       "      <td id=\"T_5313c_row1_col2\" class=\"data row1 col2\" >1.1%</td>\n",
       "    </tr>\n",
       "    <tr>\n",
       "      <th id=\"T_5313c_level0_row2\" class=\"row_heading level0 row2\" >curvature</th>\n",
       "      <td id=\"T_5313c_row2_col0\" class=\"data row2 col0\" >-17.6%</td>\n",
       "      <td id=\"T_5313c_row2_col1\" class=\"data row2 col1\" >64.0%</td>\n",
       "      <td id=\"T_5313c_row2_col2\" class=\"data row2 col2\" >70.1%</td>\n",
       "    </tr>\n",
       "  </tbody>\n",
       "</table>\n"
      ],
      "text/plain": [
       "<pandas.io.formats.style.Styler at 0x20eb00422a0>"
      ]
     },
     "execution_count": 87,
     "metadata": {},
     "output_type": "execute_result"
    }
   ],
   "source": [
    "pd.concat([shapes, pca_factors.iloc[:,0:3]], axis=1, keys=['shapes', 'pca']).corr().loc['shapes', 'pca'].style.format('{:.1%}')"
   ]
  },
  {
   "cell_type": "code",
   "execution_count": null,
   "id": "3efcd1de",
   "metadata": {},
   "outputs": [],
   "source": []
  }
 ],
 "metadata": {
  "hide_input": false,
  "kernelspec": {
   "display_name": "data_analysis",
   "language": "python",
   "name": "python3"
  },
  "language_info": {
   "codemirror_mode": {
    "name": "ipython",
    "version": 3
   },
   "file_extension": ".py",
   "mimetype": "text/x-python",
   "name": "python",
   "nbconvert_exporter": "python",
   "pygments_lexer": "ipython3",
   "version": "3.12.7"
  },
  "toc": {
   "base_numbering": 1,
   "nav_menu": {},
   "number_sections": false,
   "sideBar": true,
   "skip_h1_title": false,
   "title_cell": "Table of Contents",
   "title_sidebar": "Contents",
   "toc_cell": false,
   "toc_position": {},
   "toc_section_display": true,
   "toc_window_display": false
  }
 },
 "nbformat": 4,
 "nbformat_minor": 5
}
