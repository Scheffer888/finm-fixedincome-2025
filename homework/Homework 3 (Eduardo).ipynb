{
 "cells": [
  {
   "cell_type": "markdown",
   "id": "bac929b8",
   "metadata": {},
   "source": [
    "# Homework 3\n",
    "\n",
    "## FINM 37400 - 2025\n",
    "\n",
    "### UChicago Financial Mathematics\n",
    "\n",
    "* Mark Hendricks\n",
    "* hendricks@uchicago.edu\n",
    "\n",
    "#### HBS Case: Fixed-Income Arbitrage in a Financial Crisis (C): Spread and Swap Spread in November 2008\n"
   ]
  },
  {
   "cell_type": "markdown",
   "id": "7b03c2b8",
   "metadata": {},
   "source": [
    "***"
   ]
  },
  {
   "cell_type": "code",
   "execution_count": 53,
   "id": "fc6c65c2",
   "metadata": {},
   "outputs": [],
   "source": [
    "import datetime\n",
    "from datetime import datetime as dt\n",
    "from datetime import timedelta\n",
    "from typing import Optional, Union, List, Tuple, Dict\n",
    "import warnings\n",
    "\n",
    "import warnings\n",
    "warnings.filterwarnings('ignore',category=FutureWarning)\n",
    "FutureWarning\n",
    "\n",
    "import numpy as np\n",
    "import pandas as pd\n",
    "from pandas.tseries.holiday import USFederalHolidayCalendar\n",
    "from pandas.tseries.offsets import CustomBusinessDay\n",
    "from scipy.optimize import fsolve\n",
    "from scipy import interpolate\n",
    "from scipy.optimize import minimize\n",
    "from sklearn.linear_model import LinearRegression\n",
    "from sklearn.decomposition import PCA\n",
    "\n",
    "import plotly.express as px\n",
    "import plotly.graph_objects as go\n",
    "import matplotlib.pyplot as plt\n",
    "%matplotlib inline\n",
    "\n",
    "from scheffer_quant.fixed_income.fi_pricing import *\n",
    "from scheffer_quant.fixed_income.treasury import *\n",
    "from scheffer_quant.fixed_income.curve_construction import *\n",
    "from scheffer_quant.fixed_income.fi_cash_flows import *\n",
    "from scheffer_quant.strategies.bond_pair_trading import *\n",
    "from scheffer_quant.portfolio.analysis import *\n",
    "\n",
    "pd.options.display.max_columns = 30\n",
    "pd.options.display.max_colwidth = 100\n",
    "pd.set_option('display.float_format', lambda x: '%.4f' % x)"
   ]
  },
  {
   "cell_type": "markdown",
   "id": "42647704",
   "metadata": {},
   "source": [
    "# 1 HBS Case: Fixed-Income Arbitrage in a Financial Crisis (C): Spread and Swap Spread in November 2008"
   ]
  },
  {
   "cell_type": "code",
   "execution_count": 30,
   "id": "b31435de",
   "metadata": {},
   "outputs": [
    {
     "data": {
      "text/html": [
       "<div>\n",
       "<style scoped>\n",
       "    .dataframe tbody tr th:only-of-type {\n",
       "        vertical-align: middle;\n",
       "    }\n",
       "\n",
       "    .dataframe tbody tr th {\n",
       "        vertical-align: top;\n",
       "    }\n",
       "\n",
       "    .dataframe thead th {\n",
       "        text-align: right;\n",
       "    }\n",
       "</style>\n",
       "<table border=\"1\" class=\"dataframe\">\n",
       "  <thead>\n",
       "    <tr style=\"text-align: right;\">\n",
       "      <th></th>\n",
       "      <th>type</th>\n",
       "      <th>issue date</th>\n",
       "      <th>maturity date</th>\n",
       "      <th>cpn rate</th>\n",
       "    </tr>\n",
       "    <tr>\n",
       "      <th>KYTREASNO</th>\n",
       "      <th></th>\n",
       "      <th></th>\n",
       "      <th></th>\n",
       "      <th></th>\n",
       "    </tr>\n",
       "  </thead>\n",
       "  <tbody>\n",
       "    <tr>\n",
       "      <th>207391</th>\n",
       "      <td>note</td>\n",
       "      <td>2019-08-15</td>\n",
       "      <td>2029-08-15</td>\n",
       "      <td>1.6250</td>\n",
       "    </tr>\n",
       "    <tr>\n",
       "      <th>207392</th>\n",
       "      <td>bond</td>\n",
       "      <td>2019-08-15</td>\n",
       "      <td>2049-08-15</td>\n",
       "      <td>2.2500</td>\n",
       "    </tr>\n",
       "  </tbody>\n",
       "</table>\n",
       "</div>"
      ],
      "text/plain": [
       "           type issue date maturity date  cpn rate\n",
       "KYTREASNO                                         \n",
       "207391     note 2019-08-15    2029-08-15    1.6250\n",
       "207392     bond 2019-08-15    2049-08-15    2.2500"
      ]
     },
     "execution_count": 30,
     "metadata": {},
     "output_type": "execute_result"
    }
   ],
   "source": [
    "QUOTE_DATE = '2024-10-31'\n",
    "treasury_file_path = f'../data/treasury_ts_duration_{QUOTE_DATE}.xlsx'\n",
    "Yields_file_path = '../data/yields.xlsx'\n",
    "\n",
    "yields = pd.read_excel(Yields_file_path, sheet_name='yields').set_index('caldt')\n",
    "\n",
    "data = pd.read_excel(treasury_file_path,sheet_name='database')\n",
    "price = pd.read_excel(treasury_file_path,sheet_name='price').set_index('quote date')\n",
    "duration = pd.read_excel(treasury_file_path,sheet_name='duration').set_index('quote date')\n",
    "\n",
    "data_info =  data.drop_duplicates(subset='KYTREASNO', keep='first').set_index('KYTREASNO')\n",
    "data_info[['type','issue date','maturity date','cpn rate']]"
   ]
  },
  {
   "cell_type": "markdown",
   "id": "20d04ae8",
   "metadata": {},
   "source": [
    "## Simplification of the setup\n",
    "\n",
    "The date is Nov 4, 2008.\n",
    "\n",
    "**Treasury bond**\n",
    "* Suppose the Treasury bond matures exactly 30 years later, on Nov 4, 2038 rather than May 15, 2008. \n",
    "* The YTM of this freshly issued treasury is 4.193\\% with a semiannual coupon of 4.50\\%, same as is given in the case. (So we're just changing the maturity date to simplify things, but keeping the market data.)\n",
    "\n",
    "**Swap**\n",
    "* The fixed leg of the swap pays semiannually, with swap rate of 4.2560\\%, as given in the case.\n",
    "* The floating leg of the swap also pays semiannually--not quarterly--such that the payment dates are identical on both legs. Thus, it also resets the floating rate semiannually, not quarterly.\n",
    "* The floating rate of the swap equals the repo rate used in the trade. Thus, these two rates cancel in the financing of the trade. (No need to consider the TED spread.) "
   ]
  },
  {
   "cell_type": "markdown",
   "id": "fd89b70f",
   "metadata": {},
   "source": [
    "**Notes from class:**\n",
    "- Swap spread is negative:\n",
    "    - Set up a trade you have a positive payment:\n",
    "    - Get fixed rate on the treasuries and pay a floating repo rate\n",
    "    - Pay lower fixed rate in the swap and received floating rate (used to pay the repo)\n",
    "    - A trade for 100 notional on the bond and 100 on the swap, you get half of the spread * 100 per semiannual period.\n",
    "- If you want to hold the swap spread until maturity, then the trade must be made on the YTM, because if the coupon rate is higher than the YTM, then the price of the treasury is higher than 100 but it is 100% certain to converge down to 100.\n",
    "- Also, even if the coupon rate in the treasuries is higher than the swap rate, because you matched by duration and bought less swap, you receive less coupons."
   ]
  },
  {
   "cell_type": "markdown",
   "id": "b4dc60d2",
   "metadata": {},
   "source": [
    "## Case Clarifications\n",
    "\n",
    "\n",
    "### Duration Quotes\n",
    "Bond\n",
    "* Quote: Val01 of bond is .1746 per bp per $1 face value\n",
    "* Class terminology: Modified dollar duration is .1746 per $100 face value\n",
    "\n",
    "Swap\n",
    "* Quote: DV01 of swap is 1.7mm per 1 billion notional.\n",
    "* Class terminology: Modified dollar duration is 100(1.7/1000) per $100 face value.\n",
    "\n",
    "Thus, modified dollar duration for each per 100 face is\n",
    "* Bond = .1746\n",
    "* Swap = .1700\n",
    "\n",
    "### Hedge Ratio\n",
    "\n",
    "In figuring out the hedge ratio, they set up the hedge per dollar of face value. \n",
    "\n",
    "    *so Mills would need to buy face amount $0.97 billion*\n",
    "    \n",
    "No, this hedge should be for market value, not face amount given that the case is already using **modified** duration which includes the dirty price.\n",
    "    \n",
    "\n",
    "### Maturity Mismatch\n",
    "\n",
    "The maturity of the bond is August 2038, whereas the date is Nov 2008. Thus, the bond has less than 30 years to maturity, yet he is entering a 30-year swap. \n",
    "\n",
    "For simplicity, we imagine the bond is issued in Nov 2008 and thus has maturity of 30 years at the time of the case.\n",
    "\n",
    "However, then the case quotes for the Nov price and YTM of the bond no longer are accurate. Use one and adjust the other. Namely, we could...\n",
    "    * use the Nov 4 **YTM** quoted in the case, and re-adjust the the bond.\n",
    "    * use the Nov 4 **price** quoted in the case, and re-adjust the YTM.\n",
    "    \n",
    "We do the former, keep the quoted YTM, assume time-to-maturity of `30`, and recalculate the Nov 2008 price. (It is close to the quoted price in the case.)"
   ]
  },
  {
   "cell_type": "code",
   "execution_count": 31,
   "id": "17e8f82c",
   "metadata": {},
   "outputs": [],
   "source": [
    "# Parameters\n",
    "YTM = [0.04193, .0436] # [Initial, After Market Movement]\n",
    "CPNRATE = [0.0450, np.nan] # [Fixed rate, floating rate]\n",
    "SWAPRATE = [.042560, .0408] # [Initial, After Market Movement]\n",
    "\n",
    "ORIGINAL_PRICE_0 = 105\n",
    "PAR = 100\n",
    "\n",
    "NOTIONAL = 500e6\n",
    "SET_SIZE = 'swap'\n",
    "\n",
    "HAIRCUT = .02\n",
    "SWAP_FACE = 100\n",
    "\n",
    "DELTATIME = .5\n",
    "tau0 = 30 # maturity in years\n",
    "tau1 = tau0-DELTATIME"
   ]
  },
  {
   "cell_type": "code",
   "execution_count": 32,
   "id": "a1ccfc4e",
   "metadata": {},
   "outputs": [
    {
     "data": {
      "text/plain": [
       "\"\\n# Adjustements (Optional)\\nUSE_CPN = True\\nUSE_YTM = False\\nUSE_PRICE = False\\n\\nif not USE_CPN:\\n    CPNRATE[0] = YTM[0]\\n\\nif USE_YTM:\\n    if USE_PRICE:\\n        warning('Case YTM and Price are inconsistent; recalculating price')\\n        ORIGINAL_PRICE_0 = bond_pricer(ttm=tau0,ytm=YTM[0],cpn_rate=CPNRATE[0])\\n\\nelse:\\n    if USE_PRICE:  \\n        YTM[0] = calculate_ytm(price=ORIGINAL_PRICE_0, ttm=tau0, cpn_rate=CPNRATE[0])\\n    else:\\n        YTM[0] = CPNRATE[0]\\n        ORIGINAL_PRICE = PAR\\n\""
      ]
     },
     "execution_count": 32,
     "metadata": {},
     "output_type": "execute_result"
    }
   ],
   "source": [
    "'''\n",
    "# Adjustements (Optional)\n",
    "USE_CPN = True\n",
    "USE_YTM = False\n",
    "USE_PRICE = False\n",
    "\n",
    "if not USE_CPN:\n",
    "    CPNRATE[0] = YTM[0]\n",
    "\n",
    "if USE_YTM:\n",
    "    if USE_PRICE:\n",
    "        warning('Case YTM and Price are inconsistent; recalculating price')\n",
    "        ORIGINAL_PRICE_0 = bond_pricer(ttm=tau0,ytm=YTM[0],cpn_rate=CPNRATE[0])\n",
    "\n",
    "else:\n",
    "    if USE_PRICE:  \n",
    "        YTM[0] = calculate_ytm(price=ORIGINAL_PRICE_0, ttm=tau0, cpn_rate=CPNRATE[0])\n",
    "    else:\n",
    "        YTM[0] = CPNRATE[0]\n",
    "        ORIGINAL_PRICE = PAR\n",
    "'''"
   ]
  },
  {
   "cell_type": "markdown",
   "id": "2b81df67",
   "metadata": {},
   "source": [
    "## 1.0.\n",
    "\n",
    "Report the price of the 30-year T-bond in Nov 2008. Given the discussion about `Maturity Mismatch`, we are repricing the bond, so it will not exactly equal `105` as reported in the case."
   ]
  },
  {
   "cell_type": "code",
   "execution_count": 33,
   "id": "da5b23b9",
   "metadata": {},
   "outputs": [
    {
     "data": {
      "text/html": [
       "<style type=\"text/css\">\n",
       "</style>\n",
       "<table id=\"T_418d0\">\n",
       "  <thead>\n",
       "    <tr>\n",
       "      <th class=\"blank level0\" >&nbsp;</th>\n",
       "      <th id=\"T_418d0_level0_col0\" class=\"col_heading level0 col0\" >tenor</th>\n",
       "      <th id=\"T_418d0_level0_col1\" class=\"col_heading level0 col1\" >coupon rate</th>\n",
       "      <th id=\"T_418d0_level0_col2\" class=\"col_heading level0 col2\" >price</th>\n",
       "      <th id=\"T_418d0_level0_col3\" class=\"col_heading level0 col3\" >YTM</th>\n",
       "      <th id=\"T_418d0_level0_col4\" class=\"col_heading level0 col4\" >swap rate</th>\n",
       "      <th id=\"T_418d0_level0_col5\" class=\"col_heading level0 col5\" >spread</th>\n",
       "    </tr>\n",
       "  </thead>\n",
       "  <tbody>\n",
       "    <tr>\n",
       "      <th id=\"T_418d0_level0_row0\" class=\"row_heading level0 row0\" >Nov 2008</th>\n",
       "      <td id=\"T_418d0_row0_col0\" class=\"data row0 col0\" >30.0</td>\n",
       "      <td id=\"T_418d0_row0_col1\" class=\"data row0 col1\" >4.50%</td>\n",
       "      <td id=\"T_418d0_row0_col2\" class=\"data row0 col2\" >105.21</td>\n",
       "      <td id=\"T_418d0_row0_col3\" class=\"data row0 col3\" >4.19%</td>\n",
       "      <td id=\"T_418d0_row0_col4\" class=\"data row0 col4\" >4.26%</td>\n",
       "      <td id=\"T_418d0_row0_col5\" class=\"data row0 col5\" >0.06%</td>\n",
       "    </tr>\n",
       "    <tr>\n",
       "      <th id=\"T_418d0_level0_row1\" class=\"row_heading level0 row1\" >May 2009</th>\n",
       "      <td id=\"T_418d0_row1_col0\" class=\"data row1 col0\" >29.5</td>\n",
       "      <td id=\"T_418d0_row1_col1\" class=\"data row1 col1\" >4.50%</td>\n",
       "      <td id=\"T_418d0_row1_col2\" class=\"data row1 col2\" >102.31</td>\n",
       "      <td id=\"T_418d0_row1_col3\" class=\"data row1 col3\" >4.36%</td>\n",
       "      <td id=\"T_418d0_row1_col4\" class=\"data row1 col4\" >4.08%</td>\n",
       "      <td id=\"T_418d0_row1_col5\" class=\"data row1 col5\" >-0.28%</td>\n",
       "    </tr>\n",
       "  </tbody>\n",
       "</table>\n"
      ],
      "text/plain": [
       "<pandas.io.formats.style.Styler at 0x1bcb5500c50>"
      ]
     },
     "execution_count": 33,
     "metadata": {},
     "output_type": "execute_result"
    }
   ],
   "source": [
    "PRICE_0 = bond_pricer(ttm=tau0,ytm=YTM[0],cpn_rate=CPNRATE[0])\n",
    "PRICE_1 = bond_pricer(ttm=tau1,ytm=YTM[1],cpn_rate=CPNRATE[0])\n",
    "\n",
    "summary = pd.DataFrame(index=['tenor', 'coupon rate','price','YTM','swap rate'],columns = ['Nov 2008', 'May 2009'],dtype=float)\n",
    "summary.loc['tenor'] = [tau0, tau1]\n",
    "summary.loc['coupon rate'] = [CPNRATE[0], CPNRATE[0]]\n",
    "summary.loc['YTM'] = YTM\n",
    "summary.loc['price'] = [PRICE_0, PRICE_1]\n",
    "summary.loc['swap rate'] = SWAPRATE\n",
    "summary.loc['spread'] = summary.loc['swap rate'] - summary.loc['YTM']\n",
    "#summary.loc['coupon spread'] = summary.loc['swap rate'] - summary.loc['coupon rate']\n",
    "\n",
    "summary.T.style.format({'tenor':'{:.1f}', 'price':'{:.2f}', 'coupon rate':'{:.2%}', 'YTM':'{:.2%}', 'swap rate':'{:.2%}', 'spread':'{:.2%}'})"
   ]
  },
  {
   "cell_type": "markdown",
   "id": "48cc1866",
   "metadata": {},
   "source": [
    "## 1.1\n",
    "\n",
    "List the projected cashflows on May 4, 2009, exactly six months into the trade, on the first coupon and swap date.\n",
    "\n",
    "#### Clarification\n",
    "List these cashflows for face value of $1B, not the $0.97B noted in the case. As mentioned in \"Case Clarifications\", we will not use this number. Rather, we calculate our own hedge ratio in a problem below."
   ]
  },
  {
   "cell_type": "code",
   "execution_count": 34,
   "id": "f8804d99",
   "metadata": {},
   "outputs": [],
   "source": [
    "SOFR = np.nan"
   ]
  },
  {
   "cell_type": "code",
   "execution_count": 35,
   "id": "a59362ab",
   "metadata": {},
   "outputs": [
    {
     "data": {
      "text/html": [
       "<style type=\"text/css\">\n",
       "</style>\n",
       "<table id=\"T_cf83a\">\n",
       "  <thead>\n",
       "    <tr>\n",
       "      <th class=\"blank level0\" >&nbsp;</th>\n",
       "      <th id=\"T_cf83a_level0_col0\" class=\"col_heading level0 col0\" >May 2009</th>\n",
       "    </tr>\n",
       "  </thead>\n",
       "  <tbody>\n",
       "    <tr>\n",
       "      <th id=\"T_cf83a_level0_row0\" class=\"row_heading level0 row0\" >T bond</th>\n",
       "      <td id=\"T_cf83a_row0_col0\" class=\"data row0 col0\" >$2.25</td>\n",
       "    </tr>\n",
       "    <tr>\n",
       "      <th id=\"T_cf83a_level0_row1\" class=\"row_heading level0 row1\" >Repo</th>\n",
       "      <td id=\"T_cf83a_row1_col0\" class=\"data row1 col0\" >$nan</td>\n",
       "    </tr>\n",
       "    <tr>\n",
       "      <th id=\"T_cf83a_level0_row2\" class=\"row_heading level0 row2\" >Swap (floating leg)</th>\n",
       "      <td id=\"T_cf83a_row2_col0\" class=\"data row2 col0\" >$nan</td>\n",
       "    </tr>\n",
       "    <tr>\n",
       "      <th id=\"T_cf83a_level0_row3\" class=\"row_heading level0 row3\" >Swap (fixed leg)</th>\n",
       "      <td id=\"T_cf83a_row3_col0\" class=\"data row3 col0\" >$-2.13</td>\n",
       "    </tr>\n",
       "    <tr>\n",
       "      <th id=\"T_cf83a_level0_row4\" class=\"row_heading level0 row4\" >Net Payment</th>\n",
       "      <td id=\"T_cf83a_row4_col0\" class=\"data row4 col0\" >$0.12</td>\n",
       "    </tr>\n",
       "  </tbody>\n",
       "</table>\n"
      ],
      "text/plain": [
       "<pandas.io.formats.style.Styler at 0x1bcb5c32540>"
      ]
     },
     "execution_count": 35,
     "metadata": {},
     "output_type": "execute_result"
    }
   ],
   "source": [
    "CF = pd.DataFrame(index=['T bond','Repo','Swap (floating leg)','Swap (fixed leg)'],columns=['May 2009'],dtype=float)\n",
    "CF.loc['Repo'] - SOFR\n",
    "CF.loc['Swap (floating leg)'] = SOFR\n",
    "CF.loc[['T bond']] = PAR * CPNRATE[0] /2\n",
    "CF.loc[['Swap (fixed leg)']] = -PAR * SWAPRATE[0]/2\n",
    "CF.loc['Net Payment'] = CF.sum(axis=0)\n",
    "CF.style.format('${:,.2f}')"
   ]
  },
  {
   "cell_type": "markdown",
   "id": "3d41a139",
   "metadata": {},
   "source": [
    "#### SOFR rate cancels\n",
    "\n",
    "No need to account for the repo rate or the swap's floating payment, as they both are modeled in this problem with SOFR, and thus net to zero."
   ]
  },
  {
   "cell_type": "markdown",
   "id": "2076b2c9",
   "metadata": {},
   "source": [
    "## 1.2\n",
    "\n",
    "What is the duration of...\n",
    "* the T-bond\n",
    "* the swap\n",
    "\n",
    "Remember that...\n",
    "* the swap can be decomposed into a fixed-rate bond and a floating-rate note\n",
    "* a floating-rate note has duration equal to the time until the next reset. Thus, at initialization, it has duration equal to 0.5 years.\n",
    "\n",
    "Is the duration for the \"paying-fixed\" swap positive or negative? Is it bigger or smaller in magnitude than the T-bond?\n",
    "\n",
    "For this problem, calculate the Macauley duration and the dollar (Macauley) duration."
   ]
  },
  {
   "cell_type": "code",
   "execution_count": 36,
   "id": "64be6cd2",
   "metadata": {},
   "outputs": [
    {
     "data": {
      "text/html": [
       "<div>\n",
       "<style scoped>\n",
       "    .dataframe tbody tr th:only-of-type {\n",
       "        vertical-align: middle;\n",
       "    }\n",
       "\n",
       "    .dataframe tbody tr th {\n",
       "        vertical-align: top;\n",
       "    }\n",
       "\n",
       "    .dataframe thead th {\n",
       "        text-align: right;\n",
       "    }\n",
       "</style>\n",
       "<table border=\"1\" class=\"dataframe\">\n",
       "  <thead>\n",
       "    <tr style=\"text-align: right;\">\n",
       "      <th></th>\n",
       "      <th>duration</th>\n",
       "      <th>dollar duration</th>\n",
       "    </tr>\n",
       "  </thead>\n",
       "  <tbody>\n",
       "    <tr>\n",
       "      <th>T bond</th>\n",
       "      <td>17.0836</td>\n",
       "      <td>1797.4251</td>\n",
       "    </tr>\n",
       "    <tr>\n",
       "      <th>fixed leg</th>\n",
       "      <td>17.2127</td>\n",
       "      <td>1721.2744</td>\n",
       "    </tr>\n",
       "    <tr>\n",
       "      <th>floating leg</th>\n",
       "      <td>0.5000</td>\n",
       "      <td>50.0000</td>\n",
       "    </tr>\n",
       "    <tr>\n",
       "      <th>repo</th>\n",
       "      <td>0.5000</td>\n",
       "      <td>51.5545</td>\n",
       "    </tr>\n",
       "  </tbody>\n",
       "</table>\n",
       "</div>"
      ],
      "text/plain": [
       "              duration  dollar duration\n",
       "T bond         17.0836        1797.4251\n",
       "fixed leg      17.2127        1721.2744\n",
       "floating leg    0.5000          50.0000\n",
       "repo            0.5000          51.5545"
      ]
     },
     "metadata": {},
     "output_type": "display_data"
    },
    {
     "data": {
      "text/html": [
       "<div>\n",
       "<style scoped>\n",
       "    .dataframe tbody tr th:only-of-type {\n",
       "        vertical-align: middle;\n",
       "    }\n",
       "\n",
       "    .dataframe tbody tr th {\n",
       "        vertical-align: top;\n",
       "    }\n",
       "\n",
       "    .dataframe thead th {\n",
       "        text-align: right;\n",
       "    }\n",
       "</style>\n",
       "<table border=\"1\" class=\"dataframe\">\n",
       "  <thead>\n",
       "    <tr style=\"text-align: right;\">\n",
       "      <th></th>\n",
       "      <th>duration</th>\n",
       "      <th>dollar duration</th>\n",
       "    </tr>\n",
       "  </thead>\n",
       "  <tbody>\n",
       "    <tr>\n",
       "      <th>T bond repo</th>\n",
       "      <td>16.5836</td>\n",
       "      <td>1745.8706</td>\n",
       "    </tr>\n",
       "    <tr>\n",
       "      <th>swap</th>\n",
       "      <td>16.7127</td>\n",
       "      <td>1671.2744</td>\n",
       "    </tr>\n",
       "    <tr>\n",
       "      <th>net</th>\n",
       "      <td>-0.1291</td>\n",
       "      <td>74.5961</td>\n",
       "    </tr>\n",
       "  </tbody>\n",
       "</table>\n",
       "</div>"
      ],
      "text/plain": [
       "             duration  dollar duration\n",
       "T bond repo   16.5836        1745.8706\n",
       "swap          16.7127        1671.2744\n",
       "net           -0.1291          74.5961"
      ]
     },
     "metadata": {},
     "output_type": "display_data"
    }
   ],
   "source": [
    "tab_duration = pd.DataFrame(dtype=float, index=['T bond','fixed leg', 'floating leg'], columns=['duration'])\n",
    "tab_duration.loc['T bond'] = duration_closed_formula(ttm=tau0, ytm=summary.loc['YTM','Nov 2008'], cpn_rate=summary.loc['coupon rate','Nov 2008'])\n",
    "tab_duration.loc['fixed leg'] = duration_closed_formula(ttm=tau0, ytm=summary.loc['swap rate','Nov 2008'])\n",
    "tab_duration.loc['floating leg'] = .5\n",
    "tab_duration.loc['repo'] = .5\n",
    "prices = np.array([PRICE_0, PAR, PAR, PRICE_0 * (1-HAIRCUT)])\n",
    "tab_duration['dollar duration'] = tab_duration['duration'] * prices\n",
    "\n",
    "tab_net = pd.DataFrame(dtype=float, index=['T bond repo','swap'], columns=['duration','dollar duration'])\n",
    "tab_net.loc['T bond repo'] = tab_duration.loc['T bond'] - tab_duration.loc['repo']\n",
    "tab_net.loc['swap'] = tab_duration.loc['fixed leg'] - tab_duration.loc['floating leg']\n",
    "tab_net.loc['net'] = tab_net.loc['T bond repo'] - tab_net.loc['swap']\n",
    "\n",
    "display(tab_duration)\n",
    "\n",
    "display(tab_net)"
   ]
  },
  {
   "cell_type": "markdown",
   "id": "2b944cf6",
   "metadata": {},
   "source": [
    "## 1.3\n",
    "\n",
    "What hedge ratio should be used to balance the notional size of the Treasury bond with the notional size of the swap, such that it is a duration-neutral position?\n",
    "\n",
    "Specifically, if the trader enters the swap paying fixed on \\$500 million notional, how large of a position should they take in the Treasury bond?"
   ]
  },
  {
   "cell_type": "code",
   "execution_count": 37,
   "id": "2e38e6dd",
   "metadata": {},
   "outputs": [
    {
     "data": {
      "text/html": [
       "<div>\n",
       "<style scoped>\n",
       "    .dataframe tbody tr th:only-of-type {\n",
       "        vertical-align: middle;\n",
       "    }\n",
       "\n",
       "    .dataframe tbody tr th {\n",
       "        vertical-align: top;\n",
       "    }\n",
       "\n",
       "    .dataframe thead th {\n",
       "        text-align: right;\n",
       "    }\n",
       "</style>\n",
       "<table border=\"1\" class=\"dataframe\">\n",
       "  <thead>\n",
       "    <tr style=\"text-align: right;\">\n",
       "      <th></th>\n",
       "      <th>positions</th>\n",
       "    </tr>\n",
       "  </thead>\n",
       "  <tbody>\n",
       "    <tr>\n",
       "      <th>T bond repo</th>\n",
       "      <td>4549201.3611</td>\n",
       "    </tr>\n",
       "    <tr>\n",
       "      <th>swap</th>\n",
       "      <td>-5000000.0000</td>\n",
       "    </tr>\n",
       "  </tbody>\n",
       "</table>\n",
       "</div>"
      ],
      "text/plain": [
       "                positions\n",
       "T bond repo  4549201.3611\n",
       "swap        -5000000.0000"
      ]
     },
     "execution_count": 37,
     "metadata": {},
     "output_type": "execute_result"
    }
   ],
   "source": [
    "hedge_ratio = -tab_net.loc['swap','dollar duration'] / tab_net.loc['T bond repo','dollar duration']\n",
    " \n",
    "if SET_SIZE == 'Tbond':\n",
    "    notional_tbond = NOTIONAL\n",
    "else:\n",
    "    if SET_SIZE != 'swap':\n",
    "        warning('Sizing is not specified; fixing swap notional')\n",
    "    notional_tbond = -NOTIONAL * hedge_ratio\n",
    "\n",
    "notional_swaps = notional_tbond * (1/hedge_ratio)\n",
    "n_tbonds = notional_tbond / PRICE_0\n",
    "n_swaps = notional_swaps / SWAP_FACE\n",
    "\n",
    "contracts = pd.DataFrame(np.array([n_tbonds, n_swaps]), index=['T bond repo','swap'], columns=['positions'])\n",
    "contracts"
   ]
  },
  {
   "cell_type": "markdown",
   "id": "95877cb8",
   "metadata": {},
   "source": [
    "## 1.4\n",
    "\n",
    "Suppose it is May 4, 2009, exactly six months after putting the trade on.\n",
    "\n",
    "The spread is at -28 bps due to...\n",
    "* The YTM on a new 30-year bond has risen to 4.36\\%\n",
    "* The swap rate on a new 30-year swap has dropped to 4.08\\%\n",
    "\n",
    "Explain conceptually how this movement impacts the components of the trade."
   ]
  },
  {
   "cell_type": "code",
   "execution_count": 38,
   "id": "60bd146c",
   "metadata": {},
   "outputs": [
    {
     "data": {
      "text/html": [
       "<style type=\"text/css\">\n",
       "</style>\n",
       "<table id=\"T_7abd7\">\n",
       "  <thead>\n",
       "    <tr>\n",
       "      <th class=\"blank level0\" >&nbsp;</th>\n",
       "      <th id=\"T_7abd7_level0_col0\" class=\"col_heading level0 col0\" >tenor</th>\n",
       "      <th id=\"T_7abd7_level0_col1\" class=\"col_heading level0 col1\" >coupon rate</th>\n",
       "      <th id=\"T_7abd7_level0_col2\" class=\"col_heading level0 col2\" >price</th>\n",
       "      <th id=\"T_7abd7_level0_col3\" class=\"col_heading level0 col3\" >YTM</th>\n",
       "      <th id=\"T_7abd7_level0_col4\" class=\"col_heading level0 col4\" >swap rate</th>\n",
       "      <th id=\"T_7abd7_level0_col5\" class=\"col_heading level0 col5\" >spread</th>\n",
       "    </tr>\n",
       "  </thead>\n",
       "  <tbody>\n",
       "    <tr>\n",
       "      <th id=\"T_7abd7_level0_row0\" class=\"row_heading level0 row0\" >Nov 2008</th>\n",
       "      <td id=\"T_7abd7_row0_col0\" class=\"data row0 col0\" >30.0</td>\n",
       "      <td id=\"T_7abd7_row0_col1\" class=\"data row0 col1\" >4.50%</td>\n",
       "      <td id=\"T_7abd7_row0_col2\" class=\"data row0 col2\" >105.21</td>\n",
       "      <td id=\"T_7abd7_row0_col3\" class=\"data row0 col3\" >4.19%</td>\n",
       "      <td id=\"T_7abd7_row0_col4\" class=\"data row0 col4\" >4.26%</td>\n",
       "      <td id=\"T_7abd7_row0_col5\" class=\"data row0 col5\" >0.06%</td>\n",
       "    </tr>\n",
       "    <tr>\n",
       "      <th id=\"T_7abd7_level0_row1\" class=\"row_heading level0 row1\" >May 2009</th>\n",
       "      <td id=\"T_7abd7_row1_col0\" class=\"data row1 col0\" >29.5</td>\n",
       "      <td id=\"T_7abd7_row1_col1\" class=\"data row1 col1\" >4.50%</td>\n",
       "      <td id=\"T_7abd7_row1_col2\" class=\"data row1 col2\" >102.31</td>\n",
       "      <td id=\"T_7abd7_row1_col3\" class=\"data row1 col3\" >4.36%</td>\n",
       "      <td id=\"T_7abd7_row1_col4\" class=\"data row1 col4\" >4.08%</td>\n",
       "      <td id=\"T_7abd7_row1_col5\" class=\"data row1 col5\" >-0.28%</td>\n",
       "    </tr>\n",
       "  </tbody>\n",
       "</table>\n"
      ],
      "text/plain": [
       "<pandas.io.formats.style.Styler at 0x1bcb5500c20>"
      ]
     },
     "execution_count": 38,
     "metadata": {},
     "output_type": "execute_result"
    }
   ],
   "source": [
    "summary.T.style.format({'tenor':'{:.1f}', 'price':'{:.2f}', 'coupon rate':'{:.2%}', 'YTM':'{:.2%}', 'swap rate':'{:.2%}', 'spread':'{:.2%}'})"
   ]
  },
  {
   "cell_type": "markdown",
   "id": "c8bf1f3a",
   "metadata": {},
   "source": [
    "## 1.5\n",
    "\n",
    "Calculate the value of the position on May 4, 2009, immediately after the first coupon and swap payments and swap reset. \n",
    "\n",
    "* Calculate the revised price of the Treasury bond by assuming you can apply the (May 4) 30-year YTM as a discount rate to the 29.5 year bond. (We are just using this for a rough approximation. You know that good pricing would require a discount curve, but let's not get bogged down with that here.)\n",
    "\n",
    "\n",
    "* Calculate the value of the swap by decomposing it into a fixed-rate bond and a floating-rate bond.\n",
    "    * The 29.5 year fixed-rate leg is priced using the (May 4) 30-year swap rate as a discount rate.\n",
    "    * The floating-rate leg is priced at par given that floating-rate notes are par immediately after resets.\n",
    "    \n",
    "**Note**\n",
    "\n",
    "You are being asked to calculate these valuations using the exact formula between price, cashflows, and YTM discount rate. We are not simply approximating with duration, as we already know the position was set up with zero dollar duration.\n",
    "\n",
    "From the Discussion notebook, we have this formula expressing a bond's price as a function of the coupon, $c$, and the YTM, $y_j$.\n",
    "\n",
    "$\n",
    "P_j(t,T,c) = \\sum_{i=1}^{n-1}\\frac{100\\left(\\frac{c}{2}\\right)}{\\left(1+\\frac{y_j}{2}\\right)^{2(T_i-t)}} + \\frac{100\\left(1+\\frac{c}{2}\\right)}{\\left(1+\\frac{y_j}{2}\\right)^{2(T-t)}}\n",
    "$"
   ]
  },
  {
   "cell_type": "code",
   "execution_count": 40,
   "id": "66c9d1ad",
   "metadata": {},
   "outputs": [
    {
     "data": {
      "text/html": [
       "<style type=\"text/css\">\n",
       "</style>\n",
       "<table id=\"T_dfbe2\">\n",
       "  <thead>\n",
       "    <tr>\n",
       "      <th class=\"blank level0\" >&nbsp;</th>\n",
       "      <th id=\"T_dfbe2_level0_col0\" class=\"col_heading level0 col0\" >T bond</th>\n",
       "      <th id=\"T_dfbe2_level0_col1\" class=\"col_heading level0 col1\" >swap</th>\n",
       "    </tr>\n",
       "  </thead>\n",
       "  <tbody>\n",
       "    <tr>\n",
       "      <th id=\"T_dfbe2_level0_row0\" class=\"row_heading level0 row0\" >Nov 2008</th>\n",
       "      <td id=\"T_dfbe2_row0_col0\" class=\"data row0 col0\" >$105.21</td>\n",
       "      <td id=\"T_dfbe2_row0_col1\" class=\"data row0 col1\" >$0.00</td>\n",
       "    </tr>\n",
       "    <tr>\n",
       "      <th id=\"T_dfbe2_level0_row1\" class=\"row_heading level0 row1\" >May 2009</th>\n",
       "      <td id=\"T_dfbe2_row1_col0\" class=\"data row1 col0\" >$102.31</td>\n",
       "      <td id=\"T_dfbe2_row1_col1\" class=\"data row1 col1\" >$3.00</td>\n",
       "    </tr>\n",
       "  </tbody>\n",
       "</table>\n"
      ],
      "text/plain": [
       "<pandas.io.formats.style.Styler at 0x1bcb5cd6960>"
      ]
     },
     "execution_count": 40,
     "metadata": {},
     "output_type": "execute_result"
    }
   ],
   "source": [
    "prices = pd.DataFrame(index=['T bond', 'swap'],dtype=float,columns=['Nov 2008'])\n",
    "\n",
    "prices.loc['T bond','Nov 2008'] = PRICE_0\n",
    "prices.loc['swap','Nov 2008'] = 0\n",
    "\n",
    "prices.loc['T bond','May 2009'] = PRICE_1\n",
    "prices.loc['swap','May 2009'] = bond_pricer(ttm=tau1, ytm=summary.loc['swap rate','May 2009'], cpn_rate=summary.loc['swap rate','Nov 2008']) - PAR\n",
    "\n",
    "prices.T.style.format('${:,.2f}')"
   ]
  },
  {
   "cell_type": "markdown",
   "id": "e102bfcc",
   "metadata": {},
   "source": [
    "The rising YTM on the T bond suggests...\n",
    "* lower (adjusted) price for the T-bond.\n",
    "* we are long the T-bond, so this would be a loss.\n",
    "\n",
    "The lower swap rate suggests...\n",
    "* higher value on the fixed leg of a swap.\n",
    "* we are paying fixed, (ie short the fixed leg), so this would again be a loss.\n",
    "\n",
    "The floating leg of the swap and repo rate cancel."
   ]
  },
  {
   "cell_type": "markdown",
   "id": "7fba6574",
   "metadata": {},
   "source": [
    "## 1.6\n",
    "\n",
    "Accounting for the change in value of the positions, as well as the 6-month cashflows paid on May 4, \n",
    "* what is the net profit and loss (pnl) of the position?\n",
    "* what is the return on the equity capital, considering that there was a 2\\% haircut (equity contribution) on the size of the initial treasury bond position."
   ]
  },
  {
   "cell_type": "code",
   "execution_count": 42,
   "id": "51da0471",
   "metadata": {},
   "outputs": [
    {
     "data": {
      "text/html": [
       "<div>\n",
       "<style scoped>\n",
       "    .dataframe tbody tr th:only-of-type {\n",
       "        vertical-align: middle;\n",
       "    }\n",
       "\n",
       "    .dataframe tbody tr th {\n",
       "        vertical-align: top;\n",
       "    }\n",
       "\n",
       "    .dataframe thead th {\n",
       "        text-align: right;\n",
       "    }\n",
       "</style>\n",
       "<table border=\"1\" class=\"dataframe\">\n",
       "  <thead>\n",
       "    <tr style=\"text-align: right;\">\n",
       "      <th></th>\n",
       "      <th>May 2009</th>\n",
       "    </tr>\n",
       "  </thead>\n",
       "  <tbody>\n",
       "    <tr>\n",
       "      <th>T bond</th>\n",
       "      <td>2.2500</td>\n",
       "    </tr>\n",
       "    <tr>\n",
       "      <th>Repo</th>\n",
       "      <td>NaN</td>\n",
       "    </tr>\n",
       "    <tr>\n",
       "      <th>Swap (floating leg)</th>\n",
       "      <td>NaN</td>\n",
       "    </tr>\n",
       "    <tr>\n",
       "      <th>Swap (fixed leg)</th>\n",
       "      <td>-2.1280</td>\n",
       "    </tr>\n",
       "    <tr>\n",
       "      <th>Net Payment</th>\n",
       "      <td>0.1220</td>\n",
       "    </tr>\n",
       "  </tbody>\n",
       "</table>\n",
       "</div>"
      ],
      "text/plain": [
       "                     May 2009\n",
       "T bond                 2.2500\n",
       "Repo                      NaN\n",
       "Swap (floating leg)       NaN\n",
       "Swap (fixed leg)      -2.1280\n",
       "Net Payment            0.1220"
      ]
     },
     "execution_count": 42,
     "metadata": {},
     "output_type": "execute_result"
    }
   ],
   "source": [
    "CF"
   ]
  },
  {
   "cell_type": "code",
   "execution_count": 43,
   "id": "7b6e5d05",
   "metadata": {},
   "outputs": [
    {
     "data": {
      "text/html": [
       "<style type=\"text/css\">\n",
       "</style>\n",
       "<table id=\"T_dac66\">\n",
       "  <thead>\n",
       "    <tr>\n",
       "      <th class=\"blank level0\" >&nbsp;</th>\n",
       "      <th id=\"T_dac66_level0_col0\" class=\"col_heading level0 col0\" >cashflow</th>\n",
       "      <th id=\"T_dac66_level0_col1\" class=\"col_heading level0 col1\" >capital gains</th>\n",
       "      <th id=\"T_dac66_level0_col2\" class=\"col_heading level0 col2\" >total</th>\n",
       "    </tr>\n",
       "  </thead>\n",
       "  <tbody>\n",
       "    <tr>\n",
       "      <th id=\"T_dac66_level0_row0\" class=\"row_heading level0 row0\" >T bond</th>\n",
       "      <td id=\"T_dac66_row0_col0\" class=\"data row0 col0\" >$10,235,703.06</td>\n",
       "      <td id=\"T_dac66_row0_col1\" class=\"data row0 col1\" >$-13,201,241.29</td>\n",
       "      <td id=\"T_dac66_row0_col2\" class=\"data row0 col2\" >$-2,965,538.23</td>\n",
       "    </tr>\n",
       "    <tr>\n",
       "      <th id=\"T_dac66_level0_row1\" class=\"row_heading level0 row1\" >swap</th>\n",
       "      <td id=\"T_dac66_row1_col0\" class=\"data row1 col0\" >$-10,640,000.00</td>\n",
       "      <td id=\"T_dac66_row1_col1\" class=\"data row1 col1\" >$-15,016,747.03</td>\n",
       "      <td id=\"T_dac66_row1_col2\" class=\"data row1 col2\" >$-25,656,747.03</td>\n",
       "    </tr>\n",
       "    <tr>\n",
       "      <th id=\"T_dac66_level0_row2\" class=\"row_heading level0 row2\" >net</th>\n",
       "      <td id=\"T_dac66_row2_col0\" class=\"data row2 col0\" >$-404,296.94</td>\n",
       "      <td id=\"T_dac66_row2_col1\" class=\"data row2 col1\" >$-28,217,988.32</td>\n",
       "      <td id=\"T_dac66_row2_col2\" class=\"data row2 col2\" >$-28,622,285.26</td>\n",
       "    </tr>\n",
       "  </tbody>\n",
       "</table>\n"
      ],
      "text/plain": [
       "<pandas.io.formats.style.Styler at 0x1bcb5c1ecc0>"
      ]
     },
     "execution_count": 43,
     "metadata": {},
     "output_type": "execute_result"
    }
   ],
   "source": [
    "pnl=pd.DataFrame(dtype=float,index=['T bond','swap'],columns=['cashflow'])\n",
    "\n",
    "pnl['cashflow'] = CF.loc[['T bond','Swap (fixed leg)']].values * contracts.abs().values\n",
    "pnl['capital gains'] = prices.diff(axis=1)['May 2009'].values * contracts.values[:,0]\n",
    "\n",
    "pnl.loc['net'] = pnl.sum()\n",
    "\n",
    "pnl['total'] = pnl.sum(axis=1)\n",
    "\n",
    "pnl.style.format('${:,.2f}',na_rep='')"
   ]
  },
  {
   "cell_type": "code",
   "execution_count": 46,
   "id": "6e8203a7",
   "metadata": {},
   "outputs": [
    {
     "data": {
      "text/html": [
       "<style type=\"text/css\">\n",
       "</style>\n",
       "<table id=\"T_01e92\">\n",
       "  <thead>\n",
       "    <tr>\n",
       "      <th class=\"blank level0\" >&nbsp;</th>\n",
       "      <th id=\"T_01e92_level0_col0\" class=\"col_heading level0 col0\" >assets_0</th>\n",
       "      <th id=\"T_01e92_level0_col1\" class=\"col_heading level0 col1\" >equity_0</th>\n",
       "      <th id=\"T_01e92_level0_col2\" class=\"col_heading level0 col2\" >pnl</th>\n",
       "      <th id=\"T_01e92_level0_col3\" class=\"col_heading level0 col3\" >return</th>\n",
       "    </tr>\n",
       "  </thead>\n",
       "  <tbody>\n",
       "    <tr>\n",
       "      <th id=\"T_01e92_level0_row0\" class=\"row_heading level0 row0\" >T bond</th>\n",
       "      <td id=\"T_01e92_row0_col0\" class=\"data row0 col0\" >$478,636,404.56</td>\n",
       "      <td id=\"T_01e92_row0_col1\" class=\"data row0 col1\" >$9,572,728.09</td>\n",
       "      <td id=\"T_01e92_row0_col2\" class=\"data row0 col2\" >$-2,965,538.23</td>\n",
       "      <td id=\"T_01e92_row0_col3\" class=\"data row0 col3\" ></td>\n",
       "    </tr>\n",
       "    <tr>\n",
       "      <th id=\"T_01e92_level0_row1\" class=\"row_heading level0 row1\" >swap</th>\n",
       "      <td id=\"T_01e92_row1_col0\" class=\"data row1 col0\" >$-0.00</td>\n",
       "      <td id=\"T_01e92_row1_col1\" class=\"data row1 col1\" >$-0.00</td>\n",
       "      <td id=\"T_01e92_row1_col2\" class=\"data row1 col2\" >$-25,656,747.03</td>\n",
       "      <td id=\"T_01e92_row1_col3\" class=\"data row1 col3\" ></td>\n",
       "    </tr>\n",
       "    <tr>\n",
       "      <th id=\"T_01e92_level0_row2\" class=\"row_heading level0 row2\" >net</th>\n",
       "      <td id=\"T_01e92_row2_col0\" class=\"data row2 col0\" >$478,636,404.56</td>\n",
       "      <td id=\"T_01e92_row2_col1\" class=\"data row2 col1\" >$9,572,728.09</td>\n",
       "      <td id=\"T_01e92_row2_col2\" class=\"data row2 col2\" >$-28,622,285.26</td>\n",
       "      <td id=\"T_01e92_row2_col3\" class=\"data row2 col3\" >-299.00%</td>\n",
       "    </tr>\n",
       "  </tbody>\n",
       "</table>\n"
      ],
      "text/plain": [
       "<pandas.io.formats.style.Styler at 0x1bcb5c1ef30>"
      ]
     },
     "execution_count": 46,
     "metadata": {},
     "output_type": "execute_result"
    }
   ],
   "source": [
    "capital = pd.DataFrame(prices.iloc[:,0].values * contracts.values[:,0], index=['T bond','swap'],columns=['assets_0'])\n",
    "capital['equity_0'] = capital['assets_0'] * HAIRCUT\n",
    "capital.loc['net'] = capital.sum()\n",
    "\n",
    "capital['pnl'] = pnl['total']\n",
    "capital['return'] = capital['pnl']/capital['equity_0']\n",
    "capital.loc[['T bond','swap'],'return'] = np.nan\n",
    "\n",
    "capital.style.format({'assets_0':'${:,.2f}','equity_0':'${:,.2f}','pnl':'${:,.2f}','return':'{:.2%}'},na_rep='')"
   ]
  },
  {
   "cell_type": "markdown",
   "id": "948c9706",
   "metadata": {},
   "source": [
    "***"
   ]
  },
  {
   "cell_type": "markdown",
   "id": "633edb93",
   "metadata": {},
   "source": [
    "# 2. Factor Duration"
   ]
  },
  {
   "cell_type": "markdown",
   "id": "0f6e4aa6",
   "metadata": {},
   "source": [
    "### Data\n",
    "\n",
    "This problem uses data from,\n",
    "* `/data/yields.xlsx`\n",
    "* `/data/treasury_ts_duration_2024-10-31.xlsx`"
   ]
  },
  {
   "cell_type": "markdown",
   "id": "6127c1e5",
   "metadata": {},
   "source": [
    "#### Load Yields"
   ]
  },
  {
   "cell_type": "code",
   "execution_count": 47,
   "id": "69fbc7c2",
   "metadata": {},
   "outputs": [],
   "source": [
    "filepath = '../data/yields.xlsx'\n",
    "yields = pd.read_excel(filepath, sheet_name='yields')\n",
    "yields.set_index('caldt',inplace=True)"
   ]
  },
  {
   "cell_type": "markdown",
   "id": "de979e9a",
   "metadata": {},
   "source": [
    "#### Load Prices and Durations of Two Treasuries"
   ]
  },
  {
   "cell_type": "code",
   "execution_count": 48,
   "id": "18b846dd",
   "metadata": {},
   "outputs": [
    {
     "data": {
      "text/html": [
       "<div>\n",
       "<style scoped>\n",
       "    .dataframe tbody tr th:only-of-type {\n",
       "        vertical-align: middle;\n",
       "    }\n",
       "\n",
       "    .dataframe tbody tr th {\n",
       "        vertical-align: top;\n",
       "    }\n",
       "\n",
       "    .dataframe thead th {\n",
       "        text-align: right;\n",
       "    }\n",
       "</style>\n",
       "<table border=\"1\" class=\"dataframe\">\n",
       "  <thead>\n",
       "    <tr style=\"text-align: right;\">\n",
       "      <th></th>\n",
       "      <th>type</th>\n",
       "      <th>issue date</th>\n",
       "      <th>maturity date</th>\n",
       "      <th>cpn rate</th>\n",
       "    </tr>\n",
       "    <tr>\n",
       "      <th>KYTREASNO</th>\n",
       "      <th></th>\n",
       "      <th></th>\n",
       "      <th></th>\n",
       "      <th></th>\n",
       "    </tr>\n",
       "  </thead>\n",
       "  <tbody>\n",
       "    <tr>\n",
       "      <th>207391</th>\n",
       "      <td>note</td>\n",
       "      <td>2019-08-15</td>\n",
       "      <td>2029-08-15</td>\n",
       "      <td>1.6250</td>\n",
       "    </tr>\n",
       "    <tr>\n",
       "      <th>207392</th>\n",
       "      <td>bond</td>\n",
       "      <td>2019-08-15</td>\n",
       "      <td>2049-08-15</td>\n",
       "      <td>2.2500</td>\n",
       "    </tr>\n",
       "  </tbody>\n",
       "</table>\n",
       "</div>"
      ],
      "text/plain": [
       "           type issue date maturity date  cpn rate\n",
       "KYTREASNO                                         \n",
       "207391     note 2019-08-15    2029-08-15    1.6250\n",
       "207392     bond 2019-08-15    2049-08-15    2.2500"
      ]
     },
     "execution_count": 48,
     "metadata": {},
     "output_type": "execute_result"
    }
   ],
   "source": [
    "QUOTE_DATE = '2024-10-31'\n",
    "filepath = f'../data/treasury_ts_duration_{QUOTE_DATE}.xlsx'\n",
    "\n",
    "data = pd.read_excel(filepath,sheet_name='database')\n",
    "data_info =  data.drop_duplicates(subset='KYTREASNO', keep='first').set_index('KYTREASNO')\n",
    "data_info[['type','issue date','maturity date','cpn rate']]"
   ]
  },
  {
   "cell_type": "markdown",
   "id": "28e8f46c",
   "metadata": {},
   "source": [
    "You will largely focus on the sheets which give the timeseries of prices and durations for each of the two securities, as shown in the following code."
   ]
  },
  {
   "cell_type": "code",
   "execution_count": 49,
   "id": "8724ba0a",
   "metadata": {},
   "outputs": [],
   "source": [
    "SHEET_PRICE = 'price'\n",
    "SHEET_DURATION = 'duration'\n",
    "INDEX_NAME = 'quote date'\n",
    "\n",
    "price = pd.read_excel(filepath,sheet_name=SHEET_PRICE).set_index(INDEX_NAME)\n",
    "duration = pd.read_excel(filepath,sheet_name=SHEET_DURATION).set_index(INDEX_NAME)"
   ]
  },
  {
   "cell_type": "markdown",
   "id": "08fd667b",
   "metadata": {},
   "source": [
    "### 2.1.\n",
    "\n",
    "Construct the following yield-curve factors from the `yields` data set:\n",
    "\n",
    "$\\begin{align}\n",
    "x^{\\text{level}}_t =& \\frac{1}{N_{\\text{yields}}}\\sum_{i=1}^{N_{\\text{yields}}} y^{(i)}_t\\\\\n",
    "x^{\\text{slope}}_t =& y^{(30)}_t - y^{(1)}_t\\\\\n",
    "x^{\\text{curvature}}_t =& -y^{(1)}_t + 2 y^{(10)}_t - y^{(30)}_t\n",
    "\\end{align}$"
   ]
  },
  {
   "cell_type": "code",
   "execution_count": 50,
   "id": "9c08621e",
   "metadata": {},
   "outputs": [
    {
     "data": {
      "text/html": [
       "<div>\n",
       "<style scoped>\n",
       "    .dataframe tbody tr th:only-of-type {\n",
       "        vertical-align: middle;\n",
       "    }\n",
       "\n",
       "    .dataframe tbody tr th {\n",
       "        vertical-align: top;\n",
       "    }\n",
       "\n",
       "    .dataframe thead th {\n",
       "        text-align: right;\n",
       "    }\n",
       "</style>\n",
       "<table border=\"1\" class=\"dataframe\">\n",
       "  <thead>\n",
       "    <tr style=\"text-align: right;\">\n",
       "      <th></th>\n",
       "      <th>level</th>\n",
       "      <th>slope</th>\n",
       "      <th>curvature</th>\n",
       "    </tr>\n",
       "    <tr>\n",
       "      <th>date</th>\n",
       "      <th></th>\n",
       "      <th></th>\n",
       "      <th></th>\n",
       "    </tr>\n",
       "  </thead>\n",
       "  <tbody>\n",
       "    <tr>\n",
       "      <th>1961-06-14</th>\n",
       "      <td>3.5910</td>\n",
       "      <td>0.8793</td>\n",
       "      <td>0.8866</td>\n",
       "    </tr>\n",
       "    <tr>\n",
       "      <th>1961-06-15</th>\n",
       "      <td>3.6147</td>\n",
       "      <td>0.8934</td>\n",
       "      <td>0.9667</td>\n",
       "    </tr>\n",
       "    <tr>\n",
       "      <th>1961-06-16</th>\n",
       "      <td>3.6174</td>\n",
       "      <td>0.9001</td>\n",
       "      <td>0.9666</td>\n",
       "    </tr>\n",
       "    <tr>\n",
       "      <th>1961-06-19</th>\n",
       "      <td>3.6306</td>\n",
       "      <td>0.9167</td>\n",
       "      <td>1.0140</td>\n",
       "    </tr>\n",
       "    <tr>\n",
       "      <th>1961-06-20</th>\n",
       "      <td>3.6273</td>\n",
       "      <td>0.8926</td>\n",
       "      <td>0.9756</td>\n",
       "    </tr>\n",
       "    <tr>\n",
       "      <th>...</th>\n",
       "      <td>...</td>\n",
       "      <td>...</td>\n",
       "      <td>...</td>\n",
       "    </tr>\n",
       "    <tr>\n",
       "      <th>2024-12-24</th>\n",
       "      <td>4.5023</td>\n",
       "      <td>0.4496</td>\n",
       "      <td>0.0865</td>\n",
       "    </tr>\n",
       "    <tr>\n",
       "      <th>2024-12-26</th>\n",
       "      <td>4.4911</td>\n",
       "      <td>0.4669</td>\n",
       "      <td>0.0881</td>\n",
       "    </tr>\n",
       "    <tr>\n",
       "      <th>2024-12-27</th>\n",
       "      <td>4.5154</td>\n",
       "      <td>0.5436</td>\n",
       "      <td>0.1518</td>\n",
       "    </tr>\n",
       "    <tr>\n",
       "      <th>2024-12-30</th>\n",
       "      <td>4.4526</td>\n",
       "      <td>0.5088</td>\n",
       "      <td>0.0637</td>\n",
       "    </tr>\n",
       "    <tr>\n",
       "      <th>2024-12-31</th>\n",
       "      <td>4.4549</td>\n",
       "      <td>0.5637</td>\n",
       "      <td>0.1458</td>\n",
       "    </tr>\n",
       "  </tbody>\n",
       "</table>\n",
       "<p>15868 rows × 3 columns</p>\n",
       "</div>"
      ],
      "text/plain": [
       "            level  slope  curvature\n",
       "date                               \n",
       "1961-06-14 3.5910 0.8793     0.8866\n",
       "1961-06-15 3.6147 0.8934     0.9667\n",
       "1961-06-16 3.6174 0.9001     0.9666\n",
       "1961-06-19 3.6306 0.9167     1.0140\n",
       "1961-06-20 3.6273 0.8926     0.9756\n",
       "...           ...    ...        ...\n",
       "2024-12-24 4.5023 0.4496     0.0865\n",
       "2024-12-26 4.4911 0.4669     0.0881\n",
       "2024-12-27 4.5154 0.5436     0.1518\n",
       "2024-12-30 4.4526 0.5088     0.0637\n",
       "2024-12-31 4.4549 0.5637     0.1458\n",
       "\n",
       "[15868 rows x 3 columns]"
      ]
     },
     "execution_count": 50,
     "metadata": {},
     "output_type": "execute_result"
    }
   ],
   "source": [
    "yields.index.name = 'date'\n",
    "shapes = pd.DataFrame(yields.mean(axis=1), columns=['level'])\n",
    "shapes['slope'] = yields[30] - yields[1]\n",
    "shapes['curvature'] = -yields[1] + 2* yields[10] - yields[30]\n",
    "shapes\n"
   ]
  },
  {
   "cell_type": "markdown",
   "id": "42d3a537",
   "metadata": {},
   "source": [
    "### 2.2\n",
    "\n",
    "Get the bond prices and durations for the two bonds in the data set referenced above.\n",
    "\n",
    "#### Align the data\n",
    "\n",
    "Align the bond pricing data with the yield factor data, so that you have data for both in the intersection of their dates.\n",
    "\n",
    "\n",
    "#### Estimate the regression\n",
    "\n",
    "Estimate the regression in the form of day-over-day differences for both bond prices and factors. That is, we are using regression to approximate the factor duration equation,\n",
    "\n",
    "$\\begin{align}\n",
    "\\frac{dP}{P} = \\alpha + \\beta_L dx_{\\text{level}} + \\beta_S dx_{\\text{slope}} + \\beta_C dx_{\\text{curvature}} + \\epsilon\n",
    "\\end{align}$\n",
    "\n",
    "Report the betas for each of these factors, for each of the bond prices."
   ]
  },
  {
   "cell_type": "code",
   "execution_count": 51,
   "id": "c899c098",
   "metadata": {},
   "outputs": [
    {
     "data": {
      "text/html": [
       "<div>\n",
       "<style scoped>\n",
       "    .dataframe tbody tr th:only-of-type {\n",
       "        vertical-align: middle;\n",
       "    }\n",
       "\n",
       "    .dataframe tbody tr th {\n",
       "        vertical-align: top;\n",
       "    }\n",
       "\n",
       "    .dataframe thead th {\n",
       "        text-align: right;\n",
       "    }\n",
       "</style>\n",
       "<table border=\"1\" class=\"dataframe\">\n",
       "  <thead>\n",
       "    <tr style=\"text-align: right;\">\n",
       "      <th></th>\n",
       "      <th>207391</th>\n",
       "      <th>207392</th>\n",
       "      <th>level</th>\n",
       "      <th>slope</th>\n",
       "      <th>curvature</th>\n",
       "    </tr>\n",
       "  </thead>\n",
       "  <tbody>\n",
       "    <tr>\n",
       "      <th>2019-08-09</th>\n",
       "      <td>98.8828</td>\n",
       "      <td>99.7891</td>\n",
       "      <td>1.8064</td>\n",
       "      <td>0.4162</td>\n",
       "      <td>-0.6214</td>\n",
       "    </tr>\n",
       "    <tr>\n",
       "      <th>2019-08-12</th>\n",
       "      <td>99.7969</td>\n",
       "      <td>102.5547</td>\n",
       "      <td>1.7156</td>\n",
       "      <td>0.3490</td>\n",
       "      <td>-0.6385</td>\n",
       "    </tr>\n",
       "    <tr>\n",
       "      <th>2019-08-13</th>\n",
       "      <td>99.2812</td>\n",
       "      <td>101.8672</td>\n",
       "      <td>1.7833</td>\n",
       "      <td>0.2816</td>\n",
       "      <td>-0.6696</td>\n",
       "    </tr>\n",
       "    <tr>\n",
       "      <th>2019-08-14</th>\n",
       "      <td>100.4062</td>\n",
       "      <td>105.1797</td>\n",
       "      <td>1.6781</td>\n",
       "      <td>0.1980</td>\n",
       "      <td>-0.6965</td>\n",
       "    </tr>\n",
       "    <tr>\n",
       "      <th>2019-08-15</th>\n",
       "      <td>100.8828</td>\n",
       "      <td>106.2344</td>\n",
       "      <td>1.6245</td>\n",
       "      <td>0.2172</td>\n",
       "      <td>-0.6901</td>\n",
       "    </tr>\n",
       "    <tr>\n",
       "      <th>...</th>\n",
       "      <td>...</td>\n",
       "      <td>...</td>\n",
       "      <td>...</td>\n",
       "      <td>...</td>\n",
       "      <td>...</td>\n",
       "    </tr>\n",
       "    <tr>\n",
       "      <th>2024-11-22</th>\n",
       "      <td>88.7402</td>\n",
       "      <td>63.7227</td>\n",
       "      <td>4.4182</td>\n",
       "      <td>0.1321</td>\n",
       "      <td>-0.2379</td>\n",
       "    </tr>\n",
       "    <tr>\n",
       "      <th>2024-11-25</th>\n",
       "      <td>89.2871</td>\n",
       "      <td>65.3789</td>\n",
       "      <td>4.2948</td>\n",
       "      <td>0.0222</td>\n",
       "      <td>-0.3536</td>\n",
       "    </tr>\n",
       "    <tr>\n",
       "      <th>2024-11-26</th>\n",
       "      <td>89.2148</td>\n",
       "      <td>65.1758</td>\n",
       "      <td>4.3138</td>\n",
       "      <td>0.0240</td>\n",
       "      <td>-0.3131</td>\n",
       "    </tr>\n",
       "    <tr>\n",
       "      <th>2024-11-27</th>\n",
       "      <td>89.4375</td>\n",
       "      <td>65.6562</td>\n",
       "      <td>4.2738</td>\n",
       "      <td>0.0128</td>\n",
       "      <td>-0.3493</td>\n",
       "    </tr>\n",
       "    <tr>\n",
       "      <th>2024-11-29</th>\n",
       "      <td>89.7344</td>\n",
       "      <td>66.3828</td>\n",
       "      <td>4.2083</td>\n",
       "      <td>0.0127</td>\n",
       "      <td>-0.3634</td>\n",
       "    </tr>\n",
       "  </tbody>\n",
       "</table>\n",
       "<p>1330 rows × 5 columns</p>\n",
       "</div>"
      ],
      "text/plain": [
       "             207391   207392  level  slope  curvature\n",
       "2019-08-09  98.8828  99.7891 1.8064 0.4162    -0.6214\n",
       "2019-08-12  99.7969 102.5547 1.7156 0.3490    -0.6385\n",
       "2019-08-13  99.2812 101.8672 1.7833 0.2816    -0.6696\n",
       "2019-08-14 100.4062 105.1797 1.6781 0.1980    -0.6965\n",
       "2019-08-15 100.8828 106.2344 1.6245 0.2172    -0.6901\n",
       "...             ...      ...    ...    ...        ...\n",
       "2024-11-22  88.7402  63.7227 4.4182 0.1321    -0.2379\n",
       "2024-11-25  89.2871  65.3789 4.2948 0.0222    -0.3536\n",
       "2024-11-26  89.2148  65.1758 4.3138 0.0240    -0.3131\n",
       "2024-11-27  89.4375  65.6562 4.2738 0.0128    -0.3493\n",
       "2024-11-29  89.7344  66.3828 4.2083 0.0127    -0.3634\n",
       "\n",
       "[1330 rows x 5 columns]"
      ]
     },
     "execution_count": 51,
     "metadata": {},
     "output_type": "execute_result"
    }
   ],
   "source": [
    "merged_price_shape = pd.merge(price, shapes, left_index=True, right_index=True, how='inner')\n",
    "merged_price_shape"
   ]
  },
  {
   "cell_type": "code",
   "execution_count": 57,
   "id": "1ad48af4",
   "metadata": {},
   "outputs": [
    {
     "data": {
      "text/html": [
       "<div>\n",
       "<style scoped>\n",
       "    .dataframe tbody tr th:only-of-type {\n",
       "        vertical-align: middle;\n",
       "    }\n",
       "\n",
       "    .dataframe tbody tr th {\n",
       "        vertical-align: top;\n",
       "    }\n",
       "\n",
       "    .dataframe thead th {\n",
       "        text-align: right;\n",
       "    }\n",
       "</style>\n",
       "<table border=\"1\" class=\"dataframe\">\n",
       "  <thead>\n",
       "    <tr style=\"text-align: right;\">\n",
       "      <th></th>\n",
       "      <th>207391</th>\n",
       "      <th>207392</th>\n",
       "    </tr>\n",
       "  </thead>\n",
       "  <tbody>\n",
       "    <tr>\n",
       "      <th>level</th>\n",
       "      <td>0.0699</td>\n",
       "      <td>0.1980</td>\n",
       "    </tr>\n",
       "    <tr>\n",
       "      <th>slope</th>\n",
       "      <td>0.0048</td>\n",
       "      <td>0.1265</td>\n",
       "    </tr>\n",
       "    <tr>\n",
       "      <th>curvature</th>\n",
       "      <td>0.0109</td>\n",
       "      <td>-0.0749</td>\n",
       "    </tr>\n",
       "  </tbody>\n",
       "</table>\n",
       "</div>"
      ],
      "text/plain": [
       "           207391  207392\n",
       "level      0.0699  0.1980\n",
       "slope      0.0048  0.1265\n",
       "curvature  0.0109 -0.0749"
      ]
     },
     "execution_count": 57,
     "metadata": {},
     "output_type": "execute_result"
    }
   ],
   "source": [
    "from sklearn.linear_model import LinearRegression\n",
    "\n",
    "dp_pct = price.pct_change().dropna()\n",
    "dfac = shapes.diff().dropna()\n",
    "dp_pct, dfac = dp_pct.align(dfac,join='inner',axis=0)\n",
    "\n",
    "factor_durations = pd.DataFrame(-LinearRegression(fit_intercept=True).fit(dfac,dp_pct).coef_.T, columns = dp_pct.columns, index= dfac.columns)\n",
    "factor_durations"
   ]
  },
  {
   "cell_type": "markdown",
   "id": "4776f6e5",
   "metadata": {},
   "source": [
    "### 2.3.\n",
    "\n",
    "Compare the \"level\" factor beta for each of the two treasuries with the average  duration for each bond as reported in the data set.\n",
    "\n",
    "* How closely does the average duration for a bond compare to its \"level\" beta?\n",
    "* What do you conclude about the usefulness of mathematical duration vs regression sensitivities?"
   ]
  },
  {
   "cell_type": "code",
   "execution_count": 63,
   "id": "603909e6",
   "metadata": {},
   "outputs": [
    {
     "name": "stdout",
     "output_type": "stream",
     "text": [
      "Mean duration:\n"
     ]
    },
    {
     "data": {
      "text/plain": [
       "207391    6.9237\n",
       "207392   19.9032\n",
       "dtype: float64"
      ]
     },
     "metadata": {},
     "output_type": "display_data"
    }
   ],
   "source": [
    "print(f'Mean duration:')\n",
    "display(duration.mean())"
   ]
  },
  {
   "cell_type": "markdown",
   "id": "3ba32c84",
   "metadata": {},
   "source": [
    "The regression approach gets the right sensitivity on average (across the timeseries). But this unconditional estimate would be a poor guide to the duration at any particular day.\n",
    "\n",
    "Note that the quantiles of the duration over this period range substantially from the average, which is what is estimated in the regression."
   ]
  },
  {
   "cell_type": "markdown",
   "id": "2df02787",
   "metadata": {},
   "source": [
    "### 2.4.\n",
    "\n",
    "In the duration-hedged trade of `Homework 2, Section 2`, was the that trade was long or short this slope factor? \n",
    "\n",
    "Do you think the slope factor exposure had a large impact on the trade?\n",
    "\n",
    "No new analysis needed, just draw a conclusion from the estimates above along with the trade construction in `HW 2, Sec 2`."
   ]
  },
  {
   "cell_type": "markdown",
   "id": "fcabcd0c",
   "metadata": {},
   "source": [
    "***"
   ]
  },
  {
   "cell_type": "markdown",
   "id": "9168eed2",
   "metadata": {},
   "source": [
    "# 3 Calculating Duration Via Individual Cashflows\n",
    "\n",
    "## *Optional, not submitted*"
   ]
  },
  {
   "cell_type": "markdown",
   "id": "432e95d6",
   "metadata": {},
   "source": [
    "Use the data file `../data/treasury_quotes_2024-10-31.xlsx`.\n",
    "\n",
    "### 3.1 \n",
    "Set up the cashflow matrix. \n",
    "\n",
    "### 3.2\n",
    "Extract the Nelson-Siegel spot discount curve, as you did in `Homework 1`.\n",
    "\n",
    "### 3.3\n",
    "For each treasury issue, calculate the duration as the weighted average of the (discounted!) cashflow maturity.\n",
    "\n",
    "Report the summary statistics of the durations. (Use `.describe()` from pandas.)\n",
    "\n",
    "### 3.4\n",
    "How close are your duration estimates to the imputed durations given in the data source?\n",
    "\n",
    "Report the summary statistics of the imputed durations minus your calculated durations from above.\n",
    "\n",
    "### 3.5\n",
    "Continue using your assumed discount rates of `4.5`\\% to calculate the convexity of each issue.\n",
    "\n",
    "Report the summary statistics of these convexity calculations."
   ]
  },
  {
   "cell_type": "markdown",
   "id": "d28e865d",
   "metadata": {},
   "source": [
    "***"
   ]
  }
 ],
 "metadata": {
  "hide_input": false,
  "kernelspec": {
   "display_name": "data_analysis",
   "language": "python",
   "name": "python3"
  },
  "language_info": {
   "codemirror_mode": {
    "name": "ipython",
    "version": 3
   },
   "file_extension": ".py",
   "mimetype": "text/x-python",
   "name": "python",
   "nbconvert_exporter": "python",
   "pygments_lexer": "ipython3",
   "version": "3.12.7"
  }
 },
 "nbformat": 4,
 "nbformat_minor": 5
}
